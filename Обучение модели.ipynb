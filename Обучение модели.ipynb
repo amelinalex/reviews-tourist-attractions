{
 "cells": [
  {
   "cell_type": "markdown",
   "metadata": {
    "id": "q1OHaNg-8AVO"
   },
   "source": [
    "Во всех моделях модуль перехода от нейтрального класса установлен на уровне 0.5, предполагается, что изменение это параметра может сильно повлиять на обучение и, следовательно, предсказания моделей"
   ]
  },
  {
   "cell_type": "markdown",
   "metadata": {
    "id": "KSbTyTZyJ7aX"
   },
   "source": [
    "# **Уставнока и импорт всего нужного**"
   ]
  },
  {
   "cell_type": "code",
   "execution_count": 1,
   "metadata": {
    "executionInfo": {
     "elapsed": 6958,
     "status": "ok",
     "timestamp": 1682195226409,
     "user": {
      "displayName": "Илья Смирнов",
      "userId": "04327038012459884483"
     },
     "user_tz": -180
    },
    "id": "CIiugNDgxedi"
   },
   "outputs": [],
   "source": [
    "!pip3 install tensorflow_text>=2.0.0rc0"
   ]
  },
  {
   "cell_type": "code",
   "execution_count": 2,
   "metadata": {
    "colab": {
     "base_uri": "https://localhost:8080/"
    },
    "executionInfo": {
     "elapsed": 14385,
     "status": "ok",
     "timestamp": 1682195240792,
     "user": {
      "displayName": "Илья Смирнов",
      "userId": "04327038012459884483"
     },
     "user_tz": -180
    },
    "id": "EFGwH3rU4OG1",
    "outputId": "aa91e5e6-ffc2-4ad9-9032-656a5bee000a"
   },
   "outputs": [
    {
     "name": "stdout",
     "output_type": "stream",
     "text": [
      "Looking in indexes: https://pypi.org/simple, https://us-python.pkg.dev/colab-wheels/public/simple/\n",
      "Collecting transformers\n",
      "  Downloading transformers-4.28.1-py3-none-any.whl (7.0 MB)\n",
      "\u001b[2K     \u001b[90m━━━━━━━━━━━━━━━━━━━━━━━━━━━━━━━━━━━━━━━━\u001b[0m \u001b[32m7.0/7.0 MB\u001b[0m \u001b[31m35.2 MB/s\u001b[0m eta \u001b[36m0:00:00\u001b[0m\n",
      "\u001b[?25hCollecting sentencepiece\n",
      "  Downloading sentencepiece-0.1.98-cp39-cp39-manylinux_2_17_x86_64.manylinux2014_x86_64.whl (1.3 MB)\n",
      "\u001b[2K     \u001b[90m━━━━━━━━━━━━━━━━━━━━━━━━━━━━━━━━━━━━━━━━\u001b[0m \u001b[32m1.3/1.3 MB\u001b[0m \u001b[31m26.4 MB/s\u001b[0m eta \u001b[36m0:00:00\u001b[0m\n",
      "\u001b[?25hRequirement already satisfied: numpy>=1.17 in /usr/local/lib/python3.9/dist-packages (from transformers) (1.22.4)\n",
      "Collecting tokenizers!=0.11.3,<0.14,>=0.11.1\n",
      "  Downloading tokenizers-0.13.3-cp39-cp39-manylinux_2_17_x86_64.manylinux2014_x86_64.whl (7.8 MB)\n",
      "\u001b[2K     \u001b[90m━━━━━━━━━━━━━━━━━━━━━━━━━━━━━━━━━━━━━━━━\u001b[0m \u001b[32m7.8/7.8 MB\u001b[0m \u001b[31m48.4 MB/s\u001b[0m eta \u001b[36m0:00:00\u001b[0m\n",
      "\u001b[?25hCollecting huggingface-hub<1.0,>=0.11.0\n",
      "  Downloading huggingface_hub-0.13.4-py3-none-any.whl (200 kB)\n",
      "\u001b[2K     \u001b[90m━━━━━━━━━━━━━━━━━━━━━━━━━━━━━━━━━━━━━━\u001b[0m \u001b[32m200.1/200.1 kB\u001b[0m \u001b[31m21.1 MB/s\u001b[0m eta \u001b[36m0:00:00\u001b[0m\n",
      "\u001b[?25hRequirement already satisfied: regex!=2019.12.17 in /usr/local/lib/python3.9/dist-packages (from transformers) (2022.10.31)\n",
      "Requirement already satisfied: requests in /usr/local/lib/python3.9/dist-packages (from transformers) (2.27.1)\n",
      "Requirement already satisfied: pyyaml>=5.1 in /usr/local/lib/python3.9/dist-packages (from transformers) (6.0)\n",
      "Requirement already satisfied: filelock in /usr/local/lib/python3.9/dist-packages (from transformers) (3.11.0)\n",
      "Requirement already satisfied: tqdm>=4.27 in /usr/local/lib/python3.9/dist-packages (from transformers) (4.65.0)\n",
      "Requirement already satisfied: packaging>=20.0 in /usr/local/lib/python3.9/dist-packages (from transformers) (23.1)\n",
      "Requirement already satisfied: typing-extensions>=3.7.4.3 in /usr/local/lib/python3.9/dist-packages (from huggingface-hub<1.0,>=0.11.0->transformers) (4.5.0)\n",
      "Requirement already satisfied: idna<4,>=2.5 in /usr/local/lib/python3.9/dist-packages (from requests->transformers) (3.4)\n",
      "Requirement already satisfied: urllib3<1.27,>=1.21.1 in /usr/local/lib/python3.9/dist-packages (from requests->transformers) (1.26.15)\n",
      "Requirement already satisfied: certifi>=2017.4.17 in /usr/local/lib/python3.9/dist-packages (from requests->transformers) (2022.12.7)\n",
      "Requirement already satisfied: charset-normalizer~=2.0.0 in /usr/local/lib/python3.9/dist-packages (from requests->transformers) (2.0.12)\n",
      "Installing collected packages: tokenizers, sentencepiece, huggingface-hub, transformers\n",
      "Successfully installed huggingface-hub-0.13.4 sentencepiece-0.1.98 tokenizers-0.13.3 transformers-4.28.1\n"
     ]
    }
   ],
   "source": [
    "!pip install transformers sentencepiece"
   ]
  },
  {
   "cell_type": "code",
   "execution_count": 31,
   "metadata": {
    "executionInfo": {
     "elapsed": 375,
     "status": "ok",
     "timestamp": 1682197007505,
     "user": {
      "displayName": "Илья Смирнов",
      "userId": "04327038012459884483"
     },
     "user_tz": -180
    },
    "id": "8iW_E_c_xWSN"
   },
   "outputs": [],
   "source": [
    "import pandas as pd\n",
    "import torch\n",
    "import torch.nn as nn\n",
    "import torch.optim as optim\n",
    "from torch.utils.data import DataLoader, TensorDataset\n",
    "from sklearn.metrics import f1_score, precision_score, recall_score, confusion_matrix, classification_report\n",
    "from sklearn.metrics import accuracy_score\n",
    "import tensorflow_hub as hub\n",
    "import tensorflow as tf\n",
    "import tensorflow_text\n",
    "import time\n",
    "import numpy as np\n",
    "from transformers import AutoTokenizer, AutoModel\n",
    "import re\n",
    "from collections import Counter\n",
    "import seaborn as sns"
   ]
  },
  {
   "cell_type": "markdown",
   "metadata": {
    "id": "fggtCZE1JzuL"
   },
   "source": [
    "# **Подготовка к обучению**"
   ]
  },
  {
   "cell_type": "code",
   "execution_count": 4,
   "metadata": {
    "executionInfo": {
     "elapsed": 15673,
     "status": "ok",
     "timestamp": 1682195371775,
     "user": {
      "displayName": "Илья Смирнов",
      "userId": "04327038012459884483"
     },
     "user_tz": -180
    },
    "id": "fnFZggi62vp_"
   },
   "outputs": [],
   "source": [
    "data_ru = pd.read_csv('/content/drive/MyDrive/Sentiment_Course_Work/RuReviews_w_USE-M.csv')\n",
    "data_ru.drop(['Unnamed: 0', 'Unnamed: 0.1'], axis=1, inplace=True)\n",
    "# data_ru"
   ]
  },
  {
   "cell_type": "code",
   "execution_count": 5,
   "metadata": {
    "executionInfo": {
     "elapsed": 9122,
     "status": "ok",
     "timestamp": 1682195380895,
     "user": {
      "displayName": "Илья Смирнов",
      "userId": "04327038012459884483"
     },
     "user_tz": -180
    },
    "id": "xLfQhtcBAB6m"
   },
   "outputs": [],
   "source": [
    "data_ru2 = pd.read_csv('/content/drive/MyDrive/Sentiment_Course_Work/RuReviews_w_tiny2.csv')\n",
    "data_ru2.drop(['Unnamed: 0', 'Unnamed: 0.1'], axis=1, inplace=True)"
   ]
  },
  {
   "cell_type": "code",
   "execution_count": 6,
   "metadata": {
    "executionInfo": {
     "elapsed": 4,
     "status": "ok",
     "timestamp": 1682195380895,
     "user": {
      "displayName": "Илья Смирнов",
      "userId": "04327038012459884483"
     },
     "user_tz": -180
    },
    "id": "SgDBKfrgkQMG"
   },
   "outputs": [],
   "source": [
    "def take_num(row):\n",
    "  arr = np.fromstring(row[2:-2].replace('\\n', ' '), sep=' ')\n",
    "  return arr\n",
    "\n",
    "def take_num_from_tiny(row):\n",
    "  arr = np.fromstring(row[1:-1].replace('\\n', ' '), sep=' ')\n",
    "  return arr"
   ]
  },
  {
   "cell_type": "code",
   "execution_count": 9,
   "metadata": {
    "executionInfo": {
     "elapsed": 14320,
     "status": "ok",
     "timestamp": 1682195440713,
     "user": {
      "displayName": "Илья Смирнов",
      "userId": "04327038012459884483"
     },
     "user_tz": -180
    },
    "id": "PFFDn_c75Ca_"
   },
   "outputs": [],
   "source": [
    "embed = hub.load(\"https://tfhub.dev/google/universal-sentence-encoder-multilingual-large/3\")"
   ]
  },
  {
   "cell_type": "code",
   "execution_count": 10,
   "metadata": {
    "executionInfo": {
     "elapsed": 397393,
     "status": "ok",
     "timestamp": 1682195838104,
     "user": {
      "displayName": "Илья Смирнов",
      "userId": "04327038012459884483"
     },
     "user_tz": -180
    },
    "id": "LO20WEcS4Itm"
   },
   "outputs": [],
   "source": [
    "yandex = pd.read_csv('/content/drive/MyDrive/Sentiment_Course_Work/attr_parcer_w_dost_trans')\n",
    "yandex['USE_M'] = yandex['review'].apply(lambda x: embed(x).numpy())\n",
    "yandex['Siuu'] = yandex['simple_sent_02'].apply(lambda x: -1 if x == 2 else x)"
   ]
  },
  {
   "cell_type": "code",
   "execution_count": 11,
   "metadata": {
    "executionInfo": {
     "elapsed": 4,
     "status": "ok",
     "timestamp": 1682195838917,
     "user": {
      "displayName": "Илья Смирнов",
      "userId": "04327038012459884483"
     },
     "user_tz": -180
    },
    "id": "s1BTvWqp7ED_"
   },
   "outputs": [],
   "source": [
    "yandex.drop(['Unnamed: 0', 'Unnamed: 0.1'], axis=1, inplace=True)"
   ]
  },
  {
   "cell_type": "code",
   "execution_count": 12,
   "metadata": {
    "executionInfo": {
     "elapsed": 3,
     "status": "ok",
     "timestamp": 1682195838917,
     "user": {
      "displayName": "Илья Смирнов",
      "userId": "04327038012459884483"
     },
     "user_tz": -180
    },
    "id": "FvGWEqcvo0BN"
   },
   "outputs": [],
   "source": [
    "yandex['USE_M'] = yandex['USE_M'].apply(lambda x: x[0])"
   ]
  },
  {
   "cell_type": "code",
   "execution_count": 13,
   "metadata": {
    "colab": {
     "base_uri": "https://localhost:8080/",
     "height": 281,
     "referenced_widgets": [
      "9d16285bd57b4cee81f53a1af70bdb0f",
      "050ddcc77be24c1ab442c1d9e62b12c1",
      "d4274182b6e14a6480f50a5741d6cd26",
      "12ff112439d14734b64e6c3c96df77fc",
      "47f0ebd22c4f48bcae2a875d05c8f731",
      "15629c21ea484aa98752f430ebd8058f",
      "4fd18541e66b493dae89b7d95285c91a",
      "656c8ba88be248369c374d1b09228f6d",
      "9174a5dcabbd4e6aaac0f8074f33988c",
      "d8f4433b4cf640b19c44a7ddabfa374c",
      "e59821056e3f4128ae163bad873da1f0",
      "b4d388ea34324328abca9bbaf95af10a",
      "b144a0eb829642a5bca475731f59ca3b",
      "64f6ff457253462cb5e08ce6e80ff0ec",
      "8483d6fa3d654a05954752774f4d2a13",
      "3611142f74b04393858f3a8c8c570de0",
      "cb7011bcda3a4b26be017a55317a5646",
      "4bf8f2d03b3248c19684e84c376212b7",
      "e178c394a8564c2bbbbb5218fff21ad7",
      "d3fa646b38cf4c48b57c3d859c011b87",
      "8d6d7b7c602042c1aa679a3ecbf0bdb3",
      "c6cc76cb35e648fc9de95a574cd10ccc",
      "9e87583542324e72a30ec3e1f4527b62",
      "e50c4b865c30423299e80f2d90496ca7",
      "e42dbfcae45149428ca8813d084a4d69",
      "bfe356f1c9344c0e98cf9e05860f8d0e",
      "5bafe406a9d34532aca92299363da8d6",
      "cd9cdcc6fad24ba68c814fa46db92901",
      "28c20116ac9440f0bf84aa302d1ea2c1",
      "2715d1360cdd4a81a4a3e744e6a276b3",
      "c557dc5bc0234f8c8db2554dc5bf0014",
      "23a4e8556e094b9281a87d95a04842ed",
      "7563f8d3b757448d80b570ebe5f8206e",
      "53d29554362649559e40adc4b611a866",
      "24a9b8867b0d44b696e64f202cd7c390",
      "77d9d8aa852949fdaefda840d7a68188",
      "12a8325aeaf44ce3a14e5c742f63a2da",
      "c8f95ca9553a4bba892883c20598e125",
      "36a9a32804ba427381cf2407e1f8d962",
      "a15ae3d93a13491b911b079234bb1cf6",
      "651b8c566027420bb7722a74e1d54d47",
      "963cd68afaac43e4a090d70da1e12254",
      "6cc841d611cc4fe3a0862172f23408d4",
      "2952e8e072ab4860bb4169d4a8e59c25",
      "bd8e87f9d78b401c8645f586ba703bde",
      "ce22d56721d14e9bbff7bf8ad5db1605",
      "afb07ae325804cdf9ecf78fcd181e138",
      "ca2b06250c9642a197f26f9731615883",
      "940db88dc42844e4bcc692f37e5db74e",
      "c103710e88104962abaffcef059aa9a9",
      "2f114b0ca2a546d2b7e62e72f1333f2c",
      "e1ab3fd3e1304a568ca7ff543462742a",
      "7c534e1999b7484fb9e034f41c03bdb9",
      "d3084e2b0c6c4c57966091f8c4bf0f88",
      "0886cc782a9e446dbfa7b486b8254f2c",
      "2bea5b6bd0a648b4b638d81d664ef7ad",
      "cbf3bddfbb474597a3896e0473bf2ecb",
      "c845c70d28f7453a8942cc3721a326a8",
      "b7a2248c98434a9c9c02c2ac39cc1049",
      "cc5cb7e0f6f147259dabf5935a259726",
      "3fbcea14be4b4c808da925101e812910",
      "d57735919a9b433da3fe6e1ddbf996f6",
      "3785bb63a7bb4fc69fa7362223072553",
      "510c8f22f6734239a6cf168f36db1dd0",
      "776ec53e600242119d40766350380bc2",
      "21a3a57bca8e49b48fbe2068d0600913"
     ]
    },
    "executionInfo": {
     "elapsed": 4692,
     "status": "ok",
     "timestamp": 1682195843606,
     "user": {
      "displayName": "Илья Смирнов",
      "userId": "04327038012459884483"
     },
     "user_tz": -180
    },
    "id": "vu_4wqdSG4tG",
    "outputId": "6a0147d1-9125-45a5-bbdf-020af3745993"
   },
   "outputs": [
    {
     "data": {
      "application/vnd.jupyter.widget-view+json": {
       "model_id": "9d16285bd57b4cee81f53a1af70bdb0f",
       "version_major": 2,
       "version_minor": 0
      },
      "text/plain": [
       "Downloading (…)okenizer_config.json:   0%|          | 0.00/401 [00:00<?, ?B/s]"
      ]
     },
     "metadata": {},
     "output_type": "display_data"
    },
    {
     "data": {
      "application/vnd.jupyter.widget-view+json": {
       "model_id": "b4d388ea34324328abca9bbaf95af10a",
       "version_major": 2,
       "version_minor": 0
      },
      "text/plain": [
       "Downloading (…)solve/main/vocab.txt:   0%|          | 0.00/1.08M [00:00<?, ?B/s]"
      ]
     },
     "metadata": {},
     "output_type": "display_data"
    },
    {
     "data": {
      "application/vnd.jupyter.widget-view+json": {
       "model_id": "9e87583542324e72a30ec3e1f4527b62",
       "version_major": 2,
       "version_minor": 0
      },
      "text/plain": [
       "Downloading (…)/main/tokenizer.json:   0%|          | 0.00/1.74M [00:00<?, ?B/s]"
      ]
     },
     "metadata": {},
     "output_type": "display_data"
    },
    {
     "data": {
      "application/vnd.jupyter.widget-view+json": {
       "model_id": "53d29554362649559e40adc4b611a866",
       "version_major": 2,
       "version_minor": 0
      },
      "text/plain": [
       "Downloading (…)cial_tokens_map.json:   0%|          | 0.00/112 [00:00<?, ?B/s]"
      ]
     },
     "metadata": {},
     "output_type": "display_data"
    },
    {
     "data": {
      "application/vnd.jupyter.widget-view+json": {
       "model_id": "bd8e87f9d78b401c8645f586ba703bde",
       "version_major": 2,
       "version_minor": 0
      },
      "text/plain": [
       "Downloading (…)lve/main/config.json:   0%|          | 0.00/715 [00:00<?, ?B/s]"
      ]
     },
     "metadata": {},
     "output_type": "display_data"
    },
    {
     "data": {
      "application/vnd.jupyter.widget-view+json": {
       "model_id": "2bea5b6bd0a648b4b638d81d664ef7ad",
       "version_major": 2,
       "version_minor": 0
      },
      "text/plain": [
       "Downloading pytorch_model.bin:   0%|          | 0.00/118M [00:00<?, ?B/s]"
      ]
     },
     "metadata": {},
     "output_type": "display_data"
    },
    {
     "name": "stderr",
     "output_type": "stream",
     "text": [
      "Some weights of the model checkpoint at cointegrated/rubert-tiny2 were not used when initializing BertModel: ['cls.predictions.decoder.bias', 'cls.predictions.bias', 'cls.predictions.transform.LayerNorm.weight', 'cls.predictions.transform.LayerNorm.bias', 'cls.seq_relationship.bias', 'cls.predictions.transform.dense.bias', 'cls.seq_relationship.weight', 'cls.predictions.decoder.weight', 'cls.predictions.transform.dense.weight']\n",
      "- This IS expected if you are initializing BertModel from the checkpoint of a model trained on another task or with another architecture (e.g. initializing a BertForSequenceClassification model from a BertForPreTraining model).\n",
      "- This IS NOT expected if you are initializing BertModel from the checkpoint of a model that you expect to be exactly identical (initializing a BertForSequenceClassification model from a BertForSequenceClassification model).\n"
     ]
    }
   ],
   "source": [
    "tokenizer = AutoTokenizer.from_pretrained(\"cointegrated/rubert-tiny2\")\n",
    "model_tiny2 = AutoModel.from_pretrained(\"cointegrated/rubert-tiny2\")\n",
    "\n",
    "def embed_bert_cls(text, model, tokenizer):\n",
    "    t = tokenizer(text, padding=True, truncation=True, return_tensors='pt')\n",
    "    with torch.no_grad():\n",
    "        model_output = model(**{k: v.to(model.device) for k, v in t.items()})\n",
    "    embeddings = model_output.last_hidden_state[:, 0, :]\n",
    "    embeddings = torch.nn.functional.normalize(embeddings)\n",
    "    return embeddings[0].cpu().numpy()"
   ]
  },
  {
   "cell_type": "code",
   "execution_count": 14,
   "metadata": {
    "executionInfo": {
     "elapsed": 11564,
     "status": "ok",
     "timestamp": 1682195855166,
     "user": {
      "displayName": "Илья Смирнов",
      "userId": "04327038012459884483"
     },
     "user_tz": -180
    },
    "id": "NsdBA7BU8Jmb"
   },
   "outputs": [],
   "source": [
    "# data_ru['USE_M'] = data_ru['review'].apply(lambda x: embed(x).numpy()[0])\n",
    "data_ru['USE_M'] = data_ru['USE_M'].apply(lambda x: take_num(x))\n",
    "data_ru['USE_M'] = data_ru['USE_M'].apply(lambda x: x.astype(np.float32))\n",
    "data_ru['sentiment_int'] = data_ru['sentiment_int'].apply(lambda x: -1 if x == 2 else x)"
   ]
  },
  {
   "cell_type": "code",
   "execution_count": 15,
   "metadata": {
    "executionInfo": {
     "elapsed": 5117,
     "status": "ok",
     "timestamp": 1682195860280,
     "user": {
      "displayName": "Илья Смирнов",
      "userId": "04327038012459884483"
     },
     "user_tz": -180
    },
    "id": "4W7oMex7GqTY"
   },
   "outputs": [],
   "source": [
    "# data_ru['tiny2'] = data_ru['review'].apply(lambda x: embed_bert_cls(x, model_tiny2, tokenizer))\n",
    "data_ru2['tiny2'] = data_ru2['tiny2'].apply(lambda x: take_num_from_tiny(x).astype(np.float32))\n",
    "data_ru2['sentiment_int'] = data_ru2['sentiment_int'].apply(lambda x: -1 if x == 2 else x)"
   ]
  },
  {
   "cell_type": "code",
   "execution_count": 16,
   "metadata": {
    "executionInfo": {
     "elapsed": 46891,
     "status": "ok",
     "timestamp": 1682195907168,
     "user": {
      "displayName": "Илья Смирнов",
      "userId": "04327038012459884483"
     },
     "user_tz": -180
    },
    "id": "S428SofWCtzV"
   },
   "outputs": [],
   "source": [
    "yandex['tiny2'] = yandex['review'].apply(lambda x: embed_bert_cls(x, model_tiny2, tokenizer))"
   ]
  },
  {
   "cell_type": "code",
   "execution_count": null,
   "metadata": {
    "id": "gzW22Vq2xhSF"
   },
   "outputs": [],
   "source": [
    "class SentimentClassifier(nn.Module):\n",
    "    def __init__(self, embedding_size=512, hidden_size=128):\n",
    "        super(SentimentClassifier, self).__init__()\n",
    "        self.embedding_size = embedding_size\n",
    "        self.hidden_size = hidden_size\n",
    "        self.embedding_layer = nn.Linear(512, embedding_size)\n",
    "        self.lstm = nn.LSTM(embedding_size, hidden_size, batch_first=True)\n",
    "        self.fc = nn.Linear(hidden_size, 1)\n",
    "\n",
    "    def forward(self, inputs):\n",
    "        embedded = self.embedding_layer(inputs)\n",
    "        lstm_out, _ = self.lstm(embedded)\n",
    "        # last_lstm_out = lstm_out[:, -1]\n",
    "        fc_out = self.fc(lstm_out)\n",
    "        sentiment = torch.tanh(fc_out).squeeze()\n",
    "        return sentiment\n",
    "\n",
    "\n",
    "class SentimentClassifierTiny128(nn.Module):\n",
    "    def __init__(self, embedding_size=312, hidden_size=128):\n",
    "        super(SentimentClassifierTiny128, self).__init__()\n",
    "        self.embedding_size = embedding_size\n",
    "        self.hidden_size = hidden_size\n",
    "        self.embedding_layer = nn.Linear(312, embedding_size)\n",
    "        self.lstm = nn.LSTM(embedding_size, hidden_size, batch_first=True)\n",
    "        self.fc = nn.Linear(hidden_size, 1)\n",
    "\n",
    "    def forward(self, inputs):\n",
    "        embedded = self.embedding_layer(inputs)\n",
    "        lstm_out, _ = self.lstm(embedded)\n",
    "        fc_out = self.fc(lstm_out)\n",
    "        sentiment = torch.tanh(fc_out).squeeze()\n",
    "        return sentiment"
   ]
  },
  {
   "cell_type": "code",
   "execution_count": 24,
   "metadata": {
    "executionInfo": {
     "elapsed": 233,
     "status": "ok",
     "timestamp": 1682196600458,
     "user": {
      "displayName": "Илья Смирнов",
      "userId": "04327038012459884483"
     },
     "user_tz": -180
    },
    "id": "tSNnwo8oqx4f"
   },
   "outputs": [],
   "source": [
    "class SentimentClassifier256(nn.Module):\n",
    "    def __init__(self, embedding_size=512, hidden_size=256):\n",
    "        super(SentimentClassifier256, self).__init__()\n",
    "        self.embedding_size = embedding_size\n",
    "        self.hidden_size = hidden_size\n",
    "        self.embedding_layer = nn.Linear(512, embedding_size)\n",
    "        self.lstm = nn.LSTM(embedding_size, hidden_size, batch_first=True)\n",
    "        self.fc = nn.Linear(hidden_size, 1)\n",
    "\n",
    "    def forward(self, inputs):\n",
    "        embedded = self.embedding_layer(inputs)\n",
    "        lstm_out, _ = self.lstm(embedded)\n",
    "        # last_lstm_out = lstm_out[:, -1]\n",
    "        fc_out = self.fc(lstm_out)\n",
    "        sentiment = torch.tanh(fc_out).squeeze()\n",
    "        return sentiment\n",
    "\n",
    "\n",
    "class SentimentClassifierTiny256(nn.Module):\n",
    "    def __init__(self, embedding_size=312, hidden_size=256):\n",
    "        super(SentimentClassifierTiny256, self).__init__()\n",
    "        self.embedding_size = embedding_size\n",
    "        self.hidden_size = hidden_size\n",
    "        self.embedding_layer = nn.Linear(312, embedding_size)\n",
    "        self.lstm = nn.LSTM(embedding_size, hidden_size, batch_first=True)\n",
    "        self.fc = nn.Linear(hidden_size, 1)\n",
    "\n",
    "    def forward(self, inputs):\n",
    "        embedded = self.embedding_layer(inputs)\n",
    "        lstm_out, _ = self.lstm(embedded)\n",
    "        fc_out = self.fc(lstm_out)\n",
    "        sentiment = torch.tanh(fc_out).squeeze()\n",
    "        return sentiment"
   ]
  },
  {
   "cell_type": "code",
   "execution_count": 25,
   "metadata": {
    "executionInfo": {
     "elapsed": 388,
     "status": "ok",
     "timestamp": 1682196601906,
     "user": {
      "displayName": "Илья Смирнов",
      "userId": "04327038012459884483"
     },
     "user_tz": -180
    },
    "id": "ngpIqrjKrDdX"
   },
   "outputs": [],
   "source": [
    "class SentimentClassifier64(nn.Module):\n",
    "    def __init__(self, embedding_size=512, hidden_size=64):\n",
    "        super(SentimentClassifier64, self).__init__()\n",
    "        self.embedding_size = embedding_size\n",
    "        self.hidden_size = hidden_size\n",
    "        self.embedding_layer = nn.Linear(512, embedding_size)\n",
    "        self.lstm = nn.LSTM(embedding_size, hidden_size, batch_first=True)\n",
    "        self.fc = nn.Linear(hidden_size, 1)\n",
    "\n",
    "    def forward(self, inputs):\n",
    "        embedded = self.embedding_layer(inputs)\n",
    "        lstm_out, _ = self.lstm(embedded)\n",
    "        # last_lstm_out = lstm_out[:, -1]\n",
    "        fc_out = self.fc(lstm_out)\n",
    "        sentiment = torch.tanh(fc_out).squeeze()\n",
    "        return sentiment\n",
    "\n",
    "\n",
    "class SentimentClassifierTiny64(nn.Module):\n",
    "    def __init__(self, embedding_size=312, hidden_size=64):\n",
    "        super(SentimentClassifierTiny64, self).__init__()\n",
    "        self.embedding_size = embedding_size\n",
    "        self.hidden_size = hidden_size\n",
    "        self.embedding_layer = nn.Linear(312, embedding_size)\n",
    "        self.lstm = nn.LSTM(embedding_size, hidden_size, batch_first=True)\n",
    "        self.fc = nn.Linear(hidden_size, 1)\n",
    "\n",
    "    def forward(self, inputs):\n",
    "        embedded = self.embedding_layer(inputs)\n",
    "        lstm_out, _ = self.lstm(embedded)\n",
    "        fc_out = self.fc(lstm_out)\n",
    "        sentiment = torch.tanh(fc_out).squeeze()\n",
    "        return sentiment"
   ]
  },
  {
   "cell_type": "code",
   "execution_count": 35,
   "metadata": {
    "executionInfo": {
     "elapsed": 240,
     "status": "ok",
     "timestamp": 1682197050929,
     "user": {
      "displayName": "Илья Смирнов",
      "userId": "04327038012459884483"
     },
     "user_tz": -180
    },
    "id": "QoW_pzvbx4lN"
   },
   "outputs": [],
   "source": [
    "def metric(df: pd.DataFrame, embed_name: str, target_name: str, probability, batch_size=32) -> None:\n",
    "\n",
    "  def proba(x):\n",
    "    if x >= probability:\n",
    "      return 1\n",
    "    elif x < probability:\n",
    "      return -1\n",
    "    return 0\n",
    "\n",
    "  inputs = torch.tensor(df[f'{embed_name}'].to_list())\n",
    "  targets = torch.tensor(df[f'{target_name}'].to_list())\n",
    "  dataset = TensorDataset(inputs, targets)\n",
    "\n",
    "  val_loader = DataLoader(dataset, batch_size=batch_size, shuffle=False)\n",
    "\n",
    "  model.eval()\n",
    "  val_loss = 0\n",
    "  y_true, y_pred = [], []\n",
    "  with torch.no_grad():\n",
    "    for inputs, targets in val_loader:\n",
    "      outputs = model(inputs)\n",
    "      y_true += targets.tolist()\n",
    "      y_pred += outputs.tolist()\n",
    "\n",
    "  y_pred = list(map(proba, y_pred))\n",
    "\n",
    "  print('Accuracy: ', accuracy_score(y_true, y_pred))\n",
    "  f1 = f1_score(y_true, y_pred, average='weighted')\n",
    "  precision = precision_score(y_true, y_pred, average='weighted', zero_division=True)\n",
    "  recall = recall_score(y_true, y_pred, average='weighted')\n",
    "  print(f'F1: {f1}, Precision: {precision}, Recall: {recall}')\n",
    "\n",
    "  f1 = f1_score(y_true, y_pred, average='macro')\n",
    "  precision = precision_score(y_true, y_pred, average='macro', zero_division=True)\n",
    "  recall = recall_score(y_true, y_pred, average='macro')\n",
    "  print(f'F1: {f1}, Precision: {precision}, Recall: {recall}', '\\n')\n",
    "\n",
    "  print(classification_report(y_true, y_pred))\n",
    "  sns.heatmap(confusion_matrix(y_true, y_pred), annot=True, cmap=\"Reds\", fmt=\"d\")\n",
    "\n",
    "  return y_pred"
   ]
  },
  {
   "cell_type": "code",
   "execution_count": null,
   "metadata": {
    "id": "KVrx2GCMyze5"
   },
   "outputs": [],
   "source": [
    "def train_model(num_epochs, batch_size, learning_rate, model_in, criterion_in, flag, df=None, embed_name=None, target_name=None):\n",
    "\n",
    "  def proba(x):\n",
    "    if x > 0.5:\n",
    "      return 1\n",
    "    elif x < -0.5:\n",
    "      return -1\n",
    "    return 0\n",
    "\n",
    "  # model = SentimentClassifier()\n",
    "  model = model_in\n",
    "\n",
    "# Загружаем данные и создаём DataLoader\n",
    "  if flag:\n",
    "    inputs = torch.tensor(data_ru['USE_M'].apply(lambda x: x[0]).to_list())\n",
    "    targets = torch.tensor(data_ru['sentiment_int'].apply(lambda x: -1 if x == 2 else x).to_list())\n",
    "  else:\n",
    "    inputs = torch.tensor(df[f'{embed_name}'].to_list())\n",
    "    targets = torch.tensor(df[f'{target_name}'].to_list())\n",
    "  dataset = TensorDataset(inputs, targets)\n",
    "\n",
    "# Разбиваем на обучающую и валидационную выборки\n",
    "  train_size = int(0.8 * len(dataset))\n",
    "  val_size = len(dataset) - train_size\n",
    "  train_dataset, val_dataset = torch.utils.data.random_split(dataset, [train_size, val_size])\n",
    "\n",
    "  train_loader = DataLoader(train_dataset, batch_size=batch_size, shuffle=True)\n",
    "  val_loader = DataLoader(val_dataset, batch_size=batch_size, shuffle=False)\n",
    "\n",
    "# Определяем функцию потерь и оптимизатор\n",
    "  # criterion = nn.CrossEntropyLoss()\n",
    "  criterion = criterion_in\n",
    "  optimizer = optim.Adam(model.parameters(), lr=learning_rate)\n",
    "\n",
    "# Процесс обучения\n",
    "  for epoch in range(num_epochs):\n",
    "    model.train()\n",
    "    train_loss = 0\n",
    "    for i, (inputs, targets) in enumerate(train_loader):\n",
    "      optimizer.zero_grad()\n",
    "      outputs = model(inputs)\n",
    "      loss = criterion(outputs, targets.float())\n",
    "      loss.backward()\n",
    "      optimizer.step()\n",
    "      train_loss += loss.item()\n",
    "\n",
    "    train_loss /= len(train_loader)\n",
    "    print(f'Train Epoch: {epoch+1}, Loss: {train_loss}')\n",
    "\n",
    "    model.eval()\n",
    "    val_loss = 0\n",
    "    y_true, y_pred = [], []\n",
    "    with torch.no_grad():\n",
    "      for inputs, targets in val_loader:\n",
    "        outputs = model(inputs)\n",
    "        val_loss += criterion(outputs, targets.float()).item()\n",
    "        y_true += targets.tolist()\n",
    "        y_pred += outputs.tolist()\n",
    "    y_proba = y_pred\n",
    "    y_pred = list(map(proba, y_pred))\n",
    "\n",
    "    val_loss /= len(val_loader)\n",
    "    f1 = f1_score(y_true, y_pred, average='weighted')\n",
    "    precision = precision_score(y_true, y_pred, average='weighted')\n",
    "    recall = recall_score(y_true, y_pred, average='weighted')\n",
    "    print(f'Val Epoch: {epoch+1}, F1: {f1}, Precision: {precision}, Recall: {recall}')\n",
    "\n",
    "    f1 = f1_score(y_true, y_pred, average='macro')\n",
    "    precision = precision_score(y_true, y_pred, average='macro')\n",
    "    recall = recall_score(y_true, y_pred, average='macro')\n",
    "    print(f'Val Epoch: {epoch+1}, F1: {f1}, Precision: {precision}, Recall: {recall}', '\\n')\n",
    "\n",
    "  return model, y_pred, y_proba"
   ]
  },
  {
   "cell_type": "code",
   "execution_count": 21,
   "metadata": {
    "executionInfo": {
     "elapsed": 369,
     "status": "ok",
     "timestamp": 1682196335441,
     "user": {
      "displayName": "Илья Смирнов",
      "userId": "04327038012459884483"
     },
     "user_tz": -180
    },
    "id": "AaSQLvW7tB5d"
   },
   "outputs": [],
   "source": [
    "def train_model_2(num_epochs, batch_size, learning_rate, model_in, criterion_in, flag, probability, df=None, embed_name=None, target_name=None):\n",
    "\n",
    "  def proba(x):\n",
    "    if x > probability:\n",
    "      return 1\n",
    "    elif x < -probability:\n",
    "      return -1\n",
    "    return 0\n",
    "\n",
    "  # model = SentimentClassifier()\n",
    "  model = model_in\n",
    "\n",
    "# Загружаем данные и создаём DataLoader\n",
    "  if flag:\n",
    "    inputs = torch.tensor(data_ru['USE_M'].apply(lambda x: x[0]).to_list())\n",
    "    targets = torch.tensor(data_ru['sentiment_int'].apply(lambda x: -1 if x == 2 else x).to_list())\n",
    "  else:\n",
    "    inputs = torch.tensor(df[f'{embed_name}'].to_list())\n",
    "    targets = torch.tensor(df[f'{target_name}'].to_list())\n",
    "  dataset = TensorDataset(inputs, targets)\n",
    "\n",
    "# Разбиваем на обучающую и валидационную выборки\n",
    "  train_size = int(0.8 * len(dataset))\n",
    "  val_size = len(dataset) - train_size\n",
    "  train_dataset, val_dataset = torch.utils.data.random_split(dataset, [train_size, val_size])\n",
    "\n",
    "  train_loader = DataLoader(train_dataset, batch_size=batch_size, shuffle=True)\n",
    "  val_loader = DataLoader(val_dataset, batch_size=batch_size, shuffle=False)\n",
    "\n",
    "# Определяем функцию потерь и оптимизатор\n",
    "  # criterion = nn.CrossEntropyLoss()\n",
    "  criterion = criterion_in\n",
    "  optimizer = optim.Adam(model.parameters(), lr=learning_rate)\n",
    "\n",
    "# Процесс обучения\n",
    "  for epoch in range(num_epochs):\n",
    "    model.train()\n",
    "    train_loss = 0\n",
    "    for i, (inputs, targets) in enumerate(train_loader):\n",
    "      optimizer.zero_grad()\n",
    "      outputs = model(inputs)\n",
    "      loss = criterion(outputs, targets.float())\n",
    "      loss.backward()\n",
    "      optimizer.step()\n",
    "      train_loss += loss.item()\n",
    "\n",
    "    train_loss /= len(train_loader)\n",
    "    print(f'Train Epoch: {epoch+1}, Loss: {train_loss}')\n",
    "\n",
    "    model.eval()\n",
    "    val_loss = 0\n",
    "    y_true, y_pred = [], []\n",
    "    with torch.no_grad():\n",
    "      for inputs, targets in val_loader:\n",
    "        outputs = model(inputs)\n",
    "        val_loss += criterion(outputs, targets.float()).item()\n",
    "        y_true += targets.tolist()\n",
    "        y_pred += outputs.tolist()\n",
    "    y_proba = y_pred\n",
    "    y_pred = list(map(proba, y_pred))\n",
    "\n",
    "    val_loss /= len(val_loader)\n",
    "    f1 = f1_score(y_true, y_pred, average='weighted')\n",
    "    precision = precision_score(y_true, y_pred, average='weighted')\n",
    "    recall = recall_score(y_true, y_pred, average='weighted')\n",
    "    print(f'Val Epoch: {epoch+1}, F1: {f1}, Precision: {precision}, Recall: {recall}')\n",
    "\n",
    "    f1 = f1_score(y_true, y_pred, average='macro')\n",
    "    precision = precision_score(y_true, y_pred, average='macro')\n",
    "    recall = recall_score(y_true, y_pred, average='macro')\n",
    "    print(f'Val Epoch: {epoch+1}, F1: {f1}, Precision: {precision}, Recall: {recall}', '\\n')\n",
    "\n",
    "  return model, y_pred, y_proba"
   ]
  },
  {
   "cell_type": "markdown",
   "metadata": {
    "id": "phVoyNJSDLqq"
   },
   "source": [
    "# **Обучение на USE-M 128 нейронов**\n",
    "Модуль перехода от нейтрольного: 0.5"
   ]
  },
  {
   "cell_type": "code",
   "execution_count": null,
   "metadata": {
    "colab": {
     "base_uri": "https://localhost:8080/"
    },
    "executionInfo": {
     "elapsed": 137738,
     "status": "ok",
     "timestamp": 1681507220670,
     "user": {
      "displayName": "Илья Смирнов",
      "userId": "04327038012459884483"
     },
     "user_tz": -180
    },
    "id": "iCrodK1H8J22",
    "outputId": "ece88588-93cd-4f00-94df-d104815cfb66"
   },
   "outputs": [
    {
     "name": "stdout",
     "output_type": "stream",
     "text": [
      "Train Epoch: 1, Loss: -16.387410112486947\n",
      "Val Epoch: 1, F1: 0.5055819328517601, Precision: 0.6239559472439, Recall: 0.614\n",
      "Val Epoch: 1, F1: 0.502982893367916, Precision: 0.6243623477057608, Recall: 0.6101141406702771 \n",
      "\n",
      "Train Epoch: 2, Loss: -16.790758167796664\n",
      "Val Epoch: 2, F1: 0.49996435462551847, Precision: 0.6489369066438121, Recall: 0.6132222222222222\n",
      "Val Epoch: 2, F1: 0.49728300020028166, Precision: 0.6496627959825654, Recall: 0.6094799512853093 \n",
      "\n",
      "Train Epoch: 3, Loss: -16.745902434666952\n",
      "Val Epoch: 3, F1: 0.49050466689768424, Precision: 0.6358965818797723, Recall: 0.6078333333333333\n",
      "Val Epoch: 3, F1: 0.48773773245725516, Precision: 0.6364461716047184, Recall: 0.6042550840594266 \n",
      "\n",
      "Train Epoch: 4, Loss: -16.87782474782732\n",
      "Val Epoch: 4, F1: 0.4969431028367558, Precision: 0.6002657219695595, Recall: 0.612\n",
      "Val Epoch: 4, F1: 0.4942404970146659, Precision: 0.6004080923889972, Recall: 0.608155386661701 \n",
      "\n",
      "Train Epoch: 5, Loss: -16.782940459357366\n",
      "Val Epoch: 5, F1: 0.49520563050208016, Precision: 0.5547369790481458, Recall: 0.609\n",
      "Val Epoch: 5, F1: 0.4925214359108505, Precision: 0.5543400771563518, Recall: 0.6051150436623928 \n",
      "\n"
     ]
    }
   ],
   "source": [
    "model, y_pred, y_proba = train_model(5, 32, 0.001, SentimentClassifier(), nn.CrossEntropyLoss(), False, df=data_ru, embed_name='USE_M', target_name='sentiment_int')"
   ]
  },
  {
   "cell_type": "code",
   "execution_count": null,
   "metadata": {
    "colab": {
     "base_uri": "https://localhost:8080/"
    },
    "executionInfo": {
     "elapsed": 949,
     "status": "ok",
     "timestamp": 1681507362863,
     "user": {
      "displayName": "Илья Смирнов",
      "userId": "04327038012459884483"
     },
     "user_tz": -180
    },
    "id": "k3NhQMR0-omp",
    "outputId": "7b0a6099-0827-4222-edb5-10bb54fdeb58"
   },
   "outputs": [
    {
     "name": "stdout",
     "output_type": "stream",
     "text": [
      "Accuracy:  0.9086142322097378\n",
      "F1: 0.9086142322097378, Precision: 0.9086142322097378, Recall: 0.9086142322097378\n",
      "F1: 0.7074766153713522, Precision: 0.7074766153713522, Recall: 0.7074766153713522 \n",
      "\n"
     ]
    }
   ],
   "source": [
    "y_pred_yand_01 = metric(yandex, 'USE_M', 'Siuu', 0, 32)"
   ]
  },
  {
   "cell_type": "markdown",
   "metadata": {
    "id": "qBU--O6l-XHo"
   },
   "source": [
    "Тестируем еще раз, странные метрики вышли"
   ]
  },
  {
   "cell_type": "code",
   "execution_count": null,
   "metadata": {
    "colab": {
     "base_uri": "https://localhost:8080/"
    },
    "executionInfo": {
     "elapsed": 107917,
     "status": "ok",
     "timestamp": 1681563780042,
     "user": {
      "displayName": "Илья Смирнов",
      "userId": "04327038012459884483"
     },
     "user_tz": -180
    },
    "id": "JqlKBuNj-WV0",
    "outputId": "f75cc8c8-4592-406e-dd88-2281dfca6246"
   },
   "outputs": [
    {
     "name": "stdout",
     "output_type": "stream",
     "text": [
      "Train Epoch: 1, Loss: -16.610793191274006\n",
      "Val Epoch: 1, F1: 0.49853743976338694, Precision: 0.5898545116569166, Recall: 0.6108888888888889\n",
      "Val Epoch: 1, F1: 0.4988628305437171, Precision: 0.5898029701114933, Recall: 0.6114097124233417 \n",
      "\n",
      "Train Epoch: 2, Loss: -16.986919243282742\n",
      "Val Epoch: 2, F1: 0.49683048458807105, Precision: 0.6094320268038517, Recall: 0.612\n",
      "Val Epoch: 2, F1: 0.4971628415877367, Precision: 0.6093486700085505, Recall: 0.6125329904698849 \n",
      "\n",
      "Train Epoch: 3, Loss: -16.758835270457798\n",
      "Val Epoch: 3, F1: 0.4960698803693225, Precision: 0.6163728915474451, Recall: 0.6102777777777778\n",
      "Val Epoch: 3, F1: 0.496410758600392, Precision: 0.6162987130365097, Recall: 0.6107730396146761 \n",
      "\n",
      "Train Epoch: 4, Loss: -17.032028708881803\n",
      "Val Epoch: 4, F1: 0.4857495103689954, Precision: 0.5663590846128492, Recall: 0.5957777777777777\n",
      "Val Epoch: 4, F1: 0.48606598271677104, Precision: 0.5663078981394604, Recall: 0.5963540347508244 \n",
      "\n",
      "Train Epoch: 5, Loss: -17.122313691457112\n",
      "Val Epoch: 5, F1: 0.4900675186409712, Precision: 0.6034830427034601, Recall: 0.6097222222222223\n",
      "Val Epoch: 5, F1: 0.49042085280979925, Precision: 0.6034350881036402, Recall: 0.6102130030013705 \n",
      "\n"
     ]
    }
   ],
   "source": [
    "model, y_pred, y_proba = train_model(5, 32, 0.001, SentimentClassifier(), nn.CrossEntropyLoss(), False, df=data_ru, embed_name='USE_M', target_name='sentiment_int')"
   ]
  },
  {
   "cell_type": "code",
   "execution_count": null,
   "metadata": {
    "colab": {
     "base_uri": "https://localhost:8080/"
    },
    "executionInfo": {
     "elapsed": 348,
     "status": "ok",
     "timestamp": 1681563645256,
     "user": {
      "displayName": "Илья Смирнов",
      "userId": "04327038012459884483"
     },
     "user_tz": -180
    },
    "id": "YSDQ5W5W-kej",
    "outputId": "78ad0da0-ca1d-4d19-807d-d03dffc3da3c"
   },
   "outputs": [
    {
     "name": "stdout",
     "output_type": "stream",
     "text": [
      "Accuracy:  0.8925093632958802\n",
      "F1: 0.8995619499665797, Precision: 0.9088442955481446, Recall: 0.8925093632958802\n",
      "F1: 0.7019109766890019, Precision: 0.6799484727221097, Recall: 0.734460537092116 \n",
      "\n"
     ]
    }
   ],
   "source": [
    "y_pred_yand_01 = metric(yandex, 'USE_M', 'Siuu', 0, 32)"
   ]
  },
  {
   "cell_type": "code",
   "execution_count": null,
   "metadata": {
    "colab": {
     "base_uri": "https://localhost:8080/"
    },
    "executionInfo": {
     "elapsed": 370,
     "status": "ok",
     "timestamp": 1681563780348,
     "user": {
      "displayName": "Илья Смирнов",
      "userId": "04327038012459884483"
     },
     "user_tz": -180
    },
    "id": "Q7t0VdFxAWqv",
    "outputId": "9bfe07ab-e81f-4027-f4f3-bdcc68cc7122"
   },
   "outputs": [
    {
     "name": "stdout",
     "output_type": "stream",
     "text": [
      "Accuracy:  0.8895131086142322\n",
      "F1: 0.8990432317668621, Precision: 0.9127670689766743, Recall: 0.8895131086142322\n",
      "F1: 0.7089559105062981, Precision: 0.6808559507674552, Recall: 0.7566813224707961 \n",
      "\n"
     ]
    }
   ],
   "source": [
    "y_pred_yand_01 = metric(yandex, 'USE_M', 'Siuu', 0, 32)"
   ]
  },
  {
   "cell_type": "code",
   "execution_count": null,
   "metadata": {
    "id": "lCGP_YOWE4ZM"
   },
   "outputs": [],
   "source": [
    "yandex['model_1'] = y_pred_yand_01\n",
    "yandex[(yandex['model_1'] == yandex['Siuu']) & (yandex['model_1'] == -1)]"
   ]
  },
  {
   "cell_type": "code",
   "execution_count": null,
   "metadata": {
    "id": "ySErbvkWpIye"
   },
   "outputs": [],
   "source": [
    "yandex[(1 == yandex['Siuu']) & (yandex['model_1'] == -1)]"
   ]
  },
  {
   "cell_type": "code",
   "execution_count": null,
   "metadata": {
    "id": "yE_aGNPtp15u"
   },
   "outputs": [],
   "source": [
    "yandex[(yandex['model_1'] == -1)]"
   ]
  },
  {
   "cell_type": "code",
   "execution_count": null,
   "metadata": {
    "colab": {
     "base_uri": "https://localhost:8080/"
    },
    "executionInfo": {
     "elapsed": 731,
     "status": "ok",
     "timestamp": 1681507631691,
     "user": {
      "displayName": "Илья Смирнов",
      "userId": "04327038012459884483"
     },
     "user_tz": -180
    },
    "id": "kirjT07ap8Qy",
    "outputId": "5dac639e-eb70-4938-baa0-f044c2bfeefd"
   },
   "outputs": [
    {
     "data": {
      "text/plain": [
       "Counter({5.0: 103, 4.0: 19})"
      ]
     },
     "execution_count": 84,
     "metadata": {},
     "output_type": "execute_result"
    }
   ],
   "source": [
    "Counter(yandex[(1 == yandex['Siuu']) & (yandex['model_1'] == -1)]['rating'])"
   ]
  },
  {
   "cell_type": "code",
   "execution_count": null,
   "metadata": {
    "id": "q6ln2gnEqObe"
   },
   "outputs": [],
   "source": [
    "yandex[(1 == yandex['Siuu']) & (yandex['model_1'] == -1)]['review'].to_list() #модель обращает внимание на -не- (знак усиления хорошего), а также верно находит отзывы, где люди перечисляют недостатки"
   ]
  },
  {
   "cell_type": "code",
   "execution_count": null,
   "metadata": {
    "colab": {
     "base_uri": "https://localhost:8080/"
    },
    "executionInfo": {
     "elapsed": 177943,
     "status": "ok",
     "timestamp": 1681508048613,
     "user": {
      "displayName": "Илья Смирнов",
      "userId": "04327038012459884483"
     },
     "user_tz": -180
    },
    "id": "vOLMzwQuqoGB",
    "outputId": "f0882cbd-1c3d-46e4-c4ea-11c137eab8c9"
   },
   "outputs": [
    {
     "name": "stdout",
     "output_type": "stream",
     "text": [
      "Train Epoch: 1, Loss: -30.313534898546006\n",
      "Val Epoch: 1, F1: 0.5517182977160112, Precision: 0.6235852441104923, Recall: 0.6288333333333334\n",
      "Val Epoch: 1, F1: 0.5530780825828175, Precision: 0.623508608883257, Recall: 0.6309360641029561 \n",
      "\n",
      "Train Epoch: 2, Loss: -35.23008938047621\n",
      "Val Epoch: 2, F1: 0.5348268426595817, Precision: 0.6211472521326257, Recall: 0.6231666666666666\n",
      "Val Epoch: 2, F1: 0.5363025658403543, Precision: 0.6210444175222962, Recall: 0.6254242887747335 \n",
      "\n",
      "Train Epoch: 3, Loss: -35.563199412875704\n",
      "Val Epoch: 3, F1: 0.5277206701105813, Precision: 0.6118828090766464, Recall: 0.6215555555555555\n",
      "Val Epoch: 3, F1: 0.5292544069753872, Precision: 0.6118407931954705, Recall: 0.6237792417348961 \n",
      "\n",
      "Train Epoch: 4, Loss: -35.789733823776245\n",
      "Val Epoch: 4, F1: 0.5239946253391791, Precision: 0.6226685999789128, Recall: 0.6216666666666667\n",
      "Val Epoch: 4, F1: 0.5255608234759674, Precision: 0.6225321733630689, Recall: 0.6239415730002797 \n",
      "\n",
      "Train Epoch: 5, Loss: -35.86480055279202\n",
      "Val Epoch: 5, F1: 0.5166226677676067, Precision: 0.6048914244270998, Recall: 0.6181111111111111\n",
      "Val Epoch: 5, F1: 0.5182310107526595, Precision: 0.6048798477519184, Recall: 0.6203593343146726 \n",
      "\n",
      "Train Epoch: 6, Loss: -35.96501452551948\n",
      "Val Epoch: 6, F1: 0.5173763525053853, Precision: 0.6178994796399705, Recall: 0.6193333333333333\n",
      "Val Epoch: 6, F1: 0.5189836207450075, Precision: 0.6177812241547986, Recall: 0.6216493204808896 \n",
      "\n",
      "Train Epoch: 7, Loss: -35.999818134943645\n",
      "Val Epoch: 7, F1: 0.5147342869280648, Precision: 0.6263081250330121, Recall: 0.6185555555555555\n",
      "Val Epoch: 7, F1: 0.5163553702611522, Precision: 0.6261140121200129, Recall: 0.6209021828307804 \n",
      "\n",
      "Train Epoch: 8, Loss: -36.05518893475003\n",
      "Val Epoch: 8, F1: 0.5119435173872003, Precision: 0.621773392569394, Recall: 0.6178333333333333\n",
      "Val Epoch: 8, F1: 0.5135918402509353, Precision: 0.6216198527379008, Recall: 0.6201228506773505 \n",
      "\n",
      "Train Epoch: 9, Loss: -36.07692354011536\n",
      "Val Epoch: 9, F1: 0.5089050578509364, Precision: 0.6184561854068105, Recall: 0.6163888888888889\n",
      "Val Epoch: 9, F1: 0.51056315655688, Precision: 0.6183081628340308, Recall: 0.6187538729437784 \n",
      "\n",
      "Train Epoch: 10, Loss: -36.09981102879842\n",
      "Val Epoch: 10, F1: 0.5111682501841867, Precision: 0.6190003172631505, Recall: 0.6145\n",
      "Val Epoch: 10, F1: 0.512787682840235, Precision: 0.6188505023607278, Recall: 0.6169069757129965 \n",
      "\n"
     ]
    }
   ],
   "source": [
    "model, y_pred, y_proba = train_model(10, 64, 0.0001, SentimentClassifier(), nn.CrossEntropyLoss(), False, df=data_ru, embed_name='USE_M', target_name='sentiment_int')"
   ]
  },
  {
   "cell_type": "code",
   "execution_count": null,
   "metadata": {
    "colab": {
     "base_uri": "https://localhost:8080/"
    },
    "executionInfo": {
     "elapsed": 926,
     "status": "ok",
     "timestamp": 1681508135616,
     "user": {
      "displayName": "Илья Смирнов",
      "userId": "04327038012459884483"
     },
     "user_tz": -180
    },
    "id": "EfV63sMCsNZ6",
    "outputId": "d889906a-1df2-490a-9ac7-ba3e20a9d336"
   },
   "outputs": [
    {
     "name": "stdout",
     "output_type": "stream",
     "text": [
      "Accuracy:  0.8715355805243445\n",
      "F1: 0.885724861190651, Precision: 0.9068911773622189, Recall: 0.8715355805243445\n",
      "F1: 0.6830470070280565, Precision: 0.6543837857523681, Recall: 0.7428768481400061 \n",
      "\n"
     ]
    }
   ],
   "source": [
    "y_pred_yand_02 = metric(yandex, 'USE_M', 'Siuu', 0, 64)"
   ]
  },
  {
   "cell_type": "code",
   "execution_count": null,
   "metadata": {
    "colab": {
     "base_uri": "https://localhost:8080/"
    },
    "executionInfo": {
     "elapsed": 220198,
     "status": "ok",
     "timestamp": 1681508375948,
     "user": {
      "displayName": "Илья Смирнов",
      "userId": "04327038012459884483"
     },
     "user_tz": -180
    },
    "id": "3ASkKpHXsB00",
    "outputId": "9e048c96-a636-42f4-db5a-05d04577e2bc"
   },
   "outputs": [
    {
     "name": "stdout",
     "output_type": "stream",
     "text": [
      "Train Epoch: 1, Loss: -8.100625593158934\n",
      "Val Epoch: 1, F1: 0.5023947728123419, Precision: 0.6229377070936446, Recall: 0.6153333333333333\n",
      "Val Epoch: 1, F1: 0.49751881072620163, Precision: 0.6221009516648804, Recall: 0.6099732301913405 \n",
      "\n",
      "Train Epoch: 2, Loss: -8.215516593191358\n",
      "Val Epoch: 2, F1: 0.5003177390846414, Precision: 0.5813475438963893, Recall: 0.6121111111111112\n",
      "Val Epoch: 2, F1: 0.4953754475293148, Precision: 0.579543049162279, Recall: 0.606883557859207 \n",
      "\n",
      "Train Epoch: 3, Loss: -8.23685268190172\n",
      "Val Epoch: 3, F1: 0.49986035200444157, Precision: 0.5764808584104975, Recall: 0.6155555555555555\n",
      "Val Epoch: 3, F1: 0.4949233463527533, Precision: 0.5748387608398035, Recall: 0.610085757715127 \n",
      "\n",
      "Train Epoch: 4, Loss: -8.242860329018699\n",
      "Val Epoch: 4, F1: 0.49898387130480093, Precision: 0.5921057412425712, Recall: 0.6111111111111112\n",
      "Val Epoch: 4, F1: 0.4939411872470442, Precision: 0.5902463669414851, Recall: 0.6059880296687765 \n",
      "\n",
      "Train Epoch: 5, Loss: -8.367363951100243\n",
      "Val Epoch: 5, F1: 0.500954692013186, Precision: 0.6284920264643986, Recall: 0.6161666666666666\n",
      "Val Epoch: 5, F1: 0.4960005049908902, Precision: 0.6277307920727763, Recall: 0.6107323880458525 \n",
      "\n"
     ]
    }
   ],
   "source": [
    "model, y_pred, y_proba = train_model(5, 16, 0.001, SentimentClassifier(), nn.CrossEntropyLoss(), False, df=data_ru, embed_name='USE_M', target_name='sentiment_int')"
   ]
  },
  {
   "cell_type": "code",
   "execution_count": null,
   "metadata": {
    "colab": {
     "base_uri": "https://localhost:8080/"
    },
    "executionInfo": {
     "elapsed": 651,
     "status": "ok",
     "timestamp": 1681508378410,
     "user": {
      "displayName": "Илья Смирнов",
      "userId": "04327038012459884483"
     },
     "user_tz": -180
    },
    "id": "lZPWBosyskk-",
    "outputId": "619a05da-bb64-4a81-b4c0-4a8cdc1b574a"
   },
   "outputs": [
    {
     "name": "stdout",
     "output_type": "stream",
     "text": [
      "Accuracy:  0.8453183520599251\n",
      "F1: 0.8690030329221341, Precision: 0.9088233902450185, Recall: 0.8453183520599251\n",
      "F1: 0.6665401625401626, Precision: 0.6373945204732105, Recall: 0.7623442820811241 \n",
      "\n"
     ]
    }
   ],
   "source": [
    "y_pred_yand_03 = metric(yandex, 'USE_M', 'Siuu', 0, 16)"
   ]
  },
  {
   "cell_type": "code",
   "execution_count": null,
   "metadata": {
    "colab": {
     "base_uri": "https://localhost:8080/"
    },
    "executionInfo": {
     "elapsed": 174271,
     "status": "ok",
     "timestamp": 1681508552657,
     "user": {
      "displayName": "Илья Смирнов",
      "userId": "04327038012459884483"
     },
     "user_tz": -180
    },
    "id": "onmo3mKLrfFA",
    "outputId": "ba01dd2c-4703-4faa-eff1-b113f40b6efc"
   },
   "outputs": [
    {
     "name": "stdout",
     "output_type": "stream",
     "text": [
      "Train Epoch: 1, Loss: 0.3103861889176899\n",
      "Val Epoch: 1, F1: 0.7012993414594216, Precision: 0.7169594637266737, Recall: 0.6963888888888888\n",
      "Val Epoch: 1, F1: 0.7011420555815104, Precision: 0.7168600899281031, Recall: 0.6961788487890991 \n",
      "\n",
      "Train Epoch: 2, Loss: 0.2571881529622608\n",
      "Val Epoch: 2, F1: 0.7102451542262453, Precision: 0.7224977610419561, Recall: 0.7046666666666667\n",
      "Val Epoch: 2, F1: 0.7101282544364076, Precision: 0.7223559199811778, Recall: 0.7045644459308544 \n",
      "\n",
      "Train Epoch: 3, Loss: 0.25005732435650296\n",
      "Val Epoch: 3, F1: 0.7165429150520914, Precision: 0.7282285829548167, Recall: 0.7127222222222223\n",
      "Val Epoch: 3, F1: 0.7163975714066959, Precision: 0.7281469007911889, Recall: 0.7125196723687622 \n",
      "\n",
      "Train Epoch: 4, Loss: 0.2457407810224427\n",
      "Val Epoch: 4, F1: 0.7150441179670326, Precision: 0.7332059274123676, Recall: 0.709\n",
      "Val Epoch: 4, F1: 0.7149130158707767, Precision: 0.7330917887630187, Recall: 0.7088456618290809 \n",
      "\n",
      "Train Epoch: 5, Loss: 0.243045455329948\n",
      "Val Epoch: 5, F1: 0.7184072221666091, Precision: 0.7329556469515287, Recall: 0.7145\n",
      "Val Epoch: 5, F1: 0.7182522243653634, Precision: 0.732880227404435, Recall: 0.7142756044133151 \n",
      "\n",
      "Train Epoch: 6, Loss: 0.2406886798143387\n",
      "Val Epoch: 6, F1: 0.7197272306447892, Precision: 0.7376876321459703, Recall: 0.7144444444444444\n",
      "Val Epoch: 6, F1: 0.7195837035191343, Precision: 0.7375900071835203, Recall: 0.7142560451656642 \n",
      "\n",
      "Train Epoch: 7, Loss: 0.2398106192946434\n",
      "Val Epoch: 7, F1: 0.7179457201608822, Precision: 0.7368291327989551, Recall: 0.7113888888888888\n",
      "Val Epoch: 7, F1: 0.7178272564686328, Precision: 0.7366927626938637, Recall: 0.711273340893048 \n",
      "\n",
      "Train Epoch: 8, Loss: 0.23855878896845711\n",
      "Val Epoch: 8, F1: 0.7177955128069503, Precision: 0.7377379829271447, Recall: 0.7109444444444445\n",
      "Val Epoch: 8, F1: 0.7176825849887462, Precision: 0.7375970448903226, Recall: 0.7108414347072486 \n",
      "\n",
      "Train Epoch: 9, Loss: 0.2380642189913326\n",
      "Val Epoch: 9, F1: 0.7197586706578721, Precision: 0.7396526471268585, Recall: 0.7146666666666667\n",
      "Val Epoch: 9, F1: 0.7196028363511263, Precision: 0.7395611076967364, Recall: 0.7144522272519086 \n",
      "\n",
      "Train Epoch: 10, Loss: 0.2370906043185128\n",
      "Val Epoch: 10, F1: 0.7222158908675257, Precision: 0.7374189358562401, Recall: 0.7162777777777778\n",
      "Val Epoch: 10, F1: 0.72210035165929, Precision: 0.737283222031405, Recall: 0.7161700365783639 \n",
      "\n"
     ]
    }
   ],
   "source": [
    "model, y_pred, y_proba = train_model(10, 64, 0.0001, SentimentClassifier(), nn.MSELoss(), False, df=data_ru, embed_name='USE_M', target_name='sentiment_int')"
   ]
  },
  {
   "cell_type": "code",
   "execution_count": null,
   "metadata": {
    "colab": {
     "base_uri": "https://localhost:8080/"
    },
    "executionInfo": {
     "elapsed": 10,
     "status": "ok",
     "timestamp": 1681508552657,
     "user": {
      "displayName": "Илья Смирнов",
      "userId": "04327038012459884483"
     },
     "user_tz": -180
    },
    "id": "ysPgvX4GsrqS",
    "outputId": "9b0d3c06-2d66-4534-d761-acd8ca9501ea"
   },
   "outputs": [
    {
     "name": "stdout",
     "output_type": "stream",
     "text": [
      "Accuracy:  0.8629213483146068\n",
      "F1: 0.8811186192085066, Precision: 0.9105617810176958, Recall: 0.8629213483146068\n",
      "F1: 0.6836247086247086, Precision: 0.6520423741435806, Recall: 0.7640146126988232 \n",
      "\n"
     ]
    }
   ],
   "source": [
    "y_pred_yand_04 = metric(yandex, 'USE_M', 'Siuu', 0, 64)"
   ]
  },
  {
   "cell_type": "code",
   "execution_count": null,
   "metadata": {
    "colab": {
     "base_uri": "https://localhost:8080/"
    },
    "executionInfo": {
     "elapsed": 181280,
     "status": "ok",
     "timestamp": 1681508733928,
     "user": {
      "displayName": "Илья Смирнов",
      "userId": "04327038012459884483"
     },
     "user_tz": -180
    },
    "id": "GYAs9z1xrxXH",
    "outputId": "afcb3bba-51f1-4604-a017-5eabc0a36da6"
   },
   "outputs": [
    {
     "name": "stdout",
     "output_type": "stream",
     "text": [
      "Train Epoch: 1, Loss: 0.2624898162815306\n",
      "Val Epoch: 1, F1: 0.7096267111933178, Precision: 0.7513488322636873, Recall: 0.7026111111111111\n",
      "Val Epoch: 1, F1: 0.709272098186091, Precision: 0.7503920402803411, Recall: 0.7029272662903158 \n",
      "\n",
      "Train Epoch: 2, Loss: 0.24504341582291655\n",
      "Val Epoch: 2, F1: 0.7178153187545657, Precision: 0.7464450545421843, Recall: 0.71\n",
      "Val Epoch: 2, F1: 0.7174214365269339, Precision: 0.7455457001405174, Recall: 0.7101381336933801 \n",
      "\n",
      "Train Epoch: 3, Loss: 0.24009857367806964\n",
      "Val Epoch: 3, F1: 0.719240166678329, Precision: 0.7539575897028775, Recall: 0.7136111111111111\n",
      "Val Epoch: 3, F1: 0.7188721217992913, Precision: 0.7530653559264681, Recall: 0.7138345705283079 \n",
      "\n",
      "Train Epoch: 4, Loss: 0.23600269466638565\n",
      "Val Epoch: 4, F1: 0.7238492411820364, Precision: 0.7540063034040345, Recall: 0.7167777777777777\n",
      "Val Epoch: 4, F1: 0.7234747573241481, Precision: 0.7531161798835767, Recall: 0.7169647421354783 \n",
      "\n",
      "Train Epoch: 5, Loss: 0.23231569450596967\n",
      "Val Epoch: 5, F1: 0.7255091027849301, Precision: 0.757964658931778, Recall: 0.7206666666666667\n",
      "Val Epoch: 5, F1: 0.7251384593033664, Precision: 0.7570991722354644, Recall: 0.7208564411280306 \n",
      "\n",
      "Train Epoch: 6, Loss: 0.2275977319777012\n",
      "Val Epoch: 6, F1: 0.721802745064538, Precision: 0.756510057341286, Recall: 0.7175555555555555\n",
      "Val Epoch: 6, F1: 0.7214341492607494, Precision: 0.7556453329758915, Recall: 0.7177512813056044 \n",
      "\n",
      "Train Epoch: 7, Loss: 0.22400678453180525\n",
      "Val Epoch: 7, F1: 0.724439692490698, Precision: 0.7587577530558671, Recall: 0.7186111111111111\n",
      "Val Epoch: 7, F1: 0.7240810206551612, Precision: 0.7578641525249434, Recall: 0.7188530111979538 \n",
      "\n"
     ]
    }
   ],
   "source": [
    "model, y_pred, y_proba = train_model(7, 32, 0.001, SentimentClassifier(), nn.MSELoss(), False, df=data_ru, embed_name='USE_M', target_name='sentiment_int')"
   ]
  },
  {
   "cell_type": "code",
   "execution_count": null,
   "metadata": {
    "colab": {
     "base_uri": "https://localhost:8080/"
    },
    "executionInfo": {
     "elapsed": 11,
     "status": "ok",
     "timestamp": 1681508733929,
     "user": {
      "displayName": "Илья Смирнов",
      "userId": "04327038012459884483"
     },
     "user_tz": -180
    },
    "id": "jyZ_V481ssiP",
    "outputId": "67f5014f-85b5-400d-c4a7-502ba9ccfba5"
   },
   "outputs": [
    {
     "name": "stdout",
     "output_type": "stream",
     "text": [
      "Accuracy:  0.8434456928838951\n",
      "F1: 0.8665039638406066, Precision: 0.903458761654315, Recall: 0.8434456928838951\n",
      "F1: 0.6555493692201144, Precision: 0.6289361702127659, Recall: 0.7394499762920816 \n",
      "\n"
     ]
    }
   ],
   "source": [
    "y_pred_yand_05 = metric(yandex, 'USE_M', 'Siuu', 0, 32)"
   ]
  },
  {
   "cell_type": "code",
   "execution_count": null,
   "metadata": {
    "colab": {
     "base_uri": "https://localhost:8080/"
    },
    "executionInfo": {
     "elapsed": 225710,
     "status": "ok",
     "timestamp": 1681508959629,
     "user": {
      "displayName": "Илья Смирнов",
      "userId": "04327038012459884483"
     },
     "user_tz": -180
    },
    "id": "wl1veRosr3o6",
    "outputId": "ac344e56-0fe0-4c2a-db38-2d3875071e67"
   },
   "outputs": [
    {
     "name": "stdout",
     "output_type": "stream",
     "text": [
      "Train Epoch: 1, Loss: 0.26171039003713265\n",
      "Val Epoch: 1, F1: 0.7185974822132902, Precision: 0.7326413402471155, Recall: 0.7126111111111111\n",
      "Val Epoch: 1, F1: 0.7186718932581954, Precision: 0.7327195334086826, Recall: 0.7127067076697092 \n",
      "\n",
      "Train Epoch: 2, Loss: 0.24485589824534124\n",
      "Val Epoch: 2, F1: 0.716632594187205, Precision: 0.7430766084840672, Recall: 0.7127222222222223\n",
      "Val Epoch: 2, F1: 0.7168386702687878, Precision: 0.7429751569993742, Recall: 0.7131985473820196 \n",
      "\n",
      "Train Epoch: 3, Loss: 0.23961941897372405\n",
      "Val Epoch: 3, F1: 0.729157364286478, Precision: 0.7389080808551856, Recall: 0.7249444444444444\n",
      "Val Epoch: 3, F1: 0.7292614837333417, Precision: 0.7389371392138608, Recall: 0.7251308064844078 \n",
      "\n",
      "Train Epoch: 4, Loss: 0.23549537051551872\n",
      "Val Epoch: 4, F1: 0.7248650750382614, Precision: 0.7441277535851942, Recall: 0.7199444444444445\n",
      "Val Epoch: 4, F1: 0.725013209047245, Precision: 0.7440813388409153, Recall: 0.7202811835668393 \n",
      "\n",
      "Train Epoch: 5, Loss: 0.23095311892115408\n",
      "Val Epoch: 5, F1: 0.7289771183586187, Precision: 0.7461493455456043, Recall: 0.723\n",
      "Val Epoch: 5, F1: 0.729085401565404, Precision: 0.7461989976221197, Recall: 0.7231905791923104 \n",
      "\n"
     ]
    }
   ],
   "source": [
    "model, y_pred, y_proba = train_model(5, 16, 0.001, SentimentClassifier(), nn.MSELoss(), False, df=data_ru, embed_name='USE_M', target_name='sentiment_int')"
   ]
  },
  {
   "cell_type": "code",
   "execution_count": null,
   "metadata": {
    "colab": {
     "base_uri": "https://localhost:8080/"
    },
    "executionInfo": {
     "elapsed": 1680,
     "status": "ok",
     "timestamp": 1681509002489,
     "user": {
      "displayName": "Илья Смирнов",
      "userId": "04327038012459884483"
     },
     "user_tz": -180
    },
    "id": "KMeXDzJestM2",
    "outputId": "567f5599-c711-48dc-f6bc-fe12e591903b"
   },
   "outputs": [
    {
     "name": "stdout",
     "output_type": "stream",
     "text": [
      "Accuracy:  0.8468164794007491\n",
      "F1: 0.8701697099212451, Precision: 0.9095567564300787, Recall: 0.8468164794007491\n",
      "F1: 0.6689866267602411, Precision: 0.639309726580009, Recall: 0.7651515151515151 \n",
      "\n"
     ]
    }
   ],
   "source": [
    "y_pred_yand_06 = metric(yandex, 'USE_M', 'Siuu', 0, 16)"
   ]
  },
  {
   "cell_type": "markdown",
   "metadata": {
    "id": "3I6mcohdGkOM"
   },
   "source": [
    "# **Обучение на rubert-tiny2 128 нейронов**\n",
    "Модуль перехода от нейтрольного: 0.5"
   ]
  },
  {
   "cell_type": "code",
   "execution_count": null,
   "metadata": {
    "colab": {
     "base_uri": "https://localhost:8080/"
    },
    "executionInfo": {
     "elapsed": 162595,
     "status": "ok",
     "timestamp": 1681514695550,
     "user": {
      "displayName": "Илья Смирнов",
      "userId": "04327038012459884483"
     },
     "user_tz": -180
    },
    "id": "AEbGOS5C_5r0",
    "outputId": "8f8d8f15-851f-446e-fe9f-9cf24b96961e"
   },
   "outputs": [
    {
     "name": "stdout",
     "output_type": "stream",
     "text": [
      "Train Epoch: 1, Loss: -27.064986375808715\n",
      "Val Epoch: 1, F1: 0.5483189667688482, Precision: 0.5994087162100867, Recall: 0.6172777777777778\n",
      "Val Epoch: 1, F1: 0.5501945390310632, Precision: 0.6003829184097631, Recall: 0.6191858996959778 \n",
      "\n",
      "Train Epoch: 2, Loss: -32.6088592859904\n",
      "Val Epoch: 2, F1: 0.5312203201643256, Precision: 0.5967307672885171, Recall: 0.6136666666666667\n",
      "Val Epoch: 2, F1: 0.53325968580529, Precision: 0.597759280229135, Recall: 0.6156166907646781 \n",
      "\n",
      "Train Epoch: 3, Loss: -32.97888502714369\n",
      "Val Epoch: 3, F1: 0.526946687680029, Precision: 0.5982303028691532, Recall: 0.6137222222222222\n",
      "Val Epoch: 3, F1: 0.5290207718072957, Precision: 0.5991813889929049, Recall: 0.6157803426348595 \n",
      "\n",
      "Train Epoch: 4, Loss: -33.280360819498696\n",
      "Val Epoch: 4, F1: 0.520150380788432, Precision: 0.5921644262551438, Recall: 0.6112222222222222\n",
      "Val Epoch: 4, F1: 0.5222576618788747, Precision: 0.5930890371590318, Recall: 0.6133705706761562 \n",
      "\n",
      "Train Epoch: 5, Loss: -33.31402715237935\n",
      "Val Epoch: 5, F1: 0.5150268240271842, Precision: 0.5916500132514791, Recall: 0.6098333333333333\n",
      "Val Epoch: 5, F1: 0.5172628362901336, Precision: 0.5928320107236558, Recall: 0.6118019629447432 \n",
      "\n",
      "Train Epoch: 6, Loss: -33.46987910503811\n",
      "Val Epoch: 6, F1: 0.5097303881988852, Precision: 0.5919814162836463, Recall: 0.6088333333333333\n",
      "Val Epoch: 6, F1: 0.5118036989532556, Precision: 0.5925981839805786, Recall: 0.6112496599921643 \n",
      "\n",
      "Train Epoch: 7, Loss: -33.57600421142578\n",
      "Val Epoch: 7, F1: 0.5094814352287087, Precision: 0.5991430054660404, Recall: 0.6079444444444444\n",
      "Val Epoch: 7, F1: 0.5118013636306182, Precision: 0.600384773029479, Recall: 0.6098440873016097 \n",
      "\n",
      "Train Epoch: 8, Loss: -33.59962639745076\n",
      "Val Epoch: 8, F1: 0.5094186024372058, Precision: 0.6079991959578429, Recall: 0.6098888888888889\n",
      "Val Epoch: 8, F1: 0.5116736396777761, Precision: 0.608972265729221, Recall: 0.6119201342554549 \n",
      "\n",
      "Train Epoch: 9, Loss: -33.71089395078023\n",
      "Val Epoch: 9, F1: 0.5051960374718427, Precision: 0.5800978133006245, Recall: 0.6076111111111111\n",
      "Val Epoch: 9, F1: 0.507355670352002, Precision: 0.5809700881698293, Recall: 0.6098685320646856 \n",
      "\n",
      "Train Epoch: 10, Loss: -33.778987595240274\n",
      "Val Epoch: 10, F1: 0.5048361501964664, Precision: 0.5951029302026458, Recall: 0.6081111111111112\n",
      "Val Epoch: 10, F1: 0.5070665586104081, Precision: 0.5960190136532046, Recall: 0.6102613657943485 \n",
      "\n"
     ]
    }
   ],
   "source": [
    "model, y_pred, y_proba = train_model(10, 64, 0.0001, SentimentClassifierTiny128(), nn.CrossEntropyLoss(), False, df=data_ru2, embed_name='tiny2', target_name='sentiment_int')"
   ]
  },
  {
   "cell_type": "code",
   "execution_count": null,
   "metadata": {
    "colab": {
     "base_uri": "https://localhost:8080/"
    },
    "executionInfo": {
     "elapsed": 391,
     "status": "ok",
     "timestamp": 1681514695927,
     "user": {
      "displayName": "Илья Смирнов",
      "userId": "04327038012459884483"
     },
     "user_tz": -180
    },
    "id": "b2HruBLnCTHi",
    "outputId": "b08fa9f2-0612-4502-c82b-b6d3aa629e92"
   },
   "outputs": [
    {
     "name": "stdout",
     "output_type": "stream",
     "text": [
      "Accuracy:  0.8247191011235955\n",
      "F1: 0.8546226806077709, Precision: 0.9062401858916808, Recall: 0.8247191011235955\n",
      "F1: 0.6464260611802096, Precision: 0.6224545228782516, Recall: 0.7550594853226432 \n",
      "\n"
     ]
    }
   ],
   "source": [
    "y_pred_yand_07 = metric(yandex, 'tiny2', 'Siuu', 0, 64)"
   ]
  },
  {
   "cell_type": "code",
   "execution_count": null,
   "metadata": {
    "colab": {
     "base_uri": "https://localhost:8080/"
    },
    "executionInfo": {
     "elapsed": 204956,
     "status": "ok",
     "timestamp": 1681514900878,
     "user": {
      "displayName": "Илья Смирнов",
      "userId": "04327038012459884483"
     },
     "user_tz": -180
    },
    "id": "EXmrxnwjBFMK",
    "outputId": "a5d1dfa0-7383-4282-b994-077279e356f1"
   },
   "outputs": [
    {
     "name": "stdout",
     "output_type": "stream",
     "text": [
      "Train Epoch: 1, Loss: -15.897683499336242\n",
      "Val Epoch: 1, F1: 0.5021661494834121, Precision: 0.6151844440634486, Recall: 0.6058888888888889\n",
      "Val Epoch: 1, F1: 0.4981318723238998, Precision: 0.6150310015504467, Recall: 0.6008339750431668 \n",
      "\n",
      "Train Epoch: 2, Loss: -16.401563569492765\n",
      "Val Epoch: 2, F1: 0.47904100708082753, Precision: 0.5811971905214339, Recall: 0.5888888888888889\n",
      "Val Epoch: 2, F1: 0.47506532399790485, Precision: 0.5810300425830687, Recall: 0.5838224094373813 \n",
      "\n",
      "Train Epoch: 3, Loss: -16.374713335990904\n",
      "Val Epoch: 3, F1: 0.4936072631170198, Precision: 0.5911616952485709, Recall: 0.6015555555555555\n",
      "Val Epoch: 3, F1: 0.48938128240276974, Precision: 0.5903473370422282, Recall: 0.5964280545314967 \n",
      "\n",
      "Train Epoch: 4, Loss: -16.445261312802632\n",
      "Val Epoch: 4, F1: 0.48536465890667263, Precision: 0.598800791318754, Recall: 0.6004444444444444\n",
      "Val Epoch: 4, F1: 0.4812201770126389, Precision: 0.5987625519397268, Recall: 0.5952534085949237 \n",
      "\n",
      "Train Epoch: 5, Loss: -16.30988552040524\n",
      "Val Epoch: 5, F1: 0.490959488512035, Precision: 0.6266320571612545, Recall: 0.5982777777777778\n",
      "Val Epoch: 5, F1: 0.4867089348505728, Precision: 0.6263562293461983, Recall: 0.5931639682949646 \n",
      "\n",
      "Train Epoch: 6, Loss: -16.345979038132562\n",
      "Val Epoch: 6, F1: 0.49074374546624766, Precision: 0.5756210400799727, Recall: 0.6052777777777778\n",
      "Val Epoch: 6, F1: 0.48651644727756915, Precision: 0.5749191454181345, Recall: 0.6000604288452093 \n",
      "\n",
      "Train Epoch: 7, Loss: -16.264747920036317\n",
      "Val Epoch: 7, F1: 0.4848458892323585, Precision: 0.5967613131360032, Recall: 0.5999444444444444\n",
      "Val Epoch: 7, F1: 0.48065295357946525, Precision: 0.5966093556596904, Recall: 0.5947515182911324 \n",
      "\n"
     ]
    }
   ],
   "source": [
    "model, y_pred, y_proba = train_model(7, 32, 0.001, SentimentClassifierTiny128(), nn.CrossEntropyLoss(), False, df=data_ru2, embed_name='tiny2', target_name='sentiment_int')"
   ]
  },
  {
   "cell_type": "code",
   "execution_count": null,
   "metadata": {
    "colab": {
     "base_uri": "https://localhost:8080/"
    },
    "executionInfo": {
     "elapsed": 427,
     "status": "ok",
     "timestamp": 1681514901269,
     "user": {
      "displayName": "Илья Смирнов",
      "userId": "04327038012459884483"
     },
     "user_tz": -180
    },
    "id": "08VelfH5Dqno",
    "outputId": "f4130c54-c717-4931-d01d-0832be9f8d67"
   },
   "outputs": [
    {
     "name": "stdout",
     "output_type": "stream",
     "text": [
      "Accuracy:  0.8588014981273409\n",
      "F1: 0.8780599244248471, Precision: 0.9092311581984053, Recall: 0.8588014981273409\n",
      "F1: 0.6778807891071038, Precision: 0.6471389812093523, Recall: 0.7597741281951809 \n",
      "\n"
     ]
    }
   ],
   "source": [
    "y_pred_yand_08 = metric(yandex, 'tiny2', 'Siuu', 0, 32)"
   ]
  },
  {
   "cell_type": "code",
   "execution_count": null,
   "metadata": {
    "colab": {
     "base_uri": "https://localhost:8080/"
    },
    "executionInfo": {
     "elapsed": 196604,
     "status": "ok",
     "timestamp": 1681515097869,
     "user": {
      "displayName": "Илья Смирнов",
      "userId": "04327038012459884483"
     },
     "user_tz": -180
    },
    "id": "3KpLr9nxB1Wf",
    "outputId": "03d87493-121c-4742-c68e-bc8c9a2174be"
   },
   "outputs": [
    {
     "name": "stdout",
     "output_type": "stream",
     "text": [
      "Train Epoch: 1, Loss: -7.805816029787064\n",
      "Val Epoch: 1, F1: 0.4937444793059098, Precision: 0.595324383551464, Recall: 0.6037777777777777\n",
      "Val Epoch: 1, F1: 0.49146132069078785, Precision: 0.5951080580245859, Recall: 0.6009516092357851 \n",
      "\n",
      "Train Epoch: 2, Loss: -7.977504091819127\n",
      "Val Epoch: 2, F1: 0.4875741891228486, Precision: 0.5566830110632782, Recall: 0.5968333333333333\n",
      "Val Epoch: 2, F1: 0.48517006209150343, Precision: 0.5557937120158581, Recall: 0.5941516460429669 \n",
      "\n",
      "Train Epoch: 3, Loss: -8.012860402001275\n",
      "Val Epoch: 3, F1: 0.48204315196052294, Precision: 0.5952632120427584, Recall: 0.5925\n",
      "Val Epoch: 3, F1: 0.47983146575108515, Precision: 0.5952821018595995, Recall: 0.5896095892301885 \n",
      "\n",
      "Train Epoch: 4, Loss: -7.998285965813531\n",
      "Val Epoch: 4, F1: 0.4831469249604908, Precision: 0.6094382977615164, Recall: 0.5969444444444445\n",
      "Val Epoch: 4, F1: 0.4808554342373122, Precision: 0.6094921851595175, Recall: 0.5940579502155153 \n",
      "\n",
      "Train Epoch: 5, Loss: -8.010353307724\n",
      "Val Epoch: 5, F1: 0.48902093457192697, Precision: 0.5940312387417358, Recall: 0.6031666666666666\n",
      "Val Epoch: 5, F1: 0.48662811017833074, Precision: 0.5936748231969253, Recall: 0.6003512162511603 \n",
      "\n"
     ]
    }
   ],
   "source": [
    "model, y_pred, y_proba = train_model(5, 16, 0.001, SentimentClassifierTiny128(), nn.CrossEntropyLoss(), False, df=data_ru2, embed_name='tiny2', target_name='sentiment_int')"
   ]
  },
  {
   "cell_type": "code",
   "execution_count": null,
   "metadata": {
    "colab": {
     "base_uri": "https://localhost:8080/"
    },
    "executionInfo": {
     "elapsed": 1182,
     "status": "ok",
     "timestamp": 1681515099040,
     "user": {
      "displayName": "Илья Смирнов",
      "userId": "04327038012459884483"
     },
     "user_tz": -180
    },
    "id": "hjjRIh58CWx1",
    "outputId": "123d5771-737a-48c8-c598-fbda1bb5c962"
   },
   "outputs": [
    {
     "name": "stdout",
     "output_type": "stream",
     "text": [
      "Accuracy:  0.7902621722846442\n",
      "F1: 0.8316416982263317, Precision: 0.9106479734396328, Recall: 0.7902621722846442\n",
      "F1: 0.6271455588627242, Precision: 0.6131768085321052, Recall: 0.7739988792620371 \n",
      "\n"
     ]
    }
   ],
   "source": [
    "y_pred_yand_09 = metric(yandex, 'tiny2', 'Siuu', 0, 16)"
   ]
  },
  {
   "cell_type": "code",
   "execution_count": null,
   "metadata": {
    "colab": {
     "base_uri": "https://localhost:8080/"
    },
    "executionInfo": {
     "elapsed": 147445,
     "status": "ok",
     "timestamp": 1681515246483,
     "user": {
      "displayName": "Илья Смирнов",
      "userId": "04327038012459884483"
     },
     "user_tz": -180
    },
    "id": "FP39VP4YB1aA",
    "outputId": "d098a4c6-bfe9-45ec-f39f-19041e9386ca"
   },
   "outputs": [
    {
     "name": "stdout",
     "output_type": "stream",
     "text": [
      "Train Epoch: 1, Loss: 0.38310057906761474\n",
      "Val Epoch: 1, F1: 0.6663604787238777, Precision: 0.6916376004968301, Recall: 0.6580555555555555\n",
      "Val Epoch: 1, F1: 0.6662310220653582, Precision: 0.6913977991732986, Recall: 0.6580337704464979 \n",
      "\n",
      "Train Epoch: 2, Loss: 0.2941274436233734\n",
      "Val Epoch: 2, F1: 0.6744253772195635, Precision: 0.6958510625841892, Recall: 0.6673333333333333\n",
      "Val Epoch: 2, F1: 0.6742911722663862, Precision: 0.6956332721863537, Recall: 0.6672876276830483 \n",
      "\n",
      "Train Epoch: 3, Loss: 0.28706408184862053\n",
      "Val Epoch: 3, F1: 0.6786006673453007, Precision: 0.7013758015695114, Recall: 0.6712777777777778\n",
      "Val Epoch: 3, F1: 0.6784699284837036, Precision: 0.701154836913032, Recall: 0.6712413717624791 \n",
      "\n",
      "Train Epoch: 4, Loss: 0.2821189224667066\n",
      "Val Epoch: 4, F1: 0.6844561948268196, Precision: 0.7037755140278362, Recall: 0.6781111111111111\n",
      "Val Epoch: 4, F1: 0.6843179367938689, Precision: 0.703564578956852, Recall: 0.6780523609257739 \n",
      "\n",
      "Train Epoch: 5, Loss: 0.2779455920730984\n",
      "Val Epoch: 5, F1: 0.6883315172016801, Precision: 0.7101072867236784, Recall: 0.6807222222222222\n",
      "Val Epoch: 5, F1: 0.688206058628003, Precision: 0.7098746605112023, Recall: 0.6806998216443264 \n",
      "\n",
      "Train Epoch: 6, Loss: 0.2734006819568349\n",
      "Val Epoch: 6, F1: 0.6915378082816246, Precision: 0.7179012798464627, Recall: 0.6838333333333333\n",
      "Val Epoch: 6, F1: 0.691418645411242, Precision: 0.7176714596939542, Recall: 0.6838252523402502 \n",
      "\n",
      "Train Epoch: 7, Loss: 0.2704283417224037\n",
      "Val Epoch: 7, F1: 0.6982321087351053, Precision: 0.7209157819147356, Recall: 0.6917222222222222\n",
      "Val Epoch: 7, F1: 0.6981035107681252, Precision: 0.7207039301311067, Recall: 0.6916847432727296 \n",
      "\n",
      "Train Epoch: 8, Loss: 0.26785614959511833\n",
      "Val Epoch: 8, F1: 0.6973003465913654, Precision: 0.7251796971258904, Recall: 0.6908888888888889\n",
      "Val Epoch: 8, F1: 0.6971730490464753, Precision: 0.724966553441356, Recall: 0.6908603682210934 \n",
      "\n",
      "Train Epoch: 9, Loss: 0.2657954610129868\n",
      "Val Epoch: 9, F1: 0.6989897652831638, Precision: 0.7256301169527125, Recall: 0.6916111111111111\n",
      "Val Epoch: 9, F1: 0.6988690715028838, Precision: 0.7254048092425155, Recall: 0.6915990309817787 \n",
      "\n",
      "Train Epoch: 10, Loss: 0.2642054145967135\n",
      "Val Epoch: 10, F1: 0.7024178931982183, Precision: 0.7235810168787374, Recall: 0.6961666666666667\n",
      "Val Epoch: 10, F1: 0.7022874624944396, Precision: 0.7233722632138339, Recall: 0.6961225007260744 \n",
      "\n",
      "Train Epoch: 11, Loss: 0.2628631413935768\n",
      "Val Epoch: 11, F1: 0.7016480240437951, Precision: 0.7264505892110258, Recall: 0.6943888888888889\n",
      "Val Epoch: 11, F1: 0.701525079977158, Precision: 0.7262241276249535, Recall: 0.6943720002623947 \n",
      "\n",
      "Train Epoch: 12, Loss: 0.26200451438528605\n",
      "Val Epoch: 12, F1: 0.7015815416194, Precision: 0.7314396244001997, Recall: 0.6942777777777778\n",
      "Val Epoch: 12, F1: 0.7014621904366338, Precision: 0.7312128676926418, Recall: 0.6942726593568663 \n",
      "\n",
      "Train Epoch: 13, Loss: 0.26115045737521475\n",
      "Val Epoch: 13, F1: 0.7013829678636732, Precision: 0.730193638158746, Recall: 0.6936111111111111\n",
      "Val Epoch: 13, F1: 0.7012655772723848, Precision: 0.7299584086180207, Recall: 0.6936121888669101 \n",
      "\n",
      "Train Epoch: 14, Loss: 0.2601068322654304\n",
      "Val Epoch: 14, F1: 0.702190300783369, Precision: 0.7357775096560539, Recall: 0.6946111111111111\n",
      "Val Epoch: 14, F1: 0.7020742623019732, Precision: 0.7355434338407258, Recall: 0.6946194328586524 \n",
      "\n",
      "Train Epoch: 15, Loss: 0.2593415478777081\n",
      "Val Epoch: 15, F1: 0.7004562163839304, Precision: 0.7289686856850505, Recall: 0.6925555555555556\n",
      "Val Epoch: 15, F1: 0.7003427558253241, Precision: 0.7287301781695948, Recall: 0.692563741449813 \n",
      "\n"
     ]
    }
   ],
   "source": [
    "model, y_pred, y_proba = train_model(15, 128, 0.0001, SentimentClassifierTiny128(), nn.MSELoss(), False, df=data_ru2, embed_name='tiny2', target_name='sentiment_int')"
   ]
  },
  {
   "cell_type": "code",
   "execution_count": null,
   "metadata": {
    "colab": {
     "base_uri": "https://localhost:8080/"
    },
    "executionInfo": {
     "elapsed": 535,
     "status": "ok",
     "timestamp": 1681515246991,
     "user": {
      "displayName": "Илья Смирнов",
      "userId": "04327038012459884483"
     },
     "user_tz": -180
    },
    "id": "ZkvpibImCVWY",
    "outputId": "0569979a-31ed-4c57-c48c-d3edd59e0919"
   },
   "outputs": [
    {
     "name": "stdout",
     "output_type": "stream",
     "text": [
      "Accuracy:  0.8078651685393259\n",
      "F1: 0.8442230625839401, Precision: 0.9128629708226494, Recall: 0.8078651685393259\n",
      "F1: 0.6434839667864936, Precision: 0.62300619494325, Recall: 0.7836221388852969 \n",
      "\n"
     ]
    }
   ],
   "source": [
    "y_pred_yand_10 = metric(yandex, 'tiny2', 'Siuu', 0, 128)"
   ]
  },
  {
   "cell_type": "code",
   "execution_count": null,
   "metadata": {
    "colab": {
     "base_uri": "https://localhost:8080/"
    },
    "executionInfo": {
     "elapsed": 114903,
     "status": "ok",
     "timestamp": 1681515361889,
     "user": {
      "displayName": "Илья Смирнов",
      "userId": "04327038012459884483"
     },
     "user_tz": -180
    },
    "id": "21mBG1pfB3gF",
    "outputId": "1f8a453f-9758-4c40-d2f4-916cf322cd04"
   },
   "outputs": [
    {
     "name": "stdout",
     "output_type": "stream",
     "text": [
      "Train Epoch: 1, Loss: 0.34595722949504853\n",
      "Val Epoch: 1, F1: 0.6648575275212423, Precision: 0.6900271622826563, Recall: 0.6580555555555555\n",
      "Val Epoch: 1, F1: 0.6652289108113161, Precision: 0.6906538518309452, Recall: 0.6581404462225368 \n",
      "\n",
      "Train Epoch: 2, Loss: 0.28730713154209986\n",
      "Val Epoch: 2, F1: 0.6686292649802654, Precision: 0.6925976338488307, Recall: 0.6604444444444444\n",
      "Val Epoch: 2, F1: 0.6689774783063321, Precision: 0.6932958800523377, Recall: 0.6604760381753801 \n",
      "\n",
      "Train Epoch: 3, Loss: 0.27876037539376153\n",
      "Val Epoch: 3, F1: 0.6827539946736189, Precision: 0.7065876218494601, Recall: 0.6768333333333333\n",
      "Val Epoch: 3, F1: 0.683117670155629, Precision: 0.7071862725673969, Recall: 0.6769263214446323 \n",
      "\n",
      "Train Epoch: 4, Loss: 0.2726854276392195\n",
      "Val Epoch: 4, F1: 0.6881342918451436, Precision: 0.714644608714295, Recall: 0.6823333333333333\n",
      "Val Epoch: 4, F1: 0.6884837311761222, Precision: 0.7152435645197169, Recall: 0.6823919846966423 \n",
      "\n",
      "Train Epoch: 5, Loss: 0.26878042475382485\n",
      "Val Epoch: 5, F1: 0.6926588300945973, Precision: 0.7178701821171881, Recall: 0.6862222222222222\n",
      "Val Epoch: 5, F1: 0.69299674259802, Precision: 0.718482819658262, Recall: 0.6862555899298687 \n",
      "\n",
      "Train Epoch: 6, Loss: 0.26594586657153235\n",
      "Val Epoch: 6, F1: 0.6955986962039696, Precision: 0.7156256879623027, Recall: 0.6889444444444445\n",
      "Val Epoch: 6, F1: 0.6959455692724158, Precision: 0.7162412968066594, Recall: 0.6890110095277263 \n",
      "\n",
      "Train Epoch: 7, Loss: 0.2638172673251894\n",
      "Val Epoch: 7, F1: 0.6997553991422658, Precision: 0.7206987931264175, Recall: 0.6933333333333334\n",
      "Val Epoch: 7, F1: 0.7000944180880486, Precision: 0.721302773235372, Recall: 0.6933892630292702 \n",
      "\n",
      "Train Epoch: 8, Loss: 0.2621597532497512\n",
      "Val Epoch: 8, F1: 0.6990385769765299, Precision: 0.7236970454713642, Recall: 0.6927777777777778\n",
      "Val Epoch: 8, F1: 0.6993714251330613, Precision: 0.7242984113947828, Recall: 0.692811347127677 \n",
      "\n",
      "Train Epoch: 9, Loss: 0.260628098766009\n",
      "Val Epoch: 9, F1: 0.6974110010660053, Precision: 0.7297538278172057, Recall: 0.6895\n",
      "Val Epoch: 9, F1: 0.6976997139059656, Precision: 0.7304330998715151, Recall: 0.6893969297384679 \n",
      "\n",
      "Train Epoch: 10, Loss: 0.26009307301044465\n",
      "Val Epoch: 10, F1: 0.7024979891076338, Precision: 0.7253459266579361, Recall: 0.6957777777777778\n",
      "Val Epoch: 10, F1: 0.7028277303306987, Precision: 0.7259634903743493, Recall: 0.6958030261293079 \n",
      "\n"
     ]
    }
   ],
   "source": [
    "model, y_pred, y_proba = train_model(10, 64, 0.0001, SentimentClassifierTiny128(), nn.MSELoss(), False, df=data_ru2, embed_name='tiny2', target_name='sentiment_int')"
   ]
  },
  {
   "cell_type": "code",
   "execution_count": null,
   "metadata": {
    "colab": {
     "base_uri": "https://localhost:8080/"
    },
    "executionInfo": {
     "elapsed": 33,
     "status": "ok",
     "timestamp": 1681515361890,
     "user": {
      "displayName": "Илья Смирнов",
      "userId": "04327038012459884483"
     },
     "user_tz": -180
    },
    "id": "1_rhREKGCXrL",
    "outputId": "cf33ea72-1469-4355-99e7-8d3d135126f8"
   },
   "outputs": [
    {
     "name": "stdout",
     "output_type": "stream",
     "text": [
      "Accuracy:  0.8535580524344569\n",
      "F1: 0.8754855232859361, Precision: 0.9131020470598161, Recall: 0.8535580524344569\n",
      "F1: 0.6805159631848333, Precision: 0.6483823601109304, Recall: 0.7787781800939696 \n",
      "\n"
     ]
    }
   ],
   "source": [
    "y_pred_yand_11 = metric(yandex, 'tiny2', 'Siuu', 0, 64)"
   ]
  },
  {
   "cell_type": "code",
   "execution_count": null,
   "metadata": {
    "colab": {
     "base_uri": "https://localhost:8080/"
    },
    "executionInfo": {
     "elapsed": 116969,
     "status": "ok",
     "timestamp": 1681515478831,
     "user": {
      "displayName": "Илья Смирнов",
      "userId": "04327038012459884483"
     },
     "user_tz": -180
    },
    "id": "0s2WqyxVB35R",
    "outputId": "5a08ddba-2799-49d1-e80c-e323b13906ef"
   },
   "outputs": [
    {
     "name": "stdout",
     "output_type": "stream",
     "text": [
      "Train Epoch: 1, Loss: 0.28500119512610966\n",
      "Val Epoch: 1, F1: 0.6884955979570901, Precision: 0.743331284847096, Recall: 0.6822777777777778\n",
      "Val Epoch: 1, F1: 0.6882347519627322, Precision: 0.7426762316074095, Recall: 0.6824736482689756 \n",
      "\n",
      "Train Epoch: 2, Loss: 0.2662058477335506\n",
      "Val Epoch: 2, F1: 0.7070018184290702, Precision: 0.7272063520160574, Recall: 0.6998333333333333\n",
      "Val Epoch: 2, F1: 0.7066890151707662, Precision: 0.7266059497733885, Recall: 0.6997952262900825 \n",
      "\n",
      "Train Epoch: 3, Loss: 0.26064050036999914\n",
      "Val Epoch: 3, F1: 0.7099366629966286, Precision: 0.7343050411329071, Recall: 0.7040555555555555\n",
      "Val Epoch: 3, F1: 0.7096229176869105, Precision: 0.7337459403705789, Recall: 0.704019399580068 \n",
      "\n",
      "Train Epoch: 4, Loss: 0.2560513831178347\n",
      "Val Epoch: 4, F1: 0.6996574165205013, Precision: 0.7460005357729198, Recall: 0.6957222222222222\n",
      "Val Epoch: 4, F1: 0.6993631664825152, Precision: 0.7454192185020373, Recall: 0.6957921355329432 \n",
      "\n",
      "Train Epoch: 5, Loss: 0.2532705886446767\n",
      "Val Epoch: 5, F1: 0.7072074665785769, Precision: 0.7504937029053389, Recall: 0.7006111111111111\n",
      "Val Epoch: 5, F1: 0.7069348631405991, Precision: 0.7498696444453073, Recall: 0.700741198320885 \n",
      "\n",
      "Train Epoch: 6, Loss: 0.24963270247975985\n",
      "Val Epoch: 6, F1: 0.7107598594331385, Precision: 0.7511071383655579, Recall: 0.7055\n",
      "Val Epoch: 6, F1: 0.7104696108980159, Precision: 0.7505207327641242, Recall: 0.7055681131665206 \n",
      "\n",
      "Train Epoch: 7, Loss: 0.24647115889522764\n",
      "Val Epoch: 7, F1: 0.7160620549836963, Precision: 0.7345278488130538, Recall: 0.7095555555555556\n",
      "Val Epoch: 7, F1: 0.7157386926812652, Precision: 0.7339543996804331, Recall: 0.7094895169797065 \n",
      "\n"
     ]
    }
   ],
   "source": [
    "model, y_pred, y_proba = train_model(7, 32, 0.001, SentimentClassifierTiny128(), nn.MSELoss(), False, df=data_ru2, embed_name='tiny2', target_name='sentiment_int')"
   ]
  },
  {
   "cell_type": "code",
   "execution_count": null,
   "metadata": {
    "colab": {
     "base_uri": "https://localhost:8080/"
    },
    "executionInfo": {
     "elapsed": 20,
     "status": "ok",
     "timestamp": 1681515478833,
     "user": {
      "displayName": "Илья Смирнов",
      "userId": "04327038012459884483"
     },
     "user_tz": -180
    },
    "id": "cyE1WWu0CYRr",
    "outputId": "24a4d595-bf6f-466e-e313-c5c6f84c6d48"
   },
   "outputs": [
    {
     "name": "stdout",
     "output_type": "stream",
     "text": [
      "Accuracy:  0.8\n",
      "F1: 0.8385366033289143, Precision: 0.9113583910319815, Recall: 0.8\n",
      "F1: 0.6353936514950655, Precision: 0.6178494889548302, Recall: 0.7773341523341524 \n",
      "\n"
     ]
    }
   ],
   "source": [
    "y_pred_yand_12 = metric(yandex, 'tiny2', 'Siuu', 0, 32)"
   ]
  },
  {
   "cell_type": "code",
   "execution_count": null,
   "metadata": {
    "colab": {
     "base_uri": "https://localhost:8080/"
    },
    "executionInfo": {
     "elapsed": 139594,
     "status": "ok",
     "timestamp": 1681515618414,
     "user": {
      "displayName": "Илья Смирнов",
      "userId": "04327038012459884483"
     },
     "user_tz": -180
    },
    "id": "qp6qSWJeCQO9",
    "outputId": "2e40e35d-96cc-489b-dac1-fa95740ba00b"
   },
   "outputs": [
    {
     "name": "stdout",
     "output_type": "stream",
     "text": [
      "Train Epoch: 1, Loss: 0.2849881445392966\n",
      "Val Epoch: 1, F1: 0.702950144426494, Precision: 0.7376675077971963, Recall: 0.6967777777777778\n",
      "Val Epoch: 1, F1: 0.7032466827798493, Precision: 0.7377028354979361, Recall: 0.6973160915752311 \n",
      "\n",
      "Train Epoch: 2, Loss: 0.26863214251688783\n",
      "Val Epoch: 2, F1: 0.7016948936438717, Precision: 0.7471769456188239, Recall: 0.6954444444444444\n",
      "Val Epoch: 2, F1: 0.7020235051579683, Precision: 0.7472014474463192, Recall: 0.6960484265969048 \n",
      "\n",
      "Train Epoch: 3, Loss: 0.26229855637293725\n",
      "Val Epoch: 3, F1: 0.6955561105587891, Precision: 0.7621616762187633, Recall: 0.6896666666666667\n",
      "Val Epoch: 3, F1: 0.6959023079625709, Precision: 0.7621247632198909, Recall: 0.6903431976744696 \n",
      "\n",
      "Train Epoch: 4, Loss: 0.25783026858170827\n",
      "Val Epoch: 4, F1: 0.7018042260703329, Precision: 0.7408424838279543, Recall: 0.7008333333333333\n",
      "Val Epoch: 4, F1: 0.7022643085673845, Precision: 0.7406172543193884, Recall: 0.701778391410013 \n",
      "\n",
      "Train Epoch: 5, Loss: 0.2546433749463823\n",
      "Val Epoch: 5, F1: 0.7048418174335052, Precision: 0.7523709392072423, Recall: 0.6971666666666667\n",
      "Val Epoch: 5, F1: 0.7050889653038483, Precision: 0.7524769686666378, Recall: 0.6976022894767344 \n",
      "\n"
     ]
    }
   ],
   "source": [
    "model, y_pred, y_proba = train_model(5, 16, 0.001, SentimentClassifierTiny128(), nn.MSELoss(), False, df=data_ru2, embed_name='tiny2', target_name='sentiment_int')"
   ]
  },
  {
   "cell_type": "code",
   "execution_count": null,
   "metadata": {
    "colab": {
     "base_uri": "https://localhost:8080/"
    },
    "executionInfo": {
     "elapsed": 430,
     "status": "ok",
     "timestamp": 1681515618800,
     "user": {
      "displayName": "Илья Смирнов",
      "userId": "04327038012459884483"
     },
     "user_tz": -180
    },
    "id": "ftA4DjD5DvCu",
    "outputId": "acee0f20-45f3-45da-abad-e68e26463ba9"
   },
   "outputs": [
    {
     "name": "stdout",
     "output_type": "stream",
     "text": [
      "Accuracy:  0.8456928838951311\n",
      "F1: 0.8692689136454069, Precision: 0.9088926413208561, Recall: 0.8456928838951311\n",
      "F1: 0.6669536816023427, Precision: 0.6377215891104779, Recall: 0.7625490322858743 \n",
      "\n"
     ]
    }
   ],
   "source": [
    "y_pred_yand_13 = metric(yandex, 'tiny2', 'Siuu', 0, 16)"
   ]
  },
  {
   "cell_type": "code",
   "execution_count": null,
   "metadata": {
    "id": "uzcQXHWLvwtT"
   },
   "outputs": [],
   "source": [
    "yandex['model_2'] = y_pred_yand_02\n",
    "yandex['model_3'] = y_pred_yand_03\n",
    "yandex['model_4'] = y_pred_yand_04\n",
    "yandex['model_5'] = y_pred_yand_05\n",
    "yandex['model_6'] = y_pred_yand_06\n",
    "yandex['model_7'] = y_pred_yand_07\n",
    "yandex['model_8'] = y_pred_yand_08\n",
    "yandex['model_9'] = y_pred_yand_09\n",
    "yandex['model_10'] = y_pred_yand_10\n",
    "yandex['model_11'] = y_pred_yand_11\n",
    "yandex['model_12'] = y_pred_yand_12\n",
    "yandex['model_13'] = y_pred_yand_13"
   ]
  },
  {
   "cell_type": "code",
   "execution_count": null,
   "metadata": {
    "id": "dkLgMofjG5t4"
   },
   "outputs": [],
   "source": [
    "yandex.to_csv('YandexAttReviews_13Models.csv')"
   ]
  },
  {
   "cell_type": "markdown",
   "metadata": {
    "id": "zTzuhu8HyDTE"
   },
   "source": [
    "# **Обучение на USE-M 256 нейронов**"
   ]
  },
  {
   "cell_type": "code",
   "execution_count": 26,
   "metadata": {
    "colab": {
     "base_uri": "https://localhost:8080/"
    },
    "executionInfo": {
     "elapsed": 234576,
     "status": "ok",
     "timestamp": 1682196841199,
     "user": {
      "displayName": "Илья Смирнов",
      "userId": "04327038012459884483"
     },
     "user_tz": -180
    },
    "id": "zIIpO-sJJGVu",
    "outputId": "398fa8c4-492f-4311-f131-8875c3754ea1"
   },
   "outputs": [
    {
     "name": "stderr",
     "output_type": "stream",
     "text": [
      "<ipython-input-21-1d427e776e47>:18: UserWarning: Creating a tensor from a list of numpy.ndarrays is extremely slow. Please consider converting the list to a single numpy.ndarray with numpy.array() before converting to a tensor. (Triggered internally at ../torch/csrc/utils/tensor_new.cpp:245.)\n",
      "  inputs = torch.tensor(df[f'{embed_name}'].to_list())\n"
     ]
    },
    {
     "name": "stdout",
     "output_type": "stream",
     "text": [
      "Train Epoch: 1, Loss: -66.96044995983794\n",
      "Val Epoch: 1, F1: 0.5085050143438966, Precision: 0.6036490546301294, Recall: 0.6147777777777778\n",
      "Val Epoch: 1, F1: 0.508024132675914, Precision: 0.6037180304177691, Recall: 0.6140784197856727 \n",
      "\n",
      "Train Epoch: 2, Loss: -70.30698604143322\n",
      "Val Epoch: 2, F1: 0.5037607549094973, Precision: 0.600803632186324, Recall: 0.6135\n",
      "Val Epoch: 2, F1: 0.5032889851687791, Precision: 0.600915787989729, Recall: 0.6127296980461905 \n",
      "\n",
      "Train Epoch: 3, Loss: -70.0878112709967\n",
      "Val Epoch: 3, F1: 0.5036142489952798, Precision: 0.6125719627868647, Recall: 0.6118333333333333\n",
      "Val Epoch: 3, F1: 0.5031591778244441, Precision: 0.6127432831914837, Recall: 0.6110244361109242 \n",
      "\n",
      "Train Epoch: 4, Loss: -70.41229782646545\n",
      "Val Epoch: 4, F1: 0.501032538686713, Precision: 0.6135476962448945, Recall: 0.6145\n",
      "Val Epoch: 4, F1: 0.5005460296922566, Precision: 0.6136826680892428, Recall: 0.6137317113727686 \n",
      "\n",
      "Train Epoch: 5, Loss: -70.46026204110886\n",
      "Val Epoch: 5, F1: 0.4961985430880357, Precision: 0.5950612159600267, Recall: 0.6107777777777778\n",
      "Val Epoch: 5, F1: 0.49569077193875444, Precision: 0.5951237659952379, Recall: 0.6100431709241212 \n",
      "\n",
      "Train Epoch: 6, Loss: -70.74841413447108\n",
      "Val Epoch: 6, F1: 0.4965863208963587, Precision: 0.5843537804999237, Recall: 0.6111666666666666\n",
      "Val Epoch: 6, F1: 0.4960948934914064, Precision: 0.5844238330943717, Recall: 0.6103883244801093 \n",
      "\n",
      "Train Epoch: 7, Loss: -70.44671327987318\n",
      "Val Epoch: 7, F1: 0.4980662677910039, Precision: 0.6091722726236856, Recall: 0.6118888888888889\n",
      "Val Epoch: 7, F1: 0.4975859163512057, Precision: 0.6093181262630073, Recall: 0.6110961903224547 \n",
      "\n",
      "Train Epoch: 8, Loss: -70.45598626179128\n",
      "Val Epoch: 8, F1: 0.4793703250295083, Precision: 0.5615777142407647, Recall: 0.5958888888888889\n",
      "Val Epoch: 8, F1: 0.4788138978782128, Precision: 0.5614788262097354, Recall: 0.5952698855529072 \n",
      "\n",
      "Train Epoch: 9, Loss: -69.96895319106947\n",
      "Val Epoch: 9, F1: 0.4878611271634883, Precision: 0.6073868954183862, Recall: 0.6058333333333333\n",
      "Val Epoch: 9, F1: 0.4873090294278257, Precision: 0.6074155069430168, Recall: 0.6051651162457781 \n",
      "\n",
      "Train Epoch: 10, Loss: -70.54885876623395\n",
      "Val Epoch: 10, F1: 0.4947286860396141, Precision: 0.6034882832650456, Recall: 0.6082777777777778\n",
      "Val Epoch: 10, F1: 0.4942565155715364, Precision: 0.6036476290335603, Recall: 0.607443684375322 \n",
      "\n"
     ]
    }
   ],
   "source": [
    "model, y_pred, y_proba = train_model_2(10, 128, 0.001, SentimentClassifier256(), nn.CrossEntropyLoss(), False, 0.5, df=data_ru, embed_name='USE_M', target_name='sentiment_int')"
   ]
  },
  {
   "cell_type": "code",
   "execution_count": 36,
   "metadata": {
    "colab": {
     "base_uri": "https://localhost:8080/",
     "height": 656
    },
    "executionInfo": {
     "elapsed": 692,
     "status": "ok",
     "timestamp": 1682197055087,
     "user": {
      "displayName": "Илья Смирнов",
      "userId": "04327038012459884483"
     },
     "user_tz": -180
    },
    "id": "F2mxcuFqr6jJ",
    "outputId": "6aac8958-7d12-4d0c-cf5d-cf9c4464023e"
   },
   "outputs": [
    {
     "name": "stdout",
     "output_type": "stream",
     "text": [
      "Accuracy:  0.7636704119850187\n",
      "F1: 0.8123052747278962, Precision: 0.9056009071728491, Recall: 0.7636704119850187\n",
      "F1: 0.6015859281276404, Precision: 0.5981311260125198, Recall: 0.751508685719212 \n",
      "\n",
      "              precision    recall  f1-score   support\n",
      "\n",
      "          -1       0.23      0.74      0.35       228\n",
      "           1       0.97      0.77      0.86      2442\n",
      "\n",
      "    accuracy                           0.76      2670\n",
      "   macro avg       0.60      0.75      0.60      2670\n",
      "weighted avg       0.91      0.76      0.81      2670\n",
      "\n"
     ]
    },
    {
     "data": {
      "image/png": "[encoded data removed]",
      "text/plain": [
       "<Figure size 640x480 with 2 Axes>"
      ]
     },
     "metadata": {},
     "output_type": "display_data"
    }
   ],
   "source": [
    "y_pred_yand_14 = metric(yandex, 'USE_M', 'Siuu', 0, 128)"
   ]
  },
  {
   "cell_type": "code",
   "execution_count": 37,
   "metadata": {
    "colab": {
     "base_uri": "https://localhost:8080/"
    },
    "executionInfo": {
     "elapsed": 323615,
     "status": "ok",
     "timestamp": 1682197435408,
     "user": {
      "displayName": "Илья Смирнов",
      "userId": "04327038012459884483"
     },
     "user_tz": -180
    },
    "id": "h8YvI-VouQzk",
    "outputId": "b04dcf6c-0241-4c8f-f06e-71cbb27faee7"
   },
   "outputs": [
    {
     "name": "stdout",
     "output_type": "stream",
     "text": [
      "Train Epoch: 1, Loss: -33.741957063463\n",
      "Val Epoch: 1, F1: 0.500168596816697, Precision: 0.6071550137245407, Recall: 0.6092222222222222\n",
      "Val Epoch: 1, F1: 0.4991111013036112, Precision: 0.6071492216747195, Recall: 0.6078623927920714 \n",
      "\n",
      "Train Epoch: 2, Loss: -34.405927800284495\n",
      "Val Epoch: 2, F1: 0.4966859256579158, Precision: 0.590126090323787, Recall: 0.6114444444444445\n",
      "Val Epoch: 2, F1: 0.495566720444915, Precision: 0.589973746425222, Recall: 0.6100284049833667 \n",
      "\n",
      "Train Epoch: 3, Loss: -34.76925729921129\n",
      "Val Epoch: 3, F1: 0.4908278111044218, Precision: 0.6167111664911542, Recall: 0.6077222222222223\n",
      "Val Epoch: 3, F1: 0.48971970452672914, Precision: 0.616751283802099, Recall: 0.6063239767887189 \n",
      "\n",
      "Train Epoch: 4, Loss: -34.384632259580826\n",
      "Val Epoch: 4, F1: 0.4960464428213092, Precision: 0.6139273109894464, Recall: 0.6126111111111111\n",
      "Val Epoch: 4, F1: 0.49492747048602953, Precision: 0.6139101416199638, Recall: 0.6111961741169804 \n",
      "\n",
      "Train Epoch: 5, Loss: -34.50467876582675\n",
      "Val Epoch: 5, F1: 0.4974009877860428, Precision: 0.5990428524763014, Recall: 0.6129444444444444\n",
      "Val Epoch: 5, F1: 0.49627343595602413, Precision: 0.5989187345661683, Recall: 0.6115211074931078 \n",
      "\n",
      "Train Epoch: 6, Loss: -34.44450897831387\n",
      "Val Epoch: 6, F1: 0.49141614663644617, Precision: 0.607093163472114, Recall: 0.6097222222222223\n",
      "Val Epoch: 6, F1: 0.4902953119086642, Precision: 0.6070733908802758, Recall: 0.6083112808022416 \n",
      "\n",
      "Train Epoch: 7, Loss: -34.30374109946357\n",
      "Val Epoch: 7, F1: 0.4911701307240167, Precision: 0.5755819084661057, Recall: 0.6105\n",
      "Val Epoch: 7, F1: 0.4900447818593939, Precision: 0.5754156622744617, Recall: 0.6090870105903398 \n",
      "\n",
      "Train Epoch: 8, Loss: -34.70166157107883\n",
      "Val Epoch: 8, F1: 0.4960881307257024, Precision: 0.6162952720767425, Recall: 0.6142777777777778\n",
      "Val Epoch: 8, F1: 0.4949650786231712, Precision: 0.6162973202254728, Recall: 0.6128607224939454 \n",
      "\n",
      "Train Epoch: 9, Loss: -34.78368931028578\n",
      "Val Epoch: 9, F1: 0.4915194248170888, Precision: 0.6326535207958334, Recall: 0.6101666666666666\n",
      "Val Epoch: 9, F1: 0.4904016061434016, Precision: 0.6327614815678835, Recall: 0.6087604210140963 \n",
      "\n",
      "Train Epoch: 10, Loss: -34.56742869716221\n",
      "Val Epoch: 10, F1: 0.49352096393809247, Precision: 0.6538821660484356, Recall: 0.6118333333333333\n",
      "Val Epoch: 10, F1: 0.4923924365966792, Precision: 0.654056483382094, Recall: 0.6104122634534079 \n",
      "\n"
     ]
    }
   ],
   "source": [
    "model, y_pred, y_proba = train_model_2(10, 64, 0.001, SentimentClassifier256(), nn.CrossEntropyLoss(), False, 0.5, df=data_ru, embed_name='USE_M', target_name='sentiment_int')"
   ]
  },
  {
   "cell_type": "code",
   "execution_count": 38,
   "metadata": {
    "colab": {
     "base_uri": "https://localhost:8080/",
     "height": 656
    },
    "executionInfo": {
     "elapsed": 785,
     "status": "ok",
     "timestamp": 1682197436182,
     "user": {
      "displayName": "Илья Смирнов",
      "userId": "04327038012459884483"
     },
     "user_tz": -180
    },
    "id": "jYckOrfgu-M-",
    "outputId": "af555b5b-b324-44ce-f0c2-7a4f530ee882"
   },
   "outputs": [
    {
     "name": "stdout",
     "output_type": "stream",
     "text": [
      "Accuracy:  0.8651685393258427\n",
      "F1: 0.8821499816374104, Precision: 0.9088591375823561, Recall: 0.8651685393258427\n",
      "F1: 0.6821664003724592, Precision: 0.6515958808272473, Recall: 0.7553019526703737 \n",
      "\n",
      "              precision    recall  f1-score   support\n",
      "\n",
      "          -1       0.34      0.62      0.44       228\n",
      "           1       0.96      0.89      0.92      2442\n",
      "\n",
      "    accuracy                           0.87      2670\n",
      "   macro avg       0.65      0.76      0.68      2670\n",
      "weighted avg       0.91      0.87      0.88      2670\n",
      "\n"
     ]
    },
    {
     "data": {
      "image/png": "[encoded data removed]",
      "text/plain": [
       "<Figure size 640x480 with 2 Axes>"
      ]
     },
     "metadata": {},
     "output_type": "display_data"
    }
   ],
   "source": [
    "y_pred_yand_15 = metric(yandex, 'USE_M', 'Siuu', 0, 64)"
   ]
  },
  {
   "cell_type": "code",
   "execution_count": 39,
   "metadata": {
    "colab": {
     "base_uri": "https://localhost:8080/"
    },
    "executionInfo": {
     "elapsed": 369600,
     "status": "ok",
     "timestamp": 1682197805779,
     "user": {
      "displayName": "Илья Смирнов",
      "userId": "04327038012459884483"
     },
     "user_tz": -180
    },
    "id": "yJmyBtKVu-RL",
    "outputId": "1ea7ee89-b20e-4059-c6d7-8b096ca9570e"
   },
   "outputs": [
    {
     "name": "stdout",
     "output_type": "stream",
     "text": [
      "Train Epoch: 1, Loss: -16.65768831009335\n",
      "Val Epoch: 1, F1: 0.4989555615320735, Precision: 0.6148996702596476, Recall: 0.6120555555555556\n",
      "Val Epoch: 1, F1: 0.4966540615857104, Precision: 0.6146663099909603, Recall: 0.6093242801540195 \n",
      "\n",
      "Train Epoch: 2, Loss: -16.914113858858745\n",
      "Val Epoch: 2, F1: 0.49149843994985554, Precision: 0.6135367551488761, Recall: 0.6078333333333333\n",
      "Val Epoch: 2, F1: 0.4892393368298304, Precision: 0.6135013279230013, Recall: 0.6050324580044387 \n",
      "\n",
      "Train Epoch: 3, Loss: -17.050033139122856\n",
      "Val Epoch: 3, F1: 0.49398058386248883, Precision: 0.6474359199142062, Recall: 0.6078888888888889\n",
      "Val Epoch: 3, F1: 0.49162894192341766, Precision: 0.6474148885660141, Recall: 0.6051954395606084 \n",
      "\n",
      "Train Epoch: 4, Loss: -17.063907320128546\n",
      "Val Epoch: 4, F1: 0.490163089430799, Precision: 0.596236943127339, Recall: 0.6068333333333333\n",
      "Val Epoch: 4, F1: 0.487847958663662, Precision: 0.5959292531793123, Recall: 0.6040787203589321 \n",
      "\n",
      "Train Epoch: 5, Loss: -16.96366630850898\n",
      "Val Epoch: 5, F1: 0.48487306659470636, Precision: 0.6167643048937268, Recall: 0.602\n",
      "Val Epoch: 5, F1: 0.48262662422870767, Precision: 0.6168477088920727, Recall: 0.5991817405539942 \n",
      "\n",
      "Train Epoch: 6, Loss: -16.849697106255427\n",
      "Val Epoch: 6, F1: 0.4866706636167936, Precision: 0.5876350267052591, Recall: 0.6046666666666667\n",
      "Val Epoch: 6, F1: 0.4843818435176909, Precision: 0.587373582988234, Recall: 0.6018512707749165 \n",
      "\n",
      "Train Epoch: 7, Loss: -16.96882699192895\n",
      "Val Epoch: 7, F1: 0.4934941371096684, Precision: 0.66707548007416, Recall: 0.6087222222222223\n",
      "Val Epoch: 7, F1: 0.4911256979655881, Precision: 0.6672441680321236, Recall: 0.6060025888361752 \n",
      "\n"
     ]
    }
   ],
   "source": [
    "model, y_pred, y_proba = train_model_2(7, 32, 0.001, SentimentClassifier256(), nn.CrossEntropyLoss(), False, 0.5, df=data_ru, embed_name='USE_M', target_name='sentiment_int')"
   ]
  },
  {
   "cell_type": "code",
   "execution_count": 40,
   "metadata": {
    "colab": {
     "base_uri": "https://localhost:8080/",
     "height": 656
    },
    "executionInfo": {
     "elapsed": 1046,
     "status": "ok",
     "timestamp": 1682197806822,
     "user": {
      "displayName": "Илья Смирнов",
      "userId": "04327038012459884483"
     },
     "user_tz": -180
    },
    "id": "xGtjfIjYu-Th",
    "outputId": "d4c7e369-4344-4dd4-d19d-eed8d84cd0a5"
   },
   "outputs": [
    {
     "name": "stdout",
     "output_type": "stream",
     "text": [
      "Accuracy:  0.8745318352059925\n",
      "F1: 0.8882638014632048, Precision: 0.908951941258863, Recall: 0.8745318352059925\n",
      "F1: 0.6895541720941323, Precision: 0.6599123504057406, Recall: 0.7504795465321781 \n",
      "\n",
      "              precision    recall  f1-score   support\n",
      "\n",
      "          -1       0.36      0.60      0.45       228\n",
      "           1       0.96      0.90      0.93      2442\n",
      "\n",
      "    accuracy                           0.87      2670\n",
      "   macro avg       0.66      0.75      0.69      2670\n",
      "weighted avg       0.91      0.87      0.89      2670\n",
      "\n"
     ]
    },
    {
     "data": {
      "image/png": "[encoded data removed]",
      "text/plain": [
       "<Figure size 640x480 with 2 Axes>"
      ]
     },
     "metadata": {},
     "output_type": "display_data"
    }
   ],
   "source": [
    "y_pred_yand_16 = metric(yandex, 'USE_M', 'Siuu', 0, 32)"
   ]
  },
  {
   "cell_type": "code",
   "execution_count": 41,
   "metadata": {
    "colab": {
     "base_uri": "https://localhost:8080/"
    },
    "executionInfo": {
     "elapsed": 440800,
     "status": "ok",
     "timestamp": 1682198247619,
     "user": {
      "displayName": "Илья Смирнов",
      "userId": "04327038012459884483"
     },
     "user_tz": -180
    },
    "id": "-mad_NqHu-WC",
    "outputId": "d82dca97-055e-43ba-e017-c12848ccfef5"
   },
   "outputs": [
    {
     "name": "stdout",
     "output_type": "stream",
     "text": [
      "Train Epoch: 1, Loss: -7.940740593274435\n",
      "Val Epoch: 1, F1: 0.48328958137891037, Precision: 0.593586500289842, Recall: 0.5972222222222222\n",
      "Val Epoch: 1, F1: 0.4803844907370016, Precision: 0.5935320341300818, Recall: 0.5935323309618181 \n",
      "\n",
      "Train Epoch: 2, Loss: -8.197349266290665\n",
      "Val Epoch: 2, F1: 0.4927460845525273, Precision: 0.564180778864076, Recall: 0.6075\n",
      "Val Epoch: 2, F1: 0.48966066021212057, Precision: 0.5632991912929249, Recall: 0.6038308468392372 \n",
      "\n",
      "Train Epoch: 3, Loss: -8.165756735086442\n",
      "Val Epoch: 3, F1: 0.4908381222455664, Precision: 0.6037474812434055, Recall: 0.6075555555555555\n",
      "Val Epoch: 3, F1: 0.48779723177839057, Precision: 0.6035481778231079, Recall: 0.6038426655685254 \n",
      "\n",
      "Train Epoch: 4, Loss: -8.202521017154059\n",
      "Val Epoch: 4, F1: 0.48818914925066587, Precision: 0.5780380644065366, Recall: 0.6064444444444445\n",
      "Val Epoch: 4, F1: 0.48518027859323726, Precision: 0.5776466851040448, Recall: 0.6026851070133267 \n",
      "\n",
      "Train Epoch: 5, Loss: -8.242026706563102\n",
      "Val Epoch: 5, F1: 0.48916729741592824, Precision: 0.6442163785156746, Recall: 0.6073888888888889\n",
      "Val Epoch: 5, F1: 0.486172382083445, Precision: 0.6446589061877782, Recall: 0.6036283895703703 \n",
      "\n"
     ]
    }
   ],
   "source": [
    "model, y_pred, y_proba = train_model_2(5, 16, 0.001, SentimentClassifier256(), nn.CrossEntropyLoss(), False, 0.5, df=data_ru, embed_name='USE_M', target_name='sentiment_int')"
   ]
  },
  {
   "cell_type": "code",
   "execution_count": 42,
   "metadata": {
    "colab": {
     "base_uri": "https://localhost:8080/",
     "height": 656
    },
    "executionInfo": {
     "elapsed": 918,
     "status": "ok",
     "timestamp": 1682198248527,
     "user": {
      "displayName": "Илья Смирнов",
      "userId": "04327038012459884483"
     },
     "user_tz": -180
    },
    "id": "cH6p_X2bu-Yp",
    "outputId": "befcc621-b892-4033-cd9d-2b48fb927cb7"
   },
   "outputs": [
    {
     "name": "stdout",
     "output_type": "stream",
     "text": [
      "Accuracy:  0.7820224719101123\n",
      "F1: 0.8245403358161848, Precision: 0.9007660116180108, Recall: 0.7820224719101123\n",
      "F1: 0.6076404494382022, Precision: 0.5978879045750533, Recall: 0.73370619423251 \n",
      "\n",
      "              precision    recall  f1-score   support\n",
      "\n",
      "          -1       0.23      0.68      0.35       228\n",
      "           1       0.96      0.79      0.87      2442\n",
      "\n",
      "    accuracy                           0.78      2670\n",
      "   macro avg       0.60      0.73      0.61      2670\n",
      "weighted avg       0.90      0.78      0.82      2670\n",
      "\n"
     ]
    },
    {
     "data": {
      "image/png": "[encoded data removed]",
      "text/plain": [
       "<Figure size 640x480 with 2 Axes>"
      ]
     },
     "metadata": {},
     "output_type": "display_data"
    }
   ],
   "source": [
    "y_pred_yand_17 = metric(yandex, 'USE_M', 'Siuu', 0, 16)"
   ]
  },
  {
   "cell_type": "code",
   "execution_count": 43,
   "metadata": {
    "colab": {
     "base_uri": "https://localhost:8080/"
    },
    "executionInfo": {
     "elapsed": 346432,
     "status": "ok",
     "timestamp": 1682198597084,
     "user": {
      "displayName": "Илья Смирнов",
      "userId": "04327038012459884483"
     },
     "user_tz": -180
    },
    "id": "CUMT8EfYu-at",
    "outputId": "e9307f06-1fb6-4e5d-f396-b89305967321"
   },
   "outputs": [
    {
     "name": "stdout",
     "output_type": "stream",
     "text": [
      "Train Epoch: 1, Loss: 0.2684796086213093\n",
      "Val Epoch: 1, F1: 0.7132069435799101, Precision: 0.7478626073526388, Recall: 0.7098888888888889\n",
      "Val Epoch: 1, F1: 0.7133141642015831, Precision: 0.7475551421030815, Recall: 0.7103794513646896 \n",
      "\n",
      "Train Epoch: 2, Loss: 0.24572194829503766\n",
      "Val Epoch: 2, F1: 0.7210970480213922, Precision: 0.7447694715481092, Recall: 0.718\n",
      "Val Epoch: 2, F1: 0.7211714617523302, Precision: 0.7444977339250287, Recall: 0.7183968996063781 \n",
      "\n",
      "Train Epoch: 3, Loss: 0.24131488927092476\n",
      "Val Epoch: 3, F1: 0.7248007796151087, Precision: 0.7348650947606247, Recall: 0.7198333333333333\n",
      "Val Epoch: 3, F1: 0.7247516743370795, Precision: 0.7347792439226543, Recall: 0.7198353667866458 \n",
      "\n",
      "Train Epoch: 4, Loss: 0.237422267745909\n",
      "Val Epoch: 4, F1: 0.7218816414068997, Precision: 0.7447764433737941, Recall: 0.7150555555555556\n",
      "Val Epoch: 4, F1: 0.72188101847985, Precision: 0.744608674903004, Recall: 0.7152525890132123 \n",
      "\n",
      "Train Epoch: 5, Loss: 0.2346561325326906\n",
      "Val Epoch: 5, F1: 0.7233547232788725, Precision: 0.7456788335763107, Recall: 0.7182222222222222\n",
      "Val Epoch: 5, F1: 0.7234011812971355, Precision: 0.7454638388254547, Recall: 0.7185353789383533 \n",
      "\n",
      "Train Epoch: 6, Loss: 0.23243105228904298\n",
      "Val Epoch: 6, F1: 0.7287934118939078, Precision: 0.7480434801590279, Recall: 0.7233888888888889\n",
      "Val Epoch: 6, F1: 0.7288139934103656, Precision: 0.7478570868835132, Recall: 0.7236311340832312 \n",
      "\n",
      "Train Epoch: 7, Loss: 0.22866715592717615\n",
      "Val Epoch: 7, F1: 0.7259019627977612, Precision: 0.7408871175077842, Recall: 0.7228333333333333\n",
      "Val Epoch: 7, F1: 0.7259291008942124, Precision: 0.7406488736898414, Recall: 0.7231124292018021 \n",
      "\n",
      "Train Epoch: 8, Loss: 0.2262512655865871\n",
      "Val Epoch: 8, F1: 0.7254965939446023, Precision: 0.7586244271288577, Recall: 0.7195\n",
      "Val Epoch: 8, F1: 0.7255598868380656, Precision: 0.7583812930166882, Recall: 0.7198847488855455 \n",
      "\n",
      "Train Epoch: 9, Loss: 0.22438481870912955\n",
      "Val Epoch: 9, F1: 0.7282813142276505, Precision: 0.7516468083531692, Recall: 0.7238888888888889\n",
      "Val Epoch: 9, F1: 0.7283356113761791, Precision: 0.7514008519935466, Recall: 0.724238656339022 \n",
      "\n",
      "Train Epoch: 10, Loss: 0.22186599674487412\n",
      "Val Epoch: 10, F1: 0.7246875466844624, Precision: 0.7570958011283911, Recall: 0.7178333333333333\n",
      "Val Epoch: 10, F1: 0.7247227869237776, Precision: 0.7568755055607196, Recall: 0.7181549064725327 \n",
      "\n",
      "Train Epoch: 11, Loss: 0.21977627062988112\n",
      "Val Epoch: 11, F1: 0.7293137216894516, Precision: 0.7560895578033613, Recall: 0.7226666666666667\n",
      "Val Epoch: 11, F1: 0.7293322961268242, Precision: 0.7558872063967353, Recall: 0.7229343007036815 \n",
      "\n",
      "Train Epoch: 12, Loss: 0.21715668431395535\n",
      "Val Epoch: 12, F1: 0.7257527258210588, Precision: 0.7551612577427057, Recall: 0.7183888888888889\n",
      "Val Epoch: 12, F1: 0.7257588150979589, Precision: 0.7549779122368213, Recall: 0.7186259337738489 \n",
      "\n",
      "Train Epoch: 13, Loss: 0.21430063806143365\n",
      "Val Epoch: 13, F1: 0.7312026549652366, Precision: 0.7516994705612103, Recall: 0.7262222222222222\n",
      "Val Epoch: 13, F1: 0.731239340926371, Precision: 0.75149119783848, Recall: 0.7265112462614329 \n",
      "\n",
      "Train Epoch: 14, Loss: 0.2117913006995118\n",
      "Val Epoch: 14, F1: 0.7302341187638243, Precision: 0.7484431140121002, Recall: 0.7252222222222222\n",
      "Val Epoch: 14, F1: 0.7302580160447777, Precision: 0.7482482513125923, Recall: 0.7254740068123318 \n",
      "\n",
      "Train Epoch: 15, Loss: 0.2088481512311085\n",
      "Val Epoch: 15, F1: 0.7341377473170515, Precision: 0.7452017442108089, Recall: 0.7303333333333333\n",
      "Val Epoch: 15, F1: 0.7341453334858313, Precision: 0.7450386663217395, Recall: 0.7305158275672641 \n",
      "\n"
     ]
    }
   ],
   "source": [
    "model, y_pred, y_proba = train_model_2(15, 128, 0.001, SentimentClassifier256(), nn.MSELoss(), False, 0.5, df=data_ru, embed_name='USE_M', target_name='sentiment_int')"
   ]
  },
  {
   "cell_type": "code",
   "execution_count": 44,
   "metadata": {
    "colab": {
     "base_uri": "https://localhost:8080/",
     "height": 656
    },
    "executionInfo": {
     "elapsed": 912,
     "status": "ok",
     "timestamp": 1682198597985,
     "user": {
      "displayName": "Илья Смирнов",
      "userId": "04327038012459884483"
     },
     "user_tz": -180
    },
    "id": "hak22Ff-wx6A",
    "outputId": "c3a276de-9f1e-4e64-ea89-dda5305c8f31"
   },
   "outputs": [
    {
     "name": "stdout",
     "output_type": "stream",
     "text": [
      "Accuracy:  0.8576779026217228\n",
      "F1: 0.876688031326094, Precision: 0.9067634932563244, Recall: 0.8576779026217228\n",
      "F1: 0.6723752888431935, Precision: 0.6429880134868882, Recall: 0.7492187163239795 \n",
      "\n",
      "              precision    recall  f1-score   support\n",
      "\n",
      "          -1       0.32      0.62      0.43       228\n",
      "           1       0.96      0.88      0.92      2442\n",
      "\n",
      "    accuracy                           0.86      2670\n",
      "   macro avg       0.64      0.75      0.67      2670\n",
      "weighted avg       0.91      0.86      0.88      2670\n",
      "\n"
     ]
    },
    {
     "data": {
      "image/png": "[encoded data removed]",
      "text/plain": [
       "<Figure size 640x480 with 2 Axes>"
      ]
     },
     "metadata": {},
     "output_type": "display_data"
    }
   ],
   "source": [
    "y_pred_yand_18 = metric(yandex, 'USE_M', 'Siuu', 0, 128)"
   ]
  },
  {
   "cell_type": "code",
   "execution_count": 45,
   "metadata": {
    "colab": {
     "base_uri": "https://localhost:8080/"
    },
    "executionInfo": {
     "elapsed": 316095,
     "status": "ok",
     "timestamp": 1682198914077,
     "user": {
      "displayName": "Илья Смирнов",
      "userId": "04327038012459884483"
     },
     "user_tz": -180
    },
    "id": "9LCc0NZ2wx85",
    "outputId": "14290cff-807f-4d96-8e9d-c2f0f7c022d9"
   },
   "outputs": [
    {
     "name": "stdout",
     "output_type": "stream",
     "text": [
      "Train Epoch: 1, Loss: 0.26557343198193445\n",
      "Val Epoch: 1, F1: 0.7218393663077554, Precision: 0.74257766897836, Recall: 0.7148333333333333\n",
      "Val Epoch: 1, F1: 0.7215301570460112, Precision: 0.7419329324674009, Recall: 0.7148889875378703 \n",
      "\n",
      "Train Epoch: 2, Loss: 0.24540420790513356\n",
      "Val Epoch: 2, F1: 0.7153258614680188, Precision: 0.7511723062484287, Recall: 0.7095555555555556\n",
      "Val Epoch: 2, F1: 0.7151286916518433, Precision: 0.7504091933183852, Recall: 0.709973343219319 \n",
      "\n",
      "Train Epoch: 3, Loss: 0.24047983958323796\n",
      "Val Epoch: 3, F1: 0.7250058190629588, Precision: 0.7475746420894207, Recall: 0.7181666666666666\n",
      "Val Epoch: 3, F1: 0.72472735543555, Precision: 0.7469127403201972, Recall: 0.7183093178503365 \n",
      "\n",
      "Train Epoch: 4, Loss: 0.23650059744384555\n",
      "Val Epoch: 4, F1: 0.7301159622395044, Precision: 0.7407166611808398, Recall: 0.7256111111111111\n",
      "Val Epoch: 4, F1: 0.7298019432635403, Precision: 0.7401522599836046, Recall: 0.7255649614033622 \n",
      "\n",
      "Train Epoch: 5, Loss: 0.23323958626058366\n",
      "Val Epoch: 5, F1: 0.7314719086687809, Precision: 0.7506270292198549, Recall: 0.7252777777777778\n",
      "Val Epoch: 5, F1: 0.7311944410578676, Precision: 0.7499976018303434, Recall: 0.7253850601892197 \n",
      "\n",
      "Train Epoch: 6, Loss: 0.22971411228842206\n",
      "Val Epoch: 6, F1: 0.7251378604802362, Precision: 0.7527323182131147, Recall: 0.7177777777777777\n",
      "Val Epoch: 6, F1: 0.7248783941669199, Precision: 0.752041354477795, Recall: 0.717995162401135 \n",
      "\n",
      "Train Epoch: 7, Loss: 0.2265706560810407\n",
      "Val Epoch: 7, F1: 0.7290005285560373, Precision: 0.749676814963702, Recall: 0.7228333333333333\n",
      "Val Epoch: 7, F1: 0.7287311861229632, Precision: 0.7490234834908803, Recall: 0.7229840643116101 \n",
      "\n",
      "Train Epoch: 8, Loss: 0.22384016598595513\n",
      "Val Epoch: 8, F1: 0.7332370269437867, Precision: 0.7491847217682427, Recall: 0.7285555555555555\n",
      "Val Epoch: 8, F1: 0.7329680546155833, Precision: 0.7485651429665746, Recall: 0.7286635844270718 \n",
      "\n",
      "Train Epoch: 9, Loss: 0.22092479841576682\n",
      "Val Epoch: 9, F1: 0.7309170648057479, Precision: 0.7513332435604226, Recall: 0.7275555555555555\n",
      "Val Epoch: 9, F1: 0.7306847192357604, Precision: 0.7506712231838334, Recall: 0.7277714320328904 \n",
      "\n",
      "Train Epoch: 10, Loss: 0.2180156567229165\n",
      "Val Epoch: 10, F1: 0.7316642524570542, Precision: 0.7560558388086366, Recall: 0.7268888888888889\n",
      "Val Epoch: 10, F1: 0.7314388609233357, Precision: 0.7553666741617616, Recall: 0.7271619642600391 \n",
      "\n"
     ]
    }
   ],
   "source": [
    "model, y_pred, y_proba = train_model_2(10, 64, 0.001, SentimentClassifier256(), nn.MSELoss(), False, 0.5, df=data_ru, embed_name='USE_M', target_name='sentiment_int')"
   ]
  },
  {
   "cell_type": "code",
   "execution_count": 46,
   "metadata": {
    "colab": {
     "base_uri": "https://localhost:8080/",
     "height": 656
    },
    "executionInfo": {
     "elapsed": 827,
     "status": "ok",
     "timestamp": 1682198914893,
     "user": {
      "displayName": "Илья Смирнов",
      "userId": "04327038012459884483"
     },
     "user_tz": -180
    },
    "id": "Zx6A21m6wx_n",
    "outputId": "b9fa868d-d80a-4f75-cfe4-5795669098eb"
   },
   "outputs": [
    {
     "name": "stdout",
     "output_type": "stream",
     "text": [
      "Accuracy:  0.8700374531835205\n",
      "F1: 0.8847785544349541, Precision: 0.906951961720491, Recall: 0.8700374531835205\n",
      "F1: 0.6820655223189667, Precision: 0.6531360551961042, Recall: 0.7440460795723953 \n",
      "\n",
      "              precision    recall  f1-score   support\n",
      "\n",
      "          -1       0.35      0.59      0.44       228\n",
      "           1       0.96      0.90      0.93      2442\n",
      "\n",
      "    accuracy                           0.87      2670\n",
      "   macro avg       0.65      0.74      0.68      2670\n",
      "weighted avg       0.91      0.87      0.88      2670\n",
      "\n"
     ]
    },
    {
     "data": {
      "image/png": "[encoded data removed]",
      "text/plain": [
       "<Figure size 640x480 with 2 Axes>"
      ]
     },
     "metadata": {},
     "output_type": "display_data"
    }
   ],
   "source": [
    "y_pred_yand_19 = metric(yandex, 'USE_M', 'Siuu', 0, 64)"
   ]
  },
  {
   "cell_type": "code",
   "execution_count": 47,
   "metadata": {
    "colab": {
     "base_uri": "https://localhost:8080/"
    },
    "executionInfo": {
     "elapsed": 338315,
     "status": "ok",
     "timestamp": 1682199253204,
     "user": {
      "displayName": "Илья Смирнов",
      "userId": "04327038012459884483"
     },
     "user_tz": -180
    },
    "id": "focnI-JuwyCW",
    "outputId": "22b8d83b-4eed-4e09-f3e7-a3655fc6086c"
   },
   "outputs": [
    {
     "name": "stdout",
     "output_type": "stream",
     "text": [
      "Train Epoch: 1, Loss: 0.2637906064656046\n",
      "Val Epoch: 1, F1: 0.7202135311082064, Precision: 0.7382049871999685, Recall: 0.7146111111111111\n",
      "Val Epoch: 1, F1: 0.719329073335636, Precision: 0.7370196713458835, Recall: 0.7140636431768143 \n",
      "\n",
      "Train Epoch: 2, Loss: 0.24676542988419534\n",
      "Val Epoch: 2, F1: 0.7199233573980889, Precision: 0.7552930100717418, Recall: 0.7151111111111111\n",
      "Val Epoch: 2, F1: 0.7190547571261531, Precision: 0.7542114378014181, Recall: 0.7146171149278899 \n",
      "\n",
      "Train Epoch: 3, Loss: 0.24215995882285965\n",
      "Val Epoch: 3, F1: 0.7175943099269853, Precision: 0.7525162733649358, Recall: 0.7143888888888889\n",
      "Val Epoch: 3, F1: 0.7166479607364584, Precision: 0.7515230224821027, Recall: 0.7137001766017234 \n",
      "\n",
      "Train Epoch: 4, Loss: 0.23710512290729416\n",
      "Val Epoch: 4, F1: 0.73046299870306, Precision: 0.7463931297046051, Recall: 0.7258888888888889\n",
      "Val Epoch: 4, F1: 0.7295934488272858, Precision: 0.7453321351062944, Recall: 0.7252657997502023 \n",
      "\n",
      "Train Epoch: 5, Loss: 0.23340994022289913\n",
      "Val Epoch: 5, F1: 0.7231200908517393, Precision: 0.7593505182304383, Recall: 0.7163333333333334\n",
      "Val Epoch: 5, F1: 0.7223256022420715, Precision: 0.7580979439860066, Recall: 0.7160708077209187 \n",
      "\n",
      "Train Epoch: 6, Loss: 0.22938894599676132\n",
      "Val Epoch: 6, F1: 0.7274773550014111, Precision: 0.7542310117267426, Recall: 0.723\n",
      "Val Epoch: 6, F1: 0.7265806215528858, Precision: 0.753200054752984, Recall: 0.7223706416796309 \n",
      "\n",
      "Train Epoch: 7, Loss: 0.2261256928096215\n",
      "Val Epoch: 7, F1: 0.7322446501474265, Precision: 0.7457800496236701, Recall: 0.7265555555555555\n",
      "Val Epoch: 7, F1: 0.7314409249153769, Precision: 0.744545504596108, Recall: 0.7261620200645927 \n",
      "\n"
     ]
    }
   ],
   "source": [
    "model, y_pred, y_proba = train_model_2(7, 32, 0.001, SentimentClassifier256(), nn.MSELoss(), False, 0.5, df=data_ru, embed_name='USE_M', target_name='sentiment_int')"
   ]
  },
  {
   "cell_type": "code",
   "execution_count": 48,
   "metadata": {
    "colab": {
     "base_uri": "https://localhost:8080/",
     "height": 656
    },
    "executionInfo": {
     "elapsed": 764,
     "status": "ok",
     "timestamp": 1682199253958,
     "user": {
      "displayName": "Илья Смирнов",
      "userId": "04327038012459884483"
     },
     "user_tz": -180
    },
    "id": "JQu5jvuUw9iU",
    "outputId": "33c6d783-e559-45ea-bfd3-ab7af238a8f6"
   },
   "outputs": [
    {
     "name": "stdout",
     "output_type": "stream",
     "text": [
      "Accuracy:  0.8674157303370786\n",
      "F1: 0.8851251660248348, Precision: 0.914638836891591, Recall: 0.8674157303370786\n",
      "F1: 0.6947917164486592, Precision: 0.6608719487564199, Recall: 0.7803892409155567 \n",
      "\n",
      "              precision    recall  f1-score   support\n",
      "\n",
      "          -1       0.35      0.68      0.47       228\n",
      "           1       0.97      0.89      0.92      2442\n",
      "\n",
      "    accuracy                           0.87      2670\n",
      "   macro avg       0.66      0.78      0.69      2670\n",
      "weighted avg       0.91      0.87      0.89      2670\n",
      "\n"
     ]
    },
    {
     "data": {
      "image/png": "[encoded data removed]",
      "text/plain": [
       "<Figure size 640x480 with 2 Axes>"
      ]
     },
     "metadata": {},
     "output_type": "display_data"
    }
   ],
   "source": [
    "y_pred_yand_20 = metric(yandex, 'USE_M', 'Siuu', 0, 32)"
   ]
  },
  {
   "cell_type": "code",
   "execution_count": 49,
   "metadata": {
    "colab": {
     "base_uri": "https://localhost:8080/"
    },
    "executionInfo": {
     "elapsed": 391257,
     "status": "ok",
     "timestamp": 1682199645212,
     "user": {
      "displayName": "Илья Смирнов",
      "userId": "04327038012459884483"
     },
     "user_tz": -180
    },
    "id": "TRui7jj4w9ku",
    "outputId": "6ecd1605-b0b8-42fe-b8ff-0d91b07604e5"
   },
   "outputs": [
    {
     "name": "stdout",
     "output_type": "stream",
     "text": [
      "Train Epoch: 1, Loss: 0.2616269727531407\n",
      "Val Epoch: 1, F1: 0.7130254569001343, Precision: 0.7431630264997966, Recall: 0.7071111111111111\n",
      "Val Epoch: 1, F1: 0.712788886243532, Precision: 0.7429521640008546, Recall: 0.7068669654044696 \n",
      "\n",
      "Train Epoch: 2, Loss: 0.2456098737311032\n",
      "Val Epoch: 2, F1: 0.7061243302666514, Precision: 0.7242262308599492, Recall: 0.6999444444444445\n",
      "Val Epoch: 2, F1: 0.7059796344934987, Precision: 0.7238448610375343, Recall: 0.6999979746231587 \n",
      "\n",
      "Train Epoch: 3, Loss: 0.24081245424060357\n",
      "Val Epoch: 3, F1: 0.7185750441700719, Precision: 0.7410631461849265, Recall: 0.7118888888888889\n",
      "Val Epoch: 3, F1: 0.7183797973505861, Precision: 0.7408111749414736, Recall: 0.7117392823429576 \n",
      "\n",
      "Train Epoch: 4, Loss: 0.23613674533656903\n",
      "Val Epoch: 4, F1: 0.7176868512172505, Precision: 0.7488223420950223, Recall: 0.7114444444444444\n",
      "Val Epoch: 4, F1: 0.7174540697765335, Precision: 0.7486058296992137, Recall: 0.7112104285359168 \n",
      "\n",
      "Train Epoch: 5, Loss: 0.2325724190502531\n",
      "Val Epoch: 5, F1: 0.7194054202576473, Precision: 0.7464406919703335, Recall: 0.7132777777777778\n",
      "Val Epoch: 5, F1: 0.7191847220371897, Precision: 0.7462300828268971, Recall: 0.7130579434696331 \n",
      "\n"
     ]
    }
   ],
   "source": [
    "model, y_pred, y_proba = train_model_2(5, 16, 0.001, SentimentClassifier256(), nn.MSELoss(), False, 0.5, df=data_ru, embed_name='USE_M', target_name='sentiment_int')"
   ]
  },
  {
   "cell_type": "code",
   "execution_count": 50,
   "metadata": {
    "colab": {
     "base_uri": "https://localhost:8080/",
     "height": 656
    },
    "executionInfo": {
     "elapsed": 865,
     "status": "ok",
     "timestamp": 1682199646050,
     "user": {
      "displayName": "Илья Смирнов",
      "userId": "04327038012459884483"
     },
     "user_tz": -180
    },
    "id": "uRDPuGhew9nN",
    "outputId": "98a60781-61c5-4538-e548-21dde2f3a0e4"
   },
   "outputs": [
    {
     "name": "stdout",
     "output_type": "stream",
     "text": [
      "Accuracy:  0.8700374531835205\n",
      "F1: 0.8856443097197585, Precision: 0.9099995278591917, Recall: 0.8700374531835205\n",
      "F1: 0.6881952790270107, Precision: 0.657210861196518, Recall: 0.7579637053321264 \n",
      "\n",
      "              precision    recall  f1-score   support\n",
      "\n",
      "          -1       0.35      0.62      0.45       228\n",
      "           1       0.96      0.89      0.93      2442\n",
      "\n",
      "    accuracy                           0.87      2670\n",
      "   macro avg       0.66      0.76      0.69      2670\n",
      "weighted avg       0.91      0.87      0.89      2670\n",
      "\n"
     ]
    },
    {
     "data": {
      "image/png": "[encoded data removed]",
      "text/plain": [
       "<Figure size 640x480 with 2 Axes>"
      ]
     },
     "metadata": {},
     "output_type": "display_data"
    }
   ],
   "source": [
    "y_pred_yand_21 = metric(yandex, 'USE_M', 'Siuu', 0, 16)"
   ]
  },
  {
   "cell_type": "markdown",
   "metadata": {
    "id": "l6jCSmj0xXA9"
   },
   "source": [
    "# **Обучение на rubert-tiny2 256 нейронов**"
   ]
  },
  {
   "cell_type": "code",
   "execution_count": 51,
   "metadata": {
    "colab": {
     "base_uri": "https://localhost:8080/"
    },
    "executionInfo": {
     "elapsed": 263986,
     "status": "ok",
     "timestamp": 1682199910029,
     "user": {
      "displayName": "Илья Смирнов",
      "userId": "04327038012459884483"
     },
     "user_tz": -180
    },
    "id": "zZyGF_kgxeWo",
    "outputId": "d6df7f5c-27c0-4f15-9f72-ac401142783a"
   },
   "outputs": [
    {
     "name": "stdout",
     "output_type": "stream",
     "text": [
      "Train Epoch: 1, Loss: -63.69421629541509\n",
      "Val Epoch: 1, F1: 0.5159482483729096, Precision: 0.6150513207259165, Recall: 0.6123888888888889\n",
      "Val Epoch: 1, F1: 0.514414222468815, Precision: 0.6151341407098723, Recall: 0.6102268908634119 \n",
      "\n",
      "Train Epoch: 2, Loss: -66.99232290989552\n",
      "Val Epoch: 2, F1: 0.5051381744500377, Precision: 0.5956547828851083, Recall: 0.6116111111111111\n",
      "Val Epoch: 2, F1: 0.503501414509019, Precision: 0.595596853797613, Recall: 0.6094024510792965 \n",
      "\n",
      "Train Epoch: 3, Loss: -67.3948639129449\n",
      "Val Epoch: 3, F1: 0.5026869188909813, Precision: 0.6140728545710773, Recall: 0.6101666666666666\n",
      "Val Epoch: 3, F1: 0.5010487174287418, Precision: 0.6141709248034245, Recall: 0.6079410258134347 \n",
      "\n",
      "Train Epoch: 4, Loss: -67.48248401458903\n",
      "Val Epoch: 4, F1: 0.4967206277679996, Precision: 0.5953537313395338, Recall: 0.608\n",
      "Val Epoch: 4, F1: 0.4950419071078387, Precision: 0.5953229643570787, Recall: 0.6057790386534782 \n",
      "\n",
      "Train Epoch: 5, Loss: -68.0340345409793\n",
      "Val Epoch: 5, F1: 0.49614601821242266, Precision: 0.6017255927752596, Recall: 0.6071666666666666\n",
      "Val Epoch: 5, F1: 0.4944722076356385, Precision: 0.601744760129714, Recall: 0.6048979796386984 \n",
      "\n",
      "Train Epoch: 6, Loss: -67.64742422696752\n",
      "Val Epoch: 6, F1: 0.4924688679490297, Precision: 0.5760530148857292, Recall: 0.6058888888888889\n",
      "Val Epoch: 6, F1: 0.4907674169937, Precision: 0.5758794257366803, Recall: 0.6037005713559945 \n",
      "\n",
      "Train Epoch: 7, Loss: -67.817790933443\n",
      "Val Epoch: 7, F1: 0.49650212832198737, Precision: 0.598753571704469, Recall: 0.6085\n",
      "Val Epoch: 7, F1: 0.4948219875390623, Precision: 0.5987473014598059, Recall: 0.6062445658990633 \n",
      "\n",
      "Train Epoch: 8, Loss: -67.78323375861132\n",
      "Val Epoch: 8, F1: 0.49330838540880195, Precision: 0.5722022376167673, Recall: 0.6070555555555556\n",
      "Val Epoch: 8, F1: 0.4916096790287597, Precision: 0.5720049529052555, Recall: 0.6047998669447925 \n",
      "\n",
      "Train Epoch: 9, Loss: -67.8482560654093\n",
      "Val Epoch: 9, F1: 0.4944142019827052, Precision: 0.6108481853041489, Recall: 0.6077222222222223\n",
      "Val Epoch: 9, F1: 0.49272596326792645, Precision: 0.6109453826973884, Recall: 0.6054898731721609 \n",
      "\n",
      "Train Epoch: 10, Loss: -67.96221914003416\n",
      "Val Epoch: 10, F1: 0.49434988520456097, Precision: 0.5763290060246027, Recall: 0.6075555555555555\n",
      "Val Epoch: 10, F1: 0.49265417158454694, Precision: 0.5761546698745499, Recall: 0.6052807943544383 \n",
      "\n",
      "Train Epoch: 11, Loss: -68.13389009946617\n",
      "Val Epoch: 11, F1: 0.49173154531805996, Precision: 0.6025377435650455, Recall: 0.6071111111111112\n",
      "Val Epoch: 11, F1: 0.49002227832103357, Precision: 0.6025736134010949, Recall: 0.6048890389458849 \n",
      "\n",
      "Train Epoch: 12, Loss: -67.86247492683505\n",
      "Val Epoch: 12, F1: 0.4951991264145362, Precision: 0.6261156066175215, Recall: 0.6062222222222222\n",
      "Val Epoch: 12, F1: 0.49352215076250916, Precision: 0.6262984040713516, Recall: 0.6039073528349369 \n",
      "\n",
      "Train Epoch: 13, Loss: -68.06038962206662\n",
      "Val Epoch: 13, F1: 0.4929680427322532, Precision: 0.590762412762309, Recall: 0.6055\n",
      "Val Epoch: 13, F1: 0.49127838797067075, Precision: 0.5906990566201957, Recall: 0.6031989856837227 \n",
      "\n",
      "Train Epoch: 14, Loss: -68.27254137476214\n",
      "Val Epoch: 14, F1: 0.4883634073738259, Precision: 0.5558303167014744, Recall: 0.6048888888888889\n",
      "Val Epoch: 14, F1: 0.48663887849269316, Precision: 0.5555157039108992, Recall: 0.6026923452025205 \n",
      "\n",
      "Train Epoch: 15, Loss: -68.05755025751849\n",
      "Val Epoch: 15, F1: 0.4895958711589578, Precision: 0.6384836181501818, Recall: 0.6056666666666667\n",
      "Val Epoch: 15, F1: 0.48788167780885344, Precision: 0.6388010857075916, Recall: 0.6034529722197032 \n",
      "\n"
     ]
    }
   ],
   "source": [
    "model, y_pred, y_proba = train_model_2(15, 128, 0.001, SentimentClassifierTiny256(), nn.CrossEntropyLoss(), False, 0.5, df=data_ru2, embed_name='tiny2', target_name='sentiment_int')"
   ]
  },
  {
   "cell_type": "code",
   "execution_count": 52,
   "metadata": {
    "colab": {
     "base_uri": "https://localhost:8080/",
     "height": 656
    },
    "executionInfo": {
     "elapsed": 437,
     "status": "ok",
     "timestamp": 1682199910400,
     "user": {
      "displayName": "Илья Смирнов",
      "userId": "04327038012459884483"
     },
     "user_tz": -180
    },
    "id": "butsBkLPxwgR",
    "outputId": "a952ef0e-07f6-46af-c07a-fb08894f5cce"
   },
   "outputs": [
    {
     "name": "stdout",
     "output_type": "stream",
     "text": [
      "Accuracy:  0.8704119850187266\n",
      "F1: 0.8839941212724599, Precision: 0.9035616958629895, Recall: 0.8704119850187266\n",
      "F1: 0.675168776371308, Precision: 0.6487232937477189, Recall: 0.7283449717660244 \n",
      "\n",
      "              precision    recall  f1-score   support\n",
      "\n",
      "          -1       0.34      0.56      0.42       228\n",
      "           1       0.96      0.90      0.93      2442\n",
      "\n",
      "    accuracy                           0.87      2670\n",
      "   macro avg       0.65      0.73      0.68      2670\n",
      "weighted avg       0.90      0.87      0.88      2670\n",
      "\n"
     ]
    },
    {
     "data": {
      "image/png": "[encoded data removed]",
      "text/plain": [
       "<Figure size 640x480 with 2 Axes>"
      ]
     },
     "metadata": {},
     "output_type": "display_data"
    }
   ],
   "source": [
    "y_pred_yand_22 = metric(yandex, 'tiny2', 'Siuu', 0, 128)"
   ]
  },
  {
   "cell_type": "code",
   "execution_count": 53,
   "metadata": {
    "colab": {
     "base_uri": "https://localhost:8080/"
    },
    "executionInfo": {
     "elapsed": 239389,
     "status": "ok",
     "timestamp": 1682200149780,
     "user": {
      "displayName": "Илья Смирнов",
      "userId": "04327038012459884483"
     },
     "user_tz": -180
    },
    "id": "KHZA68fsxxo9",
    "outputId": "c6b15cb6-33bf-4921-ceec-2d62a204b4b7"
   },
   "outputs": [
    {
     "name": "stdout",
     "output_type": "stream",
     "text": [
      "Train Epoch: 1, Loss: -31.772822749243844\n",
      "Val Epoch: 1, F1: 0.4868092317013498, Precision: 0.579755401758094, Recall: 0.5892222222222222\n",
      "Val Epoch: 1, F1: 0.4900026882143294, Precision: 0.5798650077176867, Recall: 0.5936910533448437 \n",
      "\n",
      "Train Epoch: 2, Loss: -33.03340597746107\n",
      "Val Epoch: 2, F1: 0.48547813221101227, Precision: 0.5811635383771105, Recall: 0.5954444444444444\n",
      "Val Epoch: 2, F1: 0.4889049090722393, Precision: 0.5815167289365122, Recall: 0.5998425961789339 \n",
      "\n",
      "Train Epoch: 3, Loss: -33.25543878195021\n",
      "Val Epoch: 3, F1: 0.489447834019978, Precision: 0.572977353538017, Recall: 0.6008333333333333\n",
      "Val Epoch: 3, F1: 0.49315497820121323, Precision: 0.574075355774525, Recall: 0.6050179182991527 \n",
      "\n",
      "Train Epoch: 4, Loss: -33.23305091349284\n",
      "Val Epoch: 4, F1: 0.4809416601052912, Precision: 0.5749107304777608, Recall: 0.5945555555555555\n",
      "Val Epoch: 4, F1: 0.48454209008005256, Precision: 0.5755138802629939, Recall: 0.5989660759240353 \n",
      "\n",
      "Train Epoch: 5, Loss: -33.053259788725114\n",
      "Val Epoch: 5, F1: 0.4785255732125184, Precision: 0.561557807053363, Recall: 0.5954444444444444\n",
      "Val Epoch: 5, F1: 0.4820420370042477, Precision: 0.5621478065820634, Recall: 0.5999098797968695 \n",
      "\n",
      "Train Epoch: 6, Loss: -33.168839501063026\n",
      "Val Epoch: 6, F1: 0.479296715600944, Precision: 0.5702372150281275, Recall: 0.5955555555555555\n",
      "Val Epoch: 6, F1: 0.4828068235561078, Precision: 0.5707088969018907, Recall: 0.6000210571288492 \n",
      "\n",
      "Train Epoch: 7, Loss: -33.233592230055066\n",
      "Val Epoch: 7, F1: 0.4828658346633169, Precision: 0.6023138521653424, Recall: 0.5939444444444445\n",
      "Val Epoch: 7, F1: 0.48667864730982296, Precision: 0.6033155742525886, Recall: 0.59790804200306 \n",
      "\n",
      "Train Epoch: 8, Loss: -33.144932507620915\n",
      "Val Epoch: 8, F1: 0.48418150873874505, Precision: 0.5811086944133242, Recall: 0.5989444444444444\n",
      "Val Epoch: 8, F1: 0.4879647442904407, Precision: 0.5821199034058196, Recall: 0.6031335386441211 \n",
      "\n",
      "Train Epoch: 9, Loss: -33.49302582931519\n",
      "Val Epoch: 9, F1: 0.4801763896795637, Precision: 0.5994885187928164, Recall: 0.5984444444444444\n",
      "Val Epoch: 9, F1: 0.4838218053140813, Precision: 0.5997798573317009, Recall: 0.6028289568426174 \n",
      "\n",
      "Train Epoch: 10, Loss: -33.52449260436164\n",
      "Val Epoch: 10, F1: 0.47790373901746996, Precision: 0.5765782022819386, Recall: 0.5957777777777777\n",
      "Val Epoch: 10, F1: 0.4814698953306606, Precision: 0.5769931233394255, Recall: 0.6002767348047651 \n",
      "\n"
     ]
    }
   ],
   "source": [
    "model, y_pred, y_proba = train_model_2(10, 64, 0.001, SentimentClassifierTiny256(), nn.CrossEntropyLoss(), False, 0.5, df=data_ru2, embed_name='tiny2', target_name='sentiment_int')"
   ]
  },
  {
   "cell_type": "code",
   "execution_count": 54,
   "metadata": {
    "colab": {
     "base_uri": "https://localhost:8080/",
     "height": 660
    },
    "executionInfo": {
     "elapsed": 687,
     "status": "ok",
     "timestamp": 1682200150458,
     "user": {
      "displayName": "Илья Смирнов",
      "userId": "04327038012459884483"
     },
     "user_tz": -180
    },
    "id": "3RVnJch9xxrl",
    "outputId": "2afd1134-a047-4cbf-ccaa-4823ba76e509"
   },
   "outputs": [
    {
     "name": "stdout",
     "output_type": "stream",
     "text": [
      "Accuracy:  0.8131086142322097\n",
      "F1: 0.8472672342899676, Precision: 0.9092438457484144, Recall: 0.8131086142322097\n",
      "F1: 0.642315513943421, Precision: 0.6208381511998002, Recall: 0.7685945514892883 \n",
      "\n",
      "              precision    recall  f1-score   support\n",
      "\n",
      "          -1       0.27      0.71      0.40       228\n",
      "           1       0.97      0.82      0.89      2442\n",
      "\n",
      "    accuracy                           0.81      2670\n",
      "   macro avg       0.62      0.77      0.64      2670\n",
      "weighted avg       0.91      0.81      0.85      2670\n",
      "\n"
     ]
    },
    {
     "data": {
      "image/png": "[encoded data removed]",
      "text/plain": [
       "<Figure size 640x480 with 2 Axes>"
      ]
     },
     "metadata": {},
     "output_type": "display_data"
    }
   ],
   "source": [
    "y_pred_yand_23 = metric(yandex, 'tiny2', 'Siuu', 0, 64)"
   ]
  },
  {
   "cell_type": "code",
   "execution_count": 55,
   "metadata": {
    "colab": {
     "base_uri": "https://localhost:8080/"
    },
    "executionInfo": {
     "elapsed": 251801,
     "status": "ok",
     "timestamp": 1682200402255,
     "user": {
      "displayName": "Илья Смирнов",
      "userId": "04327038012459884483"
     },
     "user_tz": -180
    },
    "id": "vRaFI34pxxv0",
    "outputId": "fc39b9e4-4ca7-4110-a3bc-a1eeef3cbf34"
   },
   "outputs": [
    {
     "name": "stdout",
     "output_type": "stream",
     "text": [
      "Train Epoch: 1, Loss: -15.693977903260125\n",
      "Val Epoch: 1, F1: 0.4838996041750773, Precision: 0.5741099300358458, Recall: 0.5933333333333334\n",
      "Val Epoch: 1, F1: 0.4856813523468684, Precision: 0.5744923178601726, Recall: 0.5955724251850486 \n",
      "\n",
      "Train Epoch: 2, Loss: -16.069512288305493\n",
      "Val Epoch: 2, F1: 0.4795827279579195, Precision: 0.5586325383103268, Recall: 0.5905\n",
      "Val Epoch: 2, F1: 0.48130667825565987, Precision: 0.5589499345083677, Recall: 0.5928664274554069 \n",
      "\n",
      "Train Epoch: 3, Loss: -16.170799838172066\n",
      "Val Epoch: 3, F1: 0.480065243795467, Precision: 0.583699005371036, Recall: 0.5954444444444444\n",
      "Val Epoch: 3, F1: 0.48181553367621605, Precision: 0.5839205246039456, Recall: 0.5977102455447026 \n",
      "\n",
      "Train Epoch: 4, Loss: -16.246853119744195\n",
      "Val Epoch: 4, F1: 0.4842314687519078, Precision: 0.56418928786439, Recall: 0.5985\n",
      "Val Epoch: 4, F1: 0.48625090635253937, Precision: 0.5651657169583236, Recall: 0.6003600795032921 \n",
      "\n",
      "Train Epoch: 5, Loss: -16.09365610493554\n",
      "Val Epoch: 5, F1: 0.4854162408617771, Precision: 0.6246377943189412, Recall: 0.6001111111111112\n",
      "Val Epoch: 5, F1: 0.487500251917169, Precision: 0.6253572477230541, Recall: 0.6019090316821557 \n",
      "\n",
      "Train Epoch: 6, Loss: -16.21205927901798\n",
      "Val Epoch: 6, F1: 0.4768423734545874, Precision: 0.5458455835284373, Recall: 0.5929444444444445\n",
      "Val Epoch: 6, F1: 0.47877315109924873, Precision: 0.5466006915262064, Recall: 0.5951004867576217 \n",
      "\n",
      "Train Epoch: 7, Loss: -16.096229430834452\n",
      "Val Epoch: 7, F1: 0.48437064300595234, Precision: 0.619017555183875, Recall: 0.6016111111111111\n",
      "Val Epoch: 7, F1: 0.486335758627699, Precision: 0.6194297722631114, Recall: 0.6036716316709682 \n",
      "\n"
     ]
    }
   ],
   "source": [
    "model, y_pred, y_proba = train_model_2(7, 32, 0.001, SentimentClassifierTiny256(), nn.CrossEntropyLoss(), False, 0.5, df=data_ru2, embed_name='tiny2', target_name='sentiment_int')"
   ]
  },
  {
   "cell_type": "code",
   "execution_count": 56,
   "metadata": {
    "colab": {
     "base_uri": "https://localhost:8080/",
     "height": 656
    },
    "executionInfo": {
     "elapsed": 1241,
     "status": "ok",
     "timestamp": 1682200403485,
     "user": {
      "displayName": "Илья Смирнов",
      "userId": "04327038012459884483"
     },
     "user_tz": -180
    },
    "id": "XfKzAl7LxxyN",
    "outputId": "89cb7375-2d34-4a58-8886-41ca8a06a58b"
   },
   "outputs": [
    {
     "name": "stdout",
     "output_type": "stream",
     "text": [
      "Accuracy:  0.7191011235955056\n",
      "F1: 0.7801912191926911, Precision: 0.9085651111363101, Recall: 0.7191011235955055\n",
      "F1: 0.5746388306635591, Precision: 0.5898164269301238, Recall: 0.7549786628733997 \n",
      "\n",
      "              precision    recall  f1-score   support\n",
      "\n",
      "          -1       0.21      0.80      0.33       228\n",
      "           1       0.97      0.71      0.82      2442\n",
      "\n",
      "    accuracy                           0.72      2670\n",
      "   macro avg       0.59      0.75      0.57      2670\n",
      "weighted avg       0.91      0.72      0.78      2670\n",
      "\n"
     ]
    },
    {
     "data": {
      "image/png": "[encoded data removed]",
      "text/plain": [
       "<Figure size 640x480 with 2 Axes>"
      ]
     },
     "metadata": {},
     "output_type": "display_data"
    }
   ],
   "source": [
    "y_pred_yand_24 = metric(yandex, 'tiny2', 'Siuu', 0, 32)"
   ]
  },
  {
   "cell_type": "code",
   "execution_count": 57,
   "metadata": {
    "colab": {
     "base_uri": "https://localhost:8080/"
    },
    "executionInfo": {
     "elapsed": 293691,
     "status": "ok",
     "timestamp": 1682200697175,
     "user": {
      "displayName": "Илья Смирнов",
      "userId": "04327038012459884483"
     },
     "user_tz": -180
    },
    "id": "8615k3kfxx0m",
    "outputId": "7b659435-fd1e-4ff4-b8e0-787f388269ba"
   },
   "outputs": [
    {
     "name": "stdout",
     "output_type": "stream",
     "text": [
      "Train Epoch: 1, Loss: -7.647186862733629\n",
      "Val Epoch: 1, F1: 0.4796788910340387, Precision: 0.5956008718663905, Recall: 0.5895\n",
      "Val Epoch: 1, F1: 0.48311558665598514, Precision: 0.5965715997744981, Recall: 0.5929457246390681 \n",
      "\n",
      "Train Epoch: 2, Loss: -7.8164759125709535\n",
      "Val Epoch: 2, F1: 0.4770990313145772, Precision: 0.5615258422076822, Recall: 0.5896666666666667\n",
      "Val Epoch: 2, F1: 0.4805678567723202, Precision: 0.5629594281862151, Recall: 0.5930749937332972 \n",
      "\n",
      "Train Epoch: 3, Loss: -7.862582051118215\n",
      "Val Epoch: 3, F1: 0.47747475667210304, Precision: 0.5420521000122959, Recall: 0.5921666666666666\n",
      "Val Epoch: 3, F1: 0.4808724392414077, Precision: 0.5433811326090838, Recall: 0.5958717963737357 \n",
      "\n",
      "Train Epoch: 4, Loss: -7.958824966748556\n",
      "Val Epoch: 4, F1: 0.4765318138354181, Precision: 0.5760919378423266, Recall: 0.5921666666666666\n",
      "Val Epoch: 4, F1: 0.4797894639028189, Precision: 0.5765939809421877, Recall: 0.5961642057601395 \n",
      "\n",
      "Train Epoch: 5, Loss: -7.924888140334024\n",
      "Val Epoch: 5, F1: 0.46565311011074373, Precision: 0.5567696254450402, Recall: 0.5659444444444445\n",
      "Val Epoch: 5, F1: 0.4692546786252574, Precision: 0.5594492008571081, Recall: 0.568568139387514 \n",
      "\n"
     ]
    }
   ],
   "source": [
    "model, y_pred, y_proba = train_model_2(5, 16, 0.001, SentimentClassifierTiny256(), nn.CrossEntropyLoss(), False, 0.5, df=data_ru2, embed_name='tiny2', target_name='sentiment_int')"
   ]
  },
  {
   "cell_type": "code",
   "execution_count": 58,
   "metadata": {
    "colab": {
     "base_uri": "https://localhost:8080/",
     "height": 656
    },
    "executionInfo": {
     "elapsed": 983,
     "status": "ok",
     "timestamp": 1682200698143,
     "user": {
      "displayName": "Илья Смирнов",
      "userId": "04327038012459884483"
     },
     "user_tz": -180
    },
    "id": "ab07V7eOxx3G",
    "outputId": "1a7e6dde-f4ec-46f0-9205-01fd7ec5ab41"
   },
   "outputs": [
    {
     "name": "stdout",
     "output_type": "stream",
     "text": [
      "Accuracy:  0.5146067415730337\n",
      "F1: 0.6084292818573643, Precision: 0.9127301880509194, Recall: 0.5146067415730337\n",
      "F1: 0.4435696753577549, Precision: 0.5629503029310627, Recall: 0.698855554118712 \n",
      "\n",
      "              precision    recall  f1-score   support\n",
      "\n",
      "          -1       0.14      0.92      0.24       228\n",
      "           1       0.98      0.48      0.64      2442\n",
      "\n",
      "    accuracy                           0.51      2670\n",
      "   macro avg       0.56      0.70      0.44      2670\n",
      "weighted avg       0.91      0.51      0.61      2670\n",
      "\n"
     ]
    },
    {
     "data": {
      "image/png": "[encoded data removed]",
      "text/plain": [
       "<Figure size 640x480 with 2 Axes>"
      ]
     },
     "metadata": {},
     "output_type": "display_data"
    }
   ],
   "source": [
    "y_pred_yand_25 = metric(yandex, 'tiny2', 'Siuu', 0, 16)"
   ]
  },
  {
   "cell_type": "code",
   "execution_count": 59,
   "metadata": {
    "colab": {
     "base_uri": "https://localhost:8080/"
    },
    "executionInfo": {
     "elapsed": 265943,
     "status": "ok",
     "timestamp": 1682200964081,
     "user": {
      "displayName": "Илья Смирнов",
      "userId": "04327038012459884483"
     },
     "user_tz": -180
    },
    "id": "ueG0ObDtxx5s",
    "outputId": "98e6b524-06cf-4d53-ae24-1b12a5c7a13f"
   },
   "outputs": [
    {
     "name": "stdout",
     "output_type": "stream",
     "text": [
      "Train Epoch: 1, Loss: 0.29560583107319016\n",
      "Val Epoch: 1, F1: 0.6857304314472369, Precision: 0.7437361322911016, Recall: 0.6783888888888889\n",
      "Val Epoch: 1, F1: 0.6859105733482517, Precision: 0.7440181471644665, Recall: 0.6784594515065491 \n",
      "\n",
      "Train Epoch: 2, Loss: 0.267743506318299\n",
      "Val Epoch: 2, F1: 0.6937254427597642, Precision: 0.7293894441754487, Recall: 0.6898888888888889\n",
      "Val Epoch: 2, F1: 0.6939771768213379, Precision: 0.7295650848566823, Recall: 0.6901528201935342 \n",
      "\n",
      "Train Epoch: 3, Loss: 0.26299455174332614\n",
      "Val Epoch: 3, F1: 0.6979882721486848, Precision: 0.7440201552037087, Recall: 0.6914444444444444\n",
      "Val Epoch: 3, F1: 0.6981984370995752, Precision: 0.7442727273844261, Recall: 0.691583408692312 \n",
      "\n",
      "Train Epoch: 4, Loss: 0.2591077339691548\n",
      "Val Epoch: 4, F1: 0.7011293453485875, Precision: 0.7490826893068478, Recall: 0.6941111111111111\n",
      "Val Epoch: 4, F1: 0.7013281176410299, Precision: 0.749354440760191, Recall: 0.6942205793092331 \n",
      "\n",
      "Train Epoch: 5, Loss: 0.2561521825527848\n",
      "Val Epoch: 5, F1: 0.7038532420931798, Precision: 0.7469029808850352, Recall: 0.697\n",
      "Val Epoch: 5, F1: 0.7040513639329746, Precision: 0.7471637063061666, Recall: 0.6971180967910646 \n",
      "\n",
      "Train Epoch: 6, Loss: 0.2543518679285981\n",
      "Val Epoch: 6, F1: 0.7048671470096841, Precision: 0.7402861511792856, Recall: 0.6988333333333333\n",
      "Val Epoch: 6, F1: 0.7050846566783394, Precision: 0.7405212580132633, Recall: 0.6990037216688688 \n",
      "\n",
      "Train Epoch: 7, Loss: 0.2515713556886355\n",
      "Val Epoch: 7, F1: 0.715149494628715, Precision: 0.7338962805513645, Recall: 0.7096111111111111\n",
      "Val Epoch: 7, F1: 0.7153524089347458, Precision: 0.7341278825493704, Recall: 0.7097754643485469 \n",
      "\n",
      "Train Epoch: 8, Loss: 0.24969265251345998\n",
      "Val Epoch: 8, F1: 0.7153063894305061, Precision: 0.7358879806139244, Recall: 0.7096111111111111\n",
      "Val Epoch: 8, F1: 0.7155112032151045, Precision: 0.7361221264493397, Recall: 0.7097752593173317 \n",
      "\n",
      "Train Epoch: 9, Loss: 0.24795804766948015\n",
      "Val Epoch: 9, F1: 0.710736404431988, Precision: 0.7403334422179955, Recall: 0.7037222222222222\n",
      "Val Epoch: 9, F1: 0.7109222674520495, Precision: 0.7406071820128846, Recall: 0.7038219203940286 \n",
      "\n",
      "Train Epoch: 10, Loss: 0.24558798505611995\n",
      "Val Epoch: 10, F1: 0.7156488095828077, Precision: 0.7270727690870915, Recall: 0.7106111111111111\n",
      "Val Epoch: 10, F1: 0.7158455944068335, Precision: 0.7273353313097939, Recall: 0.7107460313986093 \n",
      "\n",
      "Train Epoch: 11, Loss: 0.2436503167421314\n",
      "Val Epoch: 11, F1: 0.7152297219146085, Precision: 0.7396587854519499, Recall: 0.7102222222222222\n",
      "Val Epoch: 11, F1: 0.7154470629539021, Precision: 0.7398592736607208, Recall: 0.710427338486039 \n",
      "\n",
      "Train Epoch: 12, Loss: 0.24193844103897866\n",
      "Val Epoch: 12, F1: 0.7145461423230686, Precision: 0.7436892166035743, Recall: 0.7077777777777777\n",
      "Val Epoch: 12, F1: 0.7147404356543835, Precision: 0.743953832445602, Recall: 0.7078972089831871 \n",
      "\n",
      "Train Epoch: 13, Loss: 0.23971132214179472\n",
      "Val Epoch: 13, F1: 0.7164713296490496, Precision: 0.7442705549691362, Recall: 0.7102222222222222\n",
      "Val Epoch: 13, F1: 0.7166693599290044, Precision: 0.7445054626622118, Recall: 0.710368196452812 \n",
      "\n",
      "Train Epoch: 14, Loss: 0.23784899108151558\n",
      "Val Epoch: 14, F1: 0.7116916358857254, Precision: 0.7449684116889673, Recall: 0.7052222222222222\n",
      "Val Epoch: 14, F1: 0.7119016355403271, Precision: 0.745220327934026, Recall: 0.7053720289522055 \n",
      "\n",
      "Train Epoch: 15, Loss: 0.23602033323123653\n",
      "Val Epoch: 15, F1: 0.7175500226285026, Precision: 0.7460518591420203, Recall: 0.7101666666666666\n",
      "Val Epoch: 15, F1: 0.7177248057319362, Precision: 0.7463488615501501, Recall: 0.7102338058246521 \n",
      "\n"
     ]
    }
   ],
   "source": [
    "model, y_pred, y_proba = train_model_2(15, 128, 0.001, SentimentClassifierTiny256(), nn.MSELoss(), False, 0.5, df=data_ru2, embed_name='tiny2', target_name='sentiment_int')"
   ]
  },
  {
   "cell_type": "code",
   "execution_count": 60,
   "metadata": {
    "colab": {
     "base_uri": "https://localhost:8080/",
     "height": 660
    },
    "executionInfo": {
     "elapsed": 2477,
     "status": "ok",
     "timestamp": 1682200966544,
     "user": {
      "displayName": "Илья Смирнов",
      "userId": "04327038012459884483"
     },
     "user_tz": -180
    },
    "id": "dX8P6ofkxx8A",
    "outputId": "b5318939-6cf2-4b3b-93a2-2efb209fb18b"
   },
   "outputs": [
    {
     "name": "stdout",
     "output_type": "stream",
     "text": [
      "Accuracy:  0.7419475655430712\n",
      "F1: 0.7968156975962177, Precision: 0.9064343223903368, Recall: 0.7419475655430712\n",
      "F1: 0.587731283885948, Precision: 0.5930318441976979, Recall: 0.7515625673520411 \n",
      "\n",
      "              precision    recall  f1-score   support\n",
      "\n",
      "          -1       0.22      0.76      0.34       228\n",
      "           1       0.97      0.74      0.84      2442\n",
      "\n",
      "    accuracy                           0.74      2670\n",
      "   macro avg       0.59      0.75      0.59      2670\n",
      "weighted avg       0.91      0.74      0.80      2670\n",
      "\n"
     ]
    },
    {
     "data": {
      "image/png": "[encoded data removed]",
      "text/plain": [
       "<Figure size 640x480 with 2 Axes>"
      ]
     },
     "metadata": {},
     "output_type": "display_data"
    }
   ],
   "source": [
    "y_pred_yand_26 = metric(yandex, 'tiny2', 'Siuu', 0, 128)"
   ]
  },
  {
   "cell_type": "code",
   "execution_count": 61,
   "metadata": {
    "colab": {
     "base_uri": "https://localhost:8080/"
    },
    "executionInfo": {
     "elapsed": 238877,
     "status": "ok",
     "timestamp": 1682201205417,
     "user": {
      "displayName": "Илья Смирнов",
      "userId": "04327038012459884483"
     },
     "user_tz": -180
    },
    "id": "e3-XNIKyxyBF",
    "outputId": "b5e13fb8-9006-4e35-c8c7-c85398b57fc8"
   },
   "outputs": [
    {
     "name": "stdout",
     "output_type": "stream",
     "text": [
      "Train Epoch: 1, Loss: 0.2888722566101286\n",
      "Val Epoch: 1, F1: 0.6968038572909135, Precision: 0.7324403027949288, Recall: 0.6903888888888889\n",
      "Val Epoch: 1, F1: 0.6978783007424111, Precision: 0.7340795122766933, Recall: 0.69078485984835 \n",
      "\n",
      "Train Epoch: 2, Loss: 0.26844021639559\n",
      "Val Epoch: 2, F1: 0.7056290608779517, Precision: 0.7308235923002421, Recall: 0.6993333333333334\n",
      "Val Epoch: 2, F1: 0.7066468435506984, Precision: 0.7323627860022404, Recall: 0.6997703073071286 \n",
      "\n",
      "Train Epoch: 3, Loss: 0.26310690116882324\n",
      "Val Epoch: 3, F1: 0.7106157147625695, Precision: 0.7311612289903977, Recall: 0.7045\n",
      "Val Epoch: 3, F1: 0.7116258236375796, Precision: 0.7327368598833388, Recall: 0.7049279216627041 \n",
      "\n",
      "Train Epoch: 4, Loss: 0.2584190766943826\n",
      "Val Epoch: 4, F1: 0.7056026095025925, Precision: 0.7419564820564079, Recall: 0.6992777777777778\n",
      "Val Epoch: 4, F1: 0.7066551847913413, Precision: 0.7435641911864738, Recall: 0.6996514411657744 \n",
      "\n",
      "Train Epoch: 5, Loss: 0.25503161008490455\n",
      "Val Epoch: 5, F1: 0.715301366466032, Precision: 0.7303442944913383, Recall: 0.7093888888888888\n",
      "Val Epoch: 5, F1: 0.7162742226610996, Precision: 0.7320254883155135, Recall: 0.7097127996683823 \n",
      "\n",
      "Train Epoch: 6, Loss: 0.25238567444350984\n",
      "Val Epoch: 6, F1: 0.7122678426166357, Precision: 0.7425258497852794, Recall: 0.7072222222222222\n",
      "Val Epoch: 6, F1: 0.7133736690462297, Precision: 0.7439425000731994, Recall: 0.7078470855383063 \n",
      "\n",
      "Train Epoch: 7, Loss: 0.2497682316104571\n",
      "Val Epoch: 7, F1: 0.7190015753182677, Precision: 0.7361134961211194, Recall: 0.7131111111111111\n",
      "Val Epoch: 7, F1: 0.7200243135609258, Precision: 0.7377284818501457, Recall: 0.7135525038110663 \n",
      "\n",
      "Train Epoch: 8, Loss: 0.24757200798723433\n",
      "Val Epoch: 8, F1: 0.6987623844438626, Precision: 0.7351849433660224, Recall: 0.6905555555555556\n",
      "Val Epoch: 8, F1: 0.6994518894250773, Precision: 0.7373413581256045, Recall: 0.6900834911236888 \n",
      "\n",
      "Train Epoch: 9, Loss: 0.2445002997053994\n",
      "Val Epoch: 9, F1: 0.7108470217826361, Precision: 0.7471130627041501, Recall: 0.7037777777777777\n",
      "Val Epoch: 9, F1: 0.7118105643515911, Precision: 0.748858533183666, Recall: 0.7039287931708126 \n",
      "\n",
      "Train Epoch: 10, Loss: 0.24192860531144672\n",
      "Val Epoch: 10, F1: 0.7192508926252198, Precision: 0.7356751103595842, Recall: 0.7153333333333334\n",
      "Val Epoch: 10, F1: 0.720357408649603, Precision: 0.7369404406149219, Recall: 0.7161792522880313 \n",
      "\n"
     ]
    }
   ],
   "source": [
    "model, y_pred, y_proba = train_model_2(10, 64, 0.001, SentimentClassifierTiny256(), nn.MSELoss(), False, 0.5, df=data_ru2, embed_name='tiny2', target_name='sentiment_int')"
   ]
  },
  {
   "cell_type": "code",
   "execution_count": 62,
   "metadata": {
    "colab": {
     "base_uri": "https://localhost:8080/",
     "height": 656
    },
    "executionInfo": {
     "elapsed": 406,
     "status": "ok",
     "timestamp": 1682201205808,
     "user": {
      "displayName": "Илья Смирнов",
      "userId": "04327038012459884483"
     },
     "user_tz": -180
    },
    "id": "4VUsd9cyxyDj",
    "outputId": "3deb2354-b0b7-47e6-fab5-815fe463264d"
   },
   "outputs": [
    {
     "name": "stdout",
     "output_type": "stream",
     "text": [
      "Accuracy:  0.8569288389513109\n",
      "F1: 0.875803281964017, Precision: 0.9052644275635522, Recall: 0.8569288389513109\n",
      "F1: 0.6689319115178223, Precision: 0.6403758305647841, Recall: 0.7428445191603086 \n",
      "\n",
      "              precision    recall  f1-score   support\n",
      "\n",
      "          -1       0.32      0.61      0.42       228\n",
      "           1       0.96      0.88      0.92      2442\n",
      "\n",
      "    accuracy                           0.86      2670\n",
      "   macro avg       0.64      0.74      0.67      2670\n",
      "weighted avg       0.91      0.86      0.88      2670\n",
      "\n"
     ]
    },
    {
     "data": {
      "image/png": "[encoded data removed]",
      "text/plain": [
       "<Figure size 640x480 with 2 Axes>"
      ]
     },
     "metadata": {},
     "output_type": "display_data"
    }
   ],
   "source": [
    "y_pred_yand_27 = metric(yandex, 'tiny2', 'Siuu', 0, 64)"
   ]
  },
  {
   "cell_type": "code",
   "execution_count": 63,
   "metadata": {
    "colab": {
     "base_uri": "https://localhost:8080/"
    },
    "executionInfo": {
     "elapsed": 250002,
     "status": "ok",
     "timestamp": 1682201455805,
     "user": {
      "displayName": "Илья Смирнов",
      "userId": "04327038012459884483"
     },
     "user_tz": -180
    },
    "id": "dRwVuyF1xyFu",
    "outputId": "1a515f0c-1662-4c71-e1a4-5df15a0b5fec"
   },
   "outputs": [
    {
     "name": "stdout",
     "output_type": "stream",
     "text": [
      "Train Epoch: 1, Loss: 0.28716732048657206\n",
      "Val Epoch: 1, F1: 0.7043765897564063, Precision: 0.7294614116646065, Recall: 0.6978333333333333\n",
      "Val Epoch: 1, F1: 0.704436607484411, Precision: 0.7290881901969289, Recall: 0.6983507677858011 \n",
      "\n",
      "Train Epoch: 2, Loss: 0.2680137966540125\n",
      "Val Epoch: 2, F1: 0.697224218873276, Precision: 0.7347026964978849, Recall: 0.6881111111111111\n",
      "Val Epoch: 2, F1: 0.6971287956111837, Precision: 0.7345058182964923, Recall: 0.6882717907976447 \n",
      "\n",
      "Train Epoch: 3, Loss: 0.2629966762761275\n",
      "Val Epoch: 3, F1: 0.707388588906115, Precision: 0.7137971795728273, Recall: 0.7058333333333333\n",
      "Val Epoch: 3, F1: 0.70737553171121, Precision: 0.7134109797809377, Recall: 0.7061653344011057 \n",
      "\n",
      "Train Epoch: 4, Loss: 0.25809533535440765\n",
      "Val Epoch: 4, F1: 0.7068401191247498, Precision: 0.7496830707468111, Recall: 0.701\n",
      "Val Epoch: 4, F1: 0.7070326796767223, Precision: 0.7491261868537055, Recall: 0.7019073125923373 \n",
      "\n",
      "Train Epoch: 5, Loss: 0.2543589746952057\n",
      "Val Epoch: 5, F1: 0.7130901334338433, Precision: 0.7464478626233216, Recall: 0.7075555555555556\n",
      "Val Epoch: 5, F1: 0.713246158058333, Precision: 0.7459352161734968, Recall: 0.7083508869409844 \n",
      "\n",
      "Train Epoch: 6, Loss: 0.25141841532124415\n",
      "Val Epoch: 6, F1: 0.7119617181007283, Precision: 0.737415819239496, Recall: 0.7082222222222222\n",
      "Val Epoch: 6, F1: 0.7121397638985405, Precision: 0.736898020095167, Recall: 0.7090258953634857 \n",
      "\n",
      "Train Epoch: 7, Loss: 0.2483126884036594\n",
      "Val Epoch: 7, F1: 0.7177776033614949, Precision: 0.7377377005511724, Recall: 0.7128888888888889\n",
      "Val Epoch: 7, F1: 0.7178667740584214, Precision: 0.7373317050955731, Recall: 0.7134608360869259 \n",
      "\n"
     ]
    }
   ],
   "source": [
    "model, y_pred, y_proba = train_model_2(7, 32, 0.001, SentimentClassifierTiny256(), nn.MSELoss(), False, 0.5, df=data_ru2, embed_name='tiny2', target_name='sentiment_int')"
   ]
  },
  {
   "cell_type": "code",
   "execution_count": 64,
   "metadata": {
    "colab": {
     "base_uri": "https://localhost:8080/",
     "height": 656
    },
    "executionInfo": {
     "elapsed": 426,
     "status": "ok",
     "timestamp": 1682201456216,
     "user": {
      "displayName": "Илья Смирнов",
      "userId": "04327038012459884483"
     },
     "user_tz": -180
    },
    "id": "xUA3HiMPyRWr",
    "outputId": "6a813fd3-77b5-4a22-8f7f-6a394dfb89f7"
   },
   "outputs": [
    {
     "name": "stdout",
     "output_type": "stream",
     "text": [
      "Accuracy:  0.8569288389513109\n",
      "F1: 0.8753204172986161, Precision: 0.9034779043525373, Recall: 0.8569288389513109\n",
      "F1: 0.6654288994587502, Precision: 0.6378602992022399, Recall: 0.7348915901547481 \n",
      "\n",
      "              precision    recall  f1-score   support\n",
      "\n",
      "          -1       0.32      0.59      0.41       228\n",
      "           1       0.96      0.88      0.92      2442\n",
      "\n",
      "    accuracy                           0.86      2670\n",
      "   macro avg       0.64      0.73      0.67      2670\n",
      "weighted avg       0.90      0.86      0.88      2670\n",
      "\n"
     ]
    },
    {
     "data": {
      "image/png": "[encoded data removed]",
      "text/plain": [
       "<Figure size 640x480 with 2 Axes>"
      ]
     },
     "metadata": {},
     "output_type": "display_data"
    }
   ],
   "source": [
    "y_pred_yand_28 = metric(yandex, 'tiny2', 'Siuu', 0, 32)"
   ]
  },
  {
   "cell_type": "code",
   "execution_count": 65,
   "metadata": {
    "colab": {
     "base_uri": "https://localhost:8080/"
    },
    "executionInfo": {
     "elapsed": 289067,
     "status": "ok",
     "timestamp": 1682201745280,
     "user": {
      "displayName": "Илья Смирнов",
      "userId": "04327038012459884483"
     },
     "user_tz": -180
    },
    "id": "XlmS_tFMyRY9",
    "outputId": "b990f455-f3f3-4871-f473-60d40b5c513d"
   },
   "outputs": [
    {
     "name": "stdout",
     "output_type": "stream",
     "text": [
      "Train Epoch: 1, Loss: 0.28493268283166817\n",
      "Val Epoch: 1, F1: 0.7032487470592684, Precision: 0.7198089891654533, Recall: 0.6967222222222222\n",
      "Val Epoch: 1, F1: 0.7033171348849887, Precision: 0.7197988531074314, Recall: 0.696946636505837 \n",
      "\n",
      "Train Epoch: 2, Loss: 0.2668603158469001\n",
      "Val Epoch: 2, F1: 0.7005771057135464, Precision: 0.7320517519469804, Recall: 0.6932777777777778\n",
      "Val Epoch: 2, F1: 0.70083573011784, Precision: 0.7318206729171682, Recall: 0.6940885214658978 \n",
      "\n",
      "Train Epoch: 3, Loss: 0.26132197802265483\n",
      "Val Epoch: 3, F1: 0.7068814411058523, Precision: 0.7262872588785328, Recall: 0.7031666666666667\n",
      "Val Epoch: 3, F1: 0.7072392591385146, Precision: 0.7258509942873337, Recall: 0.7042315164052274 \n",
      "\n",
      "Train Epoch: 4, Loss: 0.2563726532186071\n",
      "Val Epoch: 4, F1: 0.7118604478213935, Precision: 0.7393919322749379, Recall: 0.7051666666666667\n",
      "Val Epoch: 4, F1: 0.7121260931781049, Precision: 0.7391643278315341, Recall: 0.7059711122381641 \n",
      "\n",
      "Train Epoch: 5, Loss: 0.2525583582164513\n",
      "Val Epoch: 5, F1: 0.7102596807484232, Precision: 0.7372584054792392, Recall: 0.7025555555555556\n",
      "Val Epoch: 5, F1: 0.710385883084124, Precision: 0.7371884217679412, Recall: 0.703000752708962 \n",
      "\n"
     ]
    }
   ],
   "source": [
    "model, y_pred, y_proba = train_model_2(5, 16, 0.001, SentimentClassifierTiny256(), nn.MSELoss(), False, 0.5, df=data_ru2, embed_name='tiny2', target_name='sentiment_int')"
   ]
  },
  {
   "cell_type": "code",
   "execution_count": 66,
   "metadata": {
    "colab": {
     "base_uri": "https://localhost:8080/",
     "height": 656
    },
    "executionInfo": {
     "elapsed": 1018,
     "status": "ok",
     "timestamp": 1682201746284,
     "user": {
      "displayName": "Илья Смирнов",
      "userId": "04327038012459884483"
     },
     "user_tz": -180
    },
    "id": "Fr7m-GclyRoA",
    "outputId": "05242ede-66c2-4db0-9a90-beb6ba90408f"
   },
   "outputs": [
    {
     "name": "stdout",
     "output_type": "stream",
     "text": [
      "Accuracy:  0.8250936329588014\n",
      "F1: 0.8556045182787028, Precision: 0.9100577556973006, Recall: 0.8250936329588014\n",
      "F1: 0.6527483618274679, Precision: 0.6276094557828304, Recall: 0.7711700935385146 \n",
      "\n",
      "              precision    recall  f1-score   support\n",
      "\n",
      "          -1       0.29      0.71      0.41       228\n",
      "           1       0.97      0.84      0.90      2442\n",
      "\n",
      "    accuracy                           0.83      2670\n",
      "   macro avg       0.63      0.77      0.65      2670\n",
      "weighted avg       0.91      0.83      0.86      2670\n",
      "\n"
     ]
    },
    {
     "data": {
      "image/png": "[encoded data removed]",
      "text/plain": [
       "<Figure size 640x480 with 2 Axes>"
      ]
     },
     "metadata": {},
     "output_type": "display_data"
    }
   ],
   "source": [
    "y_pred_yand_29 = metric(yandex, 'tiny2', 'Siuu', 0, 16)"
   ]
  },
  {
   "cell_type": "markdown",
   "metadata": {
    "id": "puWGFJ8XyquX"
   },
   "source": [
    "# **Обучение USE-M на 64 нейрона**"
   ]
  },
  {
   "cell_type": "code",
   "execution_count": 67,
   "metadata": {
    "colab": {
     "base_uri": "https://localhost:8080/"
    },
    "executionInfo": {
     "elapsed": 129245,
     "status": "ok",
     "timestamp": 1682201875524,
     "user": {
      "displayName": "Илья Смирнов",
      "userId": "04327038012459884483"
     },
     "user_tz": -180
    },
    "id": "90nuiYOCyxqg",
    "outputId": "270bba9a-b824-4756-d286-1341d77053d4"
   },
   "outputs": [
    {
     "name": "stdout",
     "output_type": "stream",
     "text": [
      "Train Epoch: 1, Loss: -67.16117901996863\n",
      "Val Epoch: 1, F1: 0.5089873550862073, Precision: 0.5914586603623807, Recall: 0.6136666666666667\n",
      "Val Epoch: 1, F1: 0.5076754924507351, Precision: 0.5913469176314482, Recall: 0.6119496479778308 \n",
      "\n",
      "Train Epoch: 2, Loss: -70.03955115052354\n",
      "Val Epoch: 2, F1: 0.5073261974471189, Precision: 0.616785459523853, Recall: 0.6161666666666666\n",
      "Val Epoch: 2, F1: 0.505979126803454, Precision: 0.6168078075754683, Recall: 0.6143835839773665 \n",
      "\n",
      "Train Epoch: 3, Loss: -70.39101227646823\n",
      "Val Epoch: 3, F1: 0.5060466260619145, Precision: 0.6256325044729494, Recall: 0.6165\n",
      "Val Epoch: 3, F1: 0.5046848617695148, Precision: 0.6257047198316451, Recall: 0.6146999465771186 \n",
      "\n",
      "Train Epoch: 4, Loss: -70.64118360160299\n",
      "Val Epoch: 4, F1: 0.5018743691429403, Precision: 0.5984331035911443, Recall: 0.6144444444444445\n",
      "Val Epoch: 4, F1: 0.5005000714260072, Precision: 0.5983592630040523, Recall: 0.6126522476684381 \n",
      "\n",
      "Train Epoch: 5, Loss: -70.73926741276499\n",
      "Val Epoch: 5, F1: 0.49562663020459147, Precision: 0.617558856954176, Recall: 0.6099444444444444\n",
      "Val Epoch: 5, F1: 0.49424841903055894, Precision: 0.6176356841203763, Recall: 0.6081809781193841 \n",
      "\n",
      "Train Epoch: 6, Loss: -70.6247013610379\n",
      "Val Epoch: 6, F1: 0.4973770671018667, Precision: 0.5778272759615681, Recall: 0.6128333333333333\n",
      "Val Epoch: 6, F1: 0.4959798860910993, Precision: 0.5776386773116137, Recall: 0.6110284119527004 \n",
      "\n",
      "Train Epoch: 7, Loss: -70.85835871772699\n",
      "Val Epoch: 7, F1: 0.4991142833625296, Precision: 0.6173763073384705, Recall: 0.6132777777777778\n",
      "Val Epoch: 7, F1: 0.4977260816330715, Precision: 0.6174163651044867, Recall: 0.6114633491783402 \n",
      "\n",
      "Train Epoch: 8, Loss: -70.97313440841214\n",
      "Val Epoch: 8, F1: 0.5008179098578895, Precision: 0.6003389742371738, Recall: 0.6151111111111112\n",
      "Val Epoch: 8, F1: 0.4994188805873488, Precision: 0.6002439727045435, Recall: 0.6132724165418278 \n",
      "\n",
      "Train Epoch: 9, Loss: -70.84472003076259\n",
      "Val Epoch: 9, F1: 0.49864493419573963, Precision: 0.6294937811706962, Recall: 0.6139444444444444\n",
      "Val Epoch: 9, F1: 0.4972496792228395, Precision: 0.629607708969201, Recall: 0.6121280755235072 \n",
      "\n",
      "Train Epoch: 10, Loss: -70.8400135446823\n",
      "Val Epoch: 10, F1: 0.5004430618008446, Precision: 0.6181707082695551, Recall: 0.6132777777777778\n",
      "Val Epoch: 10, F1: 0.49905177194125194, Precision: 0.6181795124247009, Recall: 0.6114365451015688 \n",
      "\n",
      "Train Epoch: 11, Loss: -71.05465258925253\n",
      "Val Epoch: 11, F1: 0.4938821661770609, Precision: 0.6238572679619444, Recall: 0.6104444444444445\n",
      "Val Epoch: 11, F1: 0.4924854010552053, Precision: 0.6239697355743056, Recall: 0.6086584037700867 \n",
      "\n",
      "Train Epoch: 12, Loss: -71.02132277802083\n",
      "Val Epoch: 12, F1: 0.4959307904909159, Precision: 0.592652608483128, Recall: 0.6127777777777778\n",
      "Val Epoch: 12, F1: 0.49452229512554036, Precision: 0.5925487731049908, Recall: 0.6109530412311653 \n",
      "\n",
      "Train Epoch: 13, Loss: -71.04591960805348\n",
      "Val Epoch: 13, F1: 0.4965414069868953, Precision: 0.6246382994155019, Recall: 0.6076111111111111\n",
      "Val Epoch: 13, F1: 0.49514907231995514, Precision: 0.6246620371755642, Recall: 0.6057496954892335 \n",
      "\n",
      "Train Epoch: 14, Loss: -70.83328998406446\n",
      "Val Epoch: 14, F1: 0.49688835621939204, Precision: 0.6068763861542746, Recall: 0.6092777777777778\n",
      "Val Epoch: 14, F1: 0.4954922657467867, Precision: 0.606807808892074, Recall: 0.6074232219659942 \n",
      "\n",
      "Train Epoch: 15, Loss: -70.9729300205915\n",
      "Val Epoch: 15, F1: 0.49723562508673946, Precision: 0.6411179084627702, Recall: 0.6143333333333333\n",
      "Val Epoch: 15, F1: 0.49582568253975023, Precision: 0.64130247119311, Recall: 0.6125079586643633 \n",
      "\n"
     ]
    }
   ],
   "source": [
    "model, y_pred, y_proba = train_model_2(15, 128, 0.001, SentimentClassifier64(), nn.CrossEntropyLoss(), False, 0.5, df=data_ru, embed_name='USE_M', target_name='sentiment_int')"
   ]
  },
  {
   "cell_type": "code",
   "execution_count": 68,
   "metadata": {
    "colab": {
     "base_uri": "https://localhost:8080/",
     "height": 656
    },
    "executionInfo": {
     "elapsed": 570,
     "status": "ok",
     "timestamp": 1682201876080,
     "user": {
      "displayName": "Илья Смирнов",
      "userId": "04327038012459884483"
     },
     "user_tz": -180
    },
    "id": "Of8M3jApyyE1",
    "outputId": "b0f01e6f-3e0a-4ba9-c004-b4c4ed365e39"
   },
   "outputs": [
    {
     "name": "stdout",
     "output_type": "stream",
     "text": [
      "Accuracy:  0.8685393258426967\n",
      "F1: 0.885268336977918, Precision: 0.9122646112452757, Recall: 0.8685393258426967\n",
      "F1: 0.6913519461225259, Precision: 0.6588410984669768, Recall: 0.7690740980214665 \n",
      "\n",
      "              precision    recall  f1-score   support\n",
      "\n",
      "          -1       0.35      0.65      0.46       228\n",
      "           1       0.96      0.89      0.93      2442\n",
      "\n",
      "    accuracy                           0.87      2670\n",
      "   macro avg       0.66      0.77      0.69      2670\n",
      "weighted avg       0.91      0.87      0.89      2670\n",
      "\n"
     ]
    },
    {
     "data": {
      "image/png": "[encoded data removed]",
      "text/plain": [
       "<Figure size 640x480 with 2 Axes>"
      ]
     },
     "metadata": {},
     "output_type": "display_data"
    }
   ],
   "source": [
    "y_pred_yand_30 = metric(yandex, 'USE_M', 'Siuu', 0, 128)"
   ]
  },
  {
   "cell_type": "code",
   "execution_count": 69,
   "metadata": {
    "colab": {
     "base_uri": "https://localhost:8080/"
    },
    "executionInfo": {
     "elapsed": 121053,
     "status": "ok",
     "timestamp": 1682201997424,
     "user": {
      "displayName": "Илья Смирнов",
      "userId": "04327038012459884483"
     },
     "user_tz": -180
    },
    "id": "imSp8EqGyyHl",
    "outputId": "4f66abab-ee18-4afb-bde3-68b200b07b43"
   },
   "outputs": [
    {
     "name": "stdout",
     "output_type": "stream",
     "text": [
      "Train Epoch: 1, Loss: -33.971375566906396\n",
      "Val Epoch: 1, F1: 0.5025405988208319, Precision: 0.5853693208072602, Recall: 0.6108888888888889\n",
      "Val Epoch: 1, F1: 0.5000219829772444, Precision: 0.5844711145454684, Recall: 0.6082169121526679 \n",
      "\n",
      "Train Epoch: 2, Loss: -35.02567414347331\n",
      "Val Epoch: 2, F1: 0.5020170514415915, Precision: 0.6014896805152712, Recall: 0.6122777777777778\n",
      "Val Epoch: 2, F1: 0.49945042562445935, Precision: 0.6006656890516897, Recall: 0.6096175137785779 \n",
      "\n",
      "Train Epoch: 3, Loss: -35.29192159377204\n",
      "Val Epoch: 3, F1: 0.4970555665021182, Precision: 0.6157745243205692, Recall: 0.6113888888888889\n",
      "Val Epoch: 3, F1: 0.4945846919186088, Precision: 0.6154157729740973, Recall: 0.6085878466081615 \n",
      "\n",
      "Train Epoch: 4, Loss: -35.26382934909397\n",
      "Val Epoch: 4, F1: 0.4986477369997819, Precision: 0.5958621223733367, Recall: 0.6111111111111112\n",
      "Val Epoch: 4, F1: 0.49601172119801973, Precision: 0.5948996946956079, Recall: 0.6084579786877283 \n",
      "\n",
      "Train Epoch: 5, Loss: -35.243286987304685\n",
      "Val Epoch: 5, F1: 0.4969765670250383, Precision: 0.614346875443361, Recall: 0.6129444444444444\n",
      "Val Epoch: 5, F1: 0.49445224119397374, Precision: 0.6139334832968786, Recall: 0.6100875435258597 \n",
      "\n",
      "Train Epoch: 6, Loss: -35.27101950920953\n",
      "Val Epoch: 6, F1: 0.4960452502102744, Precision: 0.6224700004477273, Recall: 0.6128333333333333\n",
      "Val Epoch: 6, F1: 0.49352767568306116, Precision: 0.6221668132792421, Recall: 0.6099596875970738 \n",
      "\n",
      "Train Epoch: 7, Loss: -35.21467129558987\n",
      "Val Epoch: 7, F1: 0.48846778242856254, Precision: 0.5951829165254642, Recall: 0.6062222222222222\n",
      "Val Epoch: 7, F1: 0.486044780958244, Precision: 0.5948936951539628, Recall: 0.6032450829732754 \n",
      "\n",
      "Train Epoch: 8, Loss: -34.95280215623644\n",
      "Val Epoch: 8, F1: 0.4967118092176234, Precision: 0.6087458409962757, Recall: 0.6124444444444445\n",
      "Val Epoch: 8, F1: 0.49410207089498365, Precision: 0.6080765345940525, Recall: 0.6096811435262539 \n",
      "\n",
      "Train Epoch: 9, Loss: -35.38390237850613\n",
      "Val Epoch: 9, F1: 0.4982416481995062, Precision: 0.6038265041665211, Recall: 0.6136111111111111\n",
      "Val Epoch: 9, F1: 0.4956861053421826, Precision: 0.6031968738828485, Recall: 0.6108328857597066 \n",
      "\n",
      "Train Epoch: 10, Loss: -35.1652683368259\n",
      "Val Epoch: 10, F1: 0.49656558124847816, Precision: 0.5642570962065396, Recall: 0.6118333333333333\n",
      "Val Epoch: 10, F1: 0.4939271591191721, Precision: 0.5630739573596277, Recall: 0.6091267239287187 \n",
      "\n"
     ]
    }
   ],
   "source": [
    "model, y_pred, y_proba = train_model_2(10, 64, 0.001, SentimentClassifier64(), nn.CrossEntropyLoss(), False, 0.5, df=data_ru, embed_name='USE_M', target_name='sentiment_int')"
   ]
  },
  {
   "cell_type": "code",
   "execution_count": 70,
   "metadata": {
    "colab": {
     "base_uri": "https://localhost:8080/",
     "height": 656
    },
    "executionInfo": {
     "elapsed": 888,
     "status": "ok",
     "timestamp": 1682201998300,
     "user": {
      "displayName": "Илья Смирнов",
      "userId": "04327038012459884483"
     },
     "user_tz": -180
    },
    "id": "Nuga5vK0yyKT",
    "outputId": "4ac2be80-8ff8-4a80-f62b-3f9064f7ba49"
   },
   "outputs": [
    {
     "name": "stdout",
     "output_type": "stream",
     "text": [
      "Accuracy:  0.8745318352059925\n",
      "F1: 0.8891271658027331, Precision: 0.9119673533691454, Recall: 0.8745318352059925\n",
      "F1: 0.6956297889094158, Precision: 0.6638169425511198, Recall: 0.7643971722919092 \n",
      "\n",
      "              precision    recall  f1-score   support\n",
      "\n",
      "          -1       0.36      0.63      0.46       228\n",
      "           1       0.96      0.90      0.93      2442\n",
      "\n",
      "    accuracy                           0.87      2670\n",
      "   macro avg       0.66      0.76      0.70      2670\n",
      "weighted avg       0.91      0.87      0.89      2670\n",
      "\n"
     ]
    },
    {
     "data": {
      "image/png": "[encoded data removed]",
      "text/plain": [
       "<Figure size 640x480 with 2 Axes>"
      ]
     },
     "metadata": {},
     "output_type": "display_data"
    }
   ],
   "source": [
    "y_pred_yand_31 = metric(yandex, 'USE_M', 'Siuu', 0, 64)"
   ]
  },
  {
   "cell_type": "code",
   "execution_count": 71,
   "metadata": {
    "colab": {
     "base_uri": "https://localhost:8080/"
    },
    "executionInfo": {
     "elapsed": 130706,
     "status": "ok",
     "timestamp": 1682202129001,
     "user": {
      "displayName": "Илья Смирнов",
      "userId": "04327038012459884483"
     },
     "user_tz": -180
    },
    "id": "akv04VZ2yyM4",
    "outputId": "52ae189c-fe39-4fb9-d196-1c66477895c3"
   },
   "outputs": [
    {
     "name": "stdout",
     "output_type": "stream",
     "text": [
      "Train Epoch: 1, Loss: -16.736114511913723\n",
      "Val Epoch: 1, F1: 0.4938275079726443, Precision: 0.6094386902427387, Recall: 0.6022777777777778\n",
      "Val Epoch: 1, F1: 0.4980793303295547, Precision: 0.6095616376985947, Recall: 0.6080136007750259 \n",
      "\n",
      "Train Epoch: 2, Loss: -17.0996490117179\n",
      "Val Epoch: 2, F1: 0.48204197211467037, Precision: 0.601861095861387, Recall: 0.6003888888888889\n",
      "Val Epoch: 2, F1: 0.48640169358281476, Precision: 0.6017745826223403, Recall: 0.6059230774390844 \n",
      "\n",
      "Train Epoch: 3, Loss: -17.17319568655226\n",
      "Val Epoch: 3, F1: 0.48274647234304696, Precision: 0.5523124215673304, Recall: 0.6031111111111112\n",
      "Val Epoch: 3, F1: 0.4871674659372592, Precision: 0.5531864207534566, Recall: 0.6087900805449945 \n",
      "\n",
      "Train Epoch: 4, Loss: -17.15968229389191\n",
      "Val Epoch: 4, F1: 0.4815919530998575, Precision: 0.559519029813408, Recall: 0.6022777777777778\n",
      "Val Epoch: 4, F1: 0.4860160840873375, Precision: 0.5602381952252699, Recall: 0.6079365580659993 \n",
      "\n",
      "Train Epoch: 5, Loss: -17.2471445089976\n",
      "Val Epoch: 5, F1: 0.4863347479061099, Precision: 0.6365205943591674, Recall: 0.6062777777777778\n",
      "Val Epoch: 5, F1: 0.4907531664315005, Precision: 0.6358990116046411, Recall: 0.6119905328595912 \n",
      "\n",
      "Train Epoch: 6, Loss: -17.31576586034563\n",
      "Val Epoch: 6, F1: 0.48824650342635917, Precision: 0.622474826916043, Recall: 0.6052222222222222\n",
      "Val Epoch: 6, F1: 0.4926483856085934, Precision: 0.6222395896168164, Recall: 0.6110187074492851 \n",
      "\n",
      "Train Epoch: 7, Loss: -17.28576950263977\n",
      "Val Epoch: 7, F1: 0.4829879199773272, Precision: 0.6366230525991006, Recall: 0.6037777777777777\n",
      "Val Epoch: 7, F1: 0.48741971439444587, Precision: 0.635942173505724, Recall: 0.6094473489212768 \n",
      "\n"
     ]
    }
   ],
   "source": [
    "model, y_pred, y_proba = train_model_2(7, 32, 0.001, SentimentClassifier64(), nn.CrossEntropyLoss(), False, 0.5, df=data_ru, embed_name='USE_M', target_name='sentiment_int')"
   ]
  },
  {
   "cell_type": "code",
   "execution_count": 72,
   "metadata": {
    "colab": {
     "base_uri": "https://localhost:8080/",
     "height": 656
    },
    "executionInfo": {
     "elapsed": 744,
     "status": "ok",
     "timestamp": 1682202129732,
     "user": {
      "displayName": "Илья Смирнов",
      "userId": "04327038012459884483"
     },
     "user_tz": -180
    },
    "id": "20aCbXNSyyPf",
    "outputId": "43ec506d-ecc1-4af6-adb3-dab33194db85"
   },
   "outputs": [
    {
     "name": "stdout",
     "output_type": "stream",
     "text": [
      "Accuracy:  0.8269662921348314\n",
      "F1: 0.8562097267687047, Precision: 0.906597035395896, Recall: 0.8269662921348314\n",
      "F1: 0.648693815616798, Precision: 0.6240610328638498, Recall: 0.7562879865511445 \n",
      "\n",
      "              precision    recall  f1-score   support\n",
      "\n",
      "          -1       0.28      0.67      0.40       228\n",
      "           1       0.96      0.84      0.90      2442\n",
      "\n",
      "    accuracy                           0.83      2670\n",
      "   macro avg       0.62      0.76      0.65      2670\n",
      "weighted avg       0.91      0.83      0.86      2670\n",
      "\n"
     ]
    },
    {
     "data": {
      "image/png": "[encoded data removed]",
      "text/plain": [
       "<Figure size 640x480 with 2 Axes>"
      ]
     },
     "metadata": {},
     "output_type": "display_data"
    }
   ],
   "source": [
    "y_pred_yand_32 = metric(yandex, 'USE_M', 'Siuu', 0, 32)"
   ]
  },
  {
   "cell_type": "code",
   "execution_count": 73,
   "metadata": {
    "colab": {
     "base_uri": "https://localhost:8080/"
    },
    "executionInfo": {
     "elapsed": 161408,
     "status": "ok",
     "timestamp": 1682202291135,
     "user": {
      "displayName": "Илья Смирнов",
      "userId": "04327038012459884483"
     },
     "user_tz": -180
    },
    "id": "EbUhTPKlyyRq",
    "outputId": "c9442dee-941c-4dab-d6d9-bdf644884e57"
   },
   "outputs": [
    {
     "name": "stdout",
     "output_type": "stream",
     "text": [
      "Train Epoch: 1, Loss: -7.952482021172841\n",
      "Val Epoch: 1, F1: 0.49398069368037534, Precision: 0.5831600182557264, Recall: 0.6071111111111112\n",
      "Val Epoch: 1, F1: 0.49355064946090543, Precision: 0.5838724766336463, Recall: 0.6056568839318154 \n",
      "\n",
      "Train Epoch: 2, Loss: -8.104258051978217\n",
      "Val Epoch: 2, F1: 0.49349597453889954, Precision: 0.6204995690504033, Recall: 0.6103888888888889\n",
      "Val Epoch: 2, F1: 0.49288310994974305, Precision: 0.6209660632762325, Recall: 0.6092861480314733 \n",
      "\n",
      "Train Epoch: 3, Loss: -8.062043149338828\n",
      "Val Epoch: 3, F1: 0.47801515982101533, Precision: 0.5769882399993991, Recall: 0.5946666666666667\n",
      "Val Epoch: 3, F1: 0.4771498973639809, Precision: 0.576772344879268, Recall: 0.5940277548930353 \n",
      "\n",
      "Train Epoch: 4, Loss: -8.140961399316788\n",
      "Val Epoch: 4, F1: 0.5000387753984212, Precision: 0.6121386313739144, Recall: 0.6115555555555555\n",
      "Val Epoch: 4, F1: 0.4994491256626717, Precision: 0.6125467436514566, Recall: 0.610507813644126 \n",
      "\n",
      "Train Epoch: 5, Loss: -8.221452763742871\n",
      "Val Epoch: 5, F1: 0.4939885374538646, Precision: 0.586741610686082, Recall: 0.6116666666666667\n",
      "Val Epoch: 5, F1: 0.4934936463123291, Precision: 0.5873027051022635, Recall: 0.6104032284151643 \n",
      "\n"
     ]
    }
   ],
   "source": [
    "model, y_pred, y_proba = train_model_2(5, 16, 0.001, SentimentClassifier64(), nn.CrossEntropyLoss(), False, 0.5, df=data_ru, embed_name='USE_M', target_name='sentiment_int')"
   ]
  },
  {
   "cell_type": "code",
   "execution_count": 74,
   "metadata": {
    "colab": {
     "base_uri": "https://localhost:8080/",
     "height": 656
    },
    "executionInfo": {
     "elapsed": 743,
     "status": "ok",
     "timestamp": 1682202291858,
     "user": {
      "displayName": "Илья Смирнов",
      "userId": "04327038012459884483"
     },
     "user_tz": -180
    },
    "id": "SlZCGVSpyyav",
    "outputId": "f7e931b1-bacb-4bee-c366-dec8bfb4fa7b"
   },
   "outputs": [
    {
     "name": "stdout",
     "output_type": "stream",
     "text": [
      "Accuracy:  0.850936329588015\n",
      "F1: 0.8725703824772176, Precision: 0.9080776407409892, Recall: 0.850936329588015\n",
      "F1: 0.6696136320674937, Precision: 0.6400461515615719, Recall: 0.7574626061468166 \n",
      "\n",
      "              precision    recall  f1-score   support\n",
      "\n",
      "          -1       0.32      0.64      0.42       228\n",
      "           1       0.96      0.87      0.91      2442\n",
      "\n",
      "    accuracy                           0.85      2670\n",
      "   macro avg       0.64      0.76      0.67      2670\n",
      "weighted avg       0.91      0.85      0.87      2670\n",
      "\n"
     ]
    },
    {
     "data": {
      "image/png": "[encoded data removed]",
      "text/plain": [
       "<Figure size 640x480 with 2 Axes>"
      ]
     },
     "metadata": {},
     "output_type": "display_data"
    }
   ],
   "source": [
    "y_pred_yand_33 = metric(yandex, 'USE_M', 'Siuu', 0, 16)"
   ]
  },
  {
   "cell_type": "code",
   "execution_count": 75,
   "metadata": {
    "colab": {
     "base_uri": "https://localhost:8080/"
    },
    "executionInfo": {
     "elapsed": 126810,
     "status": "ok",
     "timestamp": 1682202418663,
     "user": {
      "displayName": "Илья Смирнов",
      "userId": "04327038012459884483"
     },
     "user_tz": -180
    },
    "id": "PbRYHq2qyydX",
    "outputId": "d7475897-7a7e-4d65-cfea-4609b10b17e6"
   },
   "outputs": [
    {
     "name": "stdout",
     "output_type": "stream",
     "text": [
      "Train Epoch: 1, Loss: 0.27044674034228755\n",
      "Val Epoch: 1, F1: 0.7197749312090763, Precision: 0.7399295675860146, Recall: 0.7127777777777777\n",
      "Val Epoch: 1, F1: 0.7193803635255196, Precision: 0.7391367658415139, Recall: 0.7128086773883361 \n",
      "\n",
      "Train Epoch: 2, Loss: 0.2449664397572116\n",
      "Val Epoch: 2, F1: 0.7154678907625461, Precision: 0.7492282331441323, Recall: 0.7113888888888888\n",
      "Val Epoch: 2, F1: 0.7151865480456484, Precision: 0.7483457291253036, Recall: 0.7117557267702606 \n",
      "\n",
      "Train Epoch: 3, Loss: 0.2413402436099298\n",
      "Val Epoch: 3, F1: 0.7235781974652085, Precision: 0.7458808997037799, Recall: 0.7173888888888889\n",
      "Val Epoch: 3, F1: 0.723222331637368, Precision: 0.7450646200832688, Recall: 0.7175360103066116 \n",
      "\n",
      "Train Epoch: 4, Loss: 0.23801715979038293\n",
      "Val Epoch: 4, F1: 0.7241950197966645, Precision: 0.7426513424197555, Recall: 0.7204444444444444\n",
      "Val Epoch: 4, F1: 0.7238479846328415, Precision: 0.7418823017750915, Recall: 0.7205478420401913 \n",
      "\n",
      "Train Epoch: 5, Loss: 0.23370079970116303\n",
      "Val Epoch: 5, F1: 0.7259447837563633, Precision: 0.7521443395184002, Recall: 0.7205\n",
      "Val Epoch: 5, F1: 0.7256172224014739, Precision: 0.7512989534831812, Recall: 0.7207375593563444 \n",
      "\n",
      "Train Epoch: 6, Loss: 0.23006962782324525\n",
      "Val Epoch: 6, F1: 0.7280183317568276, Precision: 0.7454491279059923, Recall: 0.7227777777777777\n",
      "Val Epoch: 6, F1: 0.7276420127516792, Precision: 0.7446719461401509, Recall: 0.7228355661022282 \n",
      "\n",
      "Train Epoch: 7, Loss: 0.22707420877357995\n",
      "Val Epoch: 7, F1: 0.7264180020281773, Precision: 0.7512698783677069, Recall: 0.7188333333333333\n",
      "Val Epoch: 7, F1: 0.7260437738310124, Precision: 0.7504377736316471, Recall: 0.7189502099788259 \n",
      "\n",
      "Train Epoch: 8, Loss: 0.22264804594470172\n",
      "Val Epoch: 8, F1: 0.7257893323894823, Precision: 0.749282963361286, Recall: 0.7207222222222223\n",
      "Val Epoch: 8, F1: 0.7254487416467116, Precision: 0.7484573747602637, Recall: 0.7209079413518266 \n",
      "\n",
      "Train Epoch: 9, Loss: 0.21967597996574523\n",
      "Val Epoch: 9, F1: 0.7297756305821849, Precision: 0.7546379640389892, Recall: 0.7245\n",
      "Val Epoch: 9, F1: 0.729446663567073, Precision: 0.7538047336574399, Recall: 0.7247205970602718 \n",
      "\n",
      "Train Epoch: 10, Loss: 0.21596320007876435\n",
      "Val Epoch: 10, F1: 0.731238741817342, Precision: 0.7518056112818544, Recall: 0.7248888888888889\n",
      "Val Epoch: 10, F1: 0.7308716684149913, Precision: 0.751004791596797, Recall: 0.7249937401413282 \n",
      "\n",
      "Train Epoch: 11, Loss: 0.21225151689607338\n",
      "Val Epoch: 11, F1: 0.7310353524349248, Precision: 0.751318634646269, Recall: 0.7259444444444444\n",
      "Val Epoch: 11, F1: 0.730684905115857, Precision: 0.7505224441723257, Recall: 0.7260779225272707 \n",
      "\n",
      "Train Epoch: 12, Loss: 0.20910133506116815\n",
      "Val Epoch: 12, F1: 0.7284131211609498, Precision: 0.7516877528665884, Recall: 0.7223333333333334\n",
      "Val Epoch: 12, F1: 0.7280630475703741, Precision: 0.7508608545476237, Recall: 0.7225046444053347 \n",
      "\n",
      "Train Epoch: 13, Loss: 0.20563438516209434\n",
      "Val Epoch: 13, F1: 0.7315025587251847, Precision: 0.7492885588207213, Recall: 0.7273333333333334\n",
      "Val Epoch: 13, F1: 0.7311429843624343, Precision: 0.7485154296780644, Recall: 0.7274172604980803 \n",
      "\n",
      "Train Epoch: 14, Loss: 0.20174466224377363\n",
      "Val Epoch: 14, F1: 0.72981522432728, Precision: 0.751657887414782, Recall: 0.7232777777777778\n",
      "Val Epoch: 14, F1: 0.7294492257759835, Precision: 0.7508422229382045, Recall: 0.7234019314252887 \n",
      "\n",
      "Train Epoch: 15, Loss: 0.19805689108414082\n",
      "Val Epoch: 15, F1: 0.7305111190074197, Precision: 0.7429346766155902, Recall: 0.7252222222222222\n",
      "Val Epoch: 15, F1: 0.7300986500549677, Precision: 0.7422188149739446, Recall: 0.725132675483433 \n",
      "\n"
     ]
    }
   ],
   "source": [
    "model, y_pred, y_proba = train_model_2(15, 128, 0.001, SentimentClassifier64(), nn.MSELoss(), False, 0.5, df=data_ru, embed_name='USE_M', target_name='sentiment_int')"
   ]
  },
  {
   "cell_type": "code",
   "execution_count": 76,
   "metadata": {
    "colab": {
     "base_uri": "https://localhost:8080/",
     "height": 656
    },
    "executionInfo": {
     "elapsed": 673,
     "status": "ok",
     "timestamp": 1682202419320,
     "user": {
      "displayName": "Илья Смирнов",
      "userId": "04327038012459884483"
     },
     "user_tz": -180
    },
    "id": "2QEpkQJjyyid",
    "outputId": "b748b8aa-423b-465c-8561-88eb1533be8b"
   },
   "outputs": [
    {
     "name": "stdout",
     "output_type": "stream",
     "text": [
      "Accuracy:  0.8550561797752809\n",
      "F1: 0.8749402168206121, Precision: 0.906659502674419, Recall: 0.8550561797752809\n",
      "F1: 0.6701808772003183, Precision: 0.6409623936076938, Recall: 0.7497736971421183 \n",
      "\n",
      "              precision    recall  f1-score   support\n",
      "\n",
      "          -1       0.32      0.62      0.42       228\n",
      "           1       0.96      0.88      0.92      2442\n",
      "\n",
      "    accuracy                           0.86      2670\n",
      "   macro avg       0.64      0.75      0.67      2670\n",
      "weighted avg       0.91      0.86      0.87      2670\n",
      "\n"
     ]
    },
    {
     "data": {
      "image/png": "[encoded data removed]",
      "text/plain": [
       "<Figure size 640x480 with 2 Axes>"
      ]
     },
     "metadata": {},
     "output_type": "display_data"
    }
   ],
   "source": [
    "y_pred_yand_34 = metric(yandex, 'USE_M', 'Siuu', 0, 128)"
   ]
  },
  {
   "cell_type": "code",
   "execution_count": 77,
   "metadata": {
    "colab": {
     "base_uri": "https://localhost:8080/"
    },
    "executionInfo": {
     "elapsed": 115467,
     "status": "ok",
     "timestamp": 1682202534783,
     "user": {
      "displayName": "Илья Смирнов",
      "userId": "04327038012459884483"
     },
     "user_tz": -180
    },
    "id": "x0fQA428yv3_",
    "outputId": "49866da9-0dbe-4f0d-a033-de8f166e0a21"
   },
   "outputs": [
    {
     "name": "stdout",
     "output_type": "stream",
     "text": [
      "Train Epoch: 1, Loss: 0.26506518725554146\n",
      "Val Epoch: 1, F1: 0.7234910230199989, Precision: 0.7333875283477286, Recall: 0.7196666666666667\n",
      "Val Epoch: 1, F1: 0.7241226076811139, Precision: 0.7345791074883715, Recall: 0.7197067947519225 \n",
      "\n",
      "Train Epoch: 2, Loss: 0.24521298038959502\n",
      "Val Epoch: 2, F1: 0.7236574911233903, Precision: 0.7410066675777334, Recall: 0.7195555555555555\n",
      "Val Epoch: 2, F1: 0.7241612287113156, Precision: 0.742343368750429, Recall: 0.7191781809583114 \n",
      "\n",
      "Train Epoch: 3, Loss: 0.2398504619863298\n",
      "Val Epoch: 3, F1: 0.7267599179711736, Precision: 0.7395881780903061, Recall: 0.7214444444444444\n",
      "Val Epoch: 3, F1: 0.7274196609755181, Precision: 0.7407698351409198, Recall: 0.7215479999336994 \n",
      "\n",
      "Train Epoch: 4, Loss: 0.23501561796002918\n",
      "Val Epoch: 4, F1: 0.729472112571072, Precision: 0.745949491213465, Recall: 0.7238888888888889\n",
      "Val Epoch: 4, F1: 0.7300603367721971, Precision: 0.7472364462142395, Recall: 0.7237203660845669 \n",
      "\n",
      "Train Epoch: 5, Loss: 0.2303096590174569\n",
      "Val Epoch: 5, F1: 0.7292176582863623, Precision: 0.7540459192446577, Recall: 0.7239444444444444\n",
      "Val Epoch: 5, F1: 0.7296749454526311, Precision: 0.7555068420017305, Recall: 0.7233180900580262 \n",
      "\n",
      "Train Epoch: 6, Loss: 0.22565248668193816\n",
      "Val Epoch: 6, F1: 0.732236639453001, Precision: 0.7461201028420336, Recall: 0.7271111111111112\n",
      "Val Epoch: 6, F1: 0.7328533057453925, Precision: 0.7473762628384634, Recall: 0.7270395865409965 \n",
      "\n",
      "Train Epoch: 7, Loss: 0.22156823634439043\n",
      "Val Epoch: 7, F1: 0.732406746760698, Precision: 0.7458077341992875, Recall: 0.7278888888888889\n",
      "Val Epoch: 7, F1: 0.7329863359254136, Precision: 0.7470602314769282, Recall: 0.72774876599944 \n",
      "\n",
      "Train Epoch: 8, Loss: 0.21725277809964286\n",
      "Val Epoch: 8, F1: 0.722234517234939, Precision: 0.7551237193236597, Recall: 0.7179444444444445\n",
      "Val Epoch: 8, F1: 0.7225922649136033, Precision: 0.756708523622961, Recall: 0.7170050234593779 \n",
      "\n",
      "Train Epoch: 9, Loss: 0.21326422772142622\n",
      "Val Epoch: 9, F1: 0.7319961465714201, Precision: 0.746037665530293, Recall: 0.7275\n",
      "Val Epoch: 9, F1: 0.7325606642161223, Precision: 0.7473027203858392, Recall: 0.7273155024662517 \n",
      "\n",
      "Train Epoch: 10, Loss: 0.20919303877486123\n",
      "Val Epoch: 10, F1: 0.7278518897144169, Precision: 0.7416228963781467, Recall: 0.7247222222222223\n",
      "Val Epoch: 10, F1: 0.7283924648815004, Precision: 0.7429105214057126, Recall: 0.7244901773992248 \n",
      "\n"
     ]
    }
   ],
   "source": [
    "model, y_pred, y_proba = train_model_2(10, 64, 0.001, SentimentClassifier64(), nn.MSELoss(), False, 0.5, df=data_ru, embed_name='USE_M', target_name='sentiment_int')"
   ]
  },
  {
   "cell_type": "code",
   "execution_count": 78,
   "metadata": {
    "colab": {
     "base_uri": "https://localhost:8080/",
     "height": 656
    },
    "executionInfo": {
     "elapsed": 762,
     "status": "ok",
     "timestamp": 1682202535530,
     "user": {
      "displayName": "Илья Смирнов",
      "userId": "04327038012459884483"
     },
     "user_tz": -180
    },
    "id": "b5QHyqZ6y6SU",
    "outputId": "0cb588e0-bea2-4464-aec6-8c9182f9a165"
   },
   "outputs": [
    {
     "name": "stdout",
     "output_type": "stream",
     "text": [
      "Accuracy:  0.8838951310861424\n",
      "F1: 0.8941182013049725, Precision: 0.9085646807470045, Recall: 0.8838951310861424\n",
      "F1: 0.6955754165287432, Precision: 0.669010369566528, Recall: 0.7416806758912022 \n",
      "\n",
      "              precision    recall  f1-score   support\n",
      "\n",
      "          -1       0.38      0.57      0.46       228\n",
      "           1       0.96      0.91      0.94      2442\n",
      "\n",
      "    accuracy                           0.88      2670\n",
      "   macro avg       0.67      0.74      0.70      2670\n",
      "weighted avg       0.91      0.88      0.89      2670\n",
      "\n"
     ]
    },
    {
     "data": {
      "image/png": "[encoded data removed]",
      "text/plain": [
       "<Figure size 640x480 with 2 Axes>"
      ]
     },
     "metadata": {},
     "output_type": "display_data"
    }
   ],
   "source": [
    "y_pred_yand_35 = metric(yandex, 'USE_M', 'Siuu', 0, 64)"
   ]
  },
  {
   "cell_type": "code",
   "execution_count": 79,
   "metadata": {
    "colab": {
     "base_uri": "https://localhost:8080/"
    },
    "executionInfo": {
     "elapsed": 129181,
     "status": "ok",
     "timestamp": 1682202664706,
     "user": {
      "displayName": "Илья Смирнов",
      "userId": "04327038012459884483"
     },
     "user_tz": -180
    },
    "id": "Fi2-aB3zy6X6",
    "outputId": "1aa95dae-5322-4151-c5a9-09cb9e89b88b"
   },
   "outputs": [
    {
     "name": "stdout",
     "output_type": "stream",
     "text": [
      "Train Epoch: 1, Loss: 0.2632733250161012\n",
      "Val Epoch: 1, F1: 0.7164238443484519, Precision: 0.7456367338716128, Recall: 0.7093888888888888\n",
      "Val Epoch: 1, F1: 0.7167527356733738, Precision: 0.7465034791596027, Recall: 0.70913303022217 \n",
      "\n",
      "Train Epoch: 2, Loss: 0.24436416344013479\n",
      "Val Epoch: 2, F1: 0.7269856062921018, Precision: 0.7475479502621375, Recall: 0.7226111111111111\n",
      "Val Epoch: 2, F1: 0.727314681111821, Precision: 0.7483288719973235, Recall: 0.7224511262999179 \n",
      "\n",
      "Train Epoch: 3, Loss: 0.23812590950065188\n",
      "Val Epoch: 3, F1: 0.7165701566944351, Precision: 0.7639567239144759, Recall: 0.7113888888888888\n",
      "Val Epoch: 3, F1: 0.7168108427036058, Precision: 0.7649310916666137, Recall: 0.7108260788028787 \n",
      "\n",
      "Train Epoch: 4, Loss: 0.2318123912745052\n",
      "Val Epoch: 4, F1: 0.7322433409611262, Precision: 0.7531885596506775, Recall: 0.7264444444444444\n",
      "Val Epoch: 4, F1: 0.7325868754303646, Precision: 0.7539830994216947, Recall: 0.7262988369947277 \n",
      "\n",
      "Train Epoch: 5, Loss: 0.22731158945626684\n",
      "Val Epoch: 5, F1: 0.7339866042088552, Precision: 0.7579917329559687, Recall: 0.7285\n",
      "Val Epoch: 5, F1: 0.7343093901312132, Precision: 0.7588110070076418, Recall: 0.7282810643340271 \n",
      "\n",
      "Train Epoch: 6, Loss: 0.2228637649996413\n",
      "Val Epoch: 6, F1: 0.73671538938636, Precision: 0.7539056972556128, Recall: 0.7310555555555556\n",
      "Val Epoch: 6, F1: 0.7370779510282429, Precision: 0.7546609905988341, Recall: 0.7309975607465127 \n",
      "\n",
      "Train Epoch: 7, Loss: 0.21874939985738862\n",
      "Val Epoch: 7, F1: 0.7375372011670612, Precision: 0.745892105897122, Recall: 0.7341666666666666\n",
      "Val Epoch: 7, F1: 0.7379318618110774, Precision: 0.7465463256944593, Recall: 0.7342864320903857 \n",
      "\n"
     ]
    }
   ],
   "source": [
    "model, y_pred, y_proba = train_model_2(7, 32, 0.001, SentimentClassifier64(), nn.MSELoss(), False, 0.5, df=data_ru, embed_name='USE_M', target_name='sentiment_int')"
   ]
  },
  {
   "cell_type": "code",
   "execution_count": 80,
   "metadata": {
    "colab": {
     "base_uri": "https://localhost:8080/",
     "height": 658
    },
    "executionInfo": {
     "elapsed": 720,
     "status": "ok",
     "timestamp": 1682202665412,
     "user": {
      "displayName": "Илья Смирнов",
      "userId": "04327038012459884483"
     },
     "user_tz": -180
    },
    "id": "F_WHCjw4y6ok",
    "outputId": "4da4012d-6247-49bc-a60e-22f07085cac5"
   },
   "outputs": [
    {
     "name": "stdout",
     "output_type": "stream",
     "text": [
      "Accuracy:  0.8898876404494382\n",
      "F1: 0.8949308203940465, Precision: 0.9009348072828868, Recall: 0.8898876404494382\n",
      "F1: 0.6802077358293789, Precision: 0.6657576210400478, Recall: 0.6992273373852321 \n",
      "\n",
      "              precision    recall  f1-score   support\n",
      "\n",
      "          -1       0.38      0.47      0.42       228\n",
      "           1       0.95      0.93      0.94      2442\n",
      "\n",
      "    accuracy                           0.89      2670\n",
      "   macro avg       0.67      0.70      0.68      2670\n",
      "weighted avg       0.90      0.89      0.89      2670\n",
      "\n"
     ]
    },
    {
     "data": {
      "image/png": "[encoded data removed]",
      "text/plain": [
       "<Figure size 640x480 with 2 Axes>"
      ]
     },
     "metadata": {},
     "output_type": "display_data"
    }
   ],
   "source": [
    "y_pred_yand_36 = metric(yandex, 'USE_M', 'Siuu', 0, 32)"
   ]
  },
  {
   "cell_type": "code",
   "execution_count": 81,
   "metadata": {
    "colab": {
     "base_uri": "https://localhost:8080/"
    },
    "executionInfo": {
     "elapsed": 146293,
     "status": "ok",
     "timestamp": 1682202811700,
     "user": {
      "displayName": "Илья Смирнов",
      "userId": "04327038012459884483"
     },
     "user_tz": -180
    },
    "id": "aZhAWOGMy6tC",
    "outputId": "683b4d7e-8ba0-4c1b-b7fb-f5045f4fe1fe"
   },
   "outputs": [
    {
     "name": "stdout",
     "output_type": "stream",
     "text": [
      "Train Epoch: 1, Loss: 0.26109866125302184\n",
      "Val Epoch: 1, F1: 0.7151468733959422, Precision: 0.7456684980458979, Recall: 0.7112777777777778\n",
      "Val Epoch: 1, F1: 0.7155809702361182, Precision: 0.74568028590273, Recall: 0.7120323710392952 \n",
      "\n",
      "Train Epoch: 2, Loss: 0.24496274223758116\n",
      "Val Epoch: 2, F1: 0.7274492994843038, Precision: 0.7432460134398914, Recall: 0.7233333333333334\n",
      "Val Epoch: 2, F1: 0.7277744378131504, Precision: 0.743338595654107, Recall: 0.7238594197385412 \n",
      "\n",
      "Train Epoch: 3, Loss: 0.23827247053529654\n",
      "Val Epoch: 3, F1: 0.7271995147950434, Precision: 0.7410408200739173, Recall: 0.7215\n",
      "Val Epoch: 3, F1: 0.7273967041010917, Precision: 0.7414367686717637, Recall: 0.7215484921563079 \n",
      "\n",
      "Train Epoch: 4, Loss: 0.23383835350390939\n",
      "Val Epoch: 4, F1: 0.7177994410687344, Precision: 0.7418121364354376, Recall: 0.7105555555555556\n",
      "Val Epoch: 4, F1: 0.7179257030268942, Precision: 0.7422798199304768, Recall: 0.7104502314600775 \n",
      "\n",
      "Train Epoch: 5, Loss: 0.22926676971051427\n",
      "Val Epoch: 5, F1: 0.728341847082423, Precision: 0.7435607915724771, Recall: 0.7236111111111111\n",
      "Val Epoch: 5, F1: 0.7286462025457738, Precision: 0.7437166492188574, Recall: 0.7240531906817748 \n",
      "\n"
     ]
    }
   ],
   "source": [
    "model, y_pred, y_proba = train_model_2(5, 16, 0.001, SentimentClassifier64(), nn.MSELoss(), False, 0.5, df=data_ru, embed_name='USE_M', target_name='sentiment_int')"
   ]
  },
  {
   "cell_type": "code",
   "execution_count": 82,
   "metadata": {
    "colab": {
     "base_uri": "https://localhost:8080/",
     "height": 656
    },
    "executionInfo": {
     "elapsed": 435,
     "status": "ok",
     "timestamp": 1682202812120,
     "user": {
      "displayName": "Илья Смирнов",
      "userId": "04327038012459884483"
     },
     "user_tz": -180
    },
    "id": "5k7cdGHsy6_K",
    "outputId": "6059bc51-81b3-4f56-d9c5-499bfe3ec8f0"
   },
   "outputs": [
    {
     "name": "stdout",
     "output_type": "stream",
     "text": [
      "Accuracy:  0.8573033707865169\n",
      "F1: 0.8769912369280143, Precision: 0.9089165509405377, Recall: 0.8573033707865169\n",
      "F1: 0.6761205657884977, Precision: 0.6456179775280899, Recall: 0.75895512737618 \n",
      "\n",
      "              precision    recall  f1-score   support\n",
      "\n",
      "          -1       0.33      0.64      0.43       228\n",
      "           1       0.96      0.88      0.92      2442\n",
      "\n",
      "    accuracy                           0.86      2670\n",
      "   macro avg       0.65      0.76      0.68      2670\n",
      "weighted avg       0.91      0.86      0.88      2670\n",
      "\n"
     ]
    },
    {
     "data": {
      "image/png": "[encoded data removed]",
      "text/plain": [
       "<Figure size 640x480 with 2 Axes>"
      ]
     },
     "metadata": {},
     "output_type": "display_data"
    }
   ],
   "source": [
    "y_pred_yand_37 = metric(yandex, 'USE_M', 'Siuu', 0, 16)"
   ]
  },
  {
   "cell_type": "markdown",
   "metadata": {
    "id": "VMYjpJLNzzHK"
   },
   "source": [
    "# **Обучение на rubert-tiny2 64 нейрона**"
   ]
  },
  {
   "cell_type": "code",
   "execution_count": 83,
   "metadata": {
    "colab": {
     "base_uri": "https://localhost:8080/"
    },
    "executionInfo": {
     "elapsed": 89466,
     "status": "ok",
     "timestamp": 1682202901581,
     "user": {
      "displayName": "Илья Смирнов",
      "userId": "04327038012459884483"
     },
     "user_tz": -180
    },
    "id": "VnDck3MEz9oN",
    "outputId": "14f04991-5e39-45fb-e898-c54a143cfc5b"
   },
   "outputs": [
    {
     "name": "stdout",
     "output_type": "stream",
     "text": [
      "Train Epoch: 1, Loss: -64.58977143929653\n",
      "Val Epoch: 1, F1: 0.507285427662672, Precision: 0.5857887495554782, Recall: 0.6043888888888889\n",
      "Val Epoch: 1, F1: 0.5084995461570387, Precision: 0.5856996032058969, Recall: 0.6062444878845832 \n",
      "\n",
      "Train Epoch: 2, Loss: -68.39268865466754\n",
      "Val Epoch: 2, F1: 0.5003687853025448, Precision: 0.5926808153283899, Recall: 0.6047222222222223\n",
      "Val Epoch: 2, F1: 0.5016371566130232, Precision: 0.5925328484058798, Recall: 0.60665262424239 \n",
      "\n",
      "Train Epoch: 3, Loss: -68.89954577542537\n",
      "Val Epoch: 3, F1: 0.4883033473808395, Precision: 0.5985051501621866, Recall: 0.5966111111111111\n",
      "Val Epoch: 3, F1: 0.48966418428181385, Precision: 0.5984231284520422, Recall: 0.5983541443996225 \n",
      "\n",
      "Train Epoch: 4, Loss: -69.09423481295842\n",
      "Val Epoch: 4, F1: 0.4953354983377084, Precision: 0.6033981337324071, Recall: 0.6038888888888889\n",
      "Val Epoch: 4, F1: 0.4966384049652388, Precision: 0.6031850410766921, Recall: 0.6058085333491371 \n",
      "\n",
      "Train Epoch: 5, Loss: -69.40565015494718\n",
      "Val Epoch: 5, F1: 0.49334712929270247, Precision: 0.576454664212347, Recall: 0.602\n",
      "Val Epoch: 5, F1: 0.4946299850221378, Precision: 0.5763596154525464, Recall: 0.6040160930216129 \n",
      "\n",
      "Train Epoch: 6, Loss: -69.40090527373563\n",
      "Val Epoch: 6, F1: 0.49036393927821537, Precision: 0.569229493862866, Recall: 0.5985\n",
      "Val Epoch: 6, F1: 0.4916371944653397, Precision: 0.5691462893800746, Recall: 0.6005733245169266 \n",
      "\n",
      "Train Epoch: 7, Loss: -69.1067430630035\n",
      "Val Epoch: 7, F1: 0.48997959747828057, Precision: 0.5737843168102282, Recall: 0.6021111111111112\n",
      "Val Epoch: 7, F1: 0.4913052787651071, Precision: 0.5737391662751886, Recall: 0.6040720245910717 \n",
      "\n",
      "Train Epoch: 8, Loss: -69.36456023228105\n",
      "Val Epoch: 8, F1: 0.481977053706918, Precision: 0.5574572537743897, Recall: 0.5972222222222222\n",
      "Val Epoch: 8, F1: 0.4833852893766604, Precision: 0.5576114446349438, Recall: 0.5990470780872036 \n",
      "\n",
      "Train Epoch: 9, Loss: -69.33050678551302\n",
      "Val Epoch: 9, F1: 0.48769411047523603, Precision: 0.6023464706027292, Recall: 0.6016111111111111\n",
      "Val Epoch: 9, F1: 0.4890599218129066, Precision: 0.6021678899484414, Recall: 0.6035025498253409 \n",
      "\n",
      "Train Epoch: 10, Loss: -69.53532665957354\n",
      "Val Epoch: 10, F1: 0.48401511032590233, Precision: 0.5865564605098851, Recall: 0.5997222222222223\n",
      "Val Epoch: 10, F1: 0.4854053606433171, Precision: 0.5864999067978509, Recall: 0.6015717412412646 \n",
      "\n",
      "Train Epoch: 11, Loss: -69.38589540044538\n",
      "Val Epoch: 11, F1: 0.4881393047978646, Precision: 0.5918485851188976, Recall: 0.5981666666666666\n",
      "Val Epoch: 11, F1: 0.4894256483220882, Precision: 0.591611854219511, Recall: 0.6002697930489104 \n",
      "\n",
      "Train Epoch: 12, Loss: -69.26630134142101\n",
      "Val Epoch: 12, F1: 0.4890615985399513, Precision: 0.5853792055946557, Recall: 0.6034444444444444\n",
      "Val Epoch: 12, F1: 0.49040689092300677, Precision: 0.5852640583044053, Recall: 0.6054340357895788 \n",
      "\n",
      "Train Epoch: 13, Loss: -69.36216029053683\n",
      "Val Epoch: 13, F1: 0.490566964594436, Precision: 0.6257400984297937, Recall: 0.6037222222222223\n",
      "Val Epoch: 13, F1: 0.49189424482145966, Precision: 0.6253610594107583, Recall: 0.6056867628796717 \n",
      "\n",
      "Train Epoch: 14, Loss: -69.45161795235019\n",
      "Val Epoch: 14, F1: 0.4852707145641001, Precision: 0.581503903138465, Recall: 0.6008333333333333\n",
      "Val Epoch: 14, F1: 0.48663168407499074, Precision: 0.5814187677990968, Recall: 0.602779703113283 \n",
      "\n",
      "Train Epoch: 15, Loss: -69.64527184332243\n",
      "Val Epoch: 15, F1: 0.48317211961207635, Precision: 0.572443117061908, Recall: 0.5991666666666666\n",
      "Val Epoch: 15, F1: 0.4845691275846864, Precision: 0.5724901881832634, Recall: 0.6009924890348423 \n",
      "\n"
     ]
    }
   ],
   "source": [
    "model, y_pred, y_proba = train_model_2(15, 128, 0.001, SentimentClassifierTiny64(), nn.CrossEntropyLoss(), False, 0.5, df=data_ru2, embed_name='tiny2', target_name='sentiment_int')"
   ]
  },
  {
   "cell_type": "code",
   "execution_count": 84,
   "metadata": {
    "colab": {
     "base_uri": "https://localhost:8080/",
     "height": 656
    },
    "executionInfo": {
     "elapsed": 481,
     "status": "ok",
     "timestamp": 1682202902046,
     "user": {
      "displayName": "Илья Смирнов",
      "userId": "04327038012459884483"
     },
     "user_tz": -180
    },
    "id": "5oFbjgJvz9oO",
    "outputId": "f01d2f1b-5bbe-4b92-8f9c-f53ae2759de0"
   },
   "outputs": [
    {
     "name": "stdout",
     "output_type": "stream",
     "text": [
      "Accuracy:  0.850187265917603\n",
      "F1: 0.8709154439221989, Precision: 0.9034141986556873, Recall: 0.850187265917603\n",
      "F1: 0.6604008287746067, Precision: 0.6331288108526631, Recall: 0.7371707832234148 \n",
      "\n",
      "              precision    recall  f1-score   support\n",
      "\n",
      "          -1       0.31      0.60      0.41       228\n",
      "           1       0.96      0.87      0.91      2442\n",
      "\n",
      "    accuracy                           0.85      2670\n",
      "   macro avg       0.63      0.74      0.66      2670\n",
      "weighted avg       0.90      0.85      0.87      2670\n",
      "\n"
     ]
    },
    {
     "data": {
      "image/png": "[encoded data removed]",
      "text/plain": [
       "<Figure size 640x480 with 2 Axes>"
      ]
     },
     "metadata": {},
     "output_type": "display_data"
    }
   ],
   "source": [
    "y_pred_yand_38 = metric(yandex, 'tiny2', 'Siuu', 0, 128)"
   ]
  },
  {
   "cell_type": "code",
   "execution_count": 85,
   "metadata": {
    "colab": {
     "base_uri": "https://localhost:8080/"
    },
    "executionInfo": {
     "elapsed": 80540,
     "status": "ok",
     "timestamp": 1682202982580,
     "user": {
      "displayName": "Илья Смирнов",
      "userId": "04327038012459884483"
     },
     "user_tz": -180
    },
    "id": "tSvwZPegz9oO",
    "outputId": "97db75cf-4f6a-481d-eb79-d425ec33915e"
   },
   "outputs": [
    {
     "name": "stdout",
     "output_type": "stream",
     "text": [
      "Train Epoch: 1, Loss: -32.42172992981805\n",
      "Val Epoch: 1, F1: 0.4915956688671047, Precision: 0.5797659116548556, Recall: 0.5944444444444444\n",
      "Val Epoch: 1, F1: 0.4959679745539132, Precision: 0.5804328435452462, Recall: 0.6001638262229604 \n",
      "\n",
      "Train Epoch: 2, Loss: -33.708545529683434\n",
      "Val Epoch: 2, F1: 0.4829228952983182, Precision: 0.5845812919001296, Recall: 0.5940555555555556\n",
      "Val Epoch: 2, F1: 0.48732387806667327, Precision: 0.5847438083497508, Recall: 0.5997242067427472 \n",
      "\n",
      "Train Epoch: 3, Loss: -33.85719179704454\n",
      "Val Epoch: 3, F1: 0.4790977971331081, Precision: 0.5895885452854903, Recall: 0.5929444444444445\n",
      "Val Epoch: 3, F1: 0.4835633777939971, Precision: 0.5896326093379085, Recall: 0.5986562734035499 \n",
      "\n",
      "Train Epoch: 4, Loss: -33.92815115949843\n",
      "Val Epoch: 4, F1: 0.48218273061425326, Precision: 0.5777539023412265, Recall: 0.5965555555555555\n",
      "Val Epoch: 4, F1: 0.48668703460296436, Precision: 0.5781094150160481, Recall: 0.6023280132772424 \n",
      "\n",
      "Train Epoch: 5, Loss: -34.01072142389086\n",
      "Val Epoch: 5, F1: 0.48720342173743836, Precision: 0.5986388564567917, Recall: 0.599\n",
      "Val Epoch: 5, F1: 0.49170364170127473, Precision: 0.5987602612194869, Recall: 0.6048158095217886 \n",
      "\n",
      "Train Epoch: 6, Loss: -33.9904949054718\n",
      "Val Epoch: 6, F1: 0.48293895445746166, Precision: 0.5955244152420013, Recall: 0.5990555555555556\n",
      "Val Epoch: 6, F1: 0.48753245634058695, Precision: 0.5956710131557422, Recall: 0.604934905495209 \n",
      "\n",
      "Train Epoch: 7, Loss: -34.14028675757514\n",
      "Val Epoch: 7, F1: 0.48087757612840204, Precision: 0.5843283930571955, Recall: 0.5979444444444444\n",
      "Val Epoch: 7, F1: 0.48545163898174853, Precision: 0.5845830067975911, Recall: 0.6037769864442107 \n",
      "\n",
      "Train Epoch: 8, Loss: -33.97291698625352\n",
      "Val Epoch: 8, F1: 0.4832115410352026, Precision: 0.602379900237004, Recall: 0.5963333333333334\n",
      "Val Epoch: 8, F1: 0.48781793852606525, Precision: 0.60258711176058, Recall: 0.6022333240006504 \n",
      "\n",
      "Train Epoch: 9, Loss: -33.930787118487885\n",
      "Val Epoch: 9, F1: 0.477612663740233, Precision: 0.5841828735641508, Recall: 0.5945\n",
      "Val Epoch: 9, F1: 0.482171556805189, Precision: 0.5843719423358807, Recall: 0.6003072923764092 \n",
      "\n",
      "Train Epoch: 10, Loss: -34.06590171983507\n",
      "Val Epoch: 10, F1: 0.47876748102142846, Precision: 0.5742347251692148, Recall: 0.5886666666666667\n",
      "Val Epoch: 10, F1: 0.48335686464210986, Precision: 0.5750918904945933, Recall: 0.59453829303796 \n",
      "\n"
     ]
    }
   ],
   "source": [
    "model, y_pred, y_proba = train_model_2(10, 64, 0.001, SentimentClassifierTiny64(), nn.CrossEntropyLoss(), False, 0.5, df=data_ru2, embed_name='tiny2', target_name='sentiment_int')"
   ]
  },
  {
   "cell_type": "code",
   "execution_count": 86,
   "metadata": {
    "colab": {
     "base_uri": "https://localhost:8080/",
     "height": 656
    },
    "executionInfo": {
     "elapsed": 449,
     "status": "ok",
     "timestamp": 1682202983016,
     "user": {
      "displayName": "Илья Смирнов",
      "userId": "04327038012459884483"
     },
     "user_tz": -180
    },
    "id": "NWZmS9jAz9oO",
    "outputId": "ca0e6e59-7696-4a5e-9853-11b6d6691d97"
   },
   "outputs": [
    {
     "name": "stdout",
     "output_type": "stream",
     "text": [
      "Accuracy:  0.7752808988764045\n",
      "F1: 0.8211205451524991, Precision: 0.9109256780168656, Recall: 0.7752808988764045\n",
      "F1: 0.6165056724604153, Precision: 0.6081862213465218, Recall: 0.7737618000775895 \n",
      "\n",
      "              precision    recall  f1-score   support\n",
      "\n",
      "          -1       0.24      0.77      0.37       228\n",
      "           1       0.97      0.78      0.86      2442\n",
      "\n",
      "    accuracy                           0.78      2670\n",
      "   macro avg       0.61      0.77      0.62      2670\n",
      "weighted avg       0.91      0.78      0.82      2670\n",
      "\n"
     ]
    },
    {
     "data": {
      "image/png": "[encoded data removed]",
      "text/plain": [
       "<Figure size 640x480 with 2 Axes>"
      ]
     },
     "metadata": {},
     "output_type": "display_data"
    }
   ],
   "source": [
    "y_pred_yand_39 = metric(yandex, 'tiny2', 'Siuu', 0, 64)"
   ]
  },
  {
   "cell_type": "code",
   "execution_count": 87,
   "metadata": {
    "colab": {
     "base_uri": "https://localhost:8080/"
    },
    "executionInfo": {
     "elapsed": 88219,
     "status": "ok",
     "timestamp": 1682203071231,
     "user": {
      "displayName": "Илья Смирнов",
      "userId": "04327038012459884483"
     },
     "user_tz": -180
    },
    "id": "qgLGDh-1z9oO",
    "outputId": "42b76340-0f8d-44f0-b955-b742bfea7e71"
   },
   "outputs": [
    {
     "name": "stdout",
     "output_type": "stream",
     "text": [
      "Train Epoch: 1, Loss: -15.98444449159834\n",
      "Val Epoch: 1, F1: 0.4851177667142276, Precision: 0.5709646119022276, Recall: 0.5866111111111111\n",
      "Val Epoch: 1, F1: 0.4891038832623322, Precision: 0.5723530525770455, Recall: 0.5911093676173139 \n",
      "\n",
      "Train Epoch: 2, Loss: -16.42526795217726\n",
      "Val Epoch: 2, F1: 0.46515700730495235, Precision: 0.572015363505014, Recall: 0.5748888888888889\n",
      "Val Epoch: 2, F1: 0.4688247811416453, Precision: 0.5720376248502183, Recall: 0.5798141116158004 \n",
      "\n",
      "Train Epoch: 3, Loss: -16.474180544641282\n",
      "Val Epoch: 3, F1: 0.4839172489194932, Precision: 0.5960677466849561, Recall: 0.5960555555555556\n",
      "Val Epoch: 3, F1: 0.4879056905705725, Precision: 0.5964932449152328, Recall: 0.6008562623320644 \n",
      "\n",
      "Train Epoch: 4, Loss: -16.491815239906312\n",
      "Val Epoch: 4, F1: 0.4798451613150895, Precision: 0.59359815499286, Recall: 0.5933888888888889\n",
      "Val Epoch: 4, F1: 0.4839062231506655, Precision: 0.5941423450578194, Recall: 0.5981776870106591 \n",
      "\n",
      "Train Epoch: 5, Loss: -16.427340158144634\n",
      "Val Epoch: 5, F1: 0.4747770626351774, Precision: 0.5499222241971139, Recall: 0.5922222222222222\n",
      "Val Epoch: 5, F1: 0.4787858711548443, Precision: 0.5508279083338595, Recall: 0.5971422491987347 \n",
      "\n",
      "Train Epoch: 6, Loss: -16.43699312930637\n",
      "Val Epoch: 6, F1: 0.4778736912153953, Precision: 0.5757093389436156, Recall: 0.5917222222222223\n",
      "Val Epoch: 6, F1: 0.48199544388666343, Precision: 0.5766842079393351, Recall: 0.5964760513098285 \n",
      "\n",
      "Train Epoch: 7, Loss: -16.588686682701113\n",
      "Val Epoch: 7, F1: 0.4755867686280111, Precision: 0.6124829163716018, Recall: 0.5928333333333333\n",
      "Val Epoch: 7, F1: 0.47956592957575, Precision: 0.6123291031316865, Recall: 0.5977689674540128 \n",
      "\n"
     ]
    }
   ],
   "source": [
    "model, y_pred, y_proba = train_model_2(7, 32, 0.001, SentimentClassifierTiny64(), nn.CrossEntropyLoss(), False, 0.5, df=data_ru2, embed_name='tiny2', target_name='sentiment_int')"
   ]
  },
  {
   "cell_type": "code",
   "execution_count": 88,
   "metadata": {
    "colab": {
     "base_uri": "https://localhost:8080/",
     "height": 656
    },
    "executionInfo": {
     "elapsed": 482,
     "status": "ok",
     "timestamp": 1682203071698,
     "user": {
      "displayName": "Илья Смирнов",
      "userId": "04327038012459884483"
     },
     "user_tz": -180
    },
    "id": "sGNQ3cg4z9oO",
    "outputId": "cc254fa4-2392-4b2b-c672-e5ce0defd387"
   },
   "outputs": [
    {
     "name": "stdout",
     "output_type": "stream",
     "text": [
      "Accuracy:  0.8337078651685393\n",
      "F1: 0.861166445613594, Precision: 0.9086291597614948, Recall: 0.8337078651685393\n",
      "F1: 0.6571620929110741, Precision: 0.6303141493104818, Recall: 0.7639499547394284 \n",
      "\n",
      "              precision    recall  f1-score   support\n",
      "\n",
      "          -1       0.29      0.68      0.41       228\n",
      "           1       0.97      0.85      0.90      2442\n",
      "\n",
      "    accuracy                           0.83      2670\n",
      "   macro avg       0.63      0.76      0.66      2670\n",
      "weighted avg       0.91      0.83      0.86      2670\n",
      "\n"
     ]
    },
    {
     "data": {
      "image/png": "[encoded data removed]",
      "text/plain": [
       "<Figure size 640x480 with 2 Axes>"
      ]
     },
     "metadata": {},
     "output_type": "display_data"
    }
   ],
   "source": [
    "y_pred_yand_40 = metric(yandex, 'tiny2', 'Siuu', 0, 32)"
   ]
  },
  {
   "cell_type": "code",
   "execution_count": 89,
   "metadata": {
    "colab": {
     "base_uri": "https://localhost:8080/"
    },
    "executionInfo": {
     "elapsed": 99501,
     "status": "ok",
     "timestamp": 1682203171194,
     "user": {
      "displayName": "Илья Смирнов",
      "userId": "04327038012459884483"
     },
     "user_tz": -180
    },
    "id": "pGNL2X2sz9oO",
    "outputId": "2ef3268b-712a-4bdb-aee8-177e3b547d2c"
   },
   "outputs": [
    {
     "name": "stdout",
     "output_type": "stream",
     "text": [
      "Train Epoch: 1, Loss: -7.708088657273186\n",
      "Val Epoch: 1, F1: 0.4866357383976464, Precision: 0.5901717406247626, Recall: 0.5935\n",
      "Val Epoch: 1, F1: 0.48576019398746934, Precision: 0.5905542409298944, Recall: 0.5918407262778295 \n",
      "\n",
      "Train Epoch: 2, Loss: -7.768743047714233\n",
      "Val Epoch: 2, F1: 0.4881044403625691, Precision: 0.5743820738470744, Recall: 0.5982777777777778\n",
      "Val Epoch: 2, F1: 0.48722450550513213, Precision: 0.5746825302009376, Recall: 0.5966054815152676 \n",
      "\n",
      "Train Epoch: 3, Loss: -7.882819569958581\n",
      "Val Epoch: 3, F1: 0.48936122092027623, Precision: 0.6073618730365122, Recall: 0.6001666666666666\n",
      "Val Epoch: 3, F1: 0.4884728278302453, Precision: 0.607812876565481, Recall: 0.5984948374009336 \n",
      "\n",
      "Train Epoch: 4, Loss: -7.88985546180937\n",
      "Val Epoch: 4, F1: 0.4856538640447735, Precision: 0.5872143278061619, Recall: 0.6\n",
      "Val Epoch: 4, F1: 0.48466989341727135, Precision: 0.5873815475688481, Recall: 0.5985671830354821 \n",
      "\n",
      "Train Epoch: 5, Loss: -7.864681272612677\n",
      "Val Epoch: 5, F1: 0.48596623173548364, Precision: 0.5591422999496887, Recall: 0.6\n",
      "Val Epoch: 5, F1: 0.485039089237058, Precision: 0.5593034382111136, Recall: 0.598391094652211 \n",
      "\n"
     ]
    }
   ],
   "source": [
    "model, y_pred, y_proba = train_model_2(5, 16, 0.001, SentimentClassifierTiny64(), nn.CrossEntropyLoss(), False, 0.5, df=data_ru2, embed_name='tiny2', target_name='sentiment_int')"
   ]
  },
  {
   "cell_type": "code",
   "execution_count": 90,
   "metadata": {
    "colab": {
     "base_uri": "https://localhost:8080/",
     "height": 656
    },
    "executionInfo": {
     "elapsed": 414,
     "status": "ok",
     "timestamp": 1682203171595,
     "user": {
      "displayName": "Илья Смирнов",
      "userId": "04327038012459884483"
     },
     "user_tz": -180
    },
    "id": "KNwOZUECz9oO",
    "outputId": "a69c20ef-eb84-4558-d82e-71604a851b7d"
   },
   "outputs": [
    {
     "name": "stdout",
     "output_type": "stream",
     "text": [
      "Accuracy:  0.7707865168539326\n",
      "F1: 0.8177674311220565, Precision: 0.9094207406959642, Recall: 0.7707865168539326\n",
      "F1: 0.6113869863013699, Precision: 0.6049205704715018, Recall: 0.7673283331178069 \n",
      "\n",
      "              precision    recall  f1-score   support\n",
      "\n",
      "          -1       0.24      0.76      0.36       228\n",
      "           1       0.97      0.77      0.86      2442\n",
      "\n",
      "    accuracy                           0.77      2670\n",
      "   macro avg       0.60      0.77      0.61      2670\n",
      "weighted avg       0.91      0.77      0.82      2670\n",
      "\n"
     ]
    },
    {
     "data": {
      "image/png": "[encoded data removed]",
      "text/plain": [
       "<Figure size 640x480 with 2 Axes>"
      ]
     },
     "metadata": {},
     "output_type": "display_data"
    }
   ],
   "source": [
    "y_pred_yand_41 = metric(yandex, 'tiny2', 'Siuu', 0, 16)"
   ]
  },
  {
   "cell_type": "code",
   "execution_count": 91,
   "metadata": {
    "colab": {
     "base_uri": "https://localhost:8080/"
    },
    "executionInfo": {
     "elapsed": 87828,
     "status": "ok",
     "timestamp": 1682203259419,
     "user": {
      "displayName": "Илья Смирнов",
      "userId": "04327038012459884483"
     },
     "user_tz": -180
    },
    "id": "fnFnSHWPz9oO",
    "outputId": "ac13c53f-495d-48a8-cbd2-a44aa2abdc80"
   },
   "outputs": [
    {
     "name": "stdout",
     "output_type": "stream",
     "text": [
      "Train Epoch: 1, Loss: 0.2991239827119648\n",
      "Val Epoch: 1, F1: 0.7056358320509654, Precision: 0.7326165831387912, Recall: 0.6992222222222222\n",
      "Val Epoch: 1, F1: 0.7049363322527924, Precision: 0.7318606699612903, Recall: 0.6986032239855106 \n",
      "\n",
      "Train Epoch: 2, Loss: 0.2678159914421146\n",
      "Val Epoch: 2, F1: 0.7039530550069715, Precision: 0.7433296886247618, Recall: 0.6968333333333333\n",
      "Val Epoch: 2, F1: 0.7032741165230855, Precision: 0.742514653702118, Recall: 0.6962995023055792 \n",
      "\n",
      "Train Epoch: 3, Loss: 0.2636466222165109\n",
      "Val Epoch: 3, F1: 0.7076658896660812, Precision: 0.735866070819881, Recall: 0.7007222222222222\n",
      "Val Epoch: 3, F1: 0.706960510718435, Precision: 0.7350261103134824, Recall: 0.7001502385822027 \n",
      "\n",
      "Train Epoch: 4, Loss: 0.2601401907777278\n",
      "Val Epoch: 4, F1: 0.7116818187361912, Precision: 0.7406436429885642, Recall: 0.7049444444444445\n",
      "Val Epoch: 4, F1: 0.7110040459285285, Precision: 0.7398549867595453, Recall: 0.7043851365858202 \n",
      "\n",
      "Train Epoch: 5, Loss: 0.25802221820155424\n",
      "Val Epoch: 5, F1: 0.7127372697847736, Precision: 0.7417766246314164, Recall: 0.7061666666666667\n",
      "Val Epoch: 5, F1: 0.7120370428660956, Precision: 0.740985565868962, Recall: 0.705572503792518 \n",
      "\n",
      "Train Epoch: 6, Loss: 0.2555011669918233\n",
      "Val Epoch: 6, F1: 0.7145237918470614, Precision: 0.7425146446642209, Recall: 0.7071666666666667\n",
      "Val Epoch: 6, F1: 0.7139115935620722, Precision: 0.7416007033875768, Recall: 0.706797323680623 \n",
      "\n",
      "Train Epoch: 7, Loss: 0.25339409986884726\n",
      "Val Epoch: 7, F1: 0.7164237839719397, Precision: 0.7412779161072058, Recall: 0.7101666666666666\n",
      "Val Epoch: 7, F1: 0.7157165967068124, Precision: 0.7405102919471588, Recall: 0.7095399070889115 \n",
      "\n",
      "Train Epoch: 8, Loss: 0.25102265962593084\n",
      "Val Epoch: 8, F1: 0.7209824464159366, Precision: 0.7444261365065502, Recall: 0.7147777777777777\n",
      "Val Epoch: 8, F1: 0.7202913025314571, Precision: 0.7436443062844216, Recall: 0.7141859397523712 \n",
      "\n",
      "Train Epoch: 9, Loss: 0.2484677919644869\n",
      "Val Epoch: 9, F1: 0.7195949129680416, Precision: 0.7484185726711564, Recall: 0.7122222222222222\n",
      "Val Epoch: 9, F1: 0.7189787759808276, Precision: 0.7474901377723869, Recall: 0.711856085546735 \n",
      "\n",
      "Train Epoch: 10, Loss: 0.24586982688937686\n",
      "Val Epoch: 10, F1: 0.7172475655267835, Precision: 0.741095820175911, Recall: 0.7148888888888889\n",
      "Val Epoch: 10, F1: 0.7163326257769628, Precision: 0.7406989856542259, Recall: 0.7136496204164403 \n",
      "\n",
      "Train Epoch: 11, Loss: 0.24362878959301734\n",
      "Val Epoch: 11, F1: 0.7246112505765505, Precision: 0.7522224621187361, Recall: 0.7192222222222222\n",
      "Val Epoch: 11, F1: 0.7238120923406012, Precision: 0.7515058709221729, Recall: 0.7184150629649042 \n",
      "\n",
      "Train Epoch: 12, Loss: 0.24190824893079896\n",
      "Val Epoch: 12, F1: 0.7152162966049302, Precision: 0.7569349773600781, Recall: 0.7117222222222223\n",
      "Val Epoch: 12, F1: 0.714262039067927, Precision: 0.7564012747303964, Recall: 0.7105983747735326 \n",
      "\n",
      "Train Epoch: 13, Loss: 0.24009134931420348\n",
      "Val Epoch: 13, F1: 0.7240045808640836, Precision: 0.7434862310787574, Recall: 0.7172222222222222\n",
      "Val Epoch: 13, F1: 0.7233790718455667, Precision: 0.742459099481041, Recall: 0.7169200423940373 \n",
      "\n",
      "Train Epoch: 14, Loss: 0.23783663968633378\n",
      "Val Epoch: 14, F1: 0.7213027911196342, Precision: 0.7538804721818121, Recall: 0.7158333333333333\n",
      "Val Epoch: 14, F1: 0.7204885621406197, Precision: 0.7531619078852559, Recall: 0.7150152737969885 \n",
      "\n",
      "Train Epoch: 15, Loss: 0.2360729538896791\n",
      "Val Epoch: 15, F1: 0.7269368519359526, Precision: 0.747132729329574, Recall: 0.7205\n",
      "Val Epoch: 15, F1: 0.726268087587925, Precision: 0.7462180894416561, Recall: 0.7200387408923262 \n",
      "\n"
     ]
    }
   ],
   "source": [
    "model, y_pred, y_proba = train_model_2(15, 128, 0.001, SentimentClassifierTiny64(), nn.MSELoss(), False, 0.5, df=data_ru2, embed_name='tiny2', target_name='sentiment_int')"
   ]
  },
  {
   "cell_type": "code",
   "execution_count": 92,
   "metadata": {
    "colab": {
     "base_uri": "https://localhost:8080/",
     "height": 656
    },
    "executionInfo": {
     "elapsed": 376,
     "status": "ok",
     "timestamp": 1682203259780,
     "user": {
      "displayName": "Илья Смирнов",
      "userId": "04327038012459884483"
     },
     "user_tz": -180
    },
    "id": "TWSu-oauz9oO",
    "outputId": "c57bdf0b-dc9d-49a1-b68c-1fc25b3a27da"
   },
   "outputs": [
    {
     "name": "stdout",
     "output_type": "stream",
     "text": [
      "Accuracy:  0.797752808988764\n",
      "F1: 0.83713553948873, Precision: 0.9125479853033096, Recall: 0.797752808988764\n",
      "F1: 0.635299045676404, Precision: 0.6183853459972862, Recall: 0.7820703478598215 \n",
      "\n",
      "              precision    recall  f1-score   support\n",
      "\n",
      "          -1       0.26      0.76      0.39       228\n",
      "           1       0.97      0.80      0.88      2442\n",
      "\n",
      "    accuracy                           0.80      2670\n",
      "   macro avg       0.62      0.78      0.64      2670\n",
      "weighted avg       0.91      0.80      0.84      2670\n",
      "\n"
     ]
    },
    {
     "data": {
      "image/png": "[encoded data removed]",
      "text/plain": [
       "<Figure size 640x480 with 2 Axes>"
      ]
     },
     "metadata": {},
     "output_type": "display_data"
    }
   ],
   "source": [
    "y_pred_yand_42 = metric(yandex, 'tiny2', 'Siuu', 0, 128)"
   ]
  },
  {
   "cell_type": "code",
   "execution_count": 93,
   "metadata": {
    "colab": {
     "base_uri": "https://localhost:8080/"
    },
    "executionInfo": {
     "elapsed": 77025,
     "status": "ok",
     "timestamp": 1682203336803,
     "user": {
      "displayName": "Илья Смирнов",
      "userId": "04327038012459884483"
     },
     "user_tz": -180
    },
    "id": "7QxYt2m_z9oO",
    "outputId": "52d32da3-e345-4c13-c09e-b143761a8688"
   },
   "outputs": [
    {
     "name": "stdout",
     "output_type": "stream",
     "text": [
      "Train Epoch: 1, Loss: 0.2906741580698225\n",
      "Val Epoch: 1, F1: 0.6973764452771397, Precision: 0.7435504922199345, Recall: 0.6932777777777778\n",
      "Val Epoch: 1, F1: 0.6978570443863399, Precision: 0.7440740034804642, Recall: 0.6935801279023218 \n",
      "\n",
      "Train Epoch: 2, Loss: 0.26779969251155855\n",
      "Val Epoch: 2, F1: 0.7058808323004129, Precision: 0.7422090275220684, Recall: 0.699\n",
      "Val Epoch: 2, F1: 0.7062703772378898, Precision: 0.7428483236271782, Recall: 0.6991156309703289 \n",
      "\n",
      "Train Epoch: 3, Loss: 0.26235303176111646\n",
      "Val Epoch: 3, F1: 0.7160293028721788, Precision: 0.7337106899733719, Recall: 0.7102222222222222\n",
      "Val Epoch: 3, F1: 0.7164239799551367, Precision: 0.7343136362742295, Recall: 0.7104093886220628 \n",
      "\n",
      "Train Epoch: 4, Loss: 0.2586227775944604\n",
      "Val Epoch: 4, F1: 0.7159687380436308, Precision: 0.7406666894612457, Recall: 0.7101111111111111\n",
      "Val Epoch: 4, F1: 0.7163959917393993, Precision: 0.7412568412427291, Recall: 0.7103453818530001 \n",
      "\n",
      "Train Epoch: 5, Loss: 0.2553528414633539\n",
      "Val Epoch: 5, F1: 0.7072250217952264, Precision: 0.7267985198447188, Recall: 0.7065\n",
      "Val Epoch: 5, F1: 0.707717602546032, Precision: 0.7270591081887002, Recall: 0.7071354144563866 \n",
      "\n",
      "Train Epoch: 6, Loss: 0.2527054576807552\n",
      "Val Epoch: 6, F1: 0.7200577911960617, Precision: 0.7517775388530997, Recall: 0.7145555555555556\n",
      "Val Epoch: 6, F1: 0.7204870040677528, Precision: 0.7523316162360542, Recall: 0.7147977183200331 \n",
      "\n",
      "Train Epoch: 7, Loss: 0.2492672179275089\n",
      "Val Epoch: 7, F1: 0.7160280803515763, Precision: 0.7449588841582855, Recall: 0.7086111111111111\n",
      "Val Epoch: 7, F1: 0.7163791200165521, Precision: 0.745667972655232, Recall: 0.7086379198714049 \n",
      "\n",
      "Train Epoch: 8, Loss: 0.24606623624430762\n",
      "Val Epoch: 8, F1: 0.7246151564802248, Precision: 0.7427101540803346, Recall: 0.7197777777777777\n",
      "Val Epoch: 8, F1: 0.7250470564868561, Precision: 0.7432321411760775, Recall: 0.7200859234912174 \n",
      "\n",
      "Train Epoch: 9, Loss: 0.24255271809630924\n",
      "Val Epoch: 9, F1: 0.7261216855215455, Precision: 0.7359313489667945, Recall: 0.7217222222222223\n",
      "Val Epoch: 9, F1: 0.7265468225045947, Precision: 0.7364981993850872, Recall: 0.7220053253051492 \n",
      "\n",
      "Train Epoch: 10, Loss: 0.23980473520358403\n",
      "Val Epoch: 10, F1: 0.7254490059562968, Precision: 0.7405630846808455, Recall: 0.7200555555555556\n",
      "Val Epoch: 10, F1: 0.7258717030240392, Precision: 0.7411708152075936, Recall: 0.7202921201068042 \n",
      "\n"
     ]
    }
   ],
   "source": [
    "model, y_pred, y_proba = train_model_2(10, 64, 0.001, SentimentClassifierTiny64(), nn.MSELoss(), False, 0.5, df=data_ru2, embed_name='tiny2', target_name='sentiment_int')"
   ]
  },
  {
   "cell_type": "code",
   "execution_count": 94,
   "metadata": {
    "colab": {
     "base_uri": "https://localhost:8080/",
     "height": 656
    },
    "executionInfo": {
     "elapsed": 403,
     "status": "ok",
     "timestamp": 1682203337195,
     "user": {
      "displayName": "Илья Смирнов",
      "userId": "04327038012459884483"
     },
     "user_tz": -180
    },
    "id": "2S3ouXM5z9oO",
    "outputId": "cb9f386d-e6d7-4ab7-b7a5-da1cfe32d9e1"
   },
   "outputs": [
    {
     "name": "stdout",
     "output_type": "stream",
     "text": [
      "Accuracy:  0.7928838951310861\n",
      "F1: 0.8331802876564319, Precision: 0.9085036917505797, Recall: 0.7928838951310861\n",
      "F1: 0.626182113523913, Precision: 0.6115405482290498, Recall: 0.7654909694383378 \n",
      "\n",
      "              precision    recall  f1-score   support\n",
      "\n",
      "          -1       0.25      0.73      0.38       228\n",
      "           1       0.97      0.80      0.88      2442\n",
      "\n",
      "    accuracy                           0.79      2670\n",
      "   macro avg       0.61      0.77      0.63      2670\n",
      "weighted avg       0.91      0.79      0.83      2670\n",
      "\n"
     ]
    },
    {
     "data": {
      "image/png": "[encoded data removed]",
      "text/plain": [
       "<Figure size 640x480 with 2 Axes>"
      ]
     },
     "metadata": {},
     "output_type": "display_data"
    }
   ],
   "source": [
    "y_pred_yand_43 = metric(yandex, 'tiny2', 'Siuu', 0, 64)"
   ]
  },
  {
   "cell_type": "code",
   "execution_count": 95,
   "metadata": {
    "colab": {
     "base_uri": "https://localhost:8080/"
    },
    "executionInfo": {
     "elapsed": 80952,
     "status": "ok",
     "timestamp": 1682203418143,
     "user": {
      "displayName": "Илья Смирнов",
      "userId": "04327038012459884483"
     },
     "user_tz": -180
    },
    "id": "cKYWLhQ3z9oO",
    "outputId": "94b23cb7-dcaa-440d-e274-a38f1253619f"
   },
   "outputs": [
    {
     "name": "stdout",
     "output_type": "stream",
     "text": [
      "Train Epoch: 1, Loss: 0.2861462429728773\n",
      "Val Epoch: 1, F1: 0.7070983350533797, Precision: 0.7188458320534705, Recall: 0.7018888888888889\n",
      "Val Epoch: 1, F1: 0.7066359250245693, Precision: 0.7181420970478629, Recall: 0.7016741584763665 \n",
      "\n",
      "Train Epoch: 2, Loss: 0.26572495754890973\n",
      "Val Epoch: 2, F1: 0.7084448697347111, Precision: 0.7315512700120902, Recall: 0.701\n",
      "Val Epoch: 2, F1: 0.7080396188634563, Precision: 0.7307247191423442, Recall: 0.7009990977160608 \n",
      "\n",
      "Train Epoch: 3, Loss: 0.26094374006324345\n",
      "Val Epoch: 3, F1: 0.69947143917585, Precision: 0.7506270119771405, Recall: 0.6924444444444444\n",
      "Val Epoch: 3, F1: 0.6991031290999706, Precision: 0.7497445592332154, Recall: 0.692660045303133 \n",
      "\n",
      "Train Epoch: 4, Loss: 0.2559848571005795\n",
      "Val Epoch: 4, F1: 0.7082112258517946, Precision: 0.7470644318612792, Recall: 0.7020555555555555\n",
      "Val Epoch: 4, F1: 0.70781852812808, Precision: 0.746260136597353, Recall: 0.7021441828182251 \n",
      "\n",
      "Train Epoch: 5, Loss: 0.25186548242966333\n",
      "Val Epoch: 5, F1: 0.7119790984514085, Precision: 0.7367825056980019, Recall: 0.7046666666666667\n",
      "Val Epoch: 5, F1: 0.7115705930628765, Precision: 0.735967398654448, Recall: 0.7046711660721706 \n",
      "\n",
      "Train Epoch: 6, Loss: 0.24903714393907123\n",
      "Val Epoch: 6, F1: 0.7142139012553257, Precision: 0.7456949778046514, Recall: 0.7076666666666667\n",
      "Val Epoch: 6, F1: 0.7138084857595298, Precision: 0.7449052688392662, Recall: 0.7076958059800583 \n",
      "\n",
      "Train Epoch: 7, Loss: 0.24538238594101536\n",
      "Val Epoch: 7, F1: 0.7175456037564655, Precision: 0.7381662778429833, Recall: 0.7111666666666666\n",
      "Val Epoch: 7, F1: 0.7171245881756749, Precision: 0.7374074947754772, Recall: 0.7111024943814672 \n",
      "\n"
     ]
    }
   ],
   "source": [
    "model, y_pred, y_proba = train_model_2(7, 32, 0.001, SentimentClassifierTiny64(), nn.MSELoss(), False, 0.5, df=data_ru2, embed_name='tiny2', target_name='sentiment_int')"
   ]
  },
  {
   "cell_type": "code",
   "execution_count": 96,
   "metadata": {
    "colab": {
     "base_uri": "https://localhost:8080/",
     "height": 656
    },
    "executionInfo": {
     "elapsed": 405,
     "status": "ok",
     "timestamp": 1682203418538,
     "user": {
      "displayName": "Илья Смирнов",
      "userId": "04327038012459884483"
     },
     "user_tz": -180
    },
    "id": "OQQfY3Toz9oO",
    "outputId": "131ff73a-9a48-4676-e4b7-e6229a50cfdb"
   },
   "outputs": [
    {
     "name": "stdout",
     "output_type": "stream",
     "text": [
      "Accuracy:  0.8322097378277153\n",
      "F1: 0.8612688610577554, Precision: 0.9144504570038867, Recall: 0.8322097378277153\n",
      "F1: 0.6651197792549857, Precision: 0.6368880297843088, Recall: 0.7889779731884995 \n",
      "\n",
      "              precision    recall  f1-score   support\n",
      "\n",
      "          -1       0.30      0.74      0.43       228\n",
      "           1       0.97      0.84      0.90      2442\n",
      "\n",
      "    accuracy                           0.83      2670\n",
      "   macro avg       0.64      0.79      0.67      2670\n",
      "weighted avg       0.91      0.83      0.86      2670\n",
      "\n"
     ]
    },
    {
     "data": {
      "image/png": "[encoded data removed]",
      "text/plain": [
       "<Figure size 640x480 with 2 Axes>"
      ]
     },
     "metadata": {},
     "output_type": "display_data"
    }
   ],
   "source": [
    "y_pred_yand_44 = metric(yandex, 'tiny2', 'Siuu', 0, 32)"
   ]
  },
  {
   "cell_type": "code",
   "execution_count": 97,
   "metadata": {
    "colab": {
     "base_uri": "https://localhost:8080/"
    },
    "executionInfo": {
     "elapsed": 98400,
     "status": "ok",
     "timestamp": 1682203516936,
     "user": {
      "displayName": "Илья Смирнов",
      "userId": "04327038012459884483"
     },
     "user_tz": -180
    },
    "id": "fjAvBaSDz9oO",
    "outputId": "cdee5a9b-78c1-40fc-a400-261666939e1d"
   },
   "outputs": [
    {
     "name": "stdout",
     "output_type": "stream",
     "text": [
      "Train Epoch: 1, Loss: 0.2853477983350555\n",
      "Val Epoch: 1, F1: 0.7022766187202073, Precision: 0.7292677280111719, Recall: 0.6955555555555556\n",
      "Val Epoch: 1, F1: 0.7023436208752122, Precision: 0.7299684840169572, Recall: 0.6949138974144544 \n",
      "\n",
      "Train Epoch: 2, Loss: 0.26712676838495664\n",
      "Val Epoch: 2, F1: 0.7039630393977897, Precision: 0.7377081680503836, Recall: 0.6967222222222222\n",
      "Val Epoch: 2, F1: 0.7040217545509432, Precision: 0.7384574457578793, Recall: 0.6959876989554926 \n",
      "\n",
      "Train Epoch: 3, Loss: 0.26149952938738796\n",
      "Val Epoch: 3, F1: 0.6992073833907905, Precision: 0.7474094929360167, Recall: 0.6928333333333333\n",
      "Val Epoch: 3, F1: 0.6991129377001702, Precision: 0.7483551306997672, Recall: 0.6916387562231378 \n",
      "\n",
      "Train Epoch: 4, Loss: 0.25724358977791334\n",
      "Val Epoch: 4, F1: 0.7087783401668504, Precision: 0.7432489906792451, Recall: 0.7015\n",
      "Val Epoch: 4, F1: 0.7088392520075578, Precision: 0.7440026211888876, Recall: 0.70076018638169 \n",
      "\n",
      "Train Epoch: 5, Loss: 0.2526340300676723\n",
      "Val Epoch: 5, F1: 0.715435415004391, Precision: 0.7383880418109663, Recall: 0.7096111111111111\n",
      "Val Epoch: 5, F1: 0.7154900072865192, Precision: 0.7391080111568694, Recall: 0.7089571586769402 \n",
      "\n"
     ]
    }
   ],
   "source": [
    "model, y_pred, y_proba = train_model_2(5, 16, 0.001, SentimentClassifierTiny64(), nn.MSELoss(), False, 0.5, df=data_ru2, embed_name='tiny2', target_name='sentiment_int')"
   ]
  },
  {
   "cell_type": "code",
   "execution_count": 98,
   "metadata": {
    "colab": {
     "base_uri": "https://localhost:8080/",
     "height": 656
    },
    "executionInfo": {
     "elapsed": 786,
     "status": "ok",
     "timestamp": 1682203517657,
     "user": {
      "displayName": "Илья Смирнов",
      "userId": "04327038012459884483"
     },
     "user_tz": -180
    },
    "id": "0PBC9yE0z9oO",
    "outputId": "f2f59627-2204-40ba-a7a9-1e4eeb113ae7"
   },
   "outputs": [
    {
     "name": "stdout",
     "output_type": "stream",
     "text": [
      "Accuracy:  0.8363295880149813\n",
      "F1: 0.863401806766436, Precision: 0.9109221781365499, Recall: 0.8363295880149813\n",
      "F1: 0.6629406284529887, Precision: 0.6347549632048566, Recall: 0.7733361351782404 \n",
      "\n",
      "              precision    recall  f1-score   support\n",
      "\n",
      "          -1       0.30      0.70      0.42       228\n",
      "           1       0.97      0.85      0.90      2442\n",
      "\n",
      "    accuracy                           0.84      2670\n",
      "   macro avg       0.63      0.77      0.66      2670\n",
      "weighted avg       0.91      0.84      0.86      2670\n",
      "\n"
     ]
    },
    {
     "data": {
      "image/png": "[encoded data removed]",
      "text/plain": [
       "<Figure size 640x480 with 2 Axes>"
      ]
     },
     "metadata": {},
     "output_type": "display_data"
    }
   ],
   "source": [
    "y_pred_yand_45 = metric(yandex, 'tiny2', 'Siuu', 0, 16)"
   ]
  },
  {
   "cell_type": "code",
   "execution_count": 99,
   "metadata": {
    "executionInfo": {
     "elapsed": 5,
     "status": "ok",
     "timestamp": 1682203519696,
     "user": {
      "displayName": "Илья Смирнов",
      "userId": "04327038012459884483"
     },
     "user_tz": -180
    },
    "id": "DG4TAlZd0cXO"
   },
   "outputs": [],
   "source": [
    "df = pd.DataFrame()\n",
    "df['target'] = yandex['Siuu']\n",
    "for i in range(14, 46):\n",
    "  df[f'model_{i}'] = globals()[f'y_pred_yand_{i}']\n",
    "df.to_csv('models_14-46.csv')"
   ]
  },
  {
   "cell_type": "code",
   "execution_count": null,
   "metadata": {
    "id": "1XHPjlgu1jZU"
   },
   "outputs": [],
   "source": []
  }
 ],
 "metadata": {
  "colab": {
   "authorship_tag": "ABX9TyN+m17AT1vHNbpVTYF4TjnC",
   "collapsed_sections": [
    "KSbTyTZyJ7aX",
    "fggtCZE1JzuL",
    "phVoyNJSDLqq",
    "3I6mcohdGkOM",
    "zTzuhu8HyDTE",
    "l6jCSmj0xXA9",
    "puWGFJ8XyquX",
    "VMYjpJLNzzHK"
   ],
   "mount_file_id": "1Mc5_MSiocaMePJenP-4rJ_DGT-SxAGNJ",
   "provenance": []
  },
  "kernelspec": {
   "display_name": "Python 3 (ipykernel)",
   "language": "python",
   "name": "python3"
  },
  "language_info": {
   "codemirror_mode": {
    "name": "ipython",
    "version": 3
   },
   "file_extension": ".py",
   "mimetype": "text/x-python",
   "name": "python",
   "nbconvert_exporter": "python",
   "pygments_lexer": "ipython3",
   "version": "3.10.9"
  },
  "widgets": {
   "application/vnd.jupyter.widget-state+json": {
    "050ddcc77be24c1ab442c1d9e62b12c1": {
     "model_module": "@jupyter-widgets/controls",
     "model_module_version": "1.5.0",
     "model_name": "HTMLModel",
     "state": {
      "_dom_classes": [],
      "_model_module": "@jupyter-widgets/controls",
      "_model_module_version": "1.5.0",
      "_model_name": "HTMLModel",
      "_view_count": null,
      "_view_module": "@jupyter-widgets/controls",
      "_view_module_version": "1.5.0",
      "_view_name": "HTMLView",
      "description": "",
      "description_tooltip": null,
      "layout": "IPY_MODEL_15629c21ea484aa98752f430ebd8058f",
      "placeholder": "​",
      "style": "IPY_MODEL_4fd18541e66b493dae89b7d95285c91a",
      "value": "Downloading (…)okenizer_config.json: 100%"
     }
    },
    "0886cc782a9e446dbfa7b486b8254f2c": {
     "model_module": "@jupyter-widgets/controls",
     "model_module_version": "1.5.0",
     "model_name": "DescriptionStyleModel",
     "state": {
      "_model_module": "@jupyter-widgets/controls",
      "_model_module_version": "1.5.0",
      "_model_name": "DescriptionStyleModel",
      "_view_count": null,
      "_view_module": "@jupyter-widgets/base",
      "_view_module_version": "1.2.0",
      "_view_name": "StyleView",
      "description_width": ""
     }
    },
    "12a8325aeaf44ce3a14e5c742f63a2da": {
     "model_module": "@jupyter-widgets/controls",
     "model_module_version": "1.5.0",
     "model_name": "HTMLModel",
     "state": {
      "_dom_classes": [],
      "_model_module": "@jupyter-widgets/controls",
      "_model_module_version": "1.5.0",
      "_model_name": "HTMLModel",
      "_view_count": null,
      "_view_module": "@jupyter-widgets/controls",
      "_view_module_version": "1.5.0",
      "_view_name": "HTMLView",
      "description": "",
      "description_tooltip": null,
      "layout": "IPY_MODEL_6cc841d611cc4fe3a0862172f23408d4",
      "placeholder": "​",
      "style": "IPY_MODEL_2952e8e072ab4860bb4169d4a8e59c25",
      "value": " 112/112 [00:00&lt;00:00, 3.91kB/s]"
     }
    },
    "12ff112439d14734b64e6c3c96df77fc": {
     "model_module": "@jupyter-widgets/controls",
     "model_module_version": "1.5.0",
     "model_name": "HTMLModel",
     "state": {
      "_dom_classes": [],
      "_model_module": "@jupyter-widgets/controls",
      "_model_module_version": "1.5.0",
      "_model_name": "HTMLModel",
      "_view_count": null,
      "_view_module": "@jupyter-widgets/controls",
      "_view_module_version": "1.5.0",
      "_view_name": "HTMLView",
      "description": "",
      "description_tooltip": null,
      "layout": "IPY_MODEL_d8f4433b4cf640b19c44a7ddabfa374c",
      "placeholder": "​",
      "style": "IPY_MODEL_e59821056e3f4128ae163bad873da1f0",
      "value": " 401/401 [00:00&lt;00:00, 13.7kB/s]"
     }
    },
    "15629c21ea484aa98752f430ebd8058f": {
     "model_module": "@jupyter-widgets/base",
     "model_module_version": "1.2.0",
     "model_name": "LayoutModel",
     "state": {
      "_model_module": "@jupyter-widgets/base",
      "_model_module_version": "1.2.0",
      "_model_name": "LayoutModel",
      "_view_count": null,
      "_view_module": "@jupyter-widgets/base",
      "_view_module_version": "1.2.0",
      "_view_name": "LayoutView",
      "align_content": null,
      "align_items": null,
      "align_self": null,
      "border": null,
      "bottom": null,
      "display": null,
      "flex": null,
      "flex_flow": null,
      "grid_area": null,
      "grid_auto_columns": null,
      "grid_auto_flow": null,
      "grid_auto_rows": null,
      "grid_column": null,
      "grid_gap": null,
      "grid_row": null,
      "grid_template_areas": null,
      "grid_template_columns": null,
      "grid_template_rows": null,
      "height": null,
      "justify_content": null,
      "justify_items": null,
      "left": null,
      "margin": null,
      "max_height": null,
      "max_width": null,
      "min_height": null,
      "min_width": null,
      "object_fit": null,
      "object_position": null,
      "order": null,
      "overflow": null,
      "overflow_x": null,
      "overflow_y": null,
      "padding": null,
      "right": null,
      "top": null,
      "visibility": null,
      "width": null
     }
    },
    "21a3a57bca8e49b48fbe2068d0600913": {
     "model_module": "@jupyter-widgets/controls",
     "model_module_version": "1.5.0",
     "model_name": "DescriptionStyleModel",
     "state": {
      "_model_module": "@jupyter-widgets/controls",
      "_model_module_version": "1.5.0",
      "_model_name": "DescriptionStyleModel",
      "_view_count": null,
      "_view_module": "@jupyter-widgets/base",
      "_view_module_version": "1.2.0",
      "_view_name": "StyleView",
      "description_width": ""
     }
    },
    "23a4e8556e094b9281a87d95a04842ed": {
     "model_module": "@jupyter-widgets/base",
     "model_module_version": "1.2.0",
     "model_name": "LayoutModel",
     "state": {
      "_model_module": "@jupyter-widgets/base",
      "_model_module_version": "1.2.0",
      "_model_name": "LayoutModel",
      "_view_count": null,
      "_view_module": "@jupyter-widgets/base",
      "_view_module_version": "1.2.0",
      "_view_name": "LayoutView",
      "align_content": null,
      "align_items": null,
      "align_self": null,
      "border": null,
      "bottom": null,
      "display": null,
      "flex": null,
      "flex_flow": null,
      "grid_area": null,
      "grid_auto_columns": null,
      "grid_auto_flow": null,
      "grid_auto_rows": null,
      "grid_column": null,
      "grid_gap": null,
      "grid_row": null,
      "grid_template_areas": null,
      "grid_template_columns": null,
      "grid_template_rows": null,
      "height": null,
      "justify_content": null,
      "justify_items": null,
      "left": null,
      "margin": null,
      "max_height": null,
      "max_width": null,
      "min_height": null,
      "min_width": null,
      "object_fit": null,
      "object_position": null,
      "order": null,
      "overflow": null,
      "overflow_x": null,
      "overflow_y": null,
      "padding": null,
      "right": null,
      "top": null,
      "visibility": null,
      "width": null
     }
    },
    "24a9b8867b0d44b696e64f202cd7c390": {
     "model_module": "@jupyter-widgets/controls",
     "model_module_version": "1.5.0",
     "model_name": "HTMLModel",
     "state": {
      "_dom_classes": [],
      "_model_module": "@jupyter-widgets/controls",
      "_model_module_version": "1.5.0",
      "_model_name": "HTMLModel",
      "_view_count": null,
      "_view_module": "@jupyter-widgets/controls",
      "_view_module_version": "1.5.0",
      "_view_name": "HTMLView",
      "description": "",
      "description_tooltip": null,
      "layout": "IPY_MODEL_36a9a32804ba427381cf2407e1f8d962",
      "placeholder": "​",
      "style": "IPY_MODEL_a15ae3d93a13491b911b079234bb1cf6",
      "value": "Downloading (…)cial_tokens_map.json: 100%"
     }
    },
    "2715d1360cdd4a81a4a3e744e6a276b3": {
     "model_module": "@jupyter-widgets/base",
     "model_module_version": "1.2.0",
     "model_name": "LayoutModel",
     "state": {
      "_model_module": "@jupyter-widgets/base",
      "_model_module_version": "1.2.0",
      "_model_name": "LayoutModel",
      "_view_count": null,
      "_view_module": "@jupyter-widgets/base",
      "_view_module_version": "1.2.0",
      "_view_name": "LayoutView",
      "align_content": null,
      "align_items": null,
      "align_self": null,
      "border": null,
      "bottom": null,
      "display": null,
      "flex": null,
      "flex_flow": null,
      "grid_area": null,
      "grid_auto_columns": null,
      "grid_auto_flow": null,
      "grid_auto_rows": null,
      "grid_column": null,
      "grid_gap": null,
      "grid_row": null,
      "grid_template_areas": null,
      "grid_template_columns": null,
      "grid_template_rows": null,
      "height": null,
      "justify_content": null,
      "justify_items": null,
      "left": null,
      "margin": null,
      "max_height": null,
      "max_width": null,
      "min_height": null,
      "min_width": null,
      "object_fit": null,
      "object_position": null,
      "order": null,
      "overflow": null,
      "overflow_x": null,
      "overflow_y": null,
      "padding": null,
      "right": null,
      "top": null,
      "visibility": null,
      "width": null
     }
    },
    "28c20116ac9440f0bf84aa302d1ea2c1": {
     "model_module": "@jupyter-widgets/controls",
     "model_module_version": "1.5.0",
     "model_name": "DescriptionStyleModel",
     "state": {
      "_model_module": "@jupyter-widgets/controls",
      "_model_module_version": "1.5.0",
      "_model_name": "DescriptionStyleModel",
      "_view_count": null,
      "_view_module": "@jupyter-widgets/base",
      "_view_module_version": "1.2.0",
      "_view_name": "StyleView",
      "description_width": ""
     }
    },
    "2952e8e072ab4860bb4169d4a8e59c25": {
     "model_module": "@jupyter-widgets/controls",
     "model_module_version": "1.5.0",
     "model_name": "DescriptionStyleModel",
     "state": {
      "_model_module": "@jupyter-widgets/controls",
      "_model_module_version": "1.5.0",
      "_model_name": "DescriptionStyleModel",
      "_view_count": null,
      "_view_module": "@jupyter-widgets/base",
      "_view_module_version": "1.2.0",
      "_view_name": "StyleView",
      "description_width": ""
     }
    },
    "2bea5b6bd0a648b4b638d81d664ef7ad": {
     "model_module": "@jupyter-widgets/controls",
     "model_module_version": "1.5.0",
     "model_name": "HBoxModel",
     "state": {
      "_dom_classes": [],
      "_model_module": "@jupyter-widgets/controls",
      "_model_module_version": "1.5.0",
      "_model_name": "HBoxModel",
      "_view_count": null,
      "_view_module": "@jupyter-widgets/controls",
      "_view_module_version": "1.5.0",
      "_view_name": "HBoxView",
      "box_style": "",
      "children": [
       "IPY_MODEL_cbf3bddfbb474597a3896e0473bf2ecb",
       "IPY_MODEL_c845c70d28f7453a8942cc3721a326a8",
       "IPY_MODEL_b7a2248c98434a9c9c02c2ac39cc1049"
      ],
      "layout": "IPY_MODEL_cc5cb7e0f6f147259dabf5935a259726"
     }
    },
    "2f114b0ca2a546d2b7e62e72f1333f2c": {
     "model_module": "@jupyter-widgets/controls",
     "model_module_version": "1.5.0",
     "model_name": "DescriptionStyleModel",
     "state": {
      "_model_module": "@jupyter-widgets/controls",
      "_model_module_version": "1.5.0",
      "_model_name": "DescriptionStyleModel",
      "_view_count": null,
      "_view_module": "@jupyter-widgets/base",
      "_view_module_version": "1.2.0",
      "_view_name": "StyleView",
      "description_width": ""
     }
    },
    "3611142f74b04393858f3a8c8c570de0": {
     "model_module": "@jupyter-widgets/base",
     "model_module_version": "1.2.0",
     "model_name": "LayoutModel",
     "state": {
      "_model_module": "@jupyter-widgets/base",
      "_model_module_version": "1.2.0",
      "_model_name": "LayoutModel",
      "_view_count": null,
      "_view_module": "@jupyter-widgets/base",
      "_view_module_version": "1.2.0",
      "_view_name": "LayoutView",
      "align_content": null,
      "align_items": null,
      "align_self": null,
      "border": null,
      "bottom": null,
      "display": null,
      "flex": null,
      "flex_flow": null,
      "grid_area": null,
      "grid_auto_columns": null,
      "grid_auto_flow": null,
      "grid_auto_rows": null,
      "grid_column": null,
      "grid_gap": null,
      "grid_row": null,
      "grid_template_areas": null,
      "grid_template_columns": null,
      "grid_template_rows": null,
      "height": null,
      "justify_content": null,
      "justify_items": null,
      "left": null,
      "margin": null,
      "max_height": null,
      "max_width": null,
      "min_height": null,
      "min_width": null,
      "object_fit": null,
      "object_position": null,
      "order": null,
      "overflow": null,
      "overflow_x": null,
      "overflow_y": null,
      "padding": null,
      "right": null,
      "top": null,
      "visibility": null,
      "width": null
     }
    },
    "36a9a32804ba427381cf2407e1f8d962": {
     "model_module": "@jupyter-widgets/base",
     "model_module_version": "1.2.0",
     "model_name": "LayoutModel",
     "state": {
      "_model_module": "@jupyter-widgets/base",
      "_model_module_version": "1.2.0",
      "_model_name": "LayoutModel",
      "_view_count": null,
      "_view_module": "@jupyter-widgets/base",
      "_view_module_version": "1.2.0",
      "_view_name": "LayoutView",
      "align_content": null,
      "align_items": null,
      "align_self": null,
      "border": null,
      "bottom": null,
      "display": null,
      "flex": null,
      "flex_flow": null,
      "grid_area": null,
      "grid_auto_columns": null,
      "grid_auto_flow": null,
      "grid_auto_rows": null,
      "grid_column": null,
      "grid_gap": null,
      "grid_row": null,
      "grid_template_areas": null,
      "grid_template_columns": null,
      "grid_template_rows": null,
      "height": null,
      "justify_content": null,
      "justify_items": null,
      "left": null,
      "margin": null,
      "max_height": null,
      "max_width": null,
      "min_height": null,
      "min_width": null,
      "object_fit": null,
      "object_position": null,
      "order": null,
      "overflow": null,
      "overflow_x": null,
      "overflow_y": null,
      "padding": null,
      "right": null,
      "top": null,
      "visibility": null,
      "width": null
     }
    },
    "3785bb63a7bb4fc69fa7362223072553": {
     "model_module": "@jupyter-widgets/base",
     "model_module_version": "1.2.0",
     "model_name": "LayoutModel",
     "state": {
      "_model_module": "@jupyter-widgets/base",
      "_model_module_version": "1.2.0",
      "_model_name": "LayoutModel",
      "_view_count": null,
      "_view_module": "@jupyter-widgets/base",
      "_view_module_version": "1.2.0",
      "_view_name": "LayoutView",
      "align_content": null,
      "align_items": null,
      "align_self": null,
      "border": null,
      "bottom": null,
      "display": null,
      "flex": null,
      "flex_flow": null,
      "grid_area": null,
      "grid_auto_columns": null,
      "grid_auto_flow": null,
      "grid_auto_rows": null,
      "grid_column": null,
      "grid_gap": null,
      "grid_row": null,
      "grid_template_areas": null,
      "grid_template_columns": null,
      "grid_template_rows": null,
      "height": null,
      "justify_content": null,
      "justify_items": null,
      "left": null,
      "margin": null,
      "max_height": null,
      "max_width": null,
      "min_height": null,
      "min_width": null,
      "object_fit": null,
      "object_position": null,
      "order": null,
      "overflow": null,
      "overflow_x": null,
      "overflow_y": null,
      "padding": null,
      "right": null,
      "top": null,
      "visibility": null,
      "width": null
     }
    },
    "3fbcea14be4b4c808da925101e812910": {
     "model_module": "@jupyter-widgets/base",
     "model_module_version": "1.2.0",
     "model_name": "LayoutModel",
     "state": {
      "_model_module": "@jupyter-widgets/base",
      "_model_module_version": "1.2.0",
      "_model_name": "LayoutModel",
      "_view_count": null,
      "_view_module": "@jupyter-widgets/base",
      "_view_module_version": "1.2.0",
      "_view_name": "LayoutView",
      "align_content": null,
      "align_items": null,
      "align_self": null,
      "border": null,
      "bottom": null,
      "display": null,
      "flex": null,
      "flex_flow": null,
      "grid_area": null,
      "grid_auto_columns": null,
      "grid_auto_flow": null,
      "grid_auto_rows": null,
      "grid_column": null,
      "grid_gap": null,
      "grid_row": null,
      "grid_template_areas": null,
      "grid_template_columns": null,
      "grid_template_rows": null,
      "height": null,
      "justify_content": null,
      "justify_items": null,
      "left": null,
      "margin": null,
      "max_height": null,
      "max_width": null,
      "min_height": null,
      "min_width": null,
      "object_fit": null,
      "object_position": null,
      "order": null,
      "overflow": null,
      "overflow_x": null,
      "overflow_y": null,
      "padding": null,
      "right": null,
      "top": null,
      "visibility": null,
      "width": null
     }
    },
    "47f0ebd22c4f48bcae2a875d05c8f731": {
     "model_module": "@jupyter-widgets/base",
     "model_module_version": "1.2.0",
     "model_name": "LayoutModel",
     "state": {
      "_model_module": "@jupyter-widgets/base",
      "_model_module_version": "1.2.0",
      "_model_name": "LayoutModel",
      "_view_count": null,
      "_view_module": "@jupyter-widgets/base",
      "_view_module_version": "1.2.0",
      "_view_name": "LayoutView",
      "align_content": null,
      "align_items": null,
      "align_self": null,
      "border": null,
      "bottom": null,
      "display": null,
      "flex": null,
      "flex_flow": null,
      "grid_area": null,
      "grid_auto_columns": null,
      "grid_auto_flow": null,
      "grid_auto_rows": null,
      "grid_column": null,
      "grid_gap": null,
      "grid_row": null,
      "grid_template_areas": null,
      "grid_template_columns": null,
      "grid_template_rows": null,
      "height": null,
      "justify_content": null,
      "justify_items": null,
      "left": null,
      "margin": null,
      "max_height": null,
      "max_width": null,
      "min_height": null,
      "min_width": null,
      "object_fit": null,
      "object_position": null,
      "order": null,
      "overflow": null,
      "overflow_x": null,
      "overflow_y": null,
      "padding": null,
      "right": null,
      "top": null,
      "visibility": null,
      "width": null
     }
    },
    "4bf8f2d03b3248c19684e84c376212b7": {
     "model_module": "@jupyter-widgets/controls",
     "model_module_version": "1.5.0",
     "model_name": "DescriptionStyleModel",
     "state": {
      "_model_module": "@jupyter-widgets/controls",
      "_model_module_version": "1.5.0",
      "_model_name": "DescriptionStyleModel",
      "_view_count": null,
      "_view_module": "@jupyter-widgets/base",
      "_view_module_version": "1.2.0",
      "_view_name": "StyleView",
      "description_width": ""
     }
    },
    "4fd18541e66b493dae89b7d95285c91a": {
     "model_module": "@jupyter-widgets/controls",
     "model_module_version": "1.5.0",
     "model_name": "DescriptionStyleModel",
     "state": {
      "_model_module": "@jupyter-widgets/controls",
      "_model_module_version": "1.5.0",
      "_model_name": "DescriptionStyleModel",
      "_view_count": null,
      "_view_module": "@jupyter-widgets/base",
      "_view_module_version": "1.2.0",
      "_view_name": "StyleView",
      "description_width": ""
     }
    },
    "510c8f22f6734239a6cf168f36db1dd0": {
     "model_module": "@jupyter-widgets/controls",
     "model_module_version": "1.5.0",
     "model_name": "ProgressStyleModel",
     "state": {
      "_model_module": "@jupyter-widgets/controls",
      "_model_module_version": "1.5.0",
      "_model_name": "ProgressStyleModel",
      "_view_count": null,
      "_view_module": "@jupyter-widgets/base",
      "_view_module_version": "1.2.0",
      "_view_name": "StyleView",
      "bar_color": null,
      "description_width": ""
     }
    },
    "53d29554362649559e40adc4b611a866": {
     "model_module": "@jupyter-widgets/controls",
     "model_module_version": "1.5.0",
     "model_name": "HBoxModel",
     "state": {
      "_dom_classes": [],
      "_model_module": "@jupyter-widgets/controls",
      "_model_module_version": "1.5.0",
      "_model_name": "HBoxModel",
      "_view_count": null,
      "_view_module": "@jupyter-widgets/controls",
      "_view_module_version": "1.5.0",
      "_view_name": "HBoxView",
      "box_style": "",
      "children": [
       "IPY_MODEL_24a9b8867b0d44b696e64f202cd7c390",
       "IPY_MODEL_77d9d8aa852949fdaefda840d7a68188",
       "IPY_MODEL_12a8325aeaf44ce3a14e5c742f63a2da"
      ],
      "layout": "IPY_MODEL_c8f95ca9553a4bba892883c20598e125"
     }
    },
    "5bafe406a9d34532aca92299363da8d6": {
     "model_module": "@jupyter-widgets/base",
     "model_module_version": "1.2.0",
     "model_name": "LayoutModel",
     "state": {
      "_model_module": "@jupyter-widgets/base",
      "_model_module_version": "1.2.0",
      "_model_name": "LayoutModel",
      "_view_count": null,
      "_view_module": "@jupyter-widgets/base",
      "_view_module_version": "1.2.0",
      "_view_name": "LayoutView",
      "align_content": null,
      "align_items": null,
      "align_self": null,
      "border": null,
      "bottom": null,
      "display": null,
      "flex": null,
      "flex_flow": null,
      "grid_area": null,
      "grid_auto_columns": null,
      "grid_auto_flow": null,
      "grid_auto_rows": null,
      "grid_column": null,
      "grid_gap": null,
      "grid_row": null,
      "grid_template_areas": null,
      "grid_template_columns": null,
      "grid_template_rows": null,
      "height": null,
      "justify_content": null,
      "justify_items": null,
      "left": null,
      "margin": null,
      "max_height": null,
      "max_width": null,
      "min_height": null,
      "min_width": null,
      "object_fit": null,
      "object_position": null,
      "order": null,
      "overflow": null,
      "overflow_x": null,
      "overflow_y": null,
      "padding": null,
      "right": null,
      "top": null,
      "visibility": null,
      "width": null
     }
    },
    "64f6ff457253462cb5e08ce6e80ff0ec": {
     "model_module": "@jupyter-widgets/controls",
     "model_module_version": "1.5.0",
     "model_name": "FloatProgressModel",
     "state": {
      "_dom_classes": [],
      "_model_module": "@jupyter-widgets/controls",
      "_model_module_version": "1.5.0",
      "_model_name": "FloatProgressModel",
      "_view_count": null,
      "_view_module": "@jupyter-widgets/controls",
      "_view_module_version": "1.5.0",
      "_view_name": "ProgressView",
      "bar_style": "success",
      "description": "",
      "description_tooltip": null,
      "layout": "IPY_MODEL_e178c394a8564c2bbbbb5218fff21ad7",
      "max": 1080667,
      "min": 0,
      "orientation": "horizontal",
      "style": "IPY_MODEL_d3fa646b38cf4c48b57c3d859c011b87",
      "value": 1080667
     }
    },
    "651b8c566027420bb7722a74e1d54d47": {
     "model_module": "@jupyter-widgets/base",
     "model_module_version": "1.2.0",
     "model_name": "LayoutModel",
     "state": {
      "_model_module": "@jupyter-widgets/base",
      "_model_module_version": "1.2.0",
      "_model_name": "LayoutModel",
      "_view_count": null,
      "_view_module": "@jupyter-widgets/base",
      "_view_module_version": "1.2.0",
      "_view_name": "LayoutView",
      "align_content": null,
      "align_items": null,
      "align_self": null,
      "border": null,
      "bottom": null,
      "display": null,
      "flex": null,
      "flex_flow": null,
      "grid_area": null,
      "grid_auto_columns": null,
      "grid_auto_flow": null,
      "grid_auto_rows": null,
      "grid_column": null,
      "grid_gap": null,
      "grid_row": null,
      "grid_template_areas": null,
      "grid_template_columns": null,
      "grid_template_rows": null,
      "height": null,
      "justify_content": null,
      "justify_items": null,
      "left": null,
      "margin": null,
      "max_height": null,
      "max_width": null,
      "min_height": null,
      "min_width": null,
      "object_fit": null,
      "object_position": null,
      "order": null,
      "overflow": null,
      "overflow_x": null,
      "overflow_y": null,
      "padding": null,
      "right": null,
      "top": null,
      "visibility": null,
      "width": null
     }
    },
    "656c8ba88be248369c374d1b09228f6d": {
     "model_module": "@jupyter-widgets/base",
     "model_module_version": "1.2.0",
     "model_name": "LayoutModel",
     "state": {
      "_model_module": "@jupyter-widgets/base",
      "_model_module_version": "1.2.0",
      "_model_name": "LayoutModel",
      "_view_count": null,
      "_view_module": "@jupyter-widgets/base",
      "_view_module_version": "1.2.0",
      "_view_name": "LayoutView",
      "align_content": null,
      "align_items": null,
      "align_self": null,
      "border": null,
      "bottom": null,
      "display": null,
      "flex": null,
      "flex_flow": null,
      "grid_area": null,
      "grid_auto_columns": null,
      "grid_auto_flow": null,
      "grid_auto_rows": null,
      "grid_column": null,
      "grid_gap": null,
      "grid_row": null,
      "grid_template_areas": null,
      "grid_template_columns": null,
      "grid_template_rows": null,
      "height": null,
      "justify_content": null,
      "justify_items": null,
      "left": null,
      "margin": null,
      "max_height": null,
      "max_width": null,
      "min_height": null,
      "min_width": null,
      "object_fit": null,
      "object_position": null,
      "order": null,
      "overflow": null,
      "overflow_x": null,
      "overflow_y": null,
      "padding": null,
      "right": null,
      "top": null,
      "visibility": null,
      "width": null
     }
    },
    "6cc841d611cc4fe3a0862172f23408d4": {
     "model_module": "@jupyter-widgets/base",
     "model_module_version": "1.2.0",
     "model_name": "LayoutModel",
     "state": {
      "_model_module": "@jupyter-widgets/base",
      "_model_module_version": "1.2.0",
      "_model_name": "LayoutModel",
      "_view_count": null,
      "_view_module": "@jupyter-widgets/base",
      "_view_module_version": "1.2.0",
      "_view_name": "LayoutView",
      "align_content": null,
      "align_items": null,
      "align_self": null,
      "border": null,
      "bottom": null,
      "display": null,
      "flex": null,
      "flex_flow": null,
      "grid_area": null,
      "grid_auto_columns": null,
      "grid_auto_flow": null,
      "grid_auto_rows": null,
      "grid_column": null,
      "grid_gap": null,
      "grid_row": null,
      "grid_template_areas": null,
      "grid_template_columns": null,
      "grid_template_rows": null,
      "height": null,
      "justify_content": null,
      "justify_items": null,
      "left": null,
      "margin": null,
      "max_height": null,
      "max_width": null,
      "min_height": null,
      "min_width": null,
      "object_fit": null,
      "object_position": null,
      "order": null,
      "overflow": null,
      "overflow_x": null,
      "overflow_y": null,
      "padding": null,
      "right": null,
      "top": null,
      "visibility": null,
      "width": null
     }
    },
    "7563f8d3b757448d80b570ebe5f8206e": {
     "model_module": "@jupyter-widgets/controls",
     "model_module_version": "1.5.0",
     "model_name": "DescriptionStyleModel",
     "state": {
      "_model_module": "@jupyter-widgets/controls",
      "_model_module_version": "1.5.0",
      "_model_name": "DescriptionStyleModel",
      "_view_count": null,
      "_view_module": "@jupyter-widgets/base",
      "_view_module_version": "1.2.0",
      "_view_name": "StyleView",
      "description_width": ""
     }
    },
    "776ec53e600242119d40766350380bc2": {
     "model_module": "@jupyter-widgets/base",
     "model_module_version": "1.2.0",
     "model_name": "LayoutModel",
     "state": {
      "_model_module": "@jupyter-widgets/base",
      "_model_module_version": "1.2.0",
      "_model_name": "LayoutModel",
      "_view_count": null,
      "_view_module": "@jupyter-widgets/base",
      "_view_module_version": "1.2.0",
      "_view_name": "LayoutView",
      "align_content": null,
      "align_items": null,
      "align_self": null,
      "border": null,
      "bottom": null,
      "display": null,
      "flex": null,
      "flex_flow": null,
      "grid_area": null,
      "grid_auto_columns": null,
      "grid_auto_flow": null,
      "grid_auto_rows": null,
      "grid_column": null,
      "grid_gap": null,
      "grid_row": null,
      "grid_template_areas": null,
      "grid_template_columns": null,
      "grid_template_rows": null,
      "height": null,
      "justify_content": null,
      "justify_items": null,
      "left": null,
      "margin": null,
      "max_height": null,
      "max_width": null,
      "min_height": null,
      "min_width": null,
      "object_fit": null,
      "object_position": null,
      "order": null,
      "overflow": null,
      "overflow_x": null,
      "overflow_y": null,
      "padding": null,
      "right": null,
      "top": null,
      "visibility": null,
      "width": null
     }
    },
    "77d9d8aa852949fdaefda840d7a68188": {
     "model_module": "@jupyter-widgets/controls",
     "model_module_version": "1.5.0",
     "model_name": "FloatProgressModel",
     "state": {
      "_dom_classes": [],
      "_model_module": "@jupyter-widgets/controls",
      "_model_module_version": "1.5.0",
      "_model_name": "FloatProgressModel",
      "_view_count": null,
      "_view_module": "@jupyter-widgets/controls",
      "_view_module_version": "1.5.0",
      "_view_name": "ProgressView",
      "bar_style": "success",
      "description": "",
      "description_tooltip": null,
      "layout": "IPY_MODEL_651b8c566027420bb7722a74e1d54d47",
      "max": 112,
      "min": 0,
      "orientation": "horizontal",
      "style": "IPY_MODEL_963cd68afaac43e4a090d70da1e12254",
      "value": 112
     }
    },
    "7c534e1999b7484fb9e034f41c03bdb9": {
     "model_module": "@jupyter-widgets/controls",
     "model_module_version": "1.5.0",
     "model_name": "ProgressStyleModel",
     "state": {
      "_model_module": "@jupyter-widgets/controls",
      "_model_module_version": "1.5.0",
      "_model_name": "ProgressStyleModel",
      "_view_count": null,
      "_view_module": "@jupyter-widgets/base",
      "_view_module_version": "1.2.0",
      "_view_name": "StyleView",
      "bar_color": null,
      "description_width": ""
     }
    },
    "8483d6fa3d654a05954752774f4d2a13": {
     "model_module": "@jupyter-widgets/controls",
     "model_module_version": "1.5.0",
     "model_name": "HTMLModel",
     "state": {
      "_dom_classes": [],
      "_model_module": "@jupyter-widgets/controls",
      "_model_module_version": "1.5.0",
      "_model_name": "HTMLModel",
      "_view_count": null,
      "_view_module": "@jupyter-widgets/controls",
      "_view_module_version": "1.5.0",
      "_view_name": "HTMLView",
      "description": "",
      "description_tooltip": null,
      "layout": "IPY_MODEL_8d6d7b7c602042c1aa679a3ecbf0bdb3",
      "placeholder": "​",
      "style": "IPY_MODEL_c6cc76cb35e648fc9de95a574cd10ccc",
      "value": " 1.08M/1.08M [00:00&lt;00:00, 4.01MB/s]"
     }
    },
    "8d6d7b7c602042c1aa679a3ecbf0bdb3": {
     "model_module": "@jupyter-widgets/base",
     "model_module_version": "1.2.0",
     "model_name": "LayoutModel",
     "state": {
      "_model_module": "@jupyter-widgets/base",
      "_model_module_version": "1.2.0",
      "_model_name": "LayoutModel",
      "_view_count": null,
      "_view_module": "@jupyter-widgets/base",
      "_view_module_version": "1.2.0",
      "_view_name": "LayoutView",
      "align_content": null,
      "align_items": null,
      "align_self": null,
      "border": null,
      "bottom": null,
      "display": null,
      "flex": null,
      "flex_flow": null,
      "grid_area": null,
      "grid_auto_columns": null,
      "grid_auto_flow": null,
      "grid_auto_rows": null,
      "grid_column": null,
      "grid_gap": null,
      "grid_row": null,
      "grid_template_areas": null,
      "grid_template_columns": null,
      "grid_template_rows": null,
      "height": null,
      "justify_content": null,
      "justify_items": null,
      "left": null,
      "margin": null,
      "max_height": null,
      "max_width": null,
      "min_height": null,
      "min_width": null,
      "object_fit": null,
      "object_position": null,
      "order": null,
      "overflow": null,
      "overflow_x": null,
      "overflow_y": null,
      "padding": null,
      "right": null,
      "top": null,
      "visibility": null,
      "width": null
     }
    },
    "9174a5dcabbd4e6aaac0f8074f33988c": {
     "model_module": "@jupyter-widgets/controls",
     "model_module_version": "1.5.0",
     "model_name": "ProgressStyleModel",
     "state": {
      "_model_module": "@jupyter-widgets/controls",
      "_model_module_version": "1.5.0",
      "_model_name": "ProgressStyleModel",
      "_view_count": null,
      "_view_module": "@jupyter-widgets/base",
      "_view_module_version": "1.2.0",
      "_view_name": "StyleView",
      "bar_color": null,
      "description_width": ""
     }
    },
    "940db88dc42844e4bcc692f37e5db74e": {
     "model_module": "@jupyter-widgets/base",
     "model_module_version": "1.2.0",
     "model_name": "LayoutModel",
     "state": {
      "_model_module": "@jupyter-widgets/base",
      "_model_module_version": "1.2.0",
      "_model_name": "LayoutModel",
      "_view_count": null,
      "_view_module": "@jupyter-widgets/base",
      "_view_module_version": "1.2.0",
      "_view_name": "LayoutView",
      "align_content": null,
      "align_items": null,
      "align_self": null,
      "border": null,
      "bottom": null,
      "display": null,
      "flex": null,
      "flex_flow": null,
      "grid_area": null,
      "grid_auto_columns": null,
      "grid_auto_flow": null,
      "grid_auto_rows": null,
      "grid_column": null,
      "grid_gap": null,
      "grid_row": null,
      "grid_template_areas": null,
      "grid_template_columns": null,
      "grid_template_rows": null,
      "height": null,
      "justify_content": null,
      "justify_items": null,
      "left": null,
      "margin": null,
      "max_height": null,
      "max_width": null,
      "min_height": null,
      "min_width": null,
      "object_fit": null,
      "object_position": null,
      "order": null,
      "overflow": null,
      "overflow_x": null,
      "overflow_y": null,
      "padding": null,
      "right": null,
      "top": null,
      "visibility": null,
      "width": null
     }
    },
    "963cd68afaac43e4a090d70da1e12254": {
     "model_module": "@jupyter-widgets/controls",
     "model_module_version": "1.5.0",
     "model_name": "ProgressStyleModel",
     "state": {
      "_model_module": "@jupyter-widgets/controls",
      "_model_module_version": "1.5.0",
      "_model_name": "ProgressStyleModel",
      "_view_count": null,
      "_view_module": "@jupyter-widgets/base",
      "_view_module_version": "1.2.0",
      "_view_name": "StyleView",
      "bar_color": null,
      "description_width": ""
     }
    },
    "9d16285bd57b4cee81f53a1af70bdb0f": {
     "model_module": "@jupyter-widgets/controls",
     "model_module_version": "1.5.0",
     "model_name": "HBoxModel",
     "state": {
      "_dom_classes": [],
      "_model_module": "@jupyter-widgets/controls",
      "_model_module_version": "1.5.0",
      "_model_name": "HBoxModel",
      "_view_count": null,
      "_view_module": "@jupyter-widgets/controls",
      "_view_module_version": "1.5.0",
      "_view_name": "HBoxView",
      "box_style": "",
      "children": [
       "IPY_MODEL_050ddcc77be24c1ab442c1d9e62b12c1",
       "IPY_MODEL_d4274182b6e14a6480f50a5741d6cd26",
       "IPY_MODEL_12ff112439d14734b64e6c3c96df77fc"
      ],
      "layout": "IPY_MODEL_47f0ebd22c4f48bcae2a875d05c8f731"
     }
    },
    "9e87583542324e72a30ec3e1f4527b62": {
     "model_module": "@jupyter-widgets/controls",
     "model_module_version": "1.5.0",
     "model_name": "HBoxModel",
     "state": {
      "_dom_classes": [],
      "_model_module": "@jupyter-widgets/controls",
      "_model_module_version": "1.5.0",
      "_model_name": "HBoxModel",
      "_view_count": null,
      "_view_module": "@jupyter-widgets/controls",
      "_view_module_version": "1.5.0",
      "_view_name": "HBoxView",
      "box_style": "",
      "children": [
       "IPY_MODEL_e50c4b865c30423299e80f2d90496ca7",
       "IPY_MODEL_e42dbfcae45149428ca8813d084a4d69",
       "IPY_MODEL_bfe356f1c9344c0e98cf9e05860f8d0e"
      ],
      "layout": "IPY_MODEL_5bafe406a9d34532aca92299363da8d6"
     }
    },
    "a15ae3d93a13491b911b079234bb1cf6": {
     "model_module": "@jupyter-widgets/controls",
     "model_module_version": "1.5.0",
     "model_name": "DescriptionStyleModel",
     "state": {
      "_model_module": "@jupyter-widgets/controls",
      "_model_module_version": "1.5.0",
      "_model_name": "DescriptionStyleModel",
      "_view_count": null,
      "_view_module": "@jupyter-widgets/base",
      "_view_module_version": "1.2.0",
      "_view_name": "StyleView",
      "description_width": ""
     }
    },
    "afb07ae325804cdf9ecf78fcd181e138": {
     "model_module": "@jupyter-widgets/controls",
     "model_module_version": "1.5.0",
     "model_name": "FloatProgressModel",
     "state": {
      "_dom_classes": [],
      "_model_module": "@jupyter-widgets/controls",
      "_model_module_version": "1.5.0",
      "_model_name": "FloatProgressModel",
      "_view_count": null,
      "_view_module": "@jupyter-widgets/controls",
      "_view_module_version": "1.5.0",
      "_view_name": "ProgressView",
      "bar_style": "success",
      "description": "",
      "description_tooltip": null,
      "layout": "IPY_MODEL_e1ab3fd3e1304a568ca7ff543462742a",
      "max": 715,
      "min": 0,
      "orientation": "horizontal",
      "style": "IPY_MODEL_7c534e1999b7484fb9e034f41c03bdb9",
      "value": 715
     }
    },
    "b144a0eb829642a5bca475731f59ca3b": {
     "model_module": "@jupyter-widgets/controls",
     "model_module_version": "1.5.0",
     "model_name": "HTMLModel",
     "state": {
      "_dom_classes": [],
      "_model_module": "@jupyter-widgets/controls",
      "_model_module_version": "1.5.0",
      "_model_name": "HTMLModel",
      "_view_count": null,
      "_view_module": "@jupyter-widgets/controls",
      "_view_module_version": "1.5.0",
      "_view_name": "HTMLView",
      "description": "",
      "description_tooltip": null,
      "layout": "IPY_MODEL_cb7011bcda3a4b26be017a55317a5646",
      "placeholder": "​",
      "style": "IPY_MODEL_4bf8f2d03b3248c19684e84c376212b7",
      "value": "Downloading (…)solve/main/vocab.txt: 100%"
     }
    },
    "b4d388ea34324328abca9bbaf95af10a": {
     "model_module": "@jupyter-widgets/controls",
     "model_module_version": "1.5.0",
     "model_name": "HBoxModel",
     "state": {
      "_dom_classes": [],
      "_model_module": "@jupyter-widgets/controls",
      "_model_module_version": "1.5.0",
      "_model_name": "HBoxModel",
      "_view_count": null,
      "_view_module": "@jupyter-widgets/controls",
      "_view_module_version": "1.5.0",
      "_view_name": "HBoxView",
      "box_style": "",
      "children": [
       "IPY_MODEL_b144a0eb829642a5bca475731f59ca3b",
       "IPY_MODEL_64f6ff457253462cb5e08ce6e80ff0ec",
       "IPY_MODEL_8483d6fa3d654a05954752774f4d2a13"
      ],
      "layout": "IPY_MODEL_3611142f74b04393858f3a8c8c570de0"
     }
    },
    "b7a2248c98434a9c9c02c2ac39cc1049": {
     "model_module": "@jupyter-widgets/controls",
     "model_module_version": "1.5.0",
     "model_name": "HTMLModel",
     "state": {
      "_dom_classes": [],
      "_model_module": "@jupyter-widgets/controls",
      "_model_module_version": "1.5.0",
      "_model_name": "HTMLModel",
      "_view_count": null,
      "_view_module": "@jupyter-widgets/controls",
      "_view_module_version": "1.5.0",
      "_view_name": "HTMLView",
      "description": "",
      "description_tooltip": null,
      "layout": "IPY_MODEL_776ec53e600242119d40766350380bc2",
      "placeholder": "​",
      "style": "IPY_MODEL_21a3a57bca8e49b48fbe2068d0600913",
      "value": " 118M/118M [00:00&lt;00:00, 131MB/s]"
     }
    },
    "bd8e87f9d78b401c8645f586ba703bde": {
     "model_module": "@jupyter-widgets/controls",
     "model_module_version": "1.5.0",
     "model_name": "HBoxModel",
     "state": {
      "_dom_classes": [],
      "_model_module": "@jupyter-widgets/controls",
      "_model_module_version": "1.5.0",
      "_model_name": "HBoxModel",
      "_view_count": null,
      "_view_module": "@jupyter-widgets/controls",
      "_view_module_version": "1.5.0",
      "_view_name": "HBoxView",
      "box_style": "",
      "children": [
       "IPY_MODEL_ce22d56721d14e9bbff7bf8ad5db1605",
       "IPY_MODEL_afb07ae325804cdf9ecf78fcd181e138",
       "IPY_MODEL_ca2b06250c9642a197f26f9731615883"
      ],
      "layout": "IPY_MODEL_940db88dc42844e4bcc692f37e5db74e"
     }
    },
    "bfe356f1c9344c0e98cf9e05860f8d0e": {
     "model_module": "@jupyter-widgets/controls",
     "model_module_version": "1.5.0",
     "model_name": "HTMLModel",
     "state": {
      "_dom_classes": [],
      "_model_module": "@jupyter-widgets/controls",
      "_model_module_version": "1.5.0",
      "_model_name": "HTMLModel",
      "_view_count": null,
      "_view_module": "@jupyter-widgets/controls",
      "_view_module_version": "1.5.0",
      "_view_name": "HTMLView",
      "description": "",
      "description_tooltip": null,
      "layout": "IPY_MODEL_23a4e8556e094b9281a87d95a04842ed",
      "placeholder": "​",
      "style": "IPY_MODEL_7563f8d3b757448d80b570ebe5f8206e",
      "value": " 1.74M/1.74M [00:00&lt;00:00, 20.4MB/s]"
     }
    },
    "c103710e88104962abaffcef059aa9a9": {
     "model_module": "@jupyter-widgets/base",
     "model_module_version": "1.2.0",
     "model_name": "LayoutModel",
     "state": {
      "_model_module": "@jupyter-widgets/base",
      "_model_module_version": "1.2.0",
      "_model_name": "LayoutModel",
      "_view_count": null,
      "_view_module": "@jupyter-widgets/base",
      "_view_module_version": "1.2.0",
      "_view_name": "LayoutView",
      "align_content": null,
      "align_items": null,
      "align_self": null,
      "border": null,
      "bottom": null,
      "display": null,
      "flex": null,
      "flex_flow": null,
      "grid_area": null,
      "grid_auto_columns": null,
      "grid_auto_flow": null,
      "grid_auto_rows": null,
      "grid_column": null,
      "grid_gap": null,
      "grid_row": null,
      "grid_template_areas": null,
      "grid_template_columns": null,
      "grid_template_rows": null,
      "height": null,
      "justify_content": null,
      "justify_items": null,
      "left": null,
      "margin": null,
      "max_height": null,
      "max_width": null,
      "min_height": null,
      "min_width": null,
      "object_fit": null,
      "object_position": null,
      "order": null,
      "overflow": null,
      "overflow_x": null,
      "overflow_y": null,
      "padding": null,
      "right": null,
      "top": null,
      "visibility": null,
      "width": null
     }
    },
    "c557dc5bc0234f8c8db2554dc5bf0014": {
     "model_module": "@jupyter-widgets/controls",
     "model_module_version": "1.5.0",
     "model_name": "ProgressStyleModel",
     "state": {
      "_model_module": "@jupyter-widgets/controls",
      "_model_module_version": "1.5.0",
      "_model_name": "ProgressStyleModel",
      "_view_count": null,
      "_view_module": "@jupyter-widgets/base",
      "_view_module_version": "1.2.0",
      "_view_name": "StyleView",
      "bar_color": null,
      "description_width": ""
     }
    },
    "c6cc76cb35e648fc9de95a574cd10ccc": {
     "model_module": "@jupyter-widgets/controls",
     "model_module_version": "1.5.0",
     "model_name": "DescriptionStyleModel",
     "state": {
      "_model_module": "@jupyter-widgets/controls",
      "_model_module_version": "1.5.0",
      "_model_name": "DescriptionStyleModel",
      "_view_count": null,
      "_view_module": "@jupyter-widgets/base",
      "_view_module_version": "1.2.0",
      "_view_name": "StyleView",
      "description_width": ""
     }
    },
    "c845c70d28f7453a8942cc3721a326a8": {
     "model_module": "@jupyter-widgets/controls",
     "model_module_version": "1.5.0",
     "model_name": "FloatProgressModel",
     "state": {
      "_dom_classes": [],
      "_model_module": "@jupyter-widgets/controls",
      "_model_module_version": "1.5.0",
      "_model_name": "FloatProgressModel",
      "_view_count": null,
      "_view_module": "@jupyter-widgets/controls",
      "_view_module_version": "1.5.0",
      "_view_name": "ProgressView",
      "bar_style": "success",
      "description": "",
      "description_tooltip": null,
      "layout": "IPY_MODEL_3785bb63a7bb4fc69fa7362223072553",
      "max": 117546024,
      "min": 0,
      "orientation": "horizontal",
      "style": "IPY_MODEL_510c8f22f6734239a6cf168f36db1dd0",
      "value": 117546024
     }
    },
    "c8f95ca9553a4bba892883c20598e125": {
     "model_module": "@jupyter-widgets/base",
     "model_module_version": "1.2.0",
     "model_name": "LayoutModel",
     "state": {
      "_model_module": "@jupyter-widgets/base",
      "_model_module_version": "1.2.0",
      "_model_name": "LayoutModel",
      "_view_count": null,
      "_view_module": "@jupyter-widgets/base",
      "_view_module_version": "1.2.0",
      "_view_name": "LayoutView",
      "align_content": null,
      "align_items": null,
      "align_self": null,
      "border": null,
      "bottom": null,
      "display": null,
      "flex": null,
      "flex_flow": null,
      "grid_area": null,
      "grid_auto_columns": null,
      "grid_auto_flow": null,
      "grid_auto_rows": null,
      "grid_column": null,
      "grid_gap": null,
      "grid_row": null,
      "grid_template_areas": null,
      "grid_template_columns": null,
      "grid_template_rows": null,
      "height": null,
      "justify_content": null,
      "justify_items": null,
      "left": null,
      "margin": null,
      "max_height": null,
      "max_width": null,
      "min_height": null,
      "min_width": null,
      "object_fit": null,
      "object_position": null,
      "order": null,
      "overflow": null,
      "overflow_x": null,
      "overflow_y": null,
      "padding": null,
      "right": null,
      "top": null,
      "visibility": null,
      "width": null
     }
    },
    "ca2b06250c9642a197f26f9731615883": {
     "model_module": "@jupyter-widgets/controls",
     "model_module_version": "1.5.0",
     "model_name": "HTMLModel",
     "state": {
      "_dom_classes": [],
      "_model_module": "@jupyter-widgets/controls",
      "_model_module_version": "1.5.0",
      "_model_name": "HTMLModel",
      "_view_count": null,
      "_view_module": "@jupyter-widgets/controls",
      "_view_module_version": "1.5.0",
      "_view_name": "HTMLView",
      "description": "",
      "description_tooltip": null,
      "layout": "IPY_MODEL_d3084e2b0c6c4c57966091f8c4bf0f88",
      "placeholder": "​",
      "style": "IPY_MODEL_0886cc782a9e446dbfa7b486b8254f2c",
      "value": " 715/715 [00:00&lt;00:00, 34.8kB/s]"
     }
    },
    "cb7011bcda3a4b26be017a55317a5646": {
     "model_module": "@jupyter-widgets/base",
     "model_module_version": "1.2.0",
     "model_name": "LayoutModel",
     "state": {
      "_model_module": "@jupyter-widgets/base",
      "_model_module_version": "1.2.0",
      "_model_name": "LayoutModel",
      "_view_count": null,
      "_view_module": "@jupyter-widgets/base",
      "_view_module_version": "1.2.0",
      "_view_name": "LayoutView",
      "align_content": null,
      "align_items": null,
      "align_self": null,
      "border": null,
      "bottom": null,
      "display": null,
      "flex": null,
      "flex_flow": null,
      "grid_area": null,
      "grid_auto_columns": null,
      "grid_auto_flow": null,
      "grid_auto_rows": null,
      "grid_column": null,
      "grid_gap": null,
      "grid_row": null,
      "grid_template_areas": null,
      "grid_template_columns": null,
      "grid_template_rows": null,
      "height": null,
      "justify_content": null,
      "justify_items": null,
      "left": null,
      "margin": null,
      "max_height": null,
      "max_width": null,
      "min_height": null,
      "min_width": null,
      "object_fit": null,
      "object_position": null,
      "order": null,
      "overflow": null,
      "overflow_x": null,
      "overflow_y": null,
      "padding": null,
      "right": null,
      "top": null,
      "visibility": null,
      "width": null
     }
    },
    "cbf3bddfbb474597a3896e0473bf2ecb": {
     "model_module": "@jupyter-widgets/controls",
     "model_module_version": "1.5.0",
     "model_name": "HTMLModel",
     "state": {
      "_dom_classes": [],
      "_model_module": "@jupyter-widgets/controls",
      "_model_module_version": "1.5.0",
      "_model_name": "HTMLModel",
      "_view_count": null,
      "_view_module": "@jupyter-widgets/controls",
      "_view_module_version": "1.5.0",
      "_view_name": "HTMLView",
      "description": "",
      "description_tooltip": null,
      "layout": "IPY_MODEL_3fbcea14be4b4c808da925101e812910",
      "placeholder": "​",
      "style": "IPY_MODEL_d57735919a9b433da3fe6e1ddbf996f6",
      "value": "Downloading pytorch_model.bin: 100%"
     }
    },
    "cc5cb7e0f6f147259dabf5935a259726": {
     "model_module": "@jupyter-widgets/base",
     "model_module_version": "1.2.0",
     "model_name": "LayoutModel",
     "state": {
      "_model_module": "@jupyter-widgets/base",
      "_model_module_version": "1.2.0",
      "_model_name": "LayoutModel",
      "_view_count": null,
      "_view_module": "@jupyter-widgets/base",
      "_view_module_version": "1.2.0",
      "_view_name": "LayoutView",
      "align_content": null,
      "align_items": null,
      "align_self": null,
      "border": null,
      "bottom": null,
      "display": null,
      "flex": null,
      "flex_flow": null,
      "grid_area": null,
      "grid_auto_columns": null,
      "grid_auto_flow": null,
      "grid_auto_rows": null,
      "grid_column": null,
      "grid_gap": null,
      "grid_row": null,
      "grid_template_areas": null,
      "grid_template_columns": null,
      "grid_template_rows": null,
      "height": null,
      "justify_content": null,
      "justify_items": null,
      "left": null,
      "margin": null,
      "max_height": null,
      "max_width": null,
      "min_height": null,
      "min_width": null,
      "object_fit": null,
      "object_position": null,
      "order": null,
      "overflow": null,
      "overflow_x": null,
      "overflow_y": null,
      "padding": null,
      "right": null,
      "top": null,
      "visibility": null,
      "width": null
     }
    },
    "cd9cdcc6fad24ba68c814fa46db92901": {
     "model_module": "@jupyter-widgets/base",
     "model_module_version": "1.2.0",
     "model_name": "LayoutModel",
     "state": {
      "_model_module": "@jupyter-widgets/base",
      "_model_module_version": "1.2.0",
      "_model_name": "LayoutModel",
      "_view_count": null,
      "_view_module": "@jupyter-widgets/base",
      "_view_module_version": "1.2.0",
      "_view_name": "LayoutView",
      "align_content": null,
      "align_items": null,
      "align_self": null,
      "border": null,
      "bottom": null,
      "display": null,
      "flex": null,
      "flex_flow": null,
      "grid_area": null,
      "grid_auto_columns": null,
      "grid_auto_flow": null,
      "grid_auto_rows": null,
      "grid_column": null,
      "grid_gap": null,
      "grid_row": null,
      "grid_template_areas": null,
      "grid_template_columns": null,
      "grid_template_rows": null,
      "height": null,
      "justify_content": null,
      "justify_items": null,
      "left": null,
      "margin": null,
      "max_height": null,
      "max_width": null,
      "min_height": null,
      "min_width": null,
      "object_fit": null,
      "object_position": null,
      "order": null,
      "overflow": null,
      "overflow_x": null,
      "overflow_y": null,
      "padding": null,
      "right": null,
      "top": null,
      "visibility": null,
      "width": null
     }
    },
    "ce22d56721d14e9bbff7bf8ad5db1605": {
     "model_module": "@jupyter-widgets/controls",
     "model_module_version": "1.5.0",
     "model_name": "HTMLModel",
     "state": {
      "_dom_classes": [],
      "_model_module": "@jupyter-widgets/controls",
      "_model_module_version": "1.5.0",
      "_model_name": "HTMLModel",
      "_view_count": null,
      "_view_module": "@jupyter-widgets/controls",
      "_view_module_version": "1.5.0",
      "_view_name": "HTMLView",
      "description": "",
      "description_tooltip": null,
      "layout": "IPY_MODEL_c103710e88104962abaffcef059aa9a9",
      "placeholder": "​",
      "style": "IPY_MODEL_2f114b0ca2a546d2b7e62e72f1333f2c",
      "value": "Downloading (…)lve/main/config.json: 100%"
     }
    },
    "d3084e2b0c6c4c57966091f8c4bf0f88": {
     "model_module": "@jupyter-widgets/base",
     "model_module_version": "1.2.0",
     "model_name": "LayoutModel",
     "state": {
      "_model_module": "@jupyter-widgets/base",
      "_model_module_version": "1.2.0",
      "_model_name": "LayoutModel",
      "_view_count": null,
      "_view_module": "@jupyter-widgets/base",
      "_view_module_version": "1.2.0",
      "_view_name": "LayoutView",
      "align_content": null,
      "align_items": null,
      "align_self": null,
      "border": null,
      "bottom": null,
      "display": null,
      "flex": null,
      "flex_flow": null,
      "grid_area": null,
      "grid_auto_columns": null,
      "grid_auto_flow": null,
      "grid_auto_rows": null,
      "grid_column": null,
      "grid_gap": null,
      "grid_row": null,
      "grid_template_areas": null,
      "grid_template_columns": null,
      "grid_template_rows": null,
      "height": null,
      "justify_content": null,
      "justify_items": null,
      "left": null,
      "margin": null,
      "max_height": null,
      "max_width": null,
      "min_height": null,
      "min_width": null,
      "object_fit": null,
      "object_position": null,
      "order": null,
      "overflow": null,
      "overflow_x": null,
      "overflow_y": null,
      "padding": null,
      "right": null,
      "top": null,
      "visibility": null,
      "width": null
     }
    },
    "d3fa646b38cf4c48b57c3d859c011b87": {
     "model_module": "@jupyter-widgets/controls",
     "model_module_version": "1.5.0",
     "model_name": "ProgressStyleModel",
     "state": {
      "_model_module": "@jupyter-widgets/controls",
      "_model_module_version": "1.5.0",
      "_model_name": "ProgressStyleModel",
      "_view_count": null,
      "_view_module": "@jupyter-widgets/base",
      "_view_module_version": "1.2.0",
      "_view_name": "StyleView",
      "bar_color": null,
      "description_width": ""
     }
    },
    "d4274182b6e14a6480f50a5741d6cd26": {
     "model_module": "@jupyter-widgets/controls",
     "model_module_version": "1.5.0",
     "model_name": "FloatProgressModel",
     "state": {
      "_dom_classes": [],
      "_model_module": "@jupyter-widgets/controls",
      "_model_module_version": "1.5.0",
      "_model_name": "FloatProgressModel",
      "_view_count": null,
      "_view_module": "@jupyter-widgets/controls",
      "_view_module_version": "1.5.0",
      "_view_name": "ProgressView",
      "bar_style": "success",
      "description": "",
      "description_tooltip": null,
      "layout": "IPY_MODEL_656c8ba88be248369c374d1b09228f6d",
      "max": 401,
      "min": 0,
      "orientation": "horizontal",
      "style": "IPY_MODEL_9174a5dcabbd4e6aaac0f8074f33988c",
      "value": 401
     }
    },
    "d57735919a9b433da3fe6e1ddbf996f6": {
     "model_module": "@jupyter-widgets/controls",
     "model_module_version": "1.5.0",
     "model_name": "DescriptionStyleModel",
     "state": {
      "_model_module": "@jupyter-widgets/controls",
      "_model_module_version": "1.5.0",
      "_model_name": "DescriptionStyleModel",
      "_view_count": null,
      "_view_module": "@jupyter-widgets/base",
      "_view_module_version": "1.2.0",
      "_view_name": "StyleView",
      "description_width": ""
     }
    },
    "d8f4433b4cf640b19c44a7ddabfa374c": {
     "model_module": "@jupyter-widgets/base",
     "model_module_version": "1.2.0",
     "model_name": "LayoutModel",
     "state": {
      "_model_module": "@jupyter-widgets/base",
      "_model_module_version": "1.2.0",
      "_model_name": "LayoutModel",
      "_view_count": null,
      "_view_module": "@jupyter-widgets/base",
      "_view_module_version": "1.2.0",
      "_view_name": "LayoutView",
      "align_content": null,
      "align_items": null,
      "align_self": null,
      "border": null,
      "bottom": null,
      "display": null,
      "flex": null,
      "flex_flow": null,
      "grid_area": null,
      "grid_auto_columns": null,
      "grid_auto_flow": null,
      "grid_auto_rows": null,
      "grid_column": null,
      "grid_gap": null,
      "grid_row": null,
      "grid_template_areas": null,
      "grid_template_columns": null,
      "grid_template_rows": null,
      "height": null,
      "justify_content": null,
      "justify_items": null,
      "left": null,
      "margin": null,
      "max_height": null,
      "max_width": null,
      "min_height": null,
      "min_width": null,
      "object_fit": null,
      "object_position": null,
      "order": null,
      "overflow": null,
      "overflow_x": null,
      "overflow_y": null,
      "padding": null,
      "right": null,
      "top": null,
      "visibility": null,
      "width": null
     }
    },
    "e178c394a8564c2bbbbb5218fff21ad7": {
     "model_module": "@jupyter-widgets/base",
     "model_module_version": "1.2.0",
     "model_name": "LayoutModel",
     "state": {
      "_model_module": "@jupyter-widgets/base",
      "_model_module_version": "1.2.0",
      "_model_name": "LayoutModel",
      "_view_count": null,
      "_view_module": "@jupyter-widgets/base",
      "_view_module_version": "1.2.0",
      "_view_name": "LayoutView",
      "align_content": null,
      "align_items": null,
      "align_self": null,
      "border": null,
      "bottom": null,
      "display": null,
      "flex": null,
      "flex_flow": null,
      "grid_area": null,
      "grid_auto_columns": null,
      "grid_auto_flow": null,
      "grid_auto_rows": null,
      "grid_column": null,
      "grid_gap": null,
      "grid_row": null,
      "grid_template_areas": null,
      "grid_template_columns": null,
      "grid_template_rows": null,
      "height": null,
      "justify_content": null,
      "justify_items": null,
      "left": null,
      "margin": null,
      "max_height": null,
      "max_width": null,
      "min_height": null,
      "min_width": null,
      "object_fit": null,
      "object_position": null,
      "order": null,
      "overflow": null,
      "overflow_x": null,
      "overflow_y": null,
      "padding": null,
      "right": null,
      "top": null,
      "visibility": null,
      "width": null
     }
    },
    "e1ab3fd3e1304a568ca7ff543462742a": {
     "model_module": "@jupyter-widgets/base",
     "model_module_version": "1.2.0",
     "model_name": "LayoutModel",
     "state": {
      "_model_module": "@jupyter-widgets/base",
      "_model_module_version": "1.2.0",
      "_model_name": "LayoutModel",
      "_view_count": null,
      "_view_module": "@jupyter-widgets/base",
      "_view_module_version": "1.2.0",
      "_view_name": "LayoutView",
      "align_content": null,
      "align_items": null,
      "align_self": null,
      "border": null,
      "bottom": null,
      "display": null,
      "flex": null,
      "flex_flow": null,
      "grid_area": null,
      "grid_auto_columns": null,
      "grid_auto_flow": null,
      "grid_auto_rows": null,
      "grid_column": null,
      "grid_gap": null,
      "grid_row": null,
      "grid_template_areas": null,
      "grid_template_columns": null,
      "grid_template_rows": null,
      "height": null,
      "justify_content": null,
      "justify_items": null,
      "left": null,
      "margin": null,
      "max_height": null,
      "max_width": null,
      "min_height": null,
      "min_width": null,
      "object_fit": null,
      "object_position": null,
      "order": null,
      "overflow": null,
      "overflow_x": null,
      "overflow_y": null,
      "padding": null,
      "right": null,
      "top": null,
      "visibility": null,
      "width": null
     }
    },
    "e42dbfcae45149428ca8813d084a4d69": {
     "model_module": "@jupyter-widgets/controls",
     "model_module_version": "1.5.0",
     "model_name": "FloatProgressModel",
     "state": {
      "_dom_classes": [],
      "_model_module": "@jupyter-widgets/controls",
      "_model_module_version": "1.5.0",
      "_model_name": "FloatProgressModel",
      "_view_count": null,
      "_view_module": "@jupyter-widgets/controls",
      "_view_module_version": "1.5.0",
      "_view_name": "ProgressView",
      "bar_style": "success",
      "description": "",
      "description_tooltip": null,
      "layout": "IPY_MODEL_2715d1360cdd4a81a4a3e744e6a276b3",
      "max": 1741842,
      "min": 0,
      "orientation": "horizontal",
      "style": "IPY_MODEL_c557dc5bc0234f8c8db2554dc5bf0014",
      "value": 1741842
     }
    },
    "e50c4b865c30423299e80f2d90496ca7": {
     "model_module": "@jupyter-widgets/controls",
     "model_module_version": "1.5.0",
     "model_name": "HTMLModel",
     "state": {
      "_dom_classes": [],
      "_model_module": "@jupyter-widgets/controls",
      "_model_module_version": "1.5.0",
      "_model_name": "HTMLModel",
      "_view_count": null,
      "_view_module": "@jupyter-widgets/controls",
      "_view_module_version": "1.5.0",
      "_view_name": "HTMLView",
      "description": "",
      "description_tooltip": null,
      "layout": "IPY_MODEL_cd9cdcc6fad24ba68c814fa46db92901",
      "placeholder": "​",
      "style": "IPY_MODEL_28c20116ac9440f0bf84aa302d1ea2c1",
      "value": "Downloading (…)/main/tokenizer.json: 100%"
     }
    },
    "e59821056e3f4128ae163bad873da1f0": {
     "model_module": "@jupyter-widgets/controls",
     "model_module_version": "1.5.0",
     "model_name": "DescriptionStyleModel",
     "state": {
      "_model_module": "@jupyter-widgets/controls",
      "_model_module_version": "1.5.0",
      "_model_name": "DescriptionStyleModel",
      "_view_count": null,
      "_view_module": "@jupyter-widgets/base",
      "_view_module_version": "1.2.0",
      "_view_name": "StyleView",
      "description_width": ""
     }
    }
   }
  }
 },
 "nbformat": 4,
 "nbformat_minor": 1
}
