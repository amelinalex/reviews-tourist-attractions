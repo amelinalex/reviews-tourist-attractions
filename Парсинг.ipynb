{
 "cells": [
  {
   "cell_type": "markdown",
   "id": "960fc3f4",
   "metadata": {},
   "source": [
    "# Тестим датасет TripAdvisor by Alexandra Roshchina 2015\n",
    "лежит у меня в зипке"
   ]
  },
  {
   "cell_type": "code",
   "execution_count": 17,
   "id": "56ac96fe",
   "metadata": {},
   "outputs": [],
   "source": [
    "import pandas as pd\n",
    "from collections import Counter\n",
    "import matplotlib.pyplot as plt"
   ]
  },
  {
   "cell_type": "code",
   "execution_count": 2,
   "id": "d4da88ae",
   "metadata": {
    "collapsed": true
   },
   "outputs": [
    {
     "data": {
      "text/html": [
       "<div>\n",
       "<style scoped>\n",
       "    .dataframe tbody tr th:only-of-type {\n",
       "        vertical-align: middle;\n",
       "    }\n",
       "\n",
       "    .dataframe tbody tr th {\n",
       "        vertical-align: top;\n",
       "    }\n",
       "\n",
       "    .dataframe thead th {\n",
       "        text-align: right;\n",
       "    }\n",
       "</style>\n",
       "<table border=\"1\" class=\"dataframe\">\n",
       "  <thead>\n",
       "    <tr style=\"text-align: right;\">\n",
       "      <th></th>\n",
       "      <th>id</th>\n",
       "      <th>username</th>\n",
       "      <th>type</th>\n",
       "      <th>date</th>\n",
       "      <th>title</th>\n",
       "      <th>text</th>\n",
       "      <th>rating</th>\n",
       "      <th>helpfulness</th>\n",
       "      <th>total_points</th>\n",
       "      <th>taObject</th>\n",
       "      <th>taObjectUrl</th>\n",
       "      <th>taObjectCity</th>\n",
       "    </tr>\n",
       "  </thead>\n",
       "  <tbody>\n",
       "    <tr>\n",
       "      <th>0</th>\n",
       "      <td>1</td>\n",
       "      <td>007solotraveler</td>\n",
       "      <td>Hotels</td>\n",
       "      <td>2013-04-08</td>\n",
       "      <td>Good Choice and would be suitable for a family</td>\n",
       "      <td>Decent Hotel next to station so good location ...</td>\n",
       "      <td>4</td>\n",
       "      <td>1.0</td>\n",
       "      <td>101</td>\n",
       "      <td>Radisson Blu Royal Viking Hotel, Stockholm</td>\n",
       "      <td>http://www.tripadvisor.com/Hotel_Review-g18985...</td>\n",
       "      <td>Stockholm</td>\n",
       "    </tr>\n",
       "    <tr>\n",
       "      <th>1</th>\n",
       "      <td>2</td>\n",
       "      <td>007solotraveler</td>\n",
       "      <td>Hotels</td>\n",
       "      <td>2013-04-08</td>\n",
       "      <td>Modern and Chic - suitable both family and bus...</td>\n",
       "      <td>Excellent Hotel - well situated for getting ro...</td>\n",
       "      <td>5</td>\n",
       "      <td>0.0</td>\n",
       "      <td>100</td>\n",
       "      <td>Radisson Blu Waterfront Hotel</td>\n",
       "      <td>http://www.tripadvisor.com/Hotel_Review-g18985...</td>\n",
       "      <td>Stockholm</td>\n",
       "    </tr>\n",
       "    <tr>\n",
       "      <th>2</th>\n",
       "      <td>3</td>\n",
       "      <td>007solotraveler</td>\n",
       "      <td>Attractions</td>\n",
       "      <td>2013-02-20</td>\n",
       "      <td>Brilliant - Well worth a visit(s)</td>\n",
       "      <td>Great Museum - abslutely worth making the time...</td>\n",
       "      <td>5</td>\n",
       "      <td>1.0</td>\n",
       "      <td>101</td>\n",
       "      <td>Vasa Museum</td>\n",
       "      <td>http://www.tripadvisor.com/Attraction_Review-g...</td>\n",
       "      <td>Stockholm</td>\n",
       "    </tr>\n",
       "    <tr>\n",
       "      <th>3</th>\n",
       "      <td>4</td>\n",
       "      <td>007solotraveler</td>\n",
       "      <td>Hotels</td>\n",
       "      <td>2012-07-09</td>\n",
       "      <td>Family stay</td>\n",
       "      <td>Stayed for 3 nights in MIami - stayed here due...</td>\n",
       "      <td>4</td>\n",
       "      <td>0.0</td>\n",
       "      <td>100</td>\n",
       "      <td>Hilton Miami Airport</td>\n",
       "      <td>http://www.tripadvisor.com/Hotel_Review-g34438...</td>\n",
       "      <td>Miami</td>\n",
       "    </tr>\n",
       "    <tr>\n",
       "      <th>4</th>\n",
       "      <td>5</td>\n",
       "      <td>007solotraveler</td>\n",
       "      <td>Restaurants</td>\n",
       "      <td>2011-09-07</td>\n",
       "      <td>Great Prime Rib!</td>\n",
       "      <td>I always visit Hunters when in San Diego. The ...</td>\n",
       "      <td>5</td>\n",
       "      <td>1.0</td>\n",
       "      <td>101</td>\n",
       "      <td>Hunter Steakhouse</td>\n",
       "      <td>http://www.tripadvisor.com/Restaurant_Review-g...</td>\n",
       "      <td>San Diego</td>\n",
       "    </tr>\n",
       "  </tbody>\n",
       "</table>\n",
       "</div>"
      ],
      "text/plain": [
       "   id         username         type       date  \\\n",
       "0   1  007solotraveler       Hotels 2013-04-08   \n",
       "1   2  007solotraveler       Hotels 2013-04-08   \n",
       "2   3  007solotraveler  Attractions 2013-02-20   \n",
       "3   4  007solotraveler       Hotels 2012-07-09   \n",
       "4   5  007solotraveler  Restaurants 2011-09-07   \n",
       "\n",
       "                                               title  \\\n",
       "0     Good Choice and would be suitable for a family   \n",
       "1  Modern and Chic - suitable both family and bus...   \n",
       "2                  Brilliant - Well worth a visit(s)   \n",
       "3                                        Family stay   \n",
       "4                                   Great Prime Rib!   \n",
       "\n",
       "                                                text  rating  helpfulness  \\\n",
       "0  Decent Hotel next to station so good location ...       4          1.0   \n",
       "1  Excellent Hotel - well situated for getting ro...       5          0.0   \n",
       "2  Great Museum - abslutely worth making the time...       5          1.0   \n",
       "3  Stayed for 3 nights in MIami - stayed here due...       4          0.0   \n",
       "4  I always visit Hunters when in San Diego. The ...       5          1.0   \n",
       "\n",
       "   total_points                                    taObject  \\\n",
       "0           101  Radisson Blu Royal Viking Hotel, Stockholm   \n",
       "1           100               Radisson Blu Waterfront Hotel   \n",
       "2           101                                 Vasa Museum   \n",
       "3           100                        Hilton Miami Airport   \n",
       "4           101                           Hunter Steakhouse   \n",
       "\n",
       "                                         taObjectUrl taObjectCity  \n",
       "0  http://www.tripadvisor.com/Hotel_Review-g18985...    Stockholm  \n",
       "1  http://www.tripadvisor.com/Hotel_Review-g18985...    Stockholm  \n",
       "2  http://www.tripadvisor.com/Attraction_Review-g...    Stockholm  \n",
       "3  http://www.tripadvisor.com/Hotel_Review-g34438...        Miami  \n",
       "4  http://www.tripadvisor.com/Restaurant_Review-g...    San Diego  "
      ]
     },
     "execution_count": 2,
     "metadata": {},
     "output_type": "execute_result"
    }
   ],
   "source": [
    "df = pd.read_excel('reviews_32618_for_1098_users_with_location.xlsx')\n",
    "df.head()"
   ]
  },
  {
   "cell_type": "code",
   "execution_count": 3,
   "id": "bee5fbb2",
   "metadata": {
    "collapsed": true
   },
   "outputs": [
    {
     "data": {
      "image/png": "[encoded data removed]",
      "text/plain": [
       "<Figure size 640x480 with 1 Axes>"
      ]
     },
     "metadata": {},
     "output_type": "display_data"
    }
   ],
   "source": [
    "plt.hist(df.rating);"
   ]
  },
  {
   "cell_type": "code",
   "execution_count": 4,
   "id": "473e8e54",
   "metadata": {},
   "outputs": [
    {
     "data": {
      "text/plain": [
       "Counter({4: 11632, 5: 12937, 1: 908, 3: 5274, 2: 1829})"
      ]
     },
     "execution_count": 4,
     "metadata": {},
     "output_type": "execute_result"
    }
   ],
   "source": [
    "Counter(df.rating)"
   ]
  },
  {
   "cell_type": "code",
   "execution_count": 5,
   "id": "baee5689",
   "metadata": {},
   "outputs": [
    {
     "data": {
      "text/plain": [
       "(32580, 12)"
      ]
     },
     "execution_count": 5,
     "metadata": {},
     "output_type": "execute_result"
    }
   ],
   "source": [
    "df.shape"
   ]
  },
  {
   "cell_type": "code",
   "execution_count": 8,
   "id": "7d02c83d",
   "metadata": {},
   "outputs": [
    {
     "data": {
      "text/plain": [
       "Index(['id', 'username', 'type', 'date', 'title', 'text', 'rating',\n",
       "       'helpfulness', 'total_points', 'taObject', 'taObjectUrl',\n",
       "       'taObjectCity'],\n",
       "      dtype='object')"
      ]
     },
     "execution_count": 8,
     "metadata": {},
     "output_type": "execute_result"
    }
   ],
   "source": [
    "df.columns"
   ]
  },
  {
   "cell_type": "code",
   "execution_count": 9,
   "id": "469dc338",
   "metadata": {},
   "outputs": [
    {
     "data": {
      "text/html": [
       "<div>\n",
       "<style scoped>\n",
       "    .dataframe tbody tr th:only-of-type {\n",
       "        vertical-align: middle;\n",
       "    }\n",
       "\n",
       "    .dataframe tbody tr th {\n",
       "        vertical-align: top;\n",
       "    }\n",
       "\n",
       "    .dataframe thead th {\n",
       "        text-align: right;\n",
       "    }\n",
       "</style>\n",
       "<table border=\"1\" class=\"dataframe\">\n",
       "  <thead>\n",
       "    <tr style=\"text-align: right;\">\n",
       "      <th></th>\n",
       "      <th>id</th>\n",
       "      <th>rating</th>\n",
       "      <th>helpfulness</th>\n",
       "      <th>total_points</th>\n",
       "    </tr>\n",
       "  </thead>\n",
       "  <tbody>\n",
       "    <tr>\n",
       "      <th>count</th>\n",
       "      <td>32580.000000</td>\n",
       "      <td>32580.000000</td>\n",
       "      <td>24105.000000</td>\n",
       "      <td>32580.000000</td>\n",
       "    </tr>\n",
       "    <tr>\n",
       "      <th>mean</th>\n",
       "      <td>16307.956937</td>\n",
       "      <td>4.039319</td>\n",
       "      <td>1.131923</td>\n",
       "      <td>142.337508</td>\n",
       "    </tr>\n",
       "    <tr>\n",
       "      <th>std</th>\n",
       "      <td>9417.122042</td>\n",
       "      <td>1.016283</td>\n",
       "      <td>2.116548</td>\n",
       "      <td>2004.348363</td>\n",
       "    </tr>\n",
       "    <tr>\n",
       "      <th>min</th>\n",
       "      <td>1.000000</td>\n",
       "      <td>1.000000</td>\n",
       "      <td>0.000000</td>\n",
       "      <td>100.000000</td>\n",
       "    </tr>\n",
       "    <tr>\n",
       "      <th>25%</th>\n",
       "      <td>8151.750000</td>\n",
       "      <td>4.000000</td>\n",
       "      <td>0.000000</td>\n",
       "      <td>100.000000</td>\n",
       "    </tr>\n",
       "    <tr>\n",
       "      <th>50%</th>\n",
       "      <td>16308.500000</td>\n",
       "      <td>4.000000</td>\n",
       "      <td>1.000000</td>\n",
       "      <td>100.000000</td>\n",
       "    </tr>\n",
       "    <tr>\n",
       "      <th>75%</th>\n",
       "      <td>24462.250000</td>\n",
       "      <td>5.000000</td>\n",
       "      <td>1.000000</td>\n",
       "      <td>101.000000</td>\n",
       "    </tr>\n",
       "    <tr>\n",
       "      <th>max</th>\n",
       "      <td>32620.000000</td>\n",
       "      <td>5.000000</td>\n",
       "      <td>86.000000</td>\n",
       "      <td>102100.000000</td>\n",
       "    </tr>\n",
       "  </tbody>\n",
       "</table>\n",
       "</div>"
      ],
      "text/plain": [
       "                 id        rating   helpfulness   total_points\n",
       "count  32580.000000  32580.000000  24105.000000   32580.000000\n",
       "mean   16307.956937      4.039319      1.131923     142.337508\n",
       "std     9417.122042      1.016283      2.116548    2004.348363\n",
       "min        1.000000      1.000000      0.000000     100.000000\n",
       "25%     8151.750000      4.000000      0.000000     100.000000\n",
       "50%    16308.500000      4.000000      1.000000     100.000000\n",
       "75%    24462.250000      5.000000      1.000000     101.000000\n",
       "max    32620.000000      5.000000     86.000000  102100.000000"
      ]
     },
     "execution_count": 9,
     "metadata": {},
     "output_type": "execute_result"
    }
   ],
   "source": [
    "df.describe()"
   ]
  },
  {
   "cell_type": "markdown",
   "id": "8b6cff2e",
   "metadata": {},
   "source": [
    "# Тестим датасет Yelp\n",
    "https://www.kaggle.com/datasets/ilhamfp31/yelp-review-dataset?resource=download"
   ]
  },
  {
   "cell_type": "code",
   "execution_count": 5,
   "id": "7c51d883",
   "metadata": {},
   "outputs": [],
   "source": [
    "df_yelp = pd.read_csv('train.csv', header=None, names=['score', 'review'])"
   ]
  },
  {
   "cell_type": "code",
   "execution_count": 6,
   "id": "79bd00a2",
   "metadata": {},
   "outputs": [
    {
     "data": {
      "text/html": [
       "<div>\n",
       "<style scoped>\n",
       "    .dataframe tbody tr th:only-of-type {\n",
       "        vertical-align: middle;\n",
       "    }\n",
       "\n",
       "    .dataframe tbody tr th {\n",
       "        vertical-align: top;\n",
       "    }\n",
       "\n",
       "    .dataframe thead th {\n",
       "        text-align: right;\n",
       "    }\n",
       "</style>\n",
       "<table border=\"1\" class=\"dataframe\">\n",
       "  <thead>\n",
       "    <tr style=\"text-align: right;\">\n",
       "      <th></th>\n",
       "      <th>score</th>\n",
       "      <th>review</th>\n",
       "    </tr>\n",
       "  </thead>\n",
       "  <tbody>\n",
       "    <tr>\n",
       "      <th>0</th>\n",
       "      <td>1</td>\n",
       "      <td>Unfortunately, the frustration of being Dr. Go...</td>\n",
       "    </tr>\n",
       "    <tr>\n",
       "      <th>1</th>\n",
       "      <td>2</td>\n",
       "      <td>Been going to Dr. Goldberg for over 10 years. ...</td>\n",
       "    </tr>\n",
       "    <tr>\n",
       "      <th>2</th>\n",
       "      <td>1</td>\n",
       "      <td>I don't know what Dr. Goldberg was like before...</td>\n",
       "    </tr>\n",
       "    <tr>\n",
       "      <th>3</th>\n",
       "      <td>1</td>\n",
       "      <td>I'm writing this review to give you a heads up...</td>\n",
       "    </tr>\n",
       "    <tr>\n",
       "      <th>4</th>\n",
       "      <td>2</td>\n",
       "      <td>All the food is great here. But the best thing...</td>\n",
       "    </tr>\n",
       "  </tbody>\n",
       "</table>\n",
       "</div>"
      ],
      "text/plain": [
       "   score                                             review\n",
       "0      1  Unfortunately, the frustration of being Dr. Go...\n",
       "1      2  Been going to Dr. Goldberg for over 10 years. ...\n",
       "2      1  I don't know what Dr. Goldberg was like before...\n",
       "3      1  I'm writing this review to give you a heads up...\n",
       "4      2  All the food is great here. But the best thing..."
      ]
     },
     "execution_count": 6,
     "metadata": {},
     "output_type": "execute_result"
    }
   ],
   "source": [
    "df_yelp.head(5)"
   ]
  },
  {
   "cell_type": "code",
   "execution_count": 7,
   "id": "1de8576f",
   "metadata": {
    "collapsed": true
   },
   "outputs": [
    {
     "data": {
      "text/plain": [
       "array([[<Axes: title={'center': 'score'}>]], dtype=object)"
      ]
     },
     "execution_count": 7,
     "metadata": {},
     "output_type": "execute_result"
    },
    {
     "data": {
      "image/png": "[encoded data removed]",
      "text/plain": [
       "<Figure size 640x480 with 1 Axes>"
      ]
     },
     "metadata": {},
     "output_type": "display_data"
    }
   ],
   "source": [
    "df_yelp.hist()"
   ]
  },
  {
   "cell_type": "code",
   "execution_count": 168,
   "id": "33f481f2",
   "metadata": {},
   "outputs": [
    {
     "data": {
      "text/plain": [
       "(560000, 2)"
      ]
     },
     "execution_count": 168,
     "metadata": {},
     "output_type": "execute_result"
    }
   ],
   "source": [
    "df_yelp.shape"
   ]
  },
  {
   "cell_type": "markdown",
   "id": "70bf7d91",
   "metadata": {},
   "source": [
    "### Датасеты с крутого сайта - https://huggingface.co/datasets/Tatyana/ru_sentiment_dataset\n",
    "https://huggingface.co/datasets/Tatyana/ru_sentiment_dataset/tree/main"
   ]
  },
  {
   "cell_type": "code",
   "execution_count": 16,
   "id": "babcf63b",
   "metadata": {},
   "outputs": [],
   "source": [
    "data_ru = pd.read_csv('datasets.csv')"
   ]
  },
  {
   "cell_type": "code",
   "execution_count": 17,
   "id": "36320c58",
   "metadata": {},
   "outputs": [
    {
     "data": {
      "text/html": [
       "<div>\n",
       "<style scoped>\n",
       "    .dataframe tbody tr th:only-of-type {\n",
       "        vertical-align: middle;\n",
       "    }\n",
       "\n",
       "    .dataframe tbody tr th {\n",
       "        vertical-align: top;\n",
       "    }\n",
       "\n",
       "    .dataframe thead th {\n",
       "        text-align: right;\n",
       "    }\n",
       "</style>\n",
       "<table border=\"1\" class=\"dataframe\">\n",
       "  <thead>\n",
       "    <tr style=\"text-align: right;\">\n",
       "      <th></th>\n",
       "      <th>Unnamed: 0</th>\n",
       "      <th>text</th>\n",
       "      <th>sentiment</th>\n",
       "    </tr>\n",
       "  </thead>\n",
       "  <tbody>\n",
       "    <tr>\n",
       "      <th>0</th>\n",
       "      <td>43956</td>\n",
       "      <td>Развода на деньги нет\\nНаблюдаюсь в Лайфклиник...</td>\n",
       "      <td>1</td>\n",
       "    </tr>\n",
       "    <tr>\n",
       "      <th>1</th>\n",
       "      <td>17755</td>\n",
       "      <td>Отель выбрали потому что рядом со стадионом. О...</td>\n",
       "      <td>0</td>\n",
       "    </tr>\n",
       "    <tr>\n",
       "      <th>2</th>\n",
       "      <td>20269</td>\n",
       "      <td>Вылечили\\nГноился с рождения глазик, в поликли...</td>\n",
       "      <td>1</td>\n",
       "    </tr>\n",
       "    <tr>\n",
       "      <th>3</th>\n",
       "      <td>16648</td>\n",
       "      <td>Хорошее расположение.С вокзала дошли пешком.Но...</td>\n",
       "      <td>0</td>\n",
       "    </tr>\n",
       "    <tr>\n",
       "      <th>4</th>\n",
       "      <td>27879</td>\n",
       "      <td>Отличное месторасположение,прекрасный вид,особ...</td>\n",
       "      <td>1</td>\n",
       "    </tr>\n",
       "  </tbody>\n",
       "</table>\n",
       "</div>"
      ],
      "text/plain": [
       "   Unnamed: 0                                               text  sentiment\n",
       "0       43956  Развода на деньги нет\\nНаблюдаюсь в Лайфклиник...          1\n",
       "1       17755  Отель выбрали потому что рядом со стадионом. О...          0\n",
       "2       20269  Вылечили\\nГноился с рождения глазик, в поликли...          1\n",
       "3       16648  Хорошее расположение.С вокзала дошли пешком.Но...          0\n",
       "4       27879  Отличное месторасположение,прекрасный вид,особ...          1"
      ]
     },
     "execution_count": 17,
     "metadata": {},
     "output_type": "execute_result"
    }
   ],
   "source": [
    "data_ru.head()"
   ]
  },
  {
   "cell_type": "code",
   "execution_count": 179,
   "id": "d1be4c31",
   "metadata": {},
   "outputs": [
    {
     "data": {
      "text/plain": [
       "'Отдыхали с мамой с 1.01.2018 по 6.01.2018. Очень чистые номера, безупречная работа клининговой службы. Приветливый персонал, всегда готовы помочь и ответить на вопросы. Очень качественные продукты на завтраках, домашняя свежайшая выпечка - настоящий турецкий завтрак. Весь отель пропитан атмосферой Турции, в лобби маленький музей. У отель богатая история, которую можно узнать по фотографиям. Потрясающий вид с террасы ресторана, одна часть на море, а другая на Султан Ахмет и Софию. В пешей доступности весь исторический центр. Был выбор между Хилтоном и этим отелем. Не пожалели. Когда решим еще раз поехать в Стамбул, обязательно остановимся в этом отеле.'"
      ]
     },
     "execution_count": 179,
     "metadata": {},
     "output_type": "execute_result"
    }
   ],
   "source": [
    "data_ru['text'].iloc[14]"
   ]
  },
  {
   "cell_type": "code",
   "execution_count": 28,
   "id": "26a7e324",
   "metadata": {
    "collapsed": true
   },
   "outputs": [
    {
     "name": "stdout",
     "output_type": "stream",
     "text": [
      "Collecting selenium\n",
      "  Downloading selenium-4.8.3-py3-none-any.whl (6.5 MB)\n",
      "     ---------------------------------------- 6.5/6.5 MB 10.7 MB/s eta 0:00:00\n",
      "Requirement already satisfied: urllib3[socks]~=1.26 in c:\\users\\nuats\\anaconda3\\lib\\site-packages (from selenium) (1.26.14)\n",
      "Collecting trio~=0.17\n",
      "  Downloading trio-0.22.0-py3-none-any.whl (384 kB)\n",
      "     ------------------------------------- 384.9/384.9 kB 23.4 MB/s eta 0:00:00\n",
      "Collecting trio-websocket~=0.9\n",
      "  Downloading trio_websocket-0.10.2-py3-none-any.whl (17 kB)\n",
      "Requirement already satisfied: certifi>=2021.10.8 in c:\\users\\nuats\\anaconda3\\lib\\site-packages (from selenium) (2022.12.7)\n",
      "Collecting outcome\n",
      "  Downloading outcome-1.2.0-py2.py3-none-any.whl (9.7 kB)\n",
      "Collecting exceptiongroup>=1.0.0rc9\n",
      "  Downloading exceptiongroup-1.1.1-py3-none-any.whl (14 kB)\n",
      "Requirement already satisfied: attrs>=19.2.0 in c:\\users\\nuats\\anaconda3\\lib\\site-packages (from trio~=0.17->selenium) (22.1.0)\n",
      "Requirement already satisfied: sortedcontainers in c:\\users\\nuats\\anaconda3\\lib\\site-packages (from trio~=0.17->selenium) (2.4.0)\n",
      "Requirement already satisfied: idna in c:\\users\\nuats\\anaconda3\\lib\\site-packages (from trio~=0.17->selenium) (3.4)\n",
      "Requirement already satisfied: sniffio in c:\\users\\nuats\\anaconda3\\lib\\site-packages (from trio~=0.17->selenium) (1.2.0)\n",
      "Requirement already satisfied: cffi>=1.14 in c:\\users\\nuats\\anaconda3\\lib\\site-packages (from trio~=0.17->selenium) (1.15.1)\n",
      "Collecting async-generator>=1.9\n",
      "  Downloading async_generator-1.10-py3-none-any.whl (18 kB)\n",
      "Collecting wsproto>=0.14\n",
      "  Downloading wsproto-1.2.0-py3-none-any.whl (24 kB)\n",
      "Requirement already satisfied: PySocks!=1.5.7,<2.0,>=1.5.6 in c:\\users\\nuats\\anaconda3\\lib\\site-packages (from urllib3[socks]~=1.26->selenium) (1.7.1)\n",
      "Requirement already satisfied: pycparser in c:\\users\\nuats\\anaconda3\\lib\\site-packages (from cffi>=1.14->trio~=0.17->selenium) (2.21)\n",
      "Collecting h11<1,>=0.9.0\n",
      "  Downloading h11-0.14.0-py3-none-any.whl (58 kB)\n",
      "     ---------------------------------------- 58.3/58.3 kB ? eta 0:00:00\n",
      "Installing collected packages: outcome, h11, exceptiongroup, async-generator, wsproto, trio, trio-websocket, selenium\n",
      "Successfully installed async-generator-1.10 exceptiongroup-1.1.1 h11-0.14.0 outcome-1.2.0 selenium-4.8.3 trio-0.22.0 trio-websocket-0.10.2 wsproto-1.2.0\n"
     ]
    }
   ],
   "source": [
    "!pip install selenium"
   ]
  },
  {
   "cell_type": "code",
   "execution_count": 49,
   "id": "4575a6c0",
   "metadata": {
    "collapsed": true
   },
   "outputs": [
    {
     "name": "stdout",
     "output_type": "stream",
     "text": [
      "Requirement already satisfied: parsel in c:\\users\\nuats\\anaconda3\\lib\\site-packages (1.6.0)\n",
      "Requirement already satisfied: six>=1.6.0 in c:\\users\\nuats\\anaconda3\\lib\\site-packages (from parsel) (1.16.0)\n",
      "Requirement already satisfied: w3lib>=1.19.0 in c:\\users\\nuats\\anaconda3\\lib\\site-packages (from parsel) (1.21.0)\n",
      "Requirement already satisfied: cssselect>=0.9 in c:\\users\\nuats\\anaconda3\\lib\\site-packages (from parsel) (1.1.0)\n",
      "Requirement already satisfied: lxml in c:\\users\\nuats\\anaconda3\\lib\\site-packages (from parsel) (4.9.1)\n"
     ]
    }
   ],
   "source": [
    "!pip install parsel"
   ]
  },
  {
   "cell_type": "code",
   "execution_count": 3,
   "id": "d41672f9",
   "metadata": {},
   "outputs": [],
   "source": [
    "from selenium import webdriver\n",
    "from selenium.webdriver.common.by import By\n",
    "from time import sleep\n",
    "\n",
    "driver = webdriver.Edge()\n",
    "\n",
    "url = 'https://yandex.ru/maps/org/yandeks/1124715036/reviews/'\n",
    "driver.get(url)\n",
    "\n",
    "# загрузка страницы\n",
    "sleep(5)\n",
    "reviews_web = driver.find_elements(By.XPATH,'//div[@class=\"business-review-view__body\"]')\n",
    "\n",
    "# хранение рейтингов\n",
    "ratings = []\n",
    "reviews = []\n",
    "\n",
    "ratings_web = driver.find_elements(By.XPATH,'.//div[contains(@class, \"business-review-view__rating\")]//meta[contains(@itemprop, \"ratingValue\")]')\n",
    "\n",
    "for rating, review in zip(ratings_web, reviews_web):\n",
    "    ratings.append(rating.get_attribute(\"content\"))\n",
    "    reviews.append(review.text)"
   ]
  },
  {
   "cell_type": "code",
   "execution_count": 21,
   "id": "a555f334",
   "metadata": {},
   "outputs": [],
   "source": [
    "from selenium import webdriver\n",
    "from selenium.webdriver.common.by import By\n",
    "from time import sleep\n",
    "\n",
    "links = pd.read_csv('links.csv')\n",
    "\n",
    "ratings = []\n",
    "reviews = []\n",
    "\n",
    "driver = webdriver.Edge()\n",
    "\n",
    "for link in links['link'].to_list():\n",
    "    url = link\n",
    "    driver.get(url)\n",
    "    sleep(5)\n",
    "    reviews_web = driver.find_elements(By.XPATH,'//div[@class=\"business-review-view__body\"]')\n",
    "    \n",
    "    ratings_web = driver.find_elements(By.XPATH,'.//div[contains(@class, \"business-review-view__rating\")]//meta[contains(@itemprop, \"ratingValue\")]')\n",
    "\n",
    "    for rating, review in zip(ratings_web, reviews_web):\n",
    "        ratings.append(rating.get_attribute(\"content\"))\n",
    "        reviews.append(review.text)"
   ]
  },
  {
   "cell_type": "code",
   "execution_count": 22,
   "id": "f765a287",
   "metadata": {},
   "outputs": [
    {
     "data": {
      "text/plain": [
       "2670"
      ]
     },
     "execution_count": 22,
     "metadata": {},
     "output_type": "execute_result"
    }
   ],
   "source": [
    "len(ratings)"
   ]
  },
  {
   "cell_type": "code",
   "execution_count": 23,
   "id": "94d72797",
   "metadata": {},
   "outputs": [
    {
     "data": {
      "text/plain": [
       "2670"
      ]
     },
     "execution_count": 23,
     "metadata": {},
     "output_type": "execute_result"
    }
   ],
   "source": [
    "len(reviews)"
   ]
  },
  {
   "cell_type": "code",
   "execution_count": 26,
   "id": "a066d512",
   "metadata": {},
   "outputs": [
    {
     "data": {
      "text/plain": [
       "<Axes: >"
      ]
     },
     "execution_count": 26,
     "metadata": {},
     "output_type": "execute_result"
    },
    {
     "data": {
      "image/png": "[encoded data removed]",
      "text/plain": [
       "<Figure size 640x480 with 1 Axes>"
      ]
     },
     "metadata": {},
     "output_type": "display_data"
    }
   ],
   "source": [
    "attractions_reviews['rating'].hist()"
   ]
  },
  {
   "cell_type": "code",
   "execution_count": 24,
   "id": "6cb959b1",
   "metadata": {},
   "outputs": [
    {
     "data": {
      "text/html": [
       "<div>\n",
       "<style scoped>\n",
       "    .dataframe tbody tr th:only-of-type {\n",
       "        vertical-align: middle;\n",
       "    }\n",
       "\n",
       "    .dataframe tbody tr th {\n",
       "        vertical-align: top;\n",
       "    }\n",
       "\n",
       "    .dataframe thead th {\n",
       "        text-align: right;\n",
       "    }\n",
       "</style>\n",
       "<table border=\"1\" class=\"dataframe\">\n",
       "  <thead>\n",
       "    <tr style=\"text-align: right;\">\n",
       "      <th></th>\n",
       "      <th>review</th>\n",
       "      <th>rating</th>\n",
       "    </tr>\n",
       "  </thead>\n",
       "  <tbody>\n",
       "    <tr>\n",
       "      <th>0</th>\n",
       "      <td>Одно из самых прекрасных, красивейших и обязат...</td>\n",
       "      <td>5.0</td>\n",
       "    </tr>\n",
       "    <tr>\n",
       "      <th>1</th>\n",
       "      <td>Была 5 января на спектакле Кремлёвского балета...</td>\n",
       "      <td>3.0</td>\n",
       "    </tr>\n",
       "    <tr>\n",
       "      <th>2</th>\n",
       "      <td>Все отлично и замечательно , ходила на «Щелкун...</td>\n",
       "      <td>5.0</td>\n",
       "    </tr>\n",
       "    <tr>\n",
       "      <th>3</th>\n",
       "      <td>Великолепное атмосферное место в самом сердце ...</td>\n",
       "      <td>5.0</td>\n",
       "    </tr>\n",
       "    <tr>\n",
       "      <th>4</th>\n",
       "      <td>ГУМ Ярмарка - это традиционное и ежегодное мер...</td>\n",
       "      <td>5.0</td>\n",
       "    </tr>\n",
       "    <tr>\n",
       "      <th>...</th>\n",
       "      <td>...</td>\n",
       "      <td>...</td>\n",
       "    </tr>\n",
       "    <tr>\n",
       "      <th>2665</th>\n",
       "      <td>Самый большой заповедник в черте города! Необы...</td>\n",
       "      <td>5.0</td>\n",
       "    </tr>\n",
       "    <tr>\n",
       "      <th>2666</th>\n",
       "      <td>Довольно большой парк, таинственный и просто с...</td>\n",
       "      <td>5.0</td>\n",
       "    </tr>\n",
       "    <tr>\n",
       "      <th>2667</th>\n",
       "      <td>Огромный, просто огромнейшая территория. Насто...</td>\n",
       "      <td>5.0</td>\n",
       "    </tr>\n",
       "    <tr>\n",
       "      <th>2668</th>\n",
       "      <td>Были в Парке вчера, все здорово, экскурсии на ...</td>\n",
       "      <td>3.0</td>\n",
       "    </tr>\n",
       "    <tr>\n",
       "      <th>2669</th>\n",
       "      <td>Отличное место для познавательных и полезных п...</td>\n",
       "      <td>5.0</td>\n",
       "    </tr>\n",
       "  </tbody>\n",
       "</table>\n",
       "<p>2670 rows × 2 columns</p>\n",
       "</div>"
      ],
      "text/plain": [
       "                                                 review rating\n",
       "0     Одно из самых прекрасных, красивейших и обязат...    5.0\n",
       "1     Была 5 января на спектакле Кремлёвского балета...    3.0\n",
       "2     Все отлично и замечательно , ходила на «Щелкун...    5.0\n",
       "3     Великолепное атмосферное место в самом сердце ...    5.0\n",
       "4     ГУМ Ярмарка - это традиционное и ежегодное мер...    5.0\n",
       "...                                                 ...    ...\n",
       "2665  Самый большой заповедник в черте города! Необы...    5.0\n",
       "2666  Довольно большой парк, таинственный и просто с...    5.0\n",
       "2667  Огромный, просто огромнейшая территория. Насто...    5.0\n",
       "2668  Были в Парке вчера, все здорово, экскурсии на ...    3.0\n",
       "2669  Отличное место для познавательных и полезных п...    5.0\n",
       "\n",
       "[2670 rows x 2 columns]"
      ]
     },
     "execution_count": 24,
     "metadata": {},
     "output_type": "execute_result"
    }
   ],
   "source": [
    "attractions_reviews = pd.DataFrame()\n",
    "attractions_reviews['review'] = reviews\n",
    "attractions_reviews['rating'] = ratings\n",
    "attractions_reviews"
   ]
  },
  {
   "cell_type": "code",
   "execution_count": 25,
   "id": "06f5a022",
   "metadata": {},
   "outputs": [],
   "source": [
    "attractions_reviews.to_csv('attractions_reviews.csv')"
   ]
  },
  {
   "cell_type": "code",
   "execution_count": 18,
   "id": "9f9ef0ac",
   "metadata": {},
   "outputs": [],
   "source": [
    "links = pd.read_csv('links.csv')"
   ]
  },
  {
   "cell_type": "code",
   "execution_count": 19,
   "id": "7eec0618",
   "metadata": {},
   "outputs": [
    {
     "data": {
      "text/html": [
       "<div>\n",
       "<style scoped>\n",
       "    .dataframe tbody tr th:only-of-type {\n",
       "        vertical-align: middle;\n",
       "    }\n",
       "\n",
       "    .dataframe tbody tr th {\n",
       "        vertical-align: top;\n",
       "    }\n",
       "\n",
       "    .dataframe thead th {\n",
       "        text-align: right;\n",
       "    }\n",
       "</style>\n",
       "<table border=\"1\" class=\"dataframe\">\n",
       "  <thead>\n",
       "    <tr style=\"text-align: right;\">\n",
       "      <th></th>\n",
       "      <th>link</th>\n",
       "    </tr>\n",
       "  </thead>\n",
       "  <tbody>\n",
       "    <tr>\n",
       "      <th>0</th>\n",
       "      <td>https://yandex.ru/maps/org/moskovskiy_kreml/10...</td>\n",
       "    </tr>\n",
       "    <tr>\n",
       "      <th>1</th>\n",
       "      <td>https://yandex.ru/maps/org/gosudarstvennaya_tr...</td>\n",
       "    </tr>\n",
       "    <tr>\n",
       "      <th>2</th>\n",
       "      <td>https://yandex.ru/maps/org/pyotr_i_pamyatnik_3...</td>\n",
       "    </tr>\n",
       "    <tr>\n",
       "      <th>3</th>\n",
       "      <td>https://yandex.ru/maps/org/ges_2/216491468916/...</td>\n",
       "    </tr>\n",
       "    <tr>\n",
       "      <th>4</th>\n",
       "      <td>https://yandex.ru/maps/org/muzeon/173589962820...</td>\n",
       "    </tr>\n",
       "    <tr>\n",
       "      <th>...</th>\n",
       "      <td>...</td>\n",
       "    </tr>\n",
       "    <tr>\n",
       "      <th>57</th>\n",
       "      <td>https://yandex.ru/maps/org/moskovskiy_tsirk_ni...</td>\n",
       "    </tr>\n",
       "    <tr>\n",
       "      <th>58</th>\n",
       "      <td>https://yandex.ru/maps/org/tsentralny_park_kul...</td>\n",
       "    </tr>\n",
       "    <tr>\n",
       "      <th>59</th>\n",
       "      <td>https://yandex.ru/maps/org/neskuchny_sad/15637...</td>\n",
       "    </tr>\n",
       "    <tr>\n",
       "      <th>60</th>\n",
       "      <td>https://yandex.ru/maps/org/botanicheskiy_sad_m...</td>\n",
       "    </tr>\n",
       "    <tr>\n",
       "      <th>61</th>\n",
       "      <td>https://yandex.ru/maps/org/fgbu_natsionalny_pa...</td>\n",
       "    </tr>\n",
       "  </tbody>\n",
       "</table>\n",
       "<p>62 rows × 1 columns</p>\n",
       "</div>"
      ],
      "text/plain": [
       "                                                 link\n",
       "0   https://yandex.ru/maps/org/moskovskiy_kreml/10...\n",
       "1   https://yandex.ru/maps/org/gosudarstvennaya_tr...\n",
       "2   https://yandex.ru/maps/org/pyotr_i_pamyatnik_3...\n",
       "3   https://yandex.ru/maps/org/ges_2/216491468916/...\n",
       "4   https://yandex.ru/maps/org/muzeon/173589962820...\n",
       "..                                                ...\n",
       "57  https://yandex.ru/maps/org/moskovskiy_tsirk_ni...\n",
       "58  https://yandex.ru/maps/org/tsentralny_park_kul...\n",
       "59  https://yandex.ru/maps/org/neskuchny_sad/15637...\n",
       "60  https://yandex.ru/maps/org/botanicheskiy_sad_m...\n",
       "61  https://yandex.ru/maps/org/fgbu_natsionalny_pa...\n",
       "\n",
       "[62 rows x 1 columns]"
      ]
     },
     "execution_count": 19,
     "metadata": {},
     "output_type": "execute_result"
    }
   ],
   "source": [
    "links"
   ]
  },
  {
   "cell_type": "code",
   "execution_count": null,
   "id": "d91f1d7a",
   "metadata": {},
   "outputs": [],
   "source": []
  },
  {
   "cell_type": "code",
   "execution_count": null,
   "id": "523a7639",
   "metadata": {},
   "outputs": [],
   "source": []
  },
  {
   "cell_type": "code",
   "execution_count": 131,
   "id": "b8e0d0d0",
   "metadata": {
    "collapsed": true
   },
   "outputs": [
    {
     "name": "stdout",
     "output_type": "stream",
     "text": [
      "Довольно часто пользуюсь многими сервисами компании, все информативно, удобно, хорошо работает если у вас современные устройства. Большое количество реально нужных сервисов. Логически правильно продуманные меню программ. Но! в обновлённом браузере яндекс по новому дзен, в компьютерной версии, скрыто подменю с популярными сервисами: картинки, карты, видео, т.д., они появляются только после ввода текста, как всплывающее меню, мне лично это не совсем удобно, а кто то вообще и не видит, где эти сервисы. Открывая страницу яндекса на компьюторе пользователю нужен уже какой то сервис, а его сразу и не найдешь. В старой версии этот момент был реализован лучше, на мой взгляд. Программы для мобильных устройств все хорошо, пользуюсь постоянно. Компания явный лидер по IT технологиям на Российском рынке. \n",
      "\n",
      "Довольно часто пользуюсь многими сервисами компании, все информативно, удобно, хорошо работает если у вас современные устройства. Большое количество реально нужных сервисов. Логически правильно продуманные меню программ. Но! в обновлённом браузере яндекс по новому дзен, в компьютерной версии, скрыто подменю с популярными сервисами: картинки, карты, видео, т.д., они появляются только после ввода текста, как всплывающее меню, мне лично это не совсем удобно, а кто то вообще и не видит, где эти сервисы. Открывая страницу яндекса на компьюторе пользователю нужен уже какой то сервис, а его сразу и не найдешь. В старой версии этот момент был реализован лучше, на мой взгляд. Программы для мобильных устройств все хорошо, пользуюсь постоянно. Компания явный лидер по IT технологиям на Российском рынке.\n",
      "ещё \n",
      "\n",
      "Сама по себе кампания и неплохая. Устраивает Яндекс- маркет, хороший браузер Яндекс, отлично работает приложение карты Яндекс. Но как и бывает во всем хорошем есть и маленькое плохое. Непонятная работа системы, а может и какого то модера в приложении «Мои отзывы». Это там где люди делятся своими впечатлениями от посещения каких либо мест, покупки тех или иных товаров, пользования услугами разных организаций, где я сейчас и пишу. Я периодически оставлял свои отзывы и мой рейтинг дошел до 15-го уровня. И тут начались непонятные вещи качели, срезания моего рейтинга по непонятной причине. Я напишу они срежут, я напишу они срежут, т.е. такое впечатление, что дальше 15-го уровня рейтинга программа или модер не пускают. Ладно один раз было бы, а то раза три срезали и я написал в техподдержку. И после этого срезали еще ДЕВЯТЬ раз. И вот напишу я отзывы и продвинусь дальше по рейтингу например на шестнадцатый уровень, а они срежут и возращают меня на пятнадцатый уровень. И что смешно ниже пятнадцатого не срезают. И что интересно срезают не по одному отзыву, а по несколько. один раз обнулили восемь отзывов подряд хотя их опубликовали. Хочу отметить, что отзывы оставляю не одним-два словом как многие типа \"Класс!\", \"Супер!\", а пишу подробней для передачи мысли. Короче дело плевое и не о чем, но дело принципа. \n",
      "\n",
      "Покупал на яндекс маркете товар, и все было хорошо, но вот техслужба сайта полное дно, все настроенно максимально не удобно - сервисы не взаимодействуют между собой, выпустили акцию 500 бонусов по промокоду за нового пользователя - все сделал, жду свои бонусы, а их нет - пишу в техподдержку - отвечают 1 раз в день, видимо 1 человек на весь сервис, в итоге мне потребовалось (узнать номер заказа у приведенного пользователя- что было немного странно, у вас че базы нет?) неделя!!! Неделя Карл!!! что бы получить ответ, что я нарушил какие-то правила получения бонусов, каких не отвечают, я спрашивал, меня тупо игнорят. Ранее привел друга отправил ему промомкод - но из-за ошибки он не может получить по нему скидку, выбрал товар вбил промокод - скидка есть, лежит вы корзине, решил выбрать что то еще не нашел возврашается в корзину промокод уже не работает, а тех поддержка говорит вы уже покупали на маркете, Зашел под учеткой друга на своем телефоне проверяю реально ни чего не работает - закзаов ноль, условия не нарушены, пишу в техподдержку - мне говорят вы заходили на этот логин со своего номера * да и что? короче опять обманули, и не стали ни чего решать! Вот так сервис обслуживание полный минус, приходится клещами вытаскивать информацию, походу они там жиром заплыли и им в падлу печатать более 3 слов в ответе. А при этом могут еще чат закрыть и если выберешь что плохо ни кто твой вопрос решать не будет пока снова не напишешь, в надежде, что забудешь. Пишу отзыв так как в чате мне так и не ответили! \n",
      "\n",
      "Извините если не по адресу, эта оценка не Яндекс компании, а только Яндекс Маркет!!\n",
      "Яндекс в целом выше всяких похвал. Супер современная, невероятное разнообразие услуг и возможностей!!! Без Яндекс теперь невозможно!!! Яндекс в каждом доме и каждом телефоне. Яндекс стал нашей жизнью. Я благодарен Яндекс за те удобства которые пришли в наш дом с их появлением!!! \n",
      "И совершенно не понятно как в этой великой компании, мог родиться такой уродец как Яндекс Маркет!!! Это форменное Безобразие!!! Разочарованию нет предела!!! Я пользуюсь этим с позволения сказать магазом, всего ничего, пару месяцев, и уже сил моих нет больше!!! Столько косяков , что просто не возможно терпеть!!! \n",
      "То товар не тот, то просто не доставили, непонятно почему, то не соответствует заявленному , ужасно! Но последнее , вообще выбило из колеи, представляете заказал два одинаковых товара в один заказ, оплатил, мне было это очень важно, чтоб день был именно этот! Подарок!! Но пришел один товар, а не два, все планы долой!!! Подарок накрылся, именно две шт , симметрия, сами понимаете, в одном нет смысла!!! Стал тут же писать в поддержку, и что??? Как будто с автоответчиком поговорил, просто ни одного шанса решить вопрос, заученные фразы, и всё!!! Ни в право, ни в лево, твердит заученные фразы по кругу!!! Отменил заказ, жду назад деньги, удаляю свой аккаунт, больше в Яндекс маркет я ни ногой!!! Вам тоже советую, не связывается с Яндекс маркет!!! Никакого сервиса!!! Одно расстройство!!! Кинут в самый неподходящий момент и глазом не моргнут. \n",
      "А компании Яндекс, конечно удачи и процветания. Сделайте что-нибудь с этим чудом под названием Яндекс Маркет. \n",
      "\n",
      "Комфортна компания для сотрудников, созданы все условия труда. Для молодых специалистов - развитие карьеры, можно работать на удалённом режиме. Внутри компании лояльная корпоративная культура. С точки зрения бизнеса - постоянно идёт на два шага вперёд, как с точки зрения доставки, такси, так и в СМИ. Постоянно девертифицирует бизнес. Занимает новые конкурентные ниши. \n",
      "\n",
      "Приложение отличное! Но есть 2 минуса: 1. Занимает достаточно много мб. для тех, у кого 8-16гб.(или меньше) памяти. 2. Возможно, я уже придираюсь, но можно сделать так, чтоб в ютубе так-же как и в яндекс играх, был маленький значок яндекса, а не значок Алисы, значок главной стараницы, + какой-то знак бесконечности??? Разрабы, умоляю, заметьте! А так-то приложение норм. Советую. \n",
      "\n",
      "Оценить такую компанию, как Yandex - чрезвычайно сложно. Это, безусловно, лидер российского рынка среди ИТ компаний. Есть большое количество различных инновационных решений и услуг в совершенно различных сферах. Этим можно гордиться. \n",
      "Уважаемые Яндекс карты, если Вы сообщаете информацию по населенным пунктам на Украине, то правильно писать \"Краматорск- город НА Украине.\" Это болт В отверстие вставляется, а про Украину пишется НА. \n",
      "\n",
      "приятная атмосфера, вежливый персонал, всегда чисто, слегка играет музыка, приятно общаться с сотрудниками, вкусный кофе. всем рекомендую посетить ) хорошая компания \n",
      "\n",
      "Классная компания, отличный офис. Люблю Яндекс за сервисы (Лавка, Маркет, Драйв, Отзывы- топ) и как партнера по размещению рекламы. Отличные инструменты для аналитики. Отзывчивая служба поддержки!\n",
      "Только жалко, что произошло разделение на Дзен и ya.ru, раньше пользоваться было удобнее. \n",
      "\n",
      "Ух ты ,о самом Яндексе отзыв в янексОтзывах))) круто ) ну слушайте мой отзыв,. Сделайте чтоб с навигатора можно было сразу оставлять отзыв , ну или хотя бы чтоб посмотреть развернутые отзывы в самом навигаторе, очень не удобно когда едешь далёкий путь и не можешь сам посмотреть потому что рулить надо. И наконец сделайте что нибудь с навигатором, разрешил ехать по платкам, и т.п но поверьте мне я проехал с Владивостока до Анапы. И это просто ужас ((( в Омске повел меня через город , зачем блин , я ещё смотрю вывеска прямо показывает на Челябинск, ну нет думаю , она знает что делает, я проклинал ее когда ехал через город((( и таких моментов куча. А ещё не маловажный момент , интернета по трассе нет от слова почти совсем. Загружаю Ютюб очень длинные мелодии по 11-12 часов на качестве 144кб , и всю дорогу еду спокойно слушаю, а вот яндекс навигатор не хочет блин показывать заправки даже, 4 раза я доезжал до них и мне оставалось от 7 км до 20 по расходометру. Очень яркий это перед Тайшетом , км 100 до него начал смотреть заправки , интернета нет естественно , заправки не показывает , ну еду все равно думаю на развилке должна быть к городу , подъезжаю а заправок нет ((( решаюсь заехать в город , появляется связь, нажимаю в навигаторе заправки а он меня ведёт куда то по трассе за 60 км ))) открываю браузер(пришлось остановиться) ввожу заправку показывает сколько то км, смотрю мне хватает, и еду по навигатору Гугла в браузере, 3 или 4 было таких случаев . Жаль видео нельзя загрузить, есть видео об остатке километрожа. Ах да чуть не забыл , почему когда гружу фото еды и вид с окна кафе не пропускают модераторы , сделайте кнопку пожаловаться на модератора. У меня забанено 3 или 4 отзыва с фото \n",
      "\n",
      "Яндекс довольно неплохая компания, в ней много довольно грамотных людей, которые создают то, чего не было ранее. Взять к примеру умного, русскоязычного голосового помощника Алису. Но теперь к объективной критике:\n",
      "1. Яндекс маркет работает абы как, с доставкой, особенно под новый год может случится беда. К примеру в 2021 году заказал подарки для родных. Сделал это заранее. Срок доставки был 23-25 декабря, меня это устроило. Но подошел срок и товара нет… звонок вечером, перенесли на следующий день. И так далее, пока доставка не перенеслась на 13 января… Позже позвонил оператор и объяснил, что заказ скорее всего утерян и его собирают заново… вот молодцы ребята, классный новый год…\n",
      "2. На днях случилась настоящая подстава с Яндекс.Путешествия! По окончании проживания в гостинице, я попросил счет для отчета по командировке. В гостинице отказали, сославшись, что все документы предоставляет яндекс. Ну ладно… что поделать. Дождавшись срока в 3 дня после выезда, на сайте появился документ, но никак не счет за проживание, а какая то отписка с печатью. Был предоставлен чек, но вот незадача, он был разбит на две графы: проживание и питание. Хоть я и платил сумму единожды и не за две позиции. Я попытался объяснить, что мне нужен счет, где была бы общая сумма, без привязки каких либо дополнительных услуг. Но мне несколько раз отказали. Далее я попросил указать в письме, что денежные средства за питание являются неотъемлемой частью стоимости номера и общей суммы за проживание, но и тут мне отказали, сославшись что документы делают один к одному и не могут ни исправить, не выпустить дополнительно. Благодаря этому сервису на работе с меня вычли порядка 5000 рублей! Не рекомендую! \n",
      "\n",
      "Яндекс в целом полезная штука, но есть и к его сервисам претензии… так как нету тут в отзывах конкретных направлений, то напишу здесь…\n",
      "Яндекс Браузер- стал настолько навязчивым и предлагает постоянно сделать его главным на всех устройствах, что на новом телефоне, я его даже не открывал, чтобы избежать постоянного навязывания, примечательно то, что даже когда он стоял браузером по умолчанию на айфоне, то яндекс все равно вылезал с этим предложением, это просто раздражает!\n",
      "ЯндексАфиша- сервис по продаже билетов на концерты, в театры, кино и тд… Приобрел я билеты на концерт один, а его отменяли-переносили,отменяли-переносили, возврат оформить не получается, разные отговорки, то коронавирус, то еще что-то, мол уважительная причина у этих задержек… А я, что? Скоро три года будет, как концерт должен был быть ДДТ в Оренбурге, я уже живу в другом городе и мне уже технически на него не попасть, но деньги свои вернуть не смог…\n",
      "ЯндексДрайв- сервис нужный, но есть моменты абсурдные! Например, я живу на 16 этаже, собираюсь куда-то съездить и открываю приложение, если машин свободных рядом нет, то я жду когда появится и не выхожу пока из дома, но если машина рядом, то после бронирования я одеваюсь, обуваюсь, двери-замки, вызываю лифт, дожидаюсь его, еду до первого этажа, а у меня уже платное ожидание началось, типа машина же рядом стоит, а еще даже из дома выйти не успел… Не на улице же её караулить и только тогда бронировать, чтобы уложится в срок бесплатного ожидания…\n",
      "Яндекс Маркет- в принципе выдает устаревшие результаты с не актуальными ценами, только время тратишь переходя по предложенным ссылкам!\n",
      "Ни кто и ни что не совершенны, понимаю, но надо к этому стремиться!) \n",
      "\n",
      "Была здесь на экскурсии. Влюбилась в эту компанию с первого взгляда. Здание, люди, которые здесь работают, библиотека, вся эта атмосфера - это было невероятно. Ходила по этажам и чувствовала себя причастной к чему-то очень глобальному.\n",
      " Прочитала Яндекс. Книгу - моё сердце принадлежит теперь этой компании. Близка их философия, рада, что получила возможность побывать в таком культовом месте. Была восхищена, удивлена и очарована. Яндекс - это 💘 любовь. \n",
      "\n",
      "Есть над чем думать практически во всех сервисах, но в целом работа налицо. Возможно, следует или сократить число сервисов, или вкладывать в них больше ресурсов. Пользуюсь много чем: музыкой, браузером, диском, плюсом, услугами, Алисой, недвижимостью, путешествиями, авто ру и так далее. О проблемах Маркета наслышан, но самого пока продавцы, слава Богу, не обманывали и не подводили. КиноПоиск раньше, безусловно, проигрывал крупным конкурентам, но в текущей обстановке подключил Плюс и перешёл чисто на него. Карты с подключением автобусов очень классно преобразились. Услуги для меня, как для мастера, считаю самый доступный и народный сервис - нет таких грабительских комиссий как у других. А вот Игры, без обид, примитивка. Такси подорожало, перестал пользоваться. Убер, говорят, тоже в системе Яндекса, но там дешевле. Пользуюсь им. \n",
      "\n",
      "Здравствуйте. Я впервые решила купить на Яндекс Маркет. Выбрала стиральную машину, оплатила и стала ждать заказ. Живу в 60 км от Тамбова. Заказ должен быть доставлен с 9.00 до 22.00 31.01.2023. Наняли машину с прицепом, что бы забрать машинку. И тут начались проблемы до два заказа до нашего, затем семь заказов до нашего, потом 12 заказов до нашего. И в итоге курьер до нас типо не дозвонился и отменил заказ. Как это можно звонить и не дозвониться. И где теперь моя машинка на горячей линии не говорят, телефон курьера не говорят. Нам сказали что дирекции на Яндекс Марките нет. Может я попала на мошенников или сам Яндекс Маркет ***. Больше не буду обращаться на сай и всем не советую. \n",
      "\n",
      "Очень хороший офис! Есть все для комфортного пребывания, работы, отдыха, питания сотрудников. Много современных кабинетов малого и большого формата, высокоскоростной интернет. \n",
      "\n",
      "Раньше всегда нравился яндекс, все было не плохо, но до поры до времени. А именно все испортил яндекс маркет, не первый год заказывал товары, все было хорошо, потом вдруг яндекс взял и заблокировал меня без объяснения причины, поддержка что есть что нет это просто ужас, некомпетентна ни в чем, только пишут что разбираются уже месяц и ничего не могут решить, никто ни за что не отвечает, ничего не знают и не хотят вообще разбираться, говорят это не мы это наш автомат заблокировал и на этом все. Полное дно, а я между прочим пользователь плюса и есть баллы, которые теперь нельзя потратить на заказы. В общем тупик, на клиентов кладут сами знаете что, им мы не нужны \n",
      "\n",
      "Очень приятное и высокотехнологичное здание.Давно мечтал побывать в нем и вот моя мечта сбылась, спасибо моему другу, который провел очень приятную экскурсию. То место, где чувствуется семейная атмосфера, с элементами офиса. Очень крутой проект в целом, жаль недолго удалось поработать в Маркете, так что надеюсь еще будет возможность побывать в этой чудной и приятной атмосфере, пусть и в качестве гостя. \n",
      "\n",
      "🎆Ну что же, не дают написать о сервисе Яндекс Маркет, напишем об этом в отзывах о самой организации, ведь это тоже прекрасный показатель качества и принципов работы...\n",
      "🎆#Яндексмаркет\n",
      "Все, рано или поздно ,сталкиваются с яндекс.маркетом и даже не подозревают о том, что совершая покупки, Ваши персональные данные оказываются в руках Яндекса. Чуть погодя, эти данные начинают использоваться против Вашего ведома, и Вы об этом совершенно случайно узнаёте или не узнаёте вовсе !!!так произошло в моём случае , когда мне была сначала активирована подписка яндекс.плюс, и списаны деньги с моего счёта. Первый прецедент выглядел, как случайность, но сейчас произошёл второй прецедент и опять попытались подключить какую-то из подписок Яндекса. Я совершенно я об этом не знал, не подключал, не соглашался, не жал ни на какую кнопку и не совершал этой покупки! не совершал перечисление никаких денег, чтобы своим перечислением подтвердить факт действия подписки, совершая публичную оферту. Когда я попытался разобраться в данном прецеденте со службой поддержки, то четыре раза специалисты службы поддержки просто закрывали беседы, так и не предоставив внятного ответа!! И это можно понять, ведь политика руководства направлена на получение прибыли всеми путями, и операторы это подневольные люди, которые , зачастую и представления не имеют о подобных проделках всероссийского масштаба, поэтому на будущее будьте осторожны и знайте!!!!! ,что данные Ваших карт попали в руки людей, которые совершенно спокойно содействуют мошенническим действиям и Вы в любой момент времени можете пострадать от этого, потеряв деньги!\n",
      "P.S. я попытался прикрепить и фото для наглядности попыток обращений, но Яндекс это отклонил, чтобы отзыв не был подтверждён фотоматериалом. Хотя по виду формы , шрифту, прекрасно видно , что это обращения в службу поддержки Яндекса, и как они благополучно закрывали обращения без ответа \n",
      "\n",
      "Да . это место мне знакомо.. ж/д станция Манзовка. военный гарнизон. где я был направлен служить в село Монастырище.. Было это в ноябре 1958г... После окончания авиационного училища я был направлен служить в ракетные войска ,в ракетный дивизион ,в/ ч 82735... ( в 1959г. родилась дочь) Расселили нашу семью в Досе ( Дом офицерского состава) Комната на третьем этаже .с балконом.. Видны были начальные отроги хребта \"Сихотэ- Алиня\" и конечно- же ,узкоколейку\"Манзовка- Варфоломеевка\".. Пыхтящий. искристый паровоз. особенно в ночное время, зрелище неописуемо... В 1960г. горели сопки и наша часть принимала участие в его тушении Вот строки из моего стихотворения \"Начало офицерской службы\" \"О! Дальний . для меня ты -\"близкий\".Там молодость военная прошла.. Дальний Восток-прекрасная \"Страна Божественно - целинная природа Непроходимые леса, хребты и реки,Озёра. моря и океан восточного схода. Тебя полюбил я -навеки! Наш гарнизон стоял у подножья хребта Сихотэ- Алиня С балкона были видны все его черты.. Зимой подует ветер и снега лавины Грохочут вниз белизной чистоты\"... \n",
      "\n"
     ]
    },
    {
     "name": "stdout",
     "output_type": "stream",
     "text": [
      "Как пользователь иду под руку с Яндексом со времен поисковика, так что был рад расширению услуг. Являюсь постоянным пользователем большинства приложений компании, лучше Яндекса подобные сервисы в нашей стране никто не смог реализовать. Само собой, за долгие года бывали и неприятности, но специалисты службы поддержки клиентов всегда разбирались с проблемами и предлагали взаимовыгодные решения.\n",
      "В сети много хейтеров, говорят что Яндекс уже не тот. Однако вы лучшие! Я рад пользоваться услугами компании. \n",
      "\n",
      "Прекрасный небольшой музей в котором есть много интересного, из того, что не представлено во втором большом музее Яндекса. Обязательно рекомендую сходить и предварительно записаться на бесплатную экскурсию. \n",
      "\n",
      "Если бы не Кинопоиск и Маркет, ушёл бы на любой другой сервис, лишь бы не связываться с этим. Поддержки хуже сотрудников Яндекс.Плюс в жизни не встречал. Ни одного внятного ответа, агрессивные сотрудники, которые повышают голос, смеются над твоей проблемой и отвечают по методичке. Руководство не волнует некомпетентность своих сотрудников. Жду ответа с 10.12.2022, за них узнал всё, что требовалось от другого их сервиса (ведь коммуникации между сервисами у них отсутствуют). На телефоне в поддержке сидят сотрудники, которые могут игнорируют поставленные вопросы, повторяя \"ожидайте 5-7 дней, получите ответ на почту, по телефону помочь не можем\". Чат ещё хуже, пока добьёшься переключения с бота на сотрудника, пройдёт дня два, после чего сотрудник отвечает, что ничем помочь не может и выскакивает сообщение для оценки помощи сотрудника. А никакой помощи и не было. Ужасная организованность, руководство не делает абсолютно ничего для улучшения работы службы поддержки!\n",
      "Ваша поддержка просто закрывает мои обращения! Не получил ни одного ответа!!! При этом все обращения автоматически закрыты!! \n",
      "\n",
      "Искал возможность оставить отзыв о сервисе Яндекс.Плюс. Не нашел. На возникшие вопросы никто не отвечает. \n",
      "\n",
      "Когда оформлял подписку было гораздо больше доступной музыки в Яндекс.музыка. Сейчас нет даже мировых звезд. Только шлак типа инстансами и миаги\n",
      "\n",
      "Кинопоиск. Пропало очень много фильмов из доступа вообще. И многие фильмы стали платные. \n",
      "\n",
      "Есть возможность делиться подпиской. Для этого оформил мульти. \n",
      "\n",
      "Фильмы которые раньше были куплены мною. И были доступны и даже загружены в офф-Лайн на других аккаунтах с моей подпиской, теперь там не доступны. Поддержка утверждает что так было всегда. Но как тогда они(пользователи моей подписки) загрузили фильмы не покупая?!\n",
      "\n",
      "Акции Яндекс падают теперь понятно почему. Потому что повсеместно компания превращается в стандартный шлак. \n",
      "\n",
      "Доброго времени суток! Хочу поделится своим опытом с Яндекс маркет. Заказал аккумулятор на машину в субботу 21.01.23 оплатил, доставка ожидалась на 24.01.23 с 09:00 до 18:00, в итоге так и не привезли мне заказ((( В службу поддержки мне внятного ни чего не ответили, что даже появились сомнения, что его завтра привезут! На вопрос поменять адрес доставки, говорят, выбирайте день или заказывайте повторно!!! На вопрос соедините с руководством или дайте номер кому можно позвонить, просто игнорируют! Отследить курьера нет возможностей! Написали ждите завтра доставку, каждый день терять мне стоит минимум 10 000 руб. мне их кто возместит? ЭТО НАИХУДШИЙ МАРКЕТ ПЛЕЙС, что я встречал! Обращаюсь к руководству, прочтите отзыв и примите меры реагирования по вашему сервису нулевому! А тем людям кто прочитал отзыв, прошу подумать заранее заказывать тут или нет!!! \n",
      "\n",
      "Яндекс сам по себе прекрасен, но вот Яндекс Маркет в доставке очень сильно хромает. Половина ноября и весь декабрь сложно что ли получить, именно акцент делается на слове ПОЛУЧИТЬ! Заказать и оплатить все ок, деньги списываются за доли секунды , а вот товар получить это треш. Главное что водитель не звонит даже сказать мол я не успеваю сегодня ваш товар привезти , просто молча доставка переносится на след день, но и на след день так же не доезжает курьер, итак 3 дня в итоге) заказ сделал специально заранее в четверг, что бы к понедельнику привезли, но в итоге сегодня вторник 27.12 и заказа нету. Уверен что перенесется опять на завтра, опять я его не получу и заказ автоматом отменится. А поддержка мне говорит перенести заказ на 4 дня вперед😂😂😂, а нафига мне данный заказ 31 декабря , под елку что ли положить арахисовую пасту. В общем пока оценка на 1 звезду, доставка 🚚 😬. И если даже вы понимаете что перед Новым годом у вас завал заказов, так наймите побольше курьеров, подключите к этому такси что бы мелкие заказы могли перехватывать и довозить до адресата ((( \n",
      "\n",
      "Давно не встречала такого отвратительного клиентского сервиса. Приобрела билеты в театр через данный сервис для ребенка. И через 30 минут поняла, что в связи с уважительными обстоятельствами на мероприятие попасть не сможем. Написала в службу поддержки, описала ситуацию и попросила рекомедовать, что делать в этом случае. Мне порекомендовали сделать возврат билетов и оформили этот возврат в размере 10% от стоимости билетов 😭несмотря на то что уточняла вернётся ли всЯ стоимость. Меньше часа между покупкой и возвратом. И потеря больше 5 тыс рублей из-за некорректной консультации и робота оператора которому наплевать на клиента. Возвращать купленные билеты отказались. \n",
      "\n",
      "Скажу как есть оне однократно подводил данный магазин меня! Но как сегодня он меня подвёл это не передать спокойно словами !!! Обращаюсь ко всем пользователям данного магазина подумайте прежде что-то здесь заказывать потому что рано или поздно магазин подведет и вас !!! Объясню как подвел в очередной раз меня ! Сыну заказал долгожданный подарок и в назначенный день он его ждал доставка была указана с 9:00 до 18:00 номер заказа 169600054 , указываю номер для того чтоб Яндекс проверил и убедился что это действительно заказ ! В назначенное время заказ не привезли и не связались со мной и не предупредили что опаздывают и так далее ! Я связался с тех поддержкой они мне сказали что заказ будет позже к 21:00 и чтоб как-то смягчить обстановку предложили 200 бонусов но пообещали что к назначенному времени заказ будет у меня ! Мой сын уже в расстроенных чувствах сказал мне что не чего страшного подождем ! Время 21:00 заказа нет !!! В 22:00 начинаю писать в тех поддержку но там тишина они просто молчат ! В 23:30 статус заказа изменен на следующий день ! Удобно не удобно принять не кто не поинтересовался ! Сын расстроился заплакал и пошел спать ! Меня подвел яндекс маркет а я подвел своего сына ! Подумайте прежде чем заказывать в данном магазине потому что в ответственный момент он вас подведет и не кто не войдет в ваше положения ! Всем спасибо а Яндекс маркету сегодняшняя ситуация не простительная !!! Прикрепляю еще скрин как курьер целый день ездил вокруг моего дома ! И не соизволил завести ! \n",
      "\n",
      "Ужасная компания и ужасная техническая поддержка. Все у нее хорошо, но только если работает. Не дай бог, что-то сломалось, концов найти нельзя. Не могу ЗАПЛАТИТЬ для перехода на платную корпоративную почту. Решить вопрос ни с кем не возможно, технической поддержки нет - говорят что нужно перейти на платный тариф, а так общайтесь с ботом. Бот вопроса не решает, а заплатить не могу, так как не работает оплата. Замкнутый цикл. Мучаюсь неделю с простыми вопросами.... Вопрос - а стоит оставаться с такой компанией дальше, если они даже денег не хотят получить? \n",
      "\n",
      "Много раз заказываю воду !!! Один раз был нормальный заказ. Все последующие, чтобы заказать отнимали пол дня !!! Зачем то звонят операторы и предлагают оформить со скидкой заказ , через час его отменяют ! Яндекс , была отличная команда - Женя Завалишена, Алешин, Кирилл Сурский и прочие , сейчас разводилово полное а не компания! Ваши операторы предлагают скидки и сами же их аннулируют , вводя клиентов в заблуждение и просто обманывая. Служба тех.поддержки - на кладбище и то жизнь кипит по отношению к этой группе бессмысленных людей. Что за отношение наплевательское ? \n",
      "\n",
      "Хороший курс, но требует предварительной подготовки или опыта. Хочу поделиться своими впечатлениями о пройденном мной курсе «Юнит-экономика» на Яндекс Практикум. Это ускоренный курс, который занимает всего 2 недели. За это время мне удалось понять что такое Юнит-экономика, зачем она нужна и как ее рассчитывать для нового и существующего бизнеса. Разумеется, что за 2 неделе невозможно разобраться во всех нюансах, но понять механику процесса - вполне возможно. Собственно это и является целью курса, где на реальных примерах разбираются все шаги, которые необходимо сделать для расчёта экономики. Для меня курс был не простым, т.к. Я зашел туда не имея ни малейшего представления о ней - только название. Но свою задачу я решил. Со мной в группе были ребята, которые уже считают юнит-экономику и им было немного проще, но только местами. Поэтому даже для опытных Продактов и Маркетологов этот курс будет полезным с точки зрения методологии. Теория курса очень хорошо структурирована. На воркшопах, которые проходят на выходных, вы разберете реальные кейсы. Также будут домашние задания. И вот тут самое главное - не игнорировать рекомендации, которые даются в начале курса - изучить бесплатный курс по работе с формулами в Excel, где даются основы работы с массивами данных. Это сильно упростит процесс освоения юнит-экономики и поможет в домашних заданиях. Как и в любом курсе на Яндекс Практикум, важно держать ритм в процессе освоения теории, чтобы не вывалится из процесса. Из недостатков могу добавить только то, что я бы растянул курс на три недели, чтобы освоение материала было более комфортным и без задержек. Но Яндекс слышит все наши комментарии и старается делать мир лучше. Спасибо! Однозначно буду рекомендовать. \n",
      "\n",
      "Хочу оставить отзыв по работе колонки «Яндекс Алиса» с подключением Кинопоиск.\n",
      "1. Фильмы. Есть ограниченный список фильмов, которые можно посмотреть. Голосовой поиск часто отправляет на ютюб, хотя на Кинопоиске есть данный фильм. Нет фильтров по поиску фильмов «по годам, « по жанрам» и тп \n",
      "2. Сериалов и мультики - тоже самое…\n",
      "3 ТВ - может быть 3 канала, а через минуту больше 100, опять же нет разграничений ( как например на приставке с Алисой) федеральные, новостные, кино и сериалы, детские и тп… так же нет возможности посмотреть программу передач!\n",
      "Больше всего расстраивает, что пропал канал МУЗТВ. Детские каналы включаются раз через раз.( в основном только мульт и солнышко) , младший в восторге от канала «лёва»- которого тоже нет на калонке… \n",
      "\n",
      "Отличное место, хочется побольше интересных мероприятий и фестивалей на данной площадке. Демодуляция 2022 добавила немало позитивных нот в столь непростое время. \n",
      "\n",
      "Крупная компания. Провели очень интересную и познавательную экскурсию для детей. Даже сделали памятные подарки 👍\n",
      "По возможности, запишитесь на экскурсию, не пожалеете! \n",
      "\n",
      "Жаль, что минус нельзя поставить. \n",
      "Заказали ко дню рождения товар. ЗА НЕДЕЛЮ до дня рождения. \n",
      "Мало того, что заказ не приехал и через 10 дней, так они ещё и в чате пишут, чтобы для ускорения мы отменили заказ и сделали его снова. У ВАС ТАМ ВСЁ В ПОРЯДКЕ?! \n",
      "На горячей линии ещё прикольнее. Спрашиваю, где головной офис находится, мне оператор отвечает: \"Смотрите в интернете\". Это оператор СЛУЖБЫ ПОДДЕРЖКИ!\n",
      "Худший маркетплейс с наплевательским отношением к клиентам. \n",
      "\n",
      "Лучшая Российская it компания, в отличии от конкурента на букву м, делают действительно классные проекты. Надеюсь когда-нибудь создадут свою соц сеть, и тогда будет идеально, они точно смогут выпустить действительно стоящий продукт. \n",
      "\n",
      "Всем привет! Пишу здесь, тк не вижу больше вариантов что меня услышат. Итак: я случайно подписался на Яндекс плюс в приложении Яндекс такси. У меня регулярно списывается 299р. Но я не пользуюсь этой опцией и решил отписаться. Так вот идет третий день моих попыток это сделать и пока безрезультатно. Я обратился в свой банк, что бы они заблокировали платежи, ответ такой: банк это сделать не может, но у нас уже много клиентов кто так и НЕ СМОГ отписаться от Яндекс плюс. Им пришлось МЕНЯТЬ БАНКОВСКУЮ КАРТУ) По-моему это все что можно сказать о том, как сервисы Яндекс лояльны к своим клиентам. \n",
      "\n",
      "Классное здание как снаружи, так и внутри, ожидание не будет томительным, там много интересного и увлекательного. Мне все понравилось👍 Расположение удобное \n",
      "\n",
      "Я пользовался всеми услугами компании и был доволен. Но за последний месяц меня просто поразила скорость падения этой компании в яму. Как же я хочу эту яму наполнить....... Поддержки клиентов нет, сервис музыки глючит, яндекс услуги стали полнейшим отстоем. И это только начало конца. Кажется подыхает. Жаль что наперед оплатил яндекс плюс. И очень жаль что нет оценки -5 \n",
      "\n",
      "Пишу отзыв конкретно на маркетплейс Яндекс.Маркет - часто заказываю там различные товары от постельного белья до телефона. Маркетплейс часто задерживает доставку. Но на этот раз это стало последней каплей, из-за которой я откажусь от использования сервисами Яндекса.\n",
      "Доставку с широким интервалом (9:00-18:00) переносят уже второй раз. То мне приходится провести третий день дома, ожидая заказанные и уже оплаченные товары. Операторы поддержки любезно отправляют в чат отписки и ничего не меняется - трекер моего заказа только с каждый раз показывает всё бо́льшее количество заказов перед моим.\n",
      "\n",
      "Я понимаю, что это происходит скорее всего из-за того, что моя доставка бесплатна. Но это ваша же акция - при заказе от 1500 доставка бесплатна. И ваша же обязанность привезти её в срок! Учитесь, пожалуйста, ценить время ваших клиентов, благодаря которым вы делаете деньги. \n",
      "\n",
      "Написал положительный отзыв про стом. клинику, Upgrade Dental Clinic, которую посетил. Хотел порекомендовать её знакомому, зашёл с его аккаунта, но не нашёл своего отзыва. Связался с клиникой и выяснил, что компания Яндекс не пропустила мой отзыв \"Отзыв не прошел нашу проверку. Это значит, что он был похож на накрученный. Мы считаем отзыв накрученным, если автор не взаимодействовал с компанией или ему предложили скидку за положительный комментарий. Больше о накрутке можно прочитать в Справке.\" Т.е. компания Яндекс обвинила меня в предвзятости или даже материальной заинтересованности без всяких доказательств. Скорее всего компанию Яндекс саму материально заинтересовали конкуренты клиники не публиковать мой положительный отзыв. Если Яндекс позволяет себе подозревать меня в неискренности, то почему бы мне в ответ не сделать то же самое. Ребята из Яндекса, вы совсем обнаглели, мне кажется. \n",
      "\n"
     ]
    },
    {
     "name": "stdout",
     "output_type": "stream",
     "text": [
      "Заказала матрас.Предоплата 100%.Интервал с 9.00 до 18.00.\n",
      "Когда поинтересовалась у сотрудника службы поддержки что с доставкой получила ответ \"вопросом на вопрос\":а какой у вас браузер?И т.д.Поняла не сразу,что меня пытаются вежливо послать отслеживать заказ самостоятельно онлайн \n",
      "Для особо одаренных:\n",
      "У людей может не быть интернета/мобильного/стационарного компьютера.\n",
      "Ваше \"отслеживание \"курьера не работает.\n",
      " Вторая сотрудница просто перезвонила курьеру и сообщила мне радостную новость,что доставка будет около 19.30Но перезвонила,то есть выполнила свою работу легко и просто.\n",
      "А сразу сообщить об этом нельзя??Люди должны сидеть и ждать весь день?\n",
      " Сейчас пытаюсь привязать карту к сервису такси-сплошные отписки и одно и то же в течении суток.Проблема не решается.\n",
      "Это наглость монополистов?Или просто служба поддержки работает в алгоритме отписок,а не решения проблем.\n",
      "Скриншот переписки сделать невозможно.\n",
      "Дно. \n",
      "\n",
      "Место силы) Внутри немного тесновато, но довольно уютно. Офис старый (относительно современных it компаний), но в нем что-то есть \n",
      "\n",
      "Самая крутая компания. «Я́ндекс» (англ. «Yandex») — российская транснациональная компания в отрасли информационных технологий, чьё головное юридическое лицо зарегистрировано в Нидерландах, владеющая одноимённой системой поиска в интернете, интернет-порталом и веб-службами в нескольких странах. Наиболее заметное положение занимает на рынках России, Белоруссии и Казахстана. Также Яндекс является одной из самых быстрорастущих корпораций в России. \n",
      "\n",
      "Может офис у них и хорош, но меня достало отношение к работе с клиентами! В частности это касается курьеров. В который раз курьер переносит доставку автоматом, якобы не отвечает телефон! Но проблема в том, что курьер не хочет ждать до 19:00 (доставку оформила с 19:00-23:00). Звонит и просит принять в 17:00, а я на работе! И начинает клянчить: оставлю у соседей, оставлю в постамате и т.д. И это не первый раз!!! В службе поддержке извиняются и обещают принять меры! И все повторяется, причём это может сделать один и тот же курьер на которого вы вчера жаловались) А какой крутой корпорации может идти речь, если с такой проблемой не могут справится! Отключите у курьеров функцию перенести доставку! \n",
      "\n",
      "Первый раз меня так подводи ЯндексМаркет. До сих пор заказывали по мелочи в постомат. Без вопросов. Решили сделать крупную покупку с доставкой. Выбрали кофемашину, оплатили, отменили все планы на указанную дату доставки. Прождали весь день, заказ не привезли и не предупредили. Подарок сорвался. Телефоны горячей линии не отвечают, в чате бот дежурно извеняется и требует перенести доставку. Ок. Перенесли на 19е. Снова прождали весь день, телефоны горячей линии не отвечают, в чате тоже никто не отвечает. Потеряны 2 дня, испорчено настроение юбиляру, 34т с копейками ушли в никуда😡😡😡😡 \n",
      "\n",
      "В Яндексе писать о Яндексе, тавтология казалось бы. \n",
      "Но, компания огромная, сильная, всеобъемлющая. \n",
      "Знаю несколько сотрудников компании, они в восторге от работы там. \n",
      "Я как пользователь почти всех или всех сервисов Яндекса сам доволен тем что они делают. \n",
      "Желаю вам всяческих успехов, процветания, развития и рывков в технологически сложных сферах. \n",
      "\n",
      "Не могут решить вопрос по возврату средств. На яндекс маркете 19.08.2022 сделал заказ 130057828. Заказ был отменен компанией. До сих пор (сенодня 24.10.2022) средства за отмененный заказ мне не поступили. Служба поддержки отвечает по скриптам что заявка в работе, в приоритете, ждите несколько дней. С вами свяжутся... никто не связался и не нашел времени мне обьяснить что происходит, где мои деньги. Если простая заявка на возврат средств за отмененный компанией-исполнителем заказ даже в приоритете не может решится за 2 с лишним месяца, может вам самораспустится и не оказывать услуги? Отвратительное отношение к клиенту.\n",
      "\n",
      "Upd: Не знаю, совпадение или нет, но средства были возвращены на следующий день после написания отзыва. \n",
      "\n",
      "Столкнулся с низким качеством организации доставки на Яедекс-Маркете. После заказа и оплаты товара мне была указана дата доставки 18.01. В качестве службы доставки Яндекс-Маркет выбрал DPD. И вдруг служба доставки перенесла срок доставки товара на более поздний. Мое обращение в поддержку ничего не дало - вначале мне просто подтвердили ранее названый срок доставки, а потом отправили за решением вопроса в службу доставки. Служба доставки озвучила обоснование сроков доставки и получается, что они ни при чем и действуют в рамках регламента. Получается, что Яндекс-Маркет указал неправильный срок и продолжает на нем настаивать. Также из диалога с поддержкой выясняется, что Яндекс-Маркет на доставку товара никак не влияет и если вдруг служба доставки захочет перенести сроки на еще более поздние, то вполне могут это сделать и никто не будет за это отвечать. Подобную неорганизованность считаю недопустимой. \n",
      "\n",
      "Рейтинг: \n"
     ]
    }
   ],
   "source": [
    "from selenium import webdriver\n",
    "from selenium.webdriver.common.keys import Keys\n",
    "from time import sleep\n",
    "\n",
    "# Запуск браузера\n",
    "driver = webdriver.Edge()\n",
    "\n",
    "# Открытие страницы с отзывами\n",
    "url = 'https://yandex.ru/maps/org/yandeks/1124715036/reviews/'\n",
    "driver.get(url)\n",
    "\n",
    "# Ожидание загрузки страницы\n",
    "sleep(5)\n",
    "\n",
    "# # Прокрутка страницы до конца\n",
    "# body = driver.find_elements(By.CSS_SELECTOR,'body')\n",
    "# body[0].send_keys(Keys.END)\n",
    "\n",
    "# Извлечение текста отзывов\n",
    "# reviews = driver.find_elements(By.CSS_SELECTOR,'.business-review-view__body-text')\n",
    "reviews = driver.find_elements(By.CSS_SELECTOR,'.business-review-view__body-text')\n",
    "\n",
    "\n",
    "ratings = driver.find_elements(By.CSS_SELECTOR,'.business-review-view__rating')\n",
    "\n",
    "\n",
    "for review in reviews:\n",
    "    #print(review.find_element(By.CSS_SELECTOR,'meta[itemprop=\"ratingValue\"]'))\n",
    "    print(review.text, '\\n')\n",
    "\n",
    "print('Рейтинг:', ratings[0].text)\n",
    "# Закрытие браузера\n",
    "# driver.quit()\n"
   ]
  },
  {
   "cell_type": "code",
   "execution_count": 132,
   "id": "3a560f00",
   "metadata": {},
   "outputs": [
    {
     "data": {
      "text/plain": [
       "''"
      ]
     },
     "execution_count": 132,
     "metadata": {},
     "output_type": "execute_result"
    }
   ],
   "source": [
    "ratings[0].text"
   ]
  },
  {
   "cell_type": "code",
   "execution_count": null,
   "id": "077a82d3",
   "metadata": {},
   "outputs": [],
   "source": []
  }
 ],
 "metadata": {
  "kernelspec": {
   "display_name": "Python 3 (ipykernel)",
   "language": "python",
   "name": "python3"
  },
  "language_info": {
   "codemirror_mode": {
    "name": "ipython",
    "version": 3
   },
   "file_extension": ".py",
   "mimetype": "text/x-python",
   "name": "python",
   "nbconvert_exporter": "python",
   "pygments_lexer": "ipython3",
   "version": "3.10.9"
  }
 },
 "nbformat": 4,
 "nbformat_minor": 5
}
